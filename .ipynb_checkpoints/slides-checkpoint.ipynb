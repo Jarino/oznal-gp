{
 "cells": [
  {
   "cell_type": "markdown",
   "metadata": {
    "slideshow": {
     "slide_type": "slide"
    }
   },
   "source": [
    "# Evolučné algoritmy a genetické programovanie\n",
    "\n",
    "Jaroslav Loebl, jaroslavloebl@gmail.com, Objavovanie znalostí, 4.5.2018"
   ]
  },
  {
   "cell_type": "markdown",
   "metadata": {
    "slideshow": {
     "slide_type": "skip"
    }
   },
   "source": [
    "Motivačné príklady\n",
    "Reprodukcia obrazu https://www.youtube.com/watch?v=iV-hah6xs2A\n",
    "\n",
    "Vozidlo https://www.youtube.com/watch?v=FKbarpAlBkw\n",
    "\n",
    "Genetic Walkers https://www.youtube.com/watch?v=XiJ537K_9ww\n",
    "\n",
    "Santa Fe https://www.youtube.com/watch?v=BKF7pGw8qbY "
   ]
  },
  {
   "cell_type": "code",
   "execution_count": 1,
   "metadata": {
    "slideshow": {
     "slide_type": "slide"
    }
   },
   "outputs": [
    {
     "data": {
      "text/html": [
       "<iframe class='video' src=\"https://www.youtube.com/embed/iV-hah6xs2A\" disablekb='1' frameborder=\"0\" allow=\"autoplay; encrypted-media\" allowfullscreen></iframe>"
      ],
      "text/plain": [
       "<IPython.core.display.HTML object>"
      ]
     },
     "metadata": {},
     "output_type": "display_data"
    }
   ],
   "source": [
    "%%HTML \n",
    "<iframe class='video' src=\"https://www.youtube.com/embed/iV-hah6xs2A\" disablekb='1' frameborder=\"0\" allow=\"autoplay; encrypted-media\" allowfullscreen></iframe>"
   ]
  },
  {
   "cell_type": "code",
   "execution_count": 2,
   "metadata": {
    "slideshow": {
     "slide_type": "subslide"
    }
   },
   "outputs": [
    {
     "data": {
      "text/html": [
       "<iframe class='video' src=\"https://www.youtube.com/embed/FKbarpAlBkw\" disablekb='1' frameborder=\"0\" allow=\"autoplay; encrypted-media\" allowfullscreen></iframe>"
      ],
      "text/plain": [
       "<IPython.core.display.HTML object>"
      ]
     },
     "metadata": {},
     "output_type": "display_data"
    }
   ],
   "source": [
    "%%HTML \n",
    "<iframe class='video' src=\"https://www.youtube.com/embed/FKbarpAlBkw\" disablekb='1' frameborder=\"0\" allow=\"autoplay; encrypted-media\" allowfullscreen></iframe>"
   ]
  },
  {
   "cell_type": "code",
   "execution_count": 3,
   "metadata": {
    "slideshow": {
     "slide_type": "subslide"
    }
   },
   "outputs": [
    {
     "data": {
      "text/html": [
       "<iframe class='video' src=\"https://www.youtube.com/embed/XiJ537K_9ww\" disablekb='1' frameborder=\"0\" allow=\"autoplay; encrypted-media\" allowfullscreen></iframe>"
      ],
      "text/plain": [
       "<IPython.core.display.HTML object>"
      ]
     },
     "metadata": {},
     "output_type": "display_data"
    }
   ],
   "source": [
    "%%HTML \n",
    "<iframe class='video' src=\"https://www.youtube.com/embed/XiJ537K_9ww\" disablekb='1' frameborder=\"0\" allow=\"autoplay; encrypted-media\" allowfullscreen></iframe>"
   ]
  },
  {
   "cell_type": "markdown",
   "metadata": {
    "slideshow": {
     "slide_type": "slide"
    }
   },
   "source": [
    "## Čo majú predchádzajúce videá spoločné?"
   ]
  },
  {
   "cell_type": "markdown",
   "metadata": {
    "slideshow": {
     "slide_type": "fragment"
    }
   },
   "source": [
    "# Evolučné algoritmy"
   ]
  },
  {
   "cell_type": "markdown",
   "metadata": {
    "slideshow": {
     "slide_type": "slide"
    }
   },
   "source": [
    "# Základné princípy evolúcie"
   ]
  },
  {
   "cell_type": "markdown",
   "metadata": {
    "slideshow": {
     "slide_type": "subslide"
    }
   },
   "source": [
    "- populácia jedincov\n",
    "\n",
    "![Beavers](beavers-1.png)"
   ]
  },
  {
   "cell_type": "markdown",
   "metadata": {
    "slideshow": {
     "slide_type": "subslide"
    }
   },
   "source": [
    "- prežijú tí najsilnejší (fitness)\n",
    "\n",
    "![Beavers](beavers-2.png)"
   ]
  },
  {
   "cell_type": "markdown",
   "metadata": {
    "slideshow": {
     "slide_type": "subslide"
    }
   },
   "source": [
    "- výber jedincov pre párenie (selekcia)\n",
    "\n",
    "![Beavers](beavers-3.png)"
   ]
  },
  {
   "cell_type": "markdown",
   "metadata": {
    "slideshow": {
     "slide_type": "subslide"
    }
   },
   "source": [
    "- reprodukcia (kríženie)\n",
    "\n",
    "![Beavers](beavers-4.png)"
   ]
  },
  {
   "cell_type": "markdown",
   "metadata": {
    "slideshow": {
     "slide_type": "subslide"
    }
   },
   "source": [
    "- náhodná mutácia v genofonde potomka (mutácia)\n",
    "\n",
    "![Beavers](beavers-5.png)"
   ]
  },
  {
   "cell_type": "markdown",
   "metadata": {
    "slideshow": {
     "slide_type": "slide"
    }
   },
   "source": [
    "<div style=\"display: flex;\">\n",
    "<div>\n",
    "<h1>Základné princípy evolúcie</h1>\n",
    "<ul>\n",
    "    <li>populácia jedincov</li>\n",
    "    <li>prežijú tí najsilnejší (fitness)</li>\n",
    "    <li>výber jedincov pre párenie (selekcia)</li>\n",
    "    <li>reprodukcia (kríženie)</li>\n",
    "    <li>náhodná mutácia v genofonde potomka (mutácia)</li>\n",
    "</ul>\n",
    "</div>\n",
    "\n",
    "<div style=\"width: 50%\">\n",
    "<img style=\"float: right\" src=\"beavers-5.png\">\n",
    "</div>\n",
    "</div>"
   ]
  },
  {
   "cell_type": "markdown",
   "metadata": {
    "slideshow": {
     "slide_type": "slide"
    }
   },
   "source": [
    "<div style=\"display: flex;\">\n",
    "\n",
    "<div>\n",
    "<h1>Základné princípy evolúcie</h1>\n",
    "<ul>\n",
    "    <li>populácia jedincov</li>\n",
    "    <li>prežijú tí najsilnejší (fitness)</li>\n",
    "    <li>výber jedincov pre párenie (selekcia)</li>\n",
    "    <li>reprodukcia (kríženie)</li>\n",
    "<li>náhodná mutácia v genofonde potomka (mutácia)</li>\n",
    "</ul>\n",
    "</div>\n",
    "\n",
    "<div style=\"width: 50%\">\n",
    "<img style=\"float: right\" src=\"ga-1.png\">\n",
    "</div>\n",
    "</div>    \n"
   ]
  },
  {
   "cell_type": "markdown",
   "metadata": {
    "slideshow": {
     "slide_type": "slide"
    }
   },
   "source": [
    "<div style=\"display: flex;\">\n",
    "\n",
    "<div>\n",
    "<h1>Genetický algoritmus</h1>\n",
    "<ul>\n",
    "    <li>jedinec\n",
    "        <ul>\n",
    "            <li>\n",
    "               $ X \\in \\{0,1\\}^n $\n",
    "            </li>\n",
    "        </ul>\n",
    "    </li>\n",
    "    <li> Fitness funkcia\n",
    "        <ul>\n",
    "            $ f(X): \\{0,1\\}^n \\rightarrow \\Bbb{R} $\n",
    "        </ul>\n",
    "    </li>\n",
    "    <li> Úloha\n",
    "        <ul>\n",
    "            $ argmax_{X\\in\\{0,1\\}^n} f(X) $\n",
    "        </ul>\n",
    "    </li>\n",
    "    <li>Nový jedinec pomocou kríženia a mutácie</li>\n",
    "</ul>\n",
    "</div>\n",
    "\n",
    "<div style=\"width: 50%\">\n",
    "<img style=\"float: right\" src=\"ga-1.png\">\n",
    "</div>\n",
    "</div>    "
   ]
  },
  {
   "cell_type": "markdown",
   "metadata": {
    "slideshow": {
     "slide_type": "slide"
    }
   },
   "source": [
    "# Genetický algoritmus - rôzne reprezentácie\n",
    "\n",
    "![ga-2](ga-2.png)"
   ]
  },
  {
   "cell_type": "markdown",
   "metadata": {
    "slideshow": {
     "slide_type": "slide"
    }
   },
   "source": [
    "# k-Means\n",
    "\n",
    "<div style=\"display: flex; justify-content: space-around\">\n",
    "<img src=\"https://upload.wikimedia.org/wikipedia/commons/e/ea/K-means_convergence.gif\" style=\"width: 50%\">\n",
    "</div>"
   ]
  },
  {
   "cell_type": "markdown",
   "metadata": {
    "slideshow": {
     "slide_type": "slide"
    }
   },
   "source": [
    "# k-Means a genetický algoritmus"
   ]
  },
  {
   "cell_type": "code",
   "execution_count": 4,
   "metadata": {
    "slideshow": {
     "slide_type": "skip"
    }
   },
   "outputs": [],
   "source": [
    "import matplotlib.pyplot as plt\n",
    "%matplotlib inline\n",
    "import numpy as np\n",
    "from sklearn.datasets import make_blobs\n",
    "N_CLUSTERS = 3"
   ]
  },
  {
   "cell_type": "code",
   "execution_count": 5,
   "metadata": {
    "slideshow": {
     "slide_type": "-"
    }
   },
   "outputs": [
    {
     "data": {
      "text/plain": [
       "<matplotlib.collections.PathCollection at 0x7fc1f90ee7f0>"
      ]
     },
     "execution_count": 5,
     "metadata": {},
     "output_type": "execute_result"
    },
    {
     "data": {
      "image/png": "[encoded data removed]",
      "text/plain": [
       "<matplotlib.figure.Figure at 0x7fc201a78668>"
      ]
     },
     "metadata": {},
     "output_type": "display_data"
    }
   ],
   "source": [
    "samples, labels = make_blobs(n_samples=50, centers=N_CLUSTERS, random_state=24)\n",
    "plt.scatter(samples[:,0], samples[:,1])"
   ]
  },
  {
   "cell_type": "code",
   "execution_count": 6,
   "metadata": {
    "slideshow": {
     "slide_type": "skip"
    }
   },
   "outputs": [],
   "source": [
    "import random\n",
    "\n",
    "from deap import base\n",
    "from deap import creator\n",
    "from deap import tools\n",
    "from deap.algorithms import eaSimple\n",
    "\n",
    "creator.create('Fitness', base.Fitness, weights=(-1.0,))\n",
    "creator.create('Individual', list, fitness=creator.Fitness)\n",
    "\n",
    "toolbox = base.Toolbox()\n",
    "toolbox.register('attr_int', random.randint, 0, N_CLUSTERS-1)\n",
    "toolbox.register('individual', tools.initRepeat, creator.Individual, toolbox.attr_int, 50)\n",
    "toolbox.register('population', tools.initRepeat, list, toolbox.individual)"
   ]
  },
  {
   "cell_type": "code",
   "execution_count": 7,
   "metadata": {
    "slideshow": {
     "slide_type": "subslide"
    }
   },
   "outputs": [
    {
     "name": "stdout",
     "output_type": "stream",
     "text": [
      "[0, 1, 0, 0, 1, 0, 2, 2, 1, 1, 2, 0, 0, 2, 1, 0, 2, 1, 2, 2, 1, 0, 1, 2, 1, 1, 0, 2, 0, 2, 0, 1, 2, 2, 2, 0, 1, 2, 0, 0, 2, 1, 2, 1, 1, 1, 2, 2, 0, 0]\n"
     ]
    },
    {
     "data": {
      "image/png": "[encoded data removed]",
      "text/plain": [
       "<matplotlib.figure.Figure at 0x7fc1f90c0e10>"
      ]
     },
     "metadata": {},
     "output_type": "display_data"
    }
   ],
   "source": [
    "individual = toolbox.individual()\n",
    "print(individual)\n",
    "plt.scatter(samples[:,0], samples[:,1], c=individual);"
   ]
  },
  {
   "cell_type": "code",
   "execution_count": 8,
   "metadata": {
    "slideshow": {
     "slide_type": "-"
    }
   },
   "outputs": [],
   "source": [
    "def cost_function(vec):\n",
    "    vec = np.array(vec)\n",
    "    total = 0\n",
    "    for i in range(0, N_CLUSTERS):\n",
    "        sample = samples[vec == i]\n",
    "        total += np.trace(np.cov(sample[:, 0], sample[:, 1]))\n",
    "    return (total,)"
   ]
  },
  {
   "cell_type": "code",
   "execution_count": 9,
   "metadata": {
    "slideshow": {
     "slide_type": "skip"
    }
   },
   "outputs": [],
   "source": [
    "\n",
    "toolbox.register('evaluate', cost_function)\n",
    "toolbox.register('mate', tools.cxTwoPoint)\n",
    "toolbox.register('mutate', tools.mutUniformInt, low=0, up=N_CLUSTERS-1, indpb=0.05)\n",
    "toolbox.register('select', tools.selTournament, tournsize=3)\n",
    "\n",
    "random.seed(0)\n",
    "\n",
    "pop = toolbox.population(n=300)\n",
    "hof = tools.HallOfFame(5)\n",
    "stats = tools.Statistics(lambda ind: ind.fitness.values)\n",
    "stats.register(\"avg\", np.mean)\n",
    "stats.register(\"std\", np.std)\n",
    "stats.register(\"min\", np.min)\n",
    "stats.register(\"max\", np.max)"
   ]
  },
  {
   "cell_type": "code",
   "execution_count": 10,
   "metadata": {
    "slideshow": {
     "slide_type": "subslide"
    }
   },
   "outputs": [
    {
     "name": "stdout",
     "output_type": "stream",
     "text": [
      "gen\tnevals\tavg    \tstd    \tmin    \tmax    \n",
      "0  \t300   \t188.146\t7.16246\t161.462\t203.839\n",
      "1  \t244   \t184.283\t8.09814\t136.91 \t201.481\n",
      "2  \t242   \t179.675\t9.78311\t121.433\t200.036\n",
      "3  \t244   \t174.737\t11.6556\t122.744\t195.48 \n",
      "4  \t246   \t169.883\t13.1209\t129.112\t196.935\n",
      "5  \t254   \t164.827\t14.2531\t125.58 \t197.06 \n",
      "6  \t256   \t157.597\t15.6992\t114.343\t197.34 \n",
      "7  \t260   \t145.523\t14.6955\t104.481\t186.042\n",
      "8  \t253   \t134.764\t13.8432\t96.537 \t173.044\n",
      "9  \t250   \t124.683\t13.0854\t88.6051\t162.949\n",
      "10 \t260   \t116.126\t13.7251\t71.2031\t152.385\n",
      "11 \t252   \t106.508\t13.3831\t65.4794\t146.762\n",
      "12 \t259   \t96.9348\t12.4511\t61.0935\t135.766\n",
      "13 \t224   \t88.2334\t11.9099\t57.2367\t131.099\n",
      "14 \t254   \t79.9415\t9.94057\t53.428 \t110.02 \n",
      "15 \t259   \t74.3567\t10.4895\t51.5778\t119.223\n",
      "16 \t249   \t69.3807\t9.75859\t37.6868\t132.541\n",
      "17 \t242   \t65.325 \t10.2235\t37.6868\t103.395\n",
      "18 \t251   \t61.0977\t8.67422\t34.7936\t106.545\n",
      "19 \t260   \t56.2403\t8.66557\t30.5464\t86.5104\n",
      "20 \t250   \t52.745 \t10.0488\t30.5464\t103.392\n",
      "21 \t247   \t48.4622\t9.69262\t32.2492\t87.7753\n",
      "22 \t249   \t43.8606\t8.88387\t24.9848\t96.3789\n",
      "23 \t261   \t41.2854\t10.2472\t19.3345\t96.4348\n",
      "24 \t257   \t37.9826\t10.1724\t17.7227\t85.5003\n",
      "25 \t251   \t33.4709\t9.73239\t14.6032\t90.309 \n",
      "26 \t244   \t29.1162\t9.79809\t10.8995\t81.8854\n",
      "27 \t237   \t25.3205\t11.0265\t10.8995\t79.2787\n",
      "28 \t238   \t20.6055\t9.54266\t10.7715\t76.6215\n",
      "29 \t254   \t18.5829\t10.9564\t10.3809\t78.8351\n",
      "30 \t246   \t15.8513\t8.28435\t6.09194\t57.3404\n"
     ]
    }
   ],
   "source": [
    "pop, log = eaSimple(pop, toolbox, cxpb=0.8, mutpb=0.2, ngen=30, stats=stats, halloffame=hof)"
   ]
  },
  {
   "cell_type": "code",
   "execution_count": 11,
   "metadata": {
    "slideshow": {
     "slide_type": "subslide"
    }
   },
   "outputs": [
    {
     "name": "stdout",
     "output_type": "stream",
     "text": [
      "(6.091936917565591,)\n"
     ]
    },
    {
     "data": {
      "image/png": "[encoded data removed]",
      "text/plain": [
       "<matplotlib.figure.Figure at 0x7fc1f84f4860>"
      ]
     },
     "metadata": {},
     "output_type": "display_data"
    }
   ],
   "source": [
    "plt.scatter(samples[:,0], samples[:,1], c=hof[0])\n",
    "print(cost_function(hof[0]))"
   ]
  },
  {
   "cell_type": "code",
   "execution_count": 12,
   "metadata": {
    "slideshow": {
     "slide_type": "skip"
    }
   },
   "outputs": [],
   "source": [
    "import graphviz\n",
    "\n",
    "def plot_graph(expr, size=8):\n",
    "\n",
    "    nodes, edges, labels = graph(expr)\n",
    "    dot = graphviz.Graph()\n",
    "    dot.attr(size=str(size))\n",
    "\n",
    "    for i in nodes:\n",
    "        dot.node(str(i), str(labels[i]))\n",
    "\n",
    "    for from_node, to_node in edges:\n",
    "        dot.edge(str(from_node), str(to_node))\n",
    "    \n",
    "    return dot\n",
    "\n",
    "def plot_graphs(expr_a, expr_b, size=8):\n",
    "    \n",
    "    dot = graphviz.Graph()\n",
    "    dot.attr(size=str(size))\n",
    "\n",
    "    for expr, prefix in zip([expr_a, expr_b], ['a', 'b']):\n",
    "        nodes, edges, labels = graph(expr)\n",
    "        for i in nodes:\n",
    "            dot.node(prefix + str(i), str(labels[i]))\n",
    "\n",
    "        for from_node, to_node in edges:\n",
    "            dot.edge(prefix + str(from_node), prefix + str(to_node))\n",
    "    return dot\n",
    "    \n",
    "    "
   ]
  },
  {
   "cell_type": "markdown",
   "metadata": {
    "slideshow": {
     "slide_type": "slide"
    }
   },
   "source": [
    "# Genetický algoritmus vs. genetické programovanie"
   ]
  },
  {
   "cell_type": "code",
   "execution_count": 13,
   "metadata": {},
   "outputs": [
    {
     "name": "stdout",
     "output_type": "stream",
     "text": [
      "[2, 1, 1, 0, 1, 0, 0, 1, 2, 0, 0, 0, 0, 1, 1, 2, 2, 2, 0, 2, 2, 1, 0, 2, 2, 0, 2, 1, 2, 1, 0, 0, 0, 2, 2, 1, 1, 1, 2, 1, 2, 0, 1, 1, 2, 1, 2, 0, 0, 0]\n"
     ]
    }
   ],
   "source": [
    "print(hof[0])"
   ]
  },
  {
   "cell_type": "code",
   "execution_count": 14,
   "metadata": {
    "slideshow": {
     "slide_type": "skip"
    }
   },
   "outputs": [],
   "source": [
    "import operator, random\n",
    "from deap.gp import PrimitiveSet, PrimitiveTree, genHalfAndHalf, graph, genFull\n",
    "\n",
    "\n",
    "pset = PrimitiveSet(\"main\", 2)\n",
    "pset.addPrimitive(max, 2)\n",
    "pset.addPrimitive(operator.add, 2)\n",
    "pset.addPrimitive(operator.mul, 2)\n",
    "pset.renameArguments(ARG0=\"x1\")\n",
    "pset.renameArguments(ARG1=\"x2\")\n",
    "random.seed(7)\n",
    "expr = genFull(pset, min_=1, max_=3)\n",
    "tree = PrimitiveTree(expr)\n"
   ]
  },
  {
   "cell_type": "code",
   "execution_count": 15,
   "metadata": {
    "slideshow": {
     "slide_type": "fragment"
    }
   },
   "outputs": [
    {
     "data": {
      "image/svg+xml": [
       "<?xml version=\"1.0\" encoding=\"UTF-8\" standalone=\"no\"?>\n",
       "<!DOCTYPE svg PUBLIC \"-//W3C//DTD SVG 1.1//EN\"\n",
       " \"http://www.w3.org/Graphics/SVG/1.1/DTD/svg11.dtd\">\n",
       "<!-- Generated by graphviz version 2.38.0 (20140413.2041)\n",
       " -->\n",
       "<!-- Title: %3 Pages: 1 -->\n",
       "<svg width=\"279pt\" height=\"188pt\"\n",
       " viewBox=\"0.00 0.00 279.00 188.00\" xmlns=\"http://www.w3.org/2000/svg\" xmlns:xlink=\"http://www.w3.org/1999/xlink\">\n",
       "<g id=\"graph0\" class=\"graph\" transform=\"scale(1 1) rotate(0) translate(4 184)\">\n",
       "<title>%3</title>\n",
       "<polygon fill=\"white\" stroke=\"none\" points=\"-4,4 -4,-184 275,-184 275,4 -4,4\"/>\n",
       "<!-- 0 -->\n",
       "<g id=\"node1\" class=\"node\"><title>0</title>\n",
       "<ellipse fill=\"none\" stroke=\"black\" cx=\"135\" cy=\"-162\" rx=\"30.5947\" ry=\"18\"/>\n",
       "<text text-anchor=\"middle\" x=\"135\" y=\"-158.3\" font-family=\"Times,serif\" font-size=\"14.00\">max</text>\n",
       "</g>\n",
       "<!-- 1 -->\n",
       "<g id=\"node2\" class=\"node\"><title>1</title>\n",
       "<ellipse fill=\"none\" stroke=\"black\" cx=\"98\" cy=\"-90\" rx=\"27.8951\" ry=\"18\"/>\n",
       "<text text-anchor=\"middle\" x=\"98\" y=\"-86.3\" font-family=\"Times,serif\" font-size=\"14.00\">add</text>\n",
       "</g>\n",
       "<!-- 0&#45;&#45;1 -->\n",
       "<g id=\"edge1\" class=\"edge\"><title>0&#45;&#45;1</title>\n",
       "<path fill=\"none\" stroke=\"black\" d=\"M126.232,-144.411C120.333,-133.252 112.59,-118.604 106.706,-107.47\"/>\n",
       "</g>\n",
       "<!-- 4 -->\n",
       "<g id=\"node5\" class=\"node\"><title>4</title>\n",
       "<ellipse fill=\"none\" stroke=\"black\" cx=\"173\" cy=\"-90\" rx=\"28.6953\" ry=\"18\"/>\n",
       "<text text-anchor=\"middle\" x=\"173\" y=\"-86.3\" font-family=\"Times,serif\" font-size=\"14.00\">mul</text>\n",
       "</g>\n",
       "<!-- 0&#45;&#45;4 -->\n",
       "<g id=\"edge4\" class=\"edge\"><title>0&#45;&#45;4</title>\n",
       "<path fill=\"none\" stroke=\"black\" d=\"M143.813,-144.765C149.952,-133.456 158.106,-118.437 164.234,-107.147\"/>\n",
       "</g>\n",
       "<!-- 2 -->\n",
       "<g id=\"node3\" class=\"node\"><title>2</title>\n",
       "<ellipse fill=\"none\" stroke=\"black\" cx=\"27\" cy=\"-18\" rx=\"27\" ry=\"18\"/>\n",
       "<text text-anchor=\"middle\" x=\"27\" y=\"-14.3\" font-family=\"Times,serif\" font-size=\"14.00\">x1</text>\n",
       "</g>\n",
       "<!-- 1&#45;&#45;2 -->\n",
       "<g id=\"edge2\" class=\"edge\"><title>1&#45;&#45;2</title>\n",
       "<path fill=\"none\" stroke=\"black\" d=\"M83.2888,-74.496C71.1034,-62.4822 53.8725,-45.4941 41.6924,-33.4855\"/>\n",
       "</g>\n",
       "<!-- 3 -->\n",
       "<g id=\"node4\" class=\"node\"><title>3</title>\n",
       "<ellipse fill=\"none\" stroke=\"black\" cx=\"99\" cy=\"-18\" rx=\"27\" ry=\"18\"/>\n",
       "<text text-anchor=\"middle\" x=\"99\" y=\"-14.3\" font-family=\"Times,serif\" font-size=\"14.00\">x1</text>\n",
       "</g>\n",
       "<!-- 1&#45;&#45;3 -->\n",
       "<g id=\"edge3\" class=\"edge\"><title>1&#45;&#45;3</title>\n",
       "<path fill=\"none\" stroke=\"black\" d=\"M98.2472,-71.6966C98.4022,-60.8463 98.6012,-46.9167 98.7557,-36.1043\"/>\n",
       "</g>\n",
       "<!-- 5 -->\n",
       "<g id=\"node6\" class=\"node\"><title>5</title>\n",
       "<ellipse fill=\"none\" stroke=\"black\" cx=\"172\" cy=\"-18\" rx=\"27\" ry=\"18\"/>\n",
       "<text text-anchor=\"middle\" x=\"172\" y=\"-14.3\" font-family=\"Times,serif\" font-size=\"14.00\">x1</text>\n",
       "</g>\n",
       "<!-- 4&#45;&#45;5 -->\n",
       "<g id=\"edge5\" class=\"edge\"><title>4&#45;&#45;5</title>\n",
       "<path fill=\"none\" stroke=\"black\" d=\"M172.753,-71.6966C172.598,-60.8463 172.399,-46.9167 172.244,-36.1043\"/>\n",
       "</g>\n",
       "<!-- 6 -->\n",
       "<g id=\"node7\" class=\"node\"><title>6</title>\n",
       "<ellipse fill=\"none\" stroke=\"black\" cx=\"244\" cy=\"-18\" rx=\"27\" ry=\"18\"/>\n",
       "<text text-anchor=\"middle\" x=\"244\" y=\"-14.3\" font-family=\"Times,serif\" font-size=\"14.00\">x2</text>\n",
       "</g>\n",
       "<!-- 4&#45;&#45;6 -->\n",
       "<g id=\"edge6\" class=\"edge\"><title>4&#45;&#45;6</title>\n",
       "<path fill=\"none\" stroke=\"black\" d=\"M187.711,-74.496C199.897,-62.4822 217.127,-45.4941 229.308,-33.4855\"/>\n",
       "</g>\n",
       "</g>\n",
       "</svg>\n"
      ],
      "text/plain": [
       "<graphviz.dot.Graph at 0x7fc1f90252e8>"
      ]
     },
     "execution_count": 15,
     "metadata": {},
     "output_type": "execute_result"
    }
   ],
   "source": [
    "plot_graph(expr, 4)"
   ]
  },
  {
   "cell_type": "markdown",
   "metadata": {
    "slideshow": {
     "slide_type": "subslide"
    }
   },
   "source": [
    "![ast](ast.png)"
   ]
  },
  {
   "cell_type": "markdown",
   "metadata": {
    "slideshow": {
     "slide_type": "subslide"
    }
   },
   "source": [
    "![html](https://www.w3schools.com/js/pic_htmltree.gif)"
   ]
  },
  {
   "cell_type": "markdown",
   "metadata": {
    "slideshow": {
     "slide_type": "slide"
    }
   },
   "source": [
    "# GP - kríženie stromov"
   ]
  },
  {
   "cell_type": "code",
   "execution_count": 16,
   "metadata": {
    "slideshow": {
     "slide_type": "skip"
    }
   },
   "outputs": [],
   "source": [
    "from deap.gp import cxOnePoint\n",
    "random.seed(2)\n",
    "a = genHalfAndHalf(pset, min_=1, max_=2)\n",
    "b = genHalfAndHalf(pset, min_=1, max_=2)"
   ]
  },
  {
   "cell_type": "code",
   "execution_count": 17,
   "metadata": {},
   "outputs": [
    {
     "data": {
      "image/svg+xml": [
       "<?xml version=\"1.0\" encoding=\"UTF-8\" standalone=\"no\"?>\n",
       "<!DOCTYPE svg PUBLIC \"-//W3C//DTD SVG 1.1//EN\"\n",
       " \"http://www.w3.org/Graphics/SVG/1.1/DTD/svg11.dtd\">\n",
       "<!-- Generated by graphviz version 2.38.0 (20140413.2041)\n",
       " -->\n",
       "<!-- Title: %3 Pages: 1 -->\n",
       "<svg width=\"288pt\" height=\"152pt\"\n",
       " viewBox=\"0.00 0.00 288.00 151.66\" xmlns=\"http://www.w3.org/2000/svg\" xmlns:xlink=\"http://www.w3.org/1999/xlink\">\n",
       "<g id=\"graph0\" class=\"graph\" transform=\"scale(0.806723 0.806723) rotate(0) translate(4 184)\">\n",
       "<title>%3</title>\n",
       "<polygon fill=\"white\" stroke=\"none\" points=\"-4,4 -4,-184 353,-184 353,4 -4,4\"/>\n",
       "<!-- a0 -->\n",
       "<g id=\"node1\" class=\"node\"><title>a0</title>\n",
       "<ellipse fill=\"none\" stroke=\"black\" cx=\"81\" cy=\"-162\" rx=\"30.5947\" ry=\"18\"/>\n",
       "<text text-anchor=\"middle\" x=\"81\" y=\"-158.3\" font-family=\"Times,serif\" font-size=\"14.00\">max</text>\n",
       "</g>\n",
       "<!-- a1 -->\n",
       "<g id=\"node2\" class=\"node\"><title>a1</title>\n",
       "<ellipse fill=\"none\" stroke=\"black\" cx=\"27\" cy=\"-90\" rx=\"27\" ry=\"18\"/>\n",
       "<text text-anchor=\"middle\" x=\"27\" y=\"-86.3\" font-family=\"Times,serif\" font-size=\"14.00\">x2</text>\n",
       "</g>\n",
       "<!-- a0&#45;&#45;a1 -->\n",
       "<g id=\"edge1\" class=\"edge\"><title>a0&#45;&#45;a1</title>\n",
       "<path fill=\"none\" stroke=\"black\" d=\"M68.7466,-145.116C59.7847,-133.499 47.696,-117.828 38.8338,-106.34\"/>\n",
       "</g>\n",
       "<!-- a2 -->\n",
       "<g id=\"node3\" class=\"node\"><title>a2</title>\n",
       "<ellipse fill=\"none\" stroke=\"black\" cx=\"99\" cy=\"-90\" rx=\"27\" ry=\"18\"/>\n",
       "<text text-anchor=\"middle\" x=\"99\" y=\"-86.3\" font-family=\"Times,serif\" font-size=\"14.00\">x1</text>\n",
       "</g>\n",
       "<!-- a0&#45;&#45;a2 -->\n",
       "<g id=\"edge2\" class=\"edge\"><title>a0&#45;&#45;a2</title>\n",
       "<path fill=\"none\" stroke=\"black\" d=\"M85.3573,-144.055C88.1873,-133.049 91.8608,-118.764 94.6828,-107.789\"/>\n",
       "</g>\n",
       "<!-- b0 -->\n",
       "<g id=\"node4\" class=\"node\"><title>b0</title>\n",
       "<ellipse fill=\"none\" stroke=\"black\" cx=\"193\" cy=\"-162\" rx=\"28.6953\" ry=\"18\"/>\n",
       "<text text-anchor=\"middle\" x=\"193\" y=\"-158.3\" font-family=\"Times,serif\" font-size=\"14.00\">mul</text>\n",
       "</g>\n",
       "<!-- b1 -->\n",
       "<g id=\"node5\" class=\"node\"><title>b1</title>\n",
       "<ellipse fill=\"none\" stroke=\"black\" cx=\"175\" cy=\"-90\" rx=\"30.5947\" ry=\"18\"/>\n",
       "<text text-anchor=\"middle\" x=\"175\" y=\"-86.3\" font-family=\"Times,serif\" font-size=\"14.00\">max</text>\n",
       "</g>\n",
       "<!-- b0&#45;&#45;b1 -->\n",
       "<g id=\"edge3\" class=\"edge\"><title>b0&#45;&#45;b1</title>\n",
       "<path fill=\"none\" stroke=\"black\" d=\"M188.643,-144.055C185.854,-133.211 182.247,-119.183 179.442,-108.275\"/>\n",
       "</g>\n",
       "<!-- b4 -->\n",
       "<g id=\"node8\" class=\"node\"><title>b4</title>\n",
       "<ellipse fill=\"none\" stroke=\"black\" cx=\"251\" cy=\"-90\" rx=\"27.8951\" ry=\"18\"/>\n",
       "<text text-anchor=\"middle\" x=\"251\" y=\"-86.3\" font-family=\"Times,serif\" font-size=\"14.00\">add</text>\n",
       "</g>\n",
       "<!-- b0&#45;&#45;b4 -->\n",
       "<g id=\"edge6\" class=\"edge\"><title>b0&#45;&#45;b4</title>\n",
       "<path fill=\"none\" stroke=\"black\" d=\"M205.585,-145.811C215.314,-134.07 228.717,-117.893 238.439,-106.159\"/>\n",
       "</g>\n",
       "<!-- b2 -->\n",
       "<g id=\"node6\" class=\"node\"><title>b2</title>\n",
       "<ellipse fill=\"none\" stroke=\"black\" cx=\"104\" cy=\"-18\" rx=\"27\" ry=\"18\"/>\n",
       "<text text-anchor=\"middle\" x=\"104\" y=\"-14.3\" font-family=\"Times,serif\" font-size=\"14.00\">x1</text>\n",
       "</g>\n",
       "<!-- b1&#45;&#45;b2 -->\n",
       "<g id=\"edge4\" class=\"edge\"><title>b1&#45;&#45;b2</title>\n",
       "<path fill=\"none\" stroke=\"black\" d=\"M159.943,-74.1548C147.731,-62.115 130.623,-45.2485 118.55,-33.345\"/>\n",
       "</g>\n",
       "<!-- b3 -->\n",
       "<g id=\"node7\" class=\"node\"><title>b3</title>\n",
       "<ellipse fill=\"none\" stroke=\"black\" cx=\"176\" cy=\"-18\" rx=\"27\" ry=\"18\"/>\n",
       "<text text-anchor=\"middle\" x=\"176\" y=\"-14.3\" font-family=\"Times,serif\" font-size=\"14.00\">x1</text>\n",
       "</g>\n",
       "<!-- b1&#45;&#45;b3 -->\n",
       "<g id=\"edge5\" class=\"edge\"><title>b1&#45;&#45;b3</title>\n",
       "<path fill=\"none\" stroke=\"black\" d=\"M175.247,-71.6966C175.402,-60.8463 175.601,-46.9167 175.756,-36.1043\"/>\n",
       "</g>\n",
       "<!-- b5 -->\n",
       "<g id=\"node9\" class=\"node\"><title>b5</title>\n",
       "<ellipse fill=\"none\" stroke=\"black\" cx=\"250\" cy=\"-18\" rx=\"27\" ry=\"18\"/>\n",
       "<text text-anchor=\"middle\" x=\"250\" y=\"-14.3\" font-family=\"Times,serif\" font-size=\"14.00\">x2</text>\n",
       "</g>\n",
       "<!-- b4&#45;&#45;b5 -->\n",
       "<g id=\"edge7\" class=\"edge\"><title>b4&#45;&#45;b5</title>\n",
       "<path fill=\"none\" stroke=\"black\" d=\"M250.753,-71.6966C250.598,-60.8463 250.399,-46.9167 250.244,-36.1043\"/>\n",
       "</g>\n",
       "<!-- b6 -->\n",
       "<g id=\"node10\" class=\"node\"><title>b6</title>\n",
       "<ellipse fill=\"none\" stroke=\"black\" cx=\"322\" cy=\"-18\" rx=\"27\" ry=\"18\"/>\n",
       "<text text-anchor=\"middle\" x=\"322\" y=\"-14.3\" font-family=\"Times,serif\" font-size=\"14.00\">x2</text>\n",
       "</g>\n",
       "<!-- b4&#45;&#45;b6 -->\n",
       "<g id=\"edge8\" class=\"edge\"><title>b4&#45;&#45;b6</title>\n",
       "<path fill=\"none\" stroke=\"black\" d=\"M265.711,-74.496C277.897,-62.4822 295.127,-45.4941 307.308,-33.4855\"/>\n",
       "</g>\n",
       "</g>\n",
       "</svg>\n"
      ],
      "text/plain": [
       "<graphviz.dot.Graph at 0x7fc1f8dac5f8>"
      ]
     },
     "execution_count": 17,
     "metadata": {},
     "output_type": "execute_result"
    }
   ],
   "source": [
    "plot_graphs(a, b, 4)"
   ]
  },
  {
   "cell_type": "code",
   "execution_count": 18,
   "metadata": {
    "slideshow": {
     "slide_type": "skip"
    }
   },
   "outputs": [],
   "source": [
    "random.seed(123)"
   ]
  },
  {
   "cell_type": "code",
   "execution_count": 19,
   "metadata": {
    "slideshow": {
     "slide_type": "fragment"
    }
   },
   "outputs": [
    {
     "data": {
      "image/svg+xml": [
       "<?xml version=\"1.0\" encoding=\"UTF-8\" standalone=\"no\"?>\n",
       "<!DOCTYPE svg PUBLIC \"-//W3C//DTD SVG 1.1//EN\"\n",
       " \"http://www.w3.org/Graphics/SVG/1.1/DTD/svg11.dtd\">\n",
       "<!-- Generated by graphviz version 2.38.0 (20140413.2041)\n",
       " -->\n",
       "<!-- Title: %3 Pages: 1 -->\n",
       "<svg width=\"288pt\" height=\"168pt\"\n",
       " viewBox=\"0.00 0.00 288.00 167.63\" xmlns=\"http://www.w3.org/2000/svg\" xmlns:xlink=\"http://www.w3.org/1999/xlink\">\n",
       "<g id=\"graph0\" class=\"graph\" transform=\"scale(0.891641 0.891641) rotate(0) translate(4 184)\">\n",
       "<title>%3</title>\n",
       "<polygon fill=\"white\" stroke=\"none\" points=\"-4,4 -4,-184 319,-184 319,4 -4,4\"/>\n",
       "<!-- a0 -->\n",
       "<g id=\"node1\" class=\"node\"><title>a0</title>\n",
       "<ellipse fill=\"none\" stroke=\"black\" cx=\"84\" cy=\"-162\" rx=\"30.5947\" ry=\"18\"/>\n",
       "<text text-anchor=\"middle\" x=\"84\" y=\"-158.3\" font-family=\"Times,serif\" font-size=\"14.00\">max</text>\n",
       "</g>\n",
       "<!-- a1 -->\n",
       "<g id=\"node2\" class=\"node\"><title>a1</title>\n",
       "<ellipse fill=\"none\" stroke=\"black\" cx=\"27\" cy=\"-90\" rx=\"27\" ry=\"18\"/>\n",
       "<text text-anchor=\"middle\" x=\"27\" y=\"-86.3\" font-family=\"Times,serif\" font-size=\"14.00\">x2</text>\n",
       "</g>\n",
       "<!-- a0&#45;&#45;a1 -->\n",
       "<g id=\"edge1\" class=\"edge\"><title>a0&#45;&#45;a1</title>\n",
       "<path fill=\"none\" stroke=\"black\" d=\"M71.3499,-145.465C61.904,-133.865 49.0521,-118.082 39.6148,-106.492\"/>\n",
       "</g>\n",
       "<!-- a2 -->\n",
       "<g id=\"node3\" class=\"node\"><title>a2</title>\n",
       "<ellipse fill=\"none\" stroke=\"black\" cx=\"103\" cy=\"-90\" rx=\"30.5947\" ry=\"18\"/>\n",
       "<text text-anchor=\"middle\" x=\"103\" y=\"-86.3\" font-family=\"Times,serif\" font-size=\"14.00\">max</text>\n",
       "</g>\n",
       "<!-- a0&#45;&#45;a2 -->\n",
       "<g id=\"edge2\" class=\"edge\"><title>a0&#45;&#45;a2</title>\n",
       "<path fill=\"none\" stroke=\"black\" d=\"M88.5994,-144.055C91.5427,-133.211 95.3503,-119.183 98.311,-108.275\"/>\n",
       "</g>\n",
       "<!-- a3 -->\n",
       "<g id=\"node4\" class=\"node\"><title>a3</title>\n",
       "<ellipse fill=\"none\" stroke=\"black\" cx=\"51\" cy=\"-18\" rx=\"27\" ry=\"18\"/>\n",
       "<text text-anchor=\"middle\" x=\"51\" y=\"-14.3\" font-family=\"Times,serif\" font-size=\"14.00\">x1</text>\n",
       "</g>\n",
       "<!-- a2&#45;&#45;a3 -->\n",
       "<g id=\"edge3\" class=\"edge\"><title>a2&#45;&#45;a3</title>\n",
       "<path fill=\"none\" stroke=\"black\" d=\"M91.2004,-73.1159C82.5704,-61.4986 70.9295,-45.8282 62.3955,-34.3402\"/>\n",
       "</g>\n",
       "<!-- a4 -->\n",
       "<g id=\"node5\" class=\"node\"><title>a4</title>\n",
       "<ellipse fill=\"none\" stroke=\"black\" cx=\"123\" cy=\"-18\" rx=\"27\" ry=\"18\"/>\n",
       "<text text-anchor=\"middle\" x=\"123\" y=\"-14.3\" font-family=\"Times,serif\" font-size=\"14.00\">x1</text>\n",
       "</g>\n",
       "<!-- a2&#45;&#45;a4 -->\n",
       "<g id=\"edge4\" class=\"edge\"><title>a2&#45;&#45;a4</title>\n",
       "<path fill=\"none\" stroke=\"black\" d=\"M107.841,-72.055C110.986,-61.0492 115.068,-46.7636 118.203,-35.789\"/>\n",
       "</g>\n",
       "<!-- b0 -->\n",
       "<g id=\"node6\" class=\"node\"><title>b0</title>\n",
       "<ellipse fill=\"none\" stroke=\"black\" cx=\"198\" cy=\"-162\" rx=\"28.6953\" ry=\"18\"/>\n",
       "<text text-anchor=\"middle\" x=\"198\" y=\"-158.3\" font-family=\"Times,serif\" font-size=\"14.00\">mul</text>\n",
       "</g>\n",
       "<!-- b1 -->\n",
       "<g id=\"node7\" class=\"node\"><title>b1</title>\n",
       "<ellipse fill=\"none\" stroke=\"black\" cx=\"179\" cy=\"-90\" rx=\"27\" ry=\"18\"/>\n",
       "<text text-anchor=\"middle\" x=\"179\" y=\"-86.3\" font-family=\"Times,serif\" font-size=\"14.00\">x1</text>\n",
       "</g>\n",
       "<!-- b0&#45;&#45;b1 -->\n",
       "<g id=\"edge5\" class=\"edge\"><title>b0&#45;&#45;b1</title>\n",
       "<path fill=\"none\" stroke=\"black\" d=\"M193.401,-144.055C190.413,-133.049 186.536,-118.764 183.557,-107.789\"/>\n",
       "</g>\n",
       "<!-- b2 -->\n",
       "<g id=\"node8\" class=\"node\"><title>b2</title>\n",
       "<ellipse fill=\"none\" stroke=\"black\" cx=\"252\" cy=\"-90\" rx=\"27.8951\" ry=\"18\"/>\n",
       "<text text-anchor=\"middle\" x=\"252\" y=\"-86.3\" font-family=\"Times,serif\" font-size=\"14.00\">add</text>\n",
       "</g>\n",
       "<!-- b0&#45;&#45;b2 -->\n",
       "<g id=\"edge6\" class=\"edge\"><title>b0&#45;&#45;b2</title>\n",
       "<path fill=\"none\" stroke=\"black\" d=\"M209.984,-145.465C218.933,-133.865 231.108,-118.082 240.049,-106.492\"/>\n",
       "</g>\n",
       "<!-- b3 -->\n",
       "<g id=\"node9\" class=\"node\"><title>b3</title>\n",
       "<ellipse fill=\"none\" stroke=\"black\" cx=\"216\" cy=\"-18\" rx=\"27\" ry=\"18\"/>\n",
       "<text text-anchor=\"middle\" x=\"216\" y=\"-14.3\" font-family=\"Times,serif\" font-size=\"14.00\">x2</text>\n",
       "</g>\n",
       "<!-- b2&#45;&#45;b3 -->\n",
       "<g id=\"edge7\" class=\"edge\"><title>b2&#45;&#45;b3</title>\n",
       "<path fill=\"none\" stroke=\"black\" d=\"M243.65,-72.7646C237.835,-61.456 230.11,-46.4367 224.304,-35.1473\"/>\n",
       "</g>\n",
       "<!-- b4 -->\n",
       "<g id=\"node10\" class=\"node\"><title>b4</title>\n",
       "<ellipse fill=\"none\" stroke=\"black\" cx=\"288\" cy=\"-18\" rx=\"27\" ry=\"18\"/>\n",
       "<text text-anchor=\"middle\" x=\"288\" y=\"-14.3\" font-family=\"Times,serif\" font-size=\"14.00\">x2</text>\n",
       "</g>\n",
       "<!-- b2&#45;&#45;b4 -->\n",
       "<g id=\"edge8\" class=\"edge\"><title>b2&#45;&#45;b4</title>\n",
       "<path fill=\"none\" stroke=\"black\" d=\"M260.35,-72.7646C266.165,-61.456 273.89,-46.4367 279.696,-35.1473\"/>\n",
       "</g>\n",
       "</g>\n",
       "</svg>\n"
      ],
      "text/plain": [
       "<graphviz.dot.Graph at 0x7fc1f9022cf8>"
      ]
     },
     "execution_count": 19,
     "metadata": {},
     "output_type": "execute_result"
    }
   ],
   "source": [
    "child_a, child_b = cxOnePoint(PrimitiveTree(a), PrimitiveTree(b))\n",
    "plot_graphs(child_a, child_b, 4)"
   ]
  },
  {
   "cell_type": "markdown",
   "metadata": {
    "slideshow": {
     "slide_type": "slide"
    }
   },
   "source": [
    "# GP - mutácia stromov 1"
   ]
  },
  {
   "cell_type": "code",
   "execution_count": 20,
   "metadata": {
    "slideshow": {
     "slide_type": "skip"
    }
   },
   "outputs": [],
   "source": [
    "from deap.gp import mutUniform\n",
    "def expr_gen(pset, type_):\n",
    "    return genHalfAndHalf(pset, min_=1, max_=2)\n",
    "random.seed(2)"
   ]
  },
  {
   "cell_type": "code",
   "execution_count": 21,
   "metadata": {},
   "outputs": [
    {
     "data": {
      "image/svg+xml": [
       "<?xml version=\"1.0\" encoding=\"UTF-8\" standalone=\"no\"?>\n",
       "<!DOCTYPE svg PUBLIC \"-//W3C//DTD SVG 1.1//EN\"\n",
       " \"http://www.w3.org/Graphics/SVG/1.1/DTD/svg11.dtd\">\n",
       "<!-- Generated by graphviz version 2.38.0 (20140413.2041)\n",
       " -->\n",
       "<!-- Title: %3 Pages: 1 -->\n",
       "<svg width=\"392pt\" height=\"260pt\"\n",
       " viewBox=\"0.00 0.00 392.00 260.00\" xmlns=\"http://www.w3.org/2000/svg\" xmlns:xlink=\"http://www.w3.org/1999/xlink\">\n",
       "<g id=\"graph0\" class=\"graph\" transform=\"scale(1 1) rotate(0) translate(4 256)\">\n",
       "<title>%3</title>\n",
       "<polygon fill=\"white\" stroke=\"none\" points=\"-4,4 -4,-256 388,-256 388,4 -4,4\"/>\n",
       "<!-- a0 -->\n",
       "<g id=\"node1\" class=\"node\"><title>a0</title>\n",
       "<ellipse fill=\"none\" stroke=\"black\" cx=\"80\" cy=\"-234\" rx=\"30.5947\" ry=\"18\"/>\n",
       "<text text-anchor=\"middle\" x=\"80\" y=\"-230.3\" font-family=\"Times,serif\" font-size=\"14.00\">max</text>\n",
       "</g>\n",
       "<!-- a1 -->\n",
       "<g id=\"node2\" class=\"node\"><title>a1</title>\n",
       "<ellipse fill=\"none\" stroke=\"black\" cx=\"27\" cy=\"-162\" rx=\"27\" ry=\"18\"/>\n",
       "<text text-anchor=\"middle\" x=\"27\" y=\"-158.3\" font-family=\"Times,serif\" font-size=\"14.00\">x2</text>\n",
       "</g>\n",
       "<!-- a0&#45;&#45;a1 -->\n",
       "<g id=\"edge1\" class=\"edge\"><title>a0&#45;&#45;a1</title>\n",
       "<path fill=\"none\" stroke=\"black\" d=\"M67.9735,-217.116C59.1775,-205.499 47.3128,-189.828 38.6147,-178.34\"/>\n",
       "</g>\n",
       "<!-- a2 -->\n",
       "<g id=\"node3\" class=\"node\"><title>a2</title>\n",
       "<ellipse fill=\"none\" stroke=\"black\" cx=\"99\" cy=\"-162\" rx=\"27\" ry=\"18\"/>\n",
       "<text text-anchor=\"middle\" x=\"99\" y=\"-158.3\" font-family=\"Times,serif\" font-size=\"14.00\">x1</text>\n",
       "</g>\n",
       "<!-- a0&#45;&#45;a2 -->\n",
       "<g id=\"edge2\" class=\"edge\"><title>a0&#45;&#45;a2</title>\n",
       "<path fill=\"none\" stroke=\"black\" d=\"M84.5994,-216.055C87.5866,-205.049 91.4642,-190.764 94.443,-179.789\"/>\n",
       "</g>\n",
       "<!-- b0 -->\n",
       "<g id=\"node4\" class=\"node\"><title>b0</title>\n",
       "<ellipse fill=\"none\" stroke=\"black\" cx=\"193\" cy=\"-234\" rx=\"30.5947\" ry=\"18\"/>\n",
       "<text text-anchor=\"middle\" x=\"193\" y=\"-230.3\" font-family=\"Times,serif\" font-size=\"14.00\">max</text>\n",
       "</g>\n",
       "<!-- b1 -->\n",
       "<g id=\"node5\" class=\"node\"><title>b1</title>\n",
       "<ellipse fill=\"none\" stroke=\"black\" cx=\"174\" cy=\"-162\" rx=\"27\" ry=\"18\"/>\n",
       "<text text-anchor=\"middle\" x=\"174\" y=\"-158.3\" font-family=\"Times,serif\" font-size=\"14.00\">x2</text>\n",
       "</g>\n",
       "<!-- b0&#45;&#45;b1 -->\n",
       "<g id=\"edge3\" class=\"edge\"><title>b0&#45;&#45;b1</title>\n",
       "<path fill=\"none\" stroke=\"black\" d=\"M188.401,-216.055C185.413,-205.049 181.536,-190.764 178.557,-179.789\"/>\n",
       "</g>\n",
       "<!-- b2 -->\n",
       "<g id=\"node6\" class=\"node\"><title>b2</title>\n",
       "<ellipse fill=\"none\" stroke=\"black\" cx=\"248\" cy=\"-162\" rx=\"28.6953\" ry=\"18\"/>\n",
       "<text text-anchor=\"middle\" x=\"248\" y=\"-158.3\" font-family=\"Times,serif\" font-size=\"14.00\">mul</text>\n",
       "</g>\n",
       "<!-- b0&#45;&#45;b2 -->\n",
       "<g id=\"edge4\" class=\"edge\"><title>b0&#45;&#45;b2</title>\n",
       "<path fill=\"none\" stroke=\"black\" d=\"M205.206,-217.465C214.321,-205.865 226.722,-190.082 235.828,-178.492\"/>\n",
       "</g>\n",
       "<!-- b3 -->\n",
       "<g id=\"node7\" class=\"node\"><title>b3</title>\n",
       "<ellipse fill=\"none\" stroke=\"black\" cx=\"210\" cy=\"-90\" rx=\"30.5947\" ry=\"18\"/>\n",
       "<text text-anchor=\"middle\" x=\"210\" y=\"-86.3\" font-family=\"Times,serif\" font-size=\"14.00\">max</text>\n",
       "</g>\n",
       "<!-- b2&#45;&#45;b3 -->\n",
       "<g id=\"edge5\" class=\"edge\"><title>b2&#45;&#45;b3</title>\n",
       "<path fill=\"none\" stroke=\"black\" d=\"M239.187,-144.765C233.135,-133.618 225.127,-118.865 219.03,-107.633\"/>\n",
       "</g>\n",
       "<!-- b6 -->\n",
       "<g id=\"node10\" class=\"node\"><title>b6</title>\n",
       "<ellipse fill=\"none\" stroke=\"black\" cx=\"286\" cy=\"-90\" rx=\"27.8951\" ry=\"18\"/>\n",
       "<text text-anchor=\"middle\" x=\"286\" y=\"-86.3\" font-family=\"Times,serif\" font-size=\"14.00\">add</text>\n",
       "</g>\n",
       "<!-- b2&#45;&#45;b6 -->\n",
       "<g id=\"edge8\" class=\"edge\"><title>b2&#45;&#45;b6</title>\n",
       "<path fill=\"none\" stroke=\"black\" d=\"M256.813,-144.765C262.952,-133.456 271.106,-118.437 277.234,-107.147\"/>\n",
       "</g>\n",
       "<!-- b4 -->\n",
       "<g id=\"node8\" class=\"node\"><title>b4</title>\n",
       "<ellipse fill=\"none\" stroke=\"black\" cx=\"139\" cy=\"-18\" rx=\"27\" ry=\"18\"/>\n",
       "<text text-anchor=\"middle\" x=\"139\" y=\"-14.3\" font-family=\"Times,serif\" font-size=\"14.00\">x1</text>\n",
       "</g>\n",
       "<!-- b3&#45;&#45;b4 -->\n",
       "<g id=\"edge6\" class=\"edge\"><title>b3&#45;&#45;b4</title>\n",
       "<path fill=\"none\" stroke=\"black\" d=\"M194.943,-74.1548C182.731,-62.115 165.623,-45.2485 153.55,-33.345\"/>\n",
       "</g>\n",
       "<!-- b5 -->\n",
       "<g id=\"node9\" class=\"node\"><title>b5</title>\n",
       "<ellipse fill=\"none\" stroke=\"black\" cx=\"211\" cy=\"-18\" rx=\"27\" ry=\"18\"/>\n",
       "<text text-anchor=\"middle\" x=\"211\" y=\"-14.3\" font-family=\"Times,serif\" font-size=\"14.00\">x1</text>\n",
       "</g>\n",
       "<!-- b3&#45;&#45;b5 -->\n",
       "<g id=\"edge7\" class=\"edge\"><title>b3&#45;&#45;b5</title>\n",
       "<path fill=\"none\" stroke=\"black\" d=\"M210.247,-71.6966C210.402,-60.8463 210.601,-46.9167 210.756,-36.1043\"/>\n",
       "</g>\n",
       "<!-- b7 -->\n",
       "<g id=\"node11\" class=\"node\"><title>b7</title>\n",
       "<ellipse fill=\"none\" stroke=\"black\" cx=\"285\" cy=\"-18\" rx=\"27\" ry=\"18\"/>\n",
       "<text text-anchor=\"middle\" x=\"285\" y=\"-14.3\" font-family=\"Times,serif\" font-size=\"14.00\">x2</text>\n",
       "</g>\n",
       "<!-- b6&#45;&#45;b7 -->\n",
       "<g id=\"edge9\" class=\"edge\"><title>b6&#45;&#45;b7</title>\n",
       "<path fill=\"none\" stroke=\"black\" d=\"M285.753,-71.6966C285.598,-60.8463 285.399,-46.9167 285.244,-36.1043\"/>\n",
       "</g>\n",
       "<!-- b8 -->\n",
       "<g id=\"node12\" class=\"node\"><title>b8</title>\n",
       "<ellipse fill=\"none\" stroke=\"black\" cx=\"357\" cy=\"-18\" rx=\"27\" ry=\"18\"/>\n",
       "<text text-anchor=\"middle\" x=\"357\" y=\"-14.3\" font-family=\"Times,serif\" font-size=\"14.00\">x2</text>\n",
       "</g>\n",
       "<!-- b6&#45;&#45;b8 -->\n",
       "<g id=\"edge10\" class=\"edge\"><title>b6&#45;&#45;b8</title>\n",
       "<path fill=\"none\" stroke=\"black\" d=\"M300.711,-74.496C312.897,-62.4822 330.127,-45.4941 342.308,-33.4855\"/>\n",
       "</g>\n",
       "</g>\n",
       "</svg>\n"
      ],
      "text/plain": [
       "<graphviz.dot.Graph at 0x7fc1f84f84a8>"
      ]
     },
     "execution_count": 21,
     "metadata": {},
     "output_type": "execute_result"
    }
   ],
   "source": [
    "parent = genHalfAndHalf(pset,min_=1, max_=2)\n",
    "child = mutUniform(PrimitiveTree(parent), expr_gen, pset)\n",
    "plot_graphs(parent, child[0], 6)"
   ]
  },
  {
   "cell_type": "markdown",
   "metadata": {
    "slideshow": {
     "slide_type": "slide"
    }
   },
   "source": [
    "# GP - mutácia stromov 2"
   ]
  },
  {
   "cell_type": "code",
   "execution_count": 22,
   "metadata": {
    "slideshow": {
     "slide_type": "skip"
    }
   },
   "outputs": [],
   "source": [
    "from deap.gp import mutNodeReplacement\n",
    "from copy import deepcopy\n",
    "random.seed(6)"
   ]
  },
  {
   "cell_type": "code",
   "execution_count": 23,
   "metadata": {},
   "outputs": [
    {
     "data": {
      "image/svg+xml": [
       "<?xml version=\"1.0\" encoding=\"UTF-8\" standalone=\"no\"?>\n",
       "<!DOCTYPE svg PUBLIC \"-//W3C//DTD SVG 1.1//EN\"\n",
       " \"http://www.w3.org/Graphics/SVG/1.1/DTD/svg11.dtd\">\n",
       "<!-- Generated by graphviz version 2.38.0 (20140413.2041)\n",
       " -->\n",
       "<!-- Title: %3 Pages: 1 -->\n",
       "<svg width=\"317pt\" height=\"188pt\"\n",
       " viewBox=\"0.00 0.00 317.00 188.00\" xmlns=\"http://www.w3.org/2000/svg\" xmlns:xlink=\"http://www.w3.org/1999/xlink\">\n",
       "<g id=\"graph0\" class=\"graph\" transform=\"scale(1 1) rotate(0) translate(4 184)\">\n",
       "<title>%3</title>\n",
       "<polygon fill=\"white\" stroke=\"none\" points=\"-4,4 -4,-184 313,-184 313,4 -4,4\"/>\n",
       "<!-- a0 -->\n",
       "<g id=\"node1\" class=\"node\"><title>a0</title>\n",
       "<ellipse fill=\"none\" stroke=\"black\" cx=\"81\" cy=\"-162\" rx=\"27.8951\" ry=\"18\"/>\n",
       "<text text-anchor=\"middle\" x=\"81\" y=\"-158.3\" font-family=\"Times,serif\" font-size=\"14.00\">add</text>\n",
       "</g>\n",
       "<!-- a1 -->\n",
       "<g id=\"node2\" class=\"node\"><title>a1</title>\n",
       "<ellipse fill=\"none\" stroke=\"black\" cx=\"27\" cy=\"-90\" rx=\"27\" ry=\"18\"/>\n",
       "<text text-anchor=\"middle\" x=\"27\" y=\"-86.3\" font-family=\"Times,serif\" font-size=\"14.00\">x1</text>\n",
       "</g>\n",
       "<!-- a0&#45;&#45;a1 -->\n",
       "<g id=\"edge1\" class=\"edge\"><title>a0&#45;&#45;a1</title>\n",
       "<path fill=\"none\" stroke=\"black\" d=\"M69.0156,-145.465C60.0669,-133.865 47.8915,-118.082 38.9508,-106.492\"/>\n",
       "</g>\n",
       "<!-- a2 -->\n",
       "<g id=\"node3\" class=\"node\"><title>a2</title>\n",
       "<ellipse fill=\"none\" stroke=\"black\" cx=\"100\" cy=\"-90\" rx=\"27.8951\" ry=\"18\"/>\n",
       "<text text-anchor=\"middle\" x=\"100\" y=\"-86.3\" font-family=\"Times,serif\" font-size=\"14.00\">add</text>\n",
       "</g>\n",
       "<!-- a0&#45;&#45;a2 -->\n",
       "<g id=\"edge2\" class=\"edge\"><title>a0&#45;&#45;a2</title>\n",
       "<path fill=\"none\" stroke=\"black\" d=\"M85.5994,-144.055C88.5866,-133.049 92.4642,-118.764 95.443,-107.789\"/>\n",
       "</g>\n",
       "<!-- a3 -->\n",
       "<g id=\"node4\" class=\"node\"><title>a3</title>\n",
       "<ellipse fill=\"none\" stroke=\"black\" cx=\"47\" cy=\"-18\" rx=\"27\" ry=\"18\"/>\n",
       "<text text-anchor=\"middle\" x=\"47\" y=\"-14.3\" font-family=\"Times,serif\" font-size=\"14.00\">x2</text>\n",
       "</g>\n",
       "<!-- a2&#45;&#45;a3 -->\n",
       "<g id=\"edge3\" class=\"edge\"><title>a2&#45;&#45;a3</title>\n",
       "<path fill=\"none\" stroke=\"black\" d=\"M88.2376,-73.4647C79.4546,-61.8645 67.5046,-46.0816 58.7295,-34.4918\"/>\n",
       "</g>\n",
       "<!-- a4 -->\n",
       "<g id=\"node5\" class=\"node\"><title>a4</title>\n",
       "<ellipse fill=\"none\" stroke=\"black\" cx=\"119\" cy=\"-18\" rx=\"27\" ry=\"18\"/>\n",
       "<text text-anchor=\"middle\" x=\"119\" y=\"-14.3\" font-family=\"Times,serif\" font-size=\"14.00\">x2</text>\n",
       "</g>\n",
       "<!-- a2&#45;&#45;a4 -->\n",
       "<g id=\"edge4\" class=\"edge\"><title>a2&#45;&#45;a4</title>\n",
       "<path fill=\"none\" stroke=\"black\" d=\"M104.599,-72.055C107.587,-61.0492 111.464,-46.7636 114.443,-35.789\"/>\n",
       "</g>\n",
       "<!-- b0 -->\n",
       "<g id=\"node6\" class=\"node\"><title>b0</title>\n",
       "<ellipse fill=\"none\" stroke=\"black\" cx=\"191\" cy=\"-162\" rx=\"27.8951\" ry=\"18\"/>\n",
       "<text text-anchor=\"middle\" x=\"191\" y=\"-158.3\" font-family=\"Times,serif\" font-size=\"14.00\">add</text>\n",
       "</g>\n",
       "<!-- b1 -->\n",
       "<g id=\"node7\" class=\"node\"><title>b1</title>\n",
       "<ellipse fill=\"none\" stroke=\"black\" cx=\"173\" cy=\"-90\" rx=\"27\" ry=\"18\"/>\n",
       "<text text-anchor=\"middle\" x=\"173\" y=\"-86.3\" font-family=\"Times,serif\" font-size=\"14.00\">x2</text>\n",
       "</g>\n",
       "<!-- b0&#45;&#45;b1 -->\n",
       "<g id=\"edge5\" class=\"edge\"><title>b0&#45;&#45;b1</title>\n",
       "<path fill=\"none\" stroke=\"black\" d=\"M186.643,-144.055C183.813,-133.049 180.139,-118.764 177.317,-107.789\"/>\n",
       "</g>\n",
       "<!-- b2 -->\n",
       "<g id=\"node8\" class=\"node\"><title>b2</title>\n",
       "<ellipse fill=\"none\" stroke=\"black\" cx=\"246\" cy=\"-90\" rx=\"27.8951\" ry=\"18\"/>\n",
       "<text text-anchor=\"middle\" x=\"246\" y=\"-86.3\" font-family=\"Times,serif\" font-size=\"14.00\">add</text>\n",
       "</g>\n",
       "<!-- b0&#45;&#45;b2 -->\n",
       "<g id=\"edge6\" class=\"edge\"><title>b0&#45;&#45;b2</title>\n",
       "<path fill=\"none\" stroke=\"black\" d=\"M203.206,-145.465C212.321,-133.865 224.722,-118.082 233.828,-106.492\"/>\n",
       "</g>\n",
       "<!-- b3 -->\n",
       "<g id=\"node9\" class=\"node\"><title>b3</title>\n",
       "<ellipse fill=\"none\" stroke=\"black\" cx=\"210\" cy=\"-18\" rx=\"27\" ry=\"18\"/>\n",
       "<text text-anchor=\"middle\" x=\"210\" y=\"-14.3\" font-family=\"Times,serif\" font-size=\"14.00\">x2</text>\n",
       "</g>\n",
       "<!-- b2&#45;&#45;b3 -->\n",
       "<g id=\"edge7\" class=\"edge\"><title>b2&#45;&#45;b3</title>\n",
       "<path fill=\"none\" stroke=\"black\" d=\"M237.65,-72.7646C231.835,-61.456 224.11,-46.4367 218.304,-35.1473\"/>\n",
       "</g>\n",
       "<!-- b4 -->\n",
       "<g id=\"node10\" class=\"node\"><title>b4</title>\n",
       "<ellipse fill=\"none\" stroke=\"black\" cx=\"282\" cy=\"-18\" rx=\"27\" ry=\"18\"/>\n",
       "<text text-anchor=\"middle\" x=\"282\" y=\"-14.3\" font-family=\"Times,serif\" font-size=\"14.00\">x2</text>\n",
       "</g>\n",
       "<!-- b2&#45;&#45;b4 -->\n",
       "<g id=\"edge8\" class=\"edge\"><title>b2&#45;&#45;b4</title>\n",
       "<path fill=\"none\" stroke=\"black\" d=\"M254.35,-72.7646C260.165,-61.456 267.89,-46.4367 273.696,-35.1473\"/>\n",
       "</g>\n",
       "</g>\n",
       "</svg>\n"
      ],
      "text/plain": [
       "<graphviz.dot.Graph at 0x7fc1f84f8668>"
      ]
     },
     "execution_count": 23,
     "metadata": {},
     "output_type": "execute_result"
    }
   ],
   "source": [
    "parent = genHalfAndHalf(pset,min_=1, max_=2)\n",
    "child = mutNodeReplacement(deepcopy(parent), pset)\n",
    "dots = plot_graphs(parent, child[0]); dots"
   ]
  },
  {
   "cell_type": "markdown",
   "metadata": {
    "slideshow": {
     "slide_type": "slide"
    }
   },
   "source": [
    "# Genetické programovanie\n",
    "\n",
    "- množina terminálov\n",
    "- množina neterminálov (funkcií)\n",
    "- ako zvoliť tieto množiny?"
   ]
  },
  {
   "cell_type": "code",
   "execution_count": 24,
   "metadata": {},
   "outputs": [
    {
     "data": {
      "image/svg+xml": [
       "<?xml version=\"1.0\" encoding=\"UTF-8\" standalone=\"no\"?>\n",
       "<!DOCTYPE svg PUBLIC \"-//W3C//DTD SVG 1.1//EN\"\n",
       " \"http://www.w3.org/Graphics/SVG/1.1/DTD/svg11.dtd\">\n",
       "<!-- Generated by graphviz version 2.38.0 (20140413.2041)\n",
       " -->\n",
       "<!-- Title: %3 Pages: 1 -->\n",
       "<svg width=\"171pt\" height=\"188pt\"\n",
       " viewBox=\"0.00 0.00 171.00 188.00\" xmlns=\"http://www.w3.org/2000/svg\" xmlns:xlink=\"http://www.w3.org/1999/xlink\">\n",
       "<g id=\"graph0\" class=\"graph\" transform=\"scale(1 1) rotate(0) translate(4 184)\">\n",
       "<title>%3</title>\n",
       "<polygon fill=\"white\" stroke=\"none\" points=\"-4,4 -4,-184 167,-184 167,4 -4,4\"/>\n",
       "<!-- 0 -->\n",
       "<g id=\"node1\" class=\"node\"><title>0</title>\n",
       "<ellipse fill=\"none\" stroke=\"black\" cx=\"63\" cy=\"-162\" rx=\"27.8951\" ry=\"18\"/>\n",
       "<text text-anchor=\"middle\" x=\"63\" y=\"-158.3\" font-family=\"Times,serif\" font-size=\"14.00\">add</text>\n",
       "</g>\n",
       "<!-- 1 -->\n",
       "<g id=\"node2\" class=\"node\"><title>1</title>\n",
       "<ellipse fill=\"none\" stroke=\"black\" cx=\"27\" cy=\"-90\" rx=\"27\" ry=\"18\"/>\n",
       "<text text-anchor=\"middle\" x=\"27\" y=\"-86.3\" font-family=\"Times,serif\" font-size=\"14.00\">x1</text>\n",
       "</g>\n",
       "<!-- 0&#45;&#45;1 -->\n",
       "<g id=\"edge1\" class=\"edge\"><title>0&#45;&#45;1</title>\n",
       "<path fill=\"none\" stroke=\"black\" d=\"M54.6504,-144.765C48.8345,-133.456 41.1103,-118.437 35.3043,-107.147\"/>\n",
       "</g>\n",
       "<!-- 2 -->\n",
       "<g id=\"node3\" class=\"node\"><title>2</title>\n",
       "<ellipse fill=\"none\" stroke=\"black\" cx=\"100\" cy=\"-90\" rx=\"27.8951\" ry=\"18\"/>\n",
       "<text text-anchor=\"middle\" x=\"100\" y=\"-86.3\" font-family=\"Times,serif\" font-size=\"14.00\">add</text>\n",
       "</g>\n",
       "<!-- 0&#45;&#45;2 -->\n",
       "<g id=\"edge2\" class=\"edge\"><title>0&#45;&#45;2</title>\n",
       "<path fill=\"none\" stroke=\"black\" d=\"M71.5815,-144.765C77.559,-133.456 85.4978,-118.437 91.465,-107.147\"/>\n",
       "</g>\n",
       "<!-- 3 -->\n",
       "<g id=\"node4\" class=\"node\"><title>3</title>\n",
       "<ellipse fill=\"none\" stroke=\"black\" cx=\"64\" cy=\"-18\" rx=\"27\" ry=\"18\"/>\n",
       "<text text-anchor=\"middle\" x=\"64\" y=\"-14.3\" font-family=\"Times,serif\" font-size=\"14.00\">x2</text>\n",
       "</g>\n",
       "<!-- 2&#45;&#45;3 -->\n",
       "<g id=\"edge3\" class=\"edge\"><title>2&#45;&#45;3</title>\n",
       "<path fill=\"none\" stroke=\"black\" d=\"M91.6504,-72.7646C85.8345,-61.456 78.1103,-46.4367 72.3043,-35.1473\"/>\n",
       "</g>\n",
       "<!-- 4 -->\n",
       "<g id=\"node5\" class=\"node\"><title>4</title>\n",
       "<ellipse fill=\"none\" stroke=\"black\" cx=\"136\" cy=\"-18\" rx=\"27\" ry=\"18\"/>\n",
       "<text text-anchor=\"middle\" x=\"136\" y=\"-14.3\" font-family=\"Times,serif\" font-size=\"14.00\">x2</text>\n",
       "</g>\n",
       "<!-- 2&#45;&#45;4 -->\n",
       "<g id=\"edge4\" class=\"edge\"><title>2&#45;&#45;4</title>\n",
       "<path fill=\"none\" stroke=\"black\" d=\"M108.35,-72.7646C114.165,-61.456 121.89,-46.4367 127.696,-35.1473\"/>\n",
       "</g>\n",
       "</g>\n",
       "</svg>\n"
      ],
      "text/plain": [
       "<graphviz.dot.Graph at 0x7fc1f8d286d8>"
      ]
     },
     "execution_count": 24,
     "metadata": {},
     "output_type": "execute_result"
    }
   ],
   "source": [
    "plot_graph(parent)"
   ]
  },
  {
   "cell_type": "markdown",
   "metadata": {
    "slideshow": {
     "slide_type": "slide"
    }
   },
   "source": [
    "# Genetické programovanie\n",
    "\n",
    "- jedinec reprezentuje funkciu\n",
    "  - $ f(x_1, x_2) = x_1 + (x_2 + x_2) $\n",
    "- nezávislé premenné (vstupy) a nezávislé premenné (výstupy)\n",
    "- cieľ: nájsť funkciu, ktorá minimalizuje rozdiel (typicky suma štvorcov) medzi vstupnými trénovacími dátami a výstupnými trénovacími dátami\n",
    "- Symbolická regresia (Koza, 1992) ako všeobecná forma regresnej analýzy"
   ]
  },
  {
   "cell_type": "code",
   "execution_count": 25,
   "metadata": {},
   "outputs": [
    {
     "data": {
      "image/svg+xml": [
       "<?xml version=\"1.0\" encoding=\"UTF-8\" standalone=\"no\"?>\n",
       "<!DOCTYPE svg PUBLIC \"-//W3C//DTD SVG 1.1//EN\"\n",
       " \"http://www.w3.org/Graphics/SVG/1.1/DTD/svg11.dtd\">\n",
       "<!-- Generated by graphviz version 2.38.0 (20140413.2041)\n",
       " -->\n",
       "<!-- Title: %3 Pages: 1 -->\n",
       "<svg width=\"171pt\" height=\"188pt\"\n",
       " viewBox=\"0.00 0.00 171.00 188.00\" xmlns=\"http://www.w3.org/2000/svg\" xmlns:xlink=\"http://www.w3.org/1999/xlink\">\n",
       "<g id=\"graph0\" class=\"graph\" transform=\"scale(1 1) rotate(0) translate(4 184)\">\n",
       "<title>%3</title>\n",
       "<polygon fill=\"white\" stroke=\"none\" points=\"-4,4 -4,-184 167,-184 167,4 -4,4\"/>\n",
       "<!-- 0 -->\n",
       "<g id=\"node1\" class=\"node\"><title>0</title>\n",
       "<ellipse fill=\"none\" stroke=\"black\" cx=\"63\" cy=\"-162\" rx=\"27.8951\" ry=\"18\"/>\n",
       "<text text-anchor=\"middle\" x=\"63\" y=\"-158.3\" font-family=\"Times,serif\" font-size=\"14.00\">add</text>\n",
       "</g>\n",
       "<!-- 1 -->\n",
       "<g id=\"node2\" class=\"node\"><title>1</title>\n",
       "<ellipse fill=\"none\" stroke=\"black\" cx=\"27\" cy=\"-90\" rx=\"27\" ry=\"18\"/>\n",
       "<text text-anchor=\"middle\" x=\"27\" y=\"-86.3\" font-family=\"Times,serif\" font-size=\"14.00\">x1</text>\n",
       "</g>\n",
       "<!-- 0&#45;&#45;1 -->\n",
       "<g id=\"edge1\" class=\"edge\"><title>0&#45;&#45;1</title>\n",
       "<path fill=\"none\" stroke=\"black\" d=\"M54.6504,-144.765C48.8345,-133.456 41.1103,-118.437 35.3043,-107.147\"/>\n",
       "</g>\n",
       "<!-- 2 -->\n",
       "<g id=\"node3\" class=\"node\"><title>2</title>\n",
       "<ellipse fill=\"none\" stroke=\"black\" cx=\"100\" cy=\"-90\" rx=\"27.8951\" ry=\"18\"/>\n",
       "<text text-anchor=\"middle\" x=\"100\" y=\"-86.3\" font-family=\"Times,serif\" font-size=\"14.00\">add</text>\n",
       "</g>\n",
       "<!-- 0&#45;&#45;2 -->\n",
       "<g id=\"edge2\" class=\"edge\"><title>0&#45;&#45;2</title>\n",
       "<path fill=\"none\" stroke=\"black\" d=\"M71.5815,-144.765C77.559,-133.456 85.4978,-118.437 91.465,-107.147\"/>\n",
       "</g>\n",
       "<!-- 3 -->\n",
       "<g id=\"node4\" class=\"node\"><title>3</title>\n",
       "<ellipse fill=\"none\" stroke=\"black\" cx=\"64\" cy=\"-18\" rx=\"27\" ry=\"18\"/>\n",
       "<text text-anchor=\"middle\" x=\"64\" y=\"-14.3\" font-family=\"Times,serif\" font-size=\"14.00\">x2</text>\n",
       "</g>\n",
       "<!-- 2&#45;&#45;3 -->\n",
       "<g id=\"edge3\" class=\"edge\"><title>2&#45;&#45;3</title>\n",
       "<path fill=\"none\" stroke=\"black\" d=\"M91.6504,-72.7646C85.8345,-61.456 78.1103,-46.4367 72.3043,-35.1473\"/>\n",
       "</g>\n",
       "<!-- 4 -->\n",
       "<g id=\"node5\" class=\"node\"><title>4</title>\n",
       "<ellipse fill=\"none\" stroke=\"black\" cx=\"136\" cy=\"-18\" rx=\"27\" ry=\"18\"/>\n",
       "<text text-anchor=\"middle\" x=\"136\" y=\"-14.3\" font-family=\"Times,serif\" font-size=\"14.00\">x2</text>\n",
       "</g>\n",
       "<!-- 2&#45;&#45;4 -->\n",
       "<g id=\"edge4\" class=\"edge\"><title>2&#45;&#45;4</title>\n",
       "<path fill=\"none\" stroke=\"black\" d=\"M108.35,-72.7646C114.165,-61.456 121.89,-46.4367 127.696,-35.1473\"/>\n",
       "</g>\n",
       "</g>\n",
       "</svg>\n"
      ],
      "text/plain": [
       "<graphviz.dot.Graph at 0x7fc1f8d28588>"
      ]
     },
     "execution_count": 25,
     "metadata": {},
     "output_type": "execute_result"
    }
   ],
   "source": [
    "plot_graph(parent)"
   ]
  },
  {
   "cell_type": "markdown",
   "metadata": {
    "slideshow": {
     "slide_type": "slide"
    }
   },
   "source": [
    "# Symbolická regresia\n",
    "\n",
    "- lineárna regresia\n",
    " - $ y = ax + b $\n",
    "- polynomiálna regresia\n",
    " - $ y = ax^2 + bx + c $\n",
    " - $ y = ax^3 + bx^2 + cx = d $\n",
    " - ...\n",
    "- symbolická regresia\n",
    " - ???"
   ]
  },
  {
   "cell_type": "markdown",
   "metadata": {},
   "source": [
    "<div style=\"display: flex; justify-content: space-around\">\n",
    "    <img src=\"linreg.png\" style=\"width: 40%\">\n",
    "    <img src=\"polreg.png\" style=\"width: 40%\">\n",
    "</div>"
   ]
  },
  {
   "cell_type": "code",
   "execution_count": 26,
   "metadata": {
    "slideshow": {
     "slide_type": "subslide"
    }
   },
   "outputs": [
    {
     "data": {
      "image/png": "[encoded data removed]",
      "text/plain": [
       "<matplotlib.figure.Figure at 0x7fc1f84f8c88>"
      ]
     },
     "metadata": {},
     "output_type": "display_data"
    }
   ],
   "source": [
    "from pycgp.benchmarks.symbolic import X, y\n",
    "plt.scatter(X, y);"
   ]
  },
  {
   "cell_type": "markdown",
   "metadata": {},
   "source": [
    "Body generované funkciou $ f(x) = \\sin{(x^2)} + \\sin{(x + x^2)} $"
   ]
  },
  {
   "cell_type": "code",
   "execution_count": 27,
   "metadata": {
    "slideshow": {
     "slide_type": "subslide"
    }
   },
   "outputs": [],
   "source": [
    "import math\n",
    "from deap import gp\n",
    "\n",
    "def protectedDiv(left, right):\n",
    "    try:\n",
    "        return left / right\n",
    "    except ZeroDivisionError:\n",
    "        return 1\n",
    "\n",
    "pset = gp.PrimitiveSet(\"MAIN\", 1)\n",
    "pset.addPrimitive(operator.add, 2)\n",
    "pset.addPrimitive(operator.sub, 2)\n",
    "pset.addPrimitive(operator.mul, 2)\n",
    "pset.addPrimitive(protectedDiv, 2)\n",
    "pset.addPrimitive(math.sin, 1)"
   ]
  },
  {
   "cell_type": "code",
   "execution_count": 28,
   "metadata": {
    "slideshow": {
     "slide_type": "subslide"
    }
   },
   "outputs": [],
   "source": [
    "creator.create(\"FitnessMinGp\", base.Fitness, weights=(-1.0,))\n",
    "creator.create(\"IndividualGp\", gp.PrimitiveTree, fitness=creator.FitnessMinGp)\n",
    "\n",
    "toolbox = base.Toolbox()\n",
    "toolbox.register(\"expr\", gp.genHalfAndHalf, pset=pset, min_=1, max_=2)\n",
    "toolbox.register(\"individual\", tools.initIterate, creator.IndividualGp, toolbox.expr)\n",
    "toolbox.register(\"population\", tools.initRepeat, list, toolbox.individual)\n",
    "toolbox.register(\"compile\", gp.compile, pset=pset)"
   ]
  },
  {
   "cell_type": "code",
   "execution_count": 29,
   "metadata": {
    "slideshow": {
     "slide_type": "subslide"
    }
   },
   "outputs": [],
   "source": [
    "def evalSymbReg(individual, points):\n",
    "    func = toolbox.compile(expr=individual)\n",
    "    sqerrors = ((func(x) - (math.sin(x**2) + math.sin(x + x**2) ))**2 for x in points)\n",
    "    return math.fsum(sqerrors) / len(points),\n",
    "\n",
    "toolbox.register(\"evaluate\", evalSymbReg, points=[x/10. for x in range(-50,50)])\n",
    "toolbox.register(\"select\", tools.selTournament, tournsize=3)\n",
    "toolbox.register(\"mate\", gp.cxOnePoint)\n",
    "toolbox.register(\"expr_mut\", gp.genFull, min_=0, max_=2)\n",
    "toolbox.register(\"mutate\", gp.mutUniform, expr=toolbox.expr_mut, pset=pset)\n",
    "\n",
    "toolbox.decorate(\"mate\", gp.staticLimit(key=operator.attrgetter(\"height\"), max_value=17))\n",
    "toolbox.decorate(\"mutate\", gp.staticLimit(key=operator.attrgetter(\"height\"), max_value=17))"
   ]
  },
  {
   "cell_type": "code",
   "execution_count": 63,
   "metadata": {
    "slideshow": {
     "slide_type": "subslide"
    }
   },
   "outputs": [
    {
     "name": "stdout",
     "output_type": "stream",
     "text": [
      "CPU times: user 27.5 s, sys: 15.6 ms, total: 27.5 s\n",
      "Wall time: 27.8 s\n"
     ]
    }
   ],
   "source": [
    "%%time \n",
    "stats_fit = tools.Statistics(lambda ind: ind.fitness.values)\n",
    "stats_size = tools.Statistics(len)\n",
    "mstats = tools.MultiStatistics(fitness=stats_fit)\n",
    "mstats.register(\"avg\", np.mean)\n",
    "mstats.register(\"min\", np.min)\n",
    "\n",
    "\n",
    "pop = toolbox.population(n=300)\n",
    "hof = tools.HallOfFame(1)\n",
    "pop, log = eaSimple(pop, toolbox, 0.7, 0.1, 200, stats=mstats,\n",
    "                               halloffame=hof, verbose=False)"
   ]
  },
  {
   "cell_type": "code",
   "execution_count": 64,
   "metadata": {
    "slideshow": {
     "slide_type": "subslide"
    }
   },
   "outputs": [
    {
     "data": {
      "image/svg+xml": [
       "<?xml version=\"1.0\" encoding=\"UTF-8\" standalone=\"no\"?>\n",
       "<!DOCTYPE svg PUBLIC \"-//W3C//DTD SVG 1.1//EN\"\n",
       " \"http://www.w3.org/Graphics/SVG/1.1/DTD/svg11.dtd\">\n",
       "<!-- Generated by graphviz version 2.38.0 (20140413.2041)\n",
       " -->\n",
       "<!-- Title: %3 Pages: 1 -->\n",
       "<svg width=\"227pt\" height=\"360pt\"\n",
       " viewBox=\"0.00 0.00 227.24 360.00\" xmlns=\"http://www.w3.org/2000/svg\" xmlns:xlink=\"http://www.w3.org/1999/xlink\">\n",
       "<g id=\"graph0\" class=\"graph\" transform=\"scale(0.283912 0.283912) rotate(0) translate(4 1264)\">\n",
       "<title>%3</title>\n",
       "<polygon fill=\"white\" stroke=\"none\" points=\"-4,4 -4,-1264 796.393,-1264 796.393,4 -4,4\"/>\n",
       "<!-- 0 -->\n",
       "<g id=\"node1\" class=\"node\"><title>0</title>\n",
       "<ellipse fill=\"none\" stroke=\"black\" cx=\"414.697\" cy=\"-1242\" rx=\"27\" ry=\"18\"/>\n",
       "<text text-anchor=\"middle\" x=\"414.697\" y=\"-1238.3\" font-family=\"Times,serif\" font-size=\"14.00\">sin</text>\n",
       "</g>\n",
       "<!-- 1 -->\n",
       "<g id=\"node2\" class=\"node\"><title>1</title>\n",
       "<ellipse fill=\"none\" stroke=\"black\" cx=\"414.697\" cy=\"-1170\" rx=\"27.8951\" ry=\"18\"/>\n",
       "<text text-anchor=\"middle\" x=\"414.697\" y=\"-1166.3\" font-family=\"Times,serif\" font-size=\"14.00\">add</text>\n",
       "</g>\n",
       "<!-- 0&#45;&#45;1 -->\n",
       "<g id=\"edge1\" class=\"edge\"><title>0&#45;&#45;1</title>\n",
       "<path fill=\"none\" stroke=\"black\" d=\"M414.697,-1223.7C414.697,-1212.85 414.697,-1198.92 414.697,-1188.1\"/>\n",
       "</g>\n",
       "<!-- 2 -->\n",
       "<g id=\"node3\" class=\"node\"><title>2</title>\n",
       "<ellipse fill=\"none\" stroke=\"black\" cx=\"375.697\" cy=\"-1098\" rx=\"28.6953\" ry=\"18\"/>\n",
       "<text text-anchor=\"middle\" x=\"375.697\" y=\"-1094.3\" font-family=\"Times,serif\" font-size=\"14.00\">mul</text>\n",
       "</g>\n",
       "<!-- 1&#45;&#45;2 -->\n",
       "<g id=\"edge2\" class=\"edge\"><title>1&#45;&#45;2</title>\n",
       "<path fill=\"none\" stroke=\"black\" d=\"M405.651,-1152.76C399.351,-1141.46 390.983,-1126.44 384.693,-1115.15\"/>\n",
       "</g>\n",
       "<!-- 5 -->\n",
       "<g id=\"node6\" class=\"node\"><title>5</title>\n",
       "<ellipse fill=\"none\" stroke=\"black\" cx=\"454.697\" cy=\"-1098\" rx=\"27\" ry=\"18\"/>\n",
       "<text text-anchor=\"middle\" x=\"454.697\" y=\"-1094.3\" font-family=\"Times,serif\" font-size=\"14.00\">sin</text>\n",
       "</g>\n",
       "<!-- 1&#45;&#45;5 -->\n",
       "<g id=\"edge5\" class=\"edge\"><title>1&#45;&#45;5</title>\n",
       "<path fill=\"none\" stroke=\"black\" d=\"M423.974,-1152.76C430.436,-1141.46 439.019,-1126.44 445.47,-1115.15\"/>\n",
       "</g>\n",
       "<!-- 3 -->\n",
       "<g id=\"node4\" class=\"node\"><title>3</title>\n",
       "<ellipse fill=\"none\" stroke=\"black\" cx=\"282.697\" cy=\"-1026\" rx=\"37.8943\" ry=\"18\"/>\n",
       "<text text-anchor=\"middle\" x=\"282.697\" y=\"-1022.3\" font-family=\"Times,serif\" font-size=\"14.00\">ARG0</text>\n",
       "</g>\n",
       "<!-- 2&#45;&#45;3 -->\n",
       "<g id=\"edge3\" class=\"edge\"><title>2&#45;&#45;3</title>\n",
       "<path fill=\"none\" stroke=\"black\" d=\"M357.765,-1083.5C341.825,-1071.51 318.572,-1054 302.178,-1041.66\"/>\n",
       "</g>\n",
       "<!-- 4 -->\n",
       "<g id=\"node5\" class=\"node\"><title>4</title>\n",
       "<ellipse fill=\"none\" stroke=\"black\" cx=\"375.697\" cy=\"-1026\" rx=\"37.8943\" ry=\"18\"/>\n",
       "<text text-anchor=\"middle\" x=\"375.697\" y=\"-1022.3\" font-family=\"Times,serif\" font-size=\"14.00\">ARG0</text>\n",
       "</g>\n",
       "<!-- 2&#45;&#45;4 -->\n",
       "<g id=\"edge4\" class=\"edge\"><title>2&#45;&#45;4</title>\n",
       "<path fill=\"none\" stroke=\"black\" d=\"M375.697,-1079.7C375.697,-1068.85 375.697,-1054.92 375.697,-1044.1\"/>\n",
       "</g>\n",
       "<!-- 6 -->\n",
       "<g id=\"node7\" class=\"node\"><title>6</title>\n",
       "<ellipse fill=\"none\" stroke=\"black\" cx=\"459.697\" cy=\"-1026\" rx=\"27.8951\" ry=\"18\"/>\n",
       "<text text-anchor=\"middle\" x=\"459.697\" y=\"-1022.3\" font-family=\"Times,serif\" font-size=\"14.00\">add</text>\n",
       "</g>\n",
       "<!-- 5&#45;&#45;6 -->\n",
       "<g id=\"edge6\" class=\"edge\"><title>5&#45;&#45;6</title>\n",
       "<path fill=\"none\" stroke=\"black\" d=\"M455.933,-1079.7C456.708,-1068.85 457.703,-1054.92 458.475,-1044.1\"/>\n",
       "</g>\n",
       "<!-- 7 -->\n",
       "<g id=\"node8\" class=\"node\"><title>7</title>\n",
       "<ellipse fill=\"none\" stroke=\"black\" cx=\"419.697\" cy=\"-954\" rx=\"27.8951\" ry=\"18\"/>\n",
       "<text text-anchor=\"middle\" x=\"419.697\" y=\"-950.3\" font-family=\"Times,serif\" font-size=\"14.00\">add</text>\n",
       "</g>\n",
       "<!-- 6&#45;&#45;7 -->\n",
       "<g id=\"edge7\" class=\"edge\"><title>6&#45;&#45;7</title>\n",
       "<path fill=\"none\" stroke=\"black\" d=\"M450.419,-1008.76C443.957,-997.456 435.375,-982.437 428.924,-971.147\"/>\n",
       "</g>\n",
       "<!-- 40 -->\n",
       "<g id=\"node41\" class=\"node\"><title>40</title>\n",
       "<ellipse fill=\"none\" stroke=\"black\" cx=\"498.697\" cy=\"-954\" rx=\"27\" ry=\"18\"/>\n",
       "<text text-anchor=\"middle\" x=\"498.697\" y=\"-950.3\" font-family=\"Times,serif\" font-size=\"14.00\">sin</text>\n",
       "</g>\n",
       "<!-- 6&#45;&#45;40 -->\n",
       "<g id=\"edge40\" class=\"edge\"><title>6&#45;&#45;40</title>\n",
       "<path fill=\"none\" stroke=\"black\" d=\"M468.742,-1008.76C475.043,-997.456 483.411,-982.437 489.7,-971.147\"/>\n",
       "</g>\n",
       "<!-- 8 -->\n",
       "<g id=\"node9\" class=\"node\"><title>8</title>\n",
       "<ellipse fill=\"none\" stroke=\"black\" cx=\"340.697\" cy=\"-882\" rx=\"27\" ry=\"18\"/>\n",
       "<text text-anchor=\"middle\" x=\"340.697\" y=\"-878.3\" font-family=\"Times,serif\" font-size=\"14.00\">sin</text>\n",
       "</g>\n",
       "<!-- 7&#45;&#45;8 -->\n",
       "<g id=\"edge8\" class=\"edge\"><title>7&#45;&#45;8</title>\n",
       "<path fill=\"none\" stroke=\"black\" d=\"M403.71,-938.834C389.914,-926.61 370.1,-909.054 356.39,-896.906\"/>\n",
       "</g>\n",
       "<!-- 38 -->\n",
       "<g id=\"node39\" class=\"node\"><title>38</title>\n",
       "<ellipse fill=\"none\" stroke=\"black\" cx=\"419.697\" cy=\"-882\" rx=\"27\" ry=\"18\"/>\n",
       "<text text-anchor=\"middle\" x=\"419.697\" y=\"-878.3\" font-family=\"Times,serif\" font-size=\"14.00\">sin</text>\n",
       "</g>\n",
       "<!-- 7&#45;&#45;38 -->\n",
       "<g id=\"edge38\" class=\"edge\"><title>7&#45;&#45;38</title>\n",
       "<path fill=\"none\" stroke=\"black\" d=\"M419.697,-935.697C419.697,-924.846 419.697,-910.917 419.697,-900.104\"/>\n",
       "</g>\n",
       "<!-- 9 -->\n",
       "<g id=\"node10\" class=\"node\"><title>9</title>\n",
       "<ellipse fill=\"none\" stroke=\"black\" cx=\"333.697\" cy=\"-810\" rx=\"27\" ry=\"18\"/>\n",
       "<text text-anchor=\"middle\" x=\"333.697\" y=\"-806.3\" font-family=\"Times,serif\" font-size=\"14.00\">sin</text>\n",
       "</g>\n",
       "<!-- 8&#45;&#45;9 -->\n",
       "<g id=\"edge9\" class=\"edge\"><title>8&#45;&#45;9</title>\n",
       "<path fill=\"none\" stroke=\"black\" d=\"M338.966,-863.697C337.881,-852.846 336.488,-838.917 335.407,-828.104\"/>\n",
       "</g>\n",
       "<!-- 10 -->\n",
       "<g id=\"node11\" class=\"node\"><title>10</title>\n",
       "<ellipse fill=\"none\" stroke=\"black\" cx=\"327.697\" cy=\"-738\" rx=\"28.6953\" ry=\"18\"/>\n",
       "<text text-anchor=\"middle\" x=\"327.697\" y=\"-734.3\" font-family=\"Times,serif\" font-size=\"14.00\">mul</text>\n",
       "</g>\n",
       "<!-- 9&#45;&#45;10 -->\n",
       "<g id=\"edge10\" class=\"edge\"><title>9&#45;&#45;10</title>\n",
       "<path fill=\"none\" stroke=\"black\" d=\"M332.214,-791.697C331.283,-780.846 330.09,-766.917 329.163,-756.104\"/>\n",
       "</g>\n",
       "<!-- 11 -->\n",
       "<g id=\"node12\" class=\"node\"><title>11</title>\n",
       "<ellipse fill=\"none\" stroke=\"black\" cx=\"242.697\" cy=\"-666\" rx=\"27.8951\" ry=\"18\"/>\n",
       "<text text-anchor=\"middle\" x=\"242.697\" y=\"-662.3\" font-family=\"Times,serif\" font-size=\"14.00\">add</text>\n",
       "</g>\n",
       "<!-- 10&#45;&#45;11 -->\n",
       "<g id=\"edge11\" class=\"edge\"><title>10&#45;&#45;11</title>\n",
       "<path fill=\"none\" stroke=\"black\" d=\"M310.903,-723.17C295.905,-710.819 274.065,-692.832 259.166,-680.563\"/>\n",
       "</g>\n",
       "<!-- 32 -->\n",
       "<g id=\"node33\" class=\"node\"><title>32</title>\n",
       "<ellipse fill=\"none\" stroke=\"black\" cx=\"327.697\" cy=\"-666\" rx=\"27.8951\" ry=\"18\"/>\n",
       "<text text-anchor=\"middle\" x=\"327.697\" y=\"-662.3\" font-family=\"Times,serif\" font-size=\"14.00\">add</text>\n",
       "</g>\n",
       "<!-- 10&#45;&#45;32 -->\n",
       "<g id=\"edge32\" class=\"edge\"><title>10&#45;&#45;32</title>\n",
       "<path fill=\"none\" stroke=\"black\" d=\"M327.697,-719.697C327.697,-708.846 327.697,-694.917 327.697,-684.104\"/>\n",
       "</g>\n",
       "<!-- 12 -->\n",
       "<g id=\"node13\" class=\"node\"><title>12</title>\n",
       "<ellipse fill=\"none\" stroke=\"black\" cx=\"169.697\" cy=\"-594\" rx=\"27\" ry=\"18\"/>\n",
       "<text text-anchor=\"middle\" x=\"169.697\" y=\"-590.3\" font-family=\"Times,serif\" font-size=\"14.00\">sin</text>\n",
       "</g>\n",
       "<!-- 11&#45;&#45;12 -->\n",
       "<g id=\"edge12\" class=\"edge\"><title>11&#45;&#45;12</title>\n",
       "<path fill=\"none\" stroke=\"black\" d=\"M227.571,-650.496C214.959,-638.402 197.09,-621.267 184.553,-609.246\"/>\n",
       "</g>\n",
       "<!-- 23 -->\n",
       "<g id=\"node24\" class=\"node\"><title>23</title>\n",
       "<ellipse fill=\"none\" stroke=\"black\" cx=\"242.697\" cy=\"-594\" rx=\"27\" ry=\"18\"/>\n",
       "<text text-anchor=\"middle\" x=\"242.697\" y=\"-590.3\" font-family=\"Times,serif\" font-size=\"14.00\">sin</text>\n",
       "</g>\n",
       "<!-- 11&#45;&#45;23 -->\n",
       "<g id=\"edge23\" class=\"edge\"><title>11&#45;&#45;23</title>\n",
       "<path fill=\"none\" stroke=\"black\" d=\"M242.697,-647.697C242.697,-636.846 242.697,-622.917 242.697,-612.104\"/>\n",
       "</g>\n",
       "<!-- 13 -->\n",
       "<g id=\"node14\" class=\"node\"><title>13</title>\n",
       "<ellipse fill=\"none\" stroke=\"black\" cx=\"169.697\" cy=\"-522\" rx=\"27\" ry=\"18\"/>\n",
       "<text text-anchor=\"middle\" x=\"169.697\" y=\"-518.3\" font-family=\"Times,serif\" font-size=\"14.00\">sin</text>\n",
       "</g>\n",
       "<!-- 12&#45;&#45;13 -->\n",
       "<g id=\"edge13\" class=\"edge\"><title>12&#45;&#45;13</title>\n",
       "<path fill=\"none\" stroke=\"black\" d=\"M169.697,-575.697C169.697,-564.846 169.697,-550.917 169.697,-540.104\"/>\n",
       "</g>\n",
       "<!-- 14 -->\n",
       "<g id=\"node15\" class=\"node\"><title>14</title>\n",
       "<ellipse fill=\"none\" stroke=\"black\" cx=\"168.697\" cy=\"-450\" rx=\"27\" ry=\"18\"/>\n",
       "<text text-anchor=\"middle\" x=\"168.697\" y=\"-446.3\" font-family=\"Times,serif\" font-size=\"14.00\">sin</text>\n",
       "</g>\n",
       "<!-- 13&#45;&#45;14 -->\n",
       "<g id=\"edge14\" class=\"edge\"><title>13&#45;&#45;14</title>\n",
       "<path fill=\"none\" stroke=\"black\" d=\"M169.449,-503.697C169.294,-492.846 169.095,-478.917 168.941,-468.104\"/>\n",
       "</g>\n",
       "<!-- 15 -->\n",
       "<g id=\"node16\" class=\"node\"><title>15</title>\n",
       "<ellipse fill=\"none\" stroke=\"black\" cx=\"167.697\" cy=\"-378\" rx=\"27.8951\" ry=\"18\"/>\n",
       "<text text-anchor=\"middle\" x=\"167.697\" y=\"-374.3\" font-family=\"Times,serif\" font-size=\"14.00\">add</text>\n",
       "</g>\n",
       "<!-- 14&#45;&#45;15 -->\n",
       "<g id=\"edge15\" class=\"edge\"><title>14&#45;&#45;15</title>\n",
       "<path fill=\"none\" stroke=\"black\" d=\"M168.449,-431.697C168.294,-420.846 168.095,-406.917 167.941,-396.104\"/>\n",
       "</g>\n",
       "<!-- 16 -->\n",
       "<g id=\"node17\" class=\"node\"><title>16</title>\n",
       "<ellipse fill=\"none\" stroke=\"black\" cx=\"86.6967\" cy=\"-306\" rx=\"27\" ry=\"18\"/>\n",
       "<text text-anchor=\"middle\" x=\"86.6967\" y=\"-302.3\" font-family=\"Times,serif\" font-size=\"14.00\">sin</text>\n",
       "</g>\n",
       "<!-- 15&#45;&#45;16 -->\n",
       "<g id=\"edge16\" class=\"edge\"><title>15&#45;&#45;16</title>\n",
       "<path fill=\"none\" stroke=\"black\" d=\"M151.694,-363.17C137.493,-350.898 116.857,-333.064 102.666,-320.801\"/>\n",
       "</g>\n",
       "<!-- 20 -->\n",
       "<g id=\"node21\" class=\"node\"><title>20</title>\n",
       "<ellipse fill=\"none\" stroke=\"black\" cx=\"167.697\" cy=\"-306\" rx=\"27.8951\" ry=\"18\"/>\n",
       "<text text-anchor=\"middle\" x=\"167.697\" y=\"-302.3\" font-family=\"Times,serif\" font-size=\"14.00\">add</text>\n",
       "</g>\n",
       "<!-- 15&#45;&#45;20 -->\n",
       "<g id=\"edge20\" class=\"edge\"><title>15&#45;&#45;20</title>\n",
       "<path fill=\"none\" stroke=\"black\" d=\"M167.697,-359.697C167.697,-348.846 167.697,-334.917 167.697,-324.104\"/>\n",
       "</g>\n",
       "<!-- 17 -->\n",
       "<g id=\"node18\" class=\"node\"><title>17</title>\n",
       "<ellipse fill=\"none\" stroke=\"black\" cx=\"37.6967\" cy=\"-234\" rx=\"27\" ry=\"18\"/>\n",
       "<text text-anchor=\"middle\" x=\"37.6967\" y=\"-230.3\" font-family=\"Times,serif\" font-size=\"14.00\">sin</text>\n",
       "</g>\n",
       "<!-- 16&#45;&#45;17 -->\n",
       "<g id=\"edge17\" class=\"edge\"><title>16&#45;&#45;17</title>\n",
       "<path fill=\"none\" stroke=\"black\" d=\"M75.822,-289.465C67.7018,-277.865 56.6538,-262.082 48.5409,-250.492\"/>\n",
       "</g>\n",
       "<!-- 18 -->\n",
       "<g id=\"node19\" class=\"node\"><title>18</title>\n",
       "<ellipse fill=\"none\" stroke=\"black\" cx=\"37.6967\" cy=\"-162\" rx=\"27\" ry=\"18\"/>\n",
       "<text text-anchor=\"middle\" x=\"37.6967\" y=\"-158.3\" font-family=\"Times,serif\" font-size=\"14.00\">sin</text>\n",
       "</g>\n",
       "<!-- 17&#45;&#45;18 -->\n",
       "<g id=\"edge18\" class=\"edge\"><title>17&#45;&#45;18</title>\n",
       "<path fill=\"none\" stroke=\"black\" d=\"M37.6967,-215.697C37.6967,-204.846 37.6967,-190.917 37.6967,-180.104\"/>\n",
       "</g>\n",
       "<!-- 19 -->\n",
       "<g id=\"node20\" class=\"node\"><title>19</title>\n",
       "<ellipse fill=\"none\" stroke=\"black\" cx=\"37.6967\" cy=\"-90\" rx=\"37.8943\" ry=\"18\"/>\n",
       "<text text-anchor=\"middle\" x=\"37.6967\" y=\"-86.3\" font-family=\"Times,serif\" font-size=\"14.00\">ARG0</text>\n",
       "</g>\n",
       "<!-- 18&#45;&#45;19 -->\n",
       "<g id=\"edge19\" class=\"edge\"><title>18&#45;&#45;19</title>\n",
       "<path fill=\"none\" stroke=\"black\" d=\"M37.6967,-143.697C37.6967,-132.846 37.6967,-118.917 37.6967,-108.104\"/>\n",
       "</g>\n",
       "<!-- 21 -->\n",
       "<g id=\"node22\" class=\"node\"><title>21</title>\n",
       "<ellipse fill=\"none\" stroke=\"black\" cx=\"120.697\" cy=\"-234\" rx=\"37.8943\" ry=\"18\"/>\n",
       "<text text-anchor=\"middle\" x=\"120.697\" y=\"-230.3\" font-family=\"Times,serif\" font-size=\"14.00\">ARG0</text>\n",
       "</g>\n",
       "<!-- 20&#45;&#45;21 -->\n",
       "<g id=\"edge21\" class=\"edge\"><title>20&#45;&#45;21</title>\n",
       "<path fill=\"none\" stroke=\"black\" d=\"M157.032,-289.116C149.448,-277.821 139.292,-262.696 131.646,-251.307\"/>\n",
       "</g>\n",
       "<!-- 22 -->\n",
       "<g id=\"node23\" class=\"node\"><title>22</title>\n",
       "<ellipse fill=\"none\" stroke=\"black\" cx=\"213.697\" cy=\"-234\" rx=\"37.8943\" ry=\"18\"/>\n",
       "<text text-anchor=\"middle\" x=\"213.697\" y=\"-230.3\" font-family=\"Times,serif\" font-size=\"14.00\">ARG0</text>\n",
       "</g>\n",
       "<!-- 20&#45;&#45;22 -->\n",
       "<g id=\"edge22\" class=\"edge\"><title>20&#45;&#45;22</title>\n",
       "<path fill=\"none\" stroke=\"black\" d=\"M178.135,-289.116C185.557,-277.821 195.497,-262.696 202.981,-251.307\"/>\n",
       "</g>\n",
       "<!-- 24 -->\n",
       "<g id=\"node25\" class=\"node\"><title>24</title>\n",
       "<ellipse fill=\"none\" stroke=\"black\" cx=\"243.697\" cy=\"-522\" rx=\"27\" ry=\"18\"/>\n",
       "<text text-anchor=\"middle\" x=\"243.697\" y=\"-518.3\" font-family=\"Times,serif\" font-size=\"14.00\">sin</text>\n",
       "</g>\n",
       "<!-- 23&#45;&#45;24 -->\n",
       "<g id=\"edge24\" class=\"edge\"><title>23&#45;&#45;24</title>\n",
       "<path fill=\"none\" stroke=\"black\" d=\"M242.944,-575.697C243.099,-564.846 243.298,-550.917 243.452,-540.104\"/>\n",
       "</g>\n",
       "<!-- 25 -->\n",
       "<g id=\"node26\" class=\"node\"><title>25</title>\n",
       "<ellipse fill=\"none\" stroke=\"black\" cx=\"245.697\" cy=\"-450\" rx=\"27\" ry=\"18\"/>\n",
       "<text text-anchor=\"middle\" x=\"245.697\" y=\"-446.3\" font-family=\"Times,serif\" font-size=\"14.00\">sin</text>\n",
       "</g>\n",
       "<!-- 24&#45;&#45;25 -->\n",
       "<g id=\"edge25\" class=\"edge\"><title>24&#45;&#45;25</title>\n",
       "<path fill=\"none\" stroke=\"black\" d=\"M244.191,-503.697C244.501,-492.846 244.899,-478.917 245.208,-468.104\"/>\n",
       "</g>\n",
       "<!-- 26 -->\n",
       "<g id=\"node27\" class=\"node\"><title>26</title>\n",
       "<ellipse fill=\"none\" stroke=\"black\" cx=\"248.697\" cy=\"-378\" rx=\"27\" ry=\"18\"/>\n",
       "<text text-anchor=\"middle\" x=\"248.697\" y=\"-374.3\" font-family=\"Times,serif\" font-size=\"14.00\">sin</text>\n",
       "</g>\n",
       "<!-- 25&#45;&#45;26 -->\n",
       "<g id=\"edge26\" class=\"edge\"><title>25&#45;&#45;26</title>\n",
       "<path fill=\"none\" stroke=\"black\" d=\"M246.438,-431.697C246.903,-420.846 247.5,-406.917 247.964,-396.104\"/>\n",
       "</g>\n",
       "<!-- 27 -->\n",
       "<g id=\"node28\" class=\"node\"><title>27</title>\n",
       "<ellipse fill=\"none\" stroke=\"black\" cx=\"296.697\" cy=\"-306\" rx=\"27.8951\" ry=\"18\"/>\n",
       "<text text-anchor=\"middle\" x=\"296.697\" y=\"-302.3\" font-family=\"Times,serif\" font-size=\"14.00\">add</text>\n",
       "</g>\n",
       "<!-- 26&#45;&#45;27 -->\n",
       "<g id=\"edge27\" class=\"edge\"><title>26&#45;&#45;27</title>\n",
       "<path fill=\"none\" stroke=\"black\" d=\"M259.589,-361.116C267.444,-349.66 278.002,-334.263 285.848,-322.821\"/>\n",
       "</g>\n",
       "<!-- 28 -->\n",
       "<g id=\"node29\" class=\"node\"><title>28</title>\n",
       "<ellipse fill=\"none\" stroke=\"black\" cx=\"296.697\" cy=\"-234\" rx=\"27\" ry=\"18\"/>\n",
       "<text text-anchor=\"middle\" x=\"296.697\" y=\"-230.3\" font-family=\"Times,serif\" font-size=\"14.00\">sin</text>\n",
       "</g>\n",
       "<!-- 27&#45;&#45;28 -->\n",
       "<g id=\"edge28\" class=\"edge\"><title>27&#45;&#45;28</title>\n",
       "<path fill=\"none\" stroke=\"black\" d=\"M296.697,-287.697C296.697,-276.846 296.697,-262.917 296.697,-252.104\"/>\n",
       "</g>\n",
       "<!-- 30 -->\n",
       "<g id=\"node31\" class=\"node\"><title>30</title>\n",
       "<ellipse fill=\"none\" stroke=\"black\" cx=\"378.697\" cy=\"-234\" rx=\"27\" ry=\"18\"/>\n",
       "<text text-anchor=\"middle\" x=\"378.697\" y=\"-230.3\" font-family=\"Times,serif\" font-size=\"14.00\">sin</text>\n",
       "</g>\n",
       "<!-- 27&#45;&#45;30 -->\n",
       "<g id=\"edge30\" class=\"edge\"><title>27&#45;&#45;30</title>\n",
       "<path fill=\"none\" stroke=\"black\" d=\"M312.897,-291.17C327.366,-278.819 348.436,-260.832 362.809,-248.563\"/>\n",
       "</g>\n",
       "<!-- 29 -->\n",
       "<g id=\"node30\" class=\"node\"><title>29</title>\n",
       "<ellipse fill=\"none\" stroke=\"black\" cx=\"287.697\" cy=\"-162\" rx=\"37.8943\" ry=\"18\"/>\n",
       "<text text-anchor=\"middle\" x=\"287.697\" y=\"-158.3\" font-family=\"Times,serif\" font-size=\"14.00\">ARG0</text>\n",
       "</g>\n",
       "<!-- 28&#45;&#45;29 -->\n",
       "<g id=\"edge29\" class=\"edge\"><title>28&#45;&#45;29</title>\n",
       "<path fill=\"none\" stroke=\"black\" d=\"M294.518,-216.055C293.124,-205.211 291.32,-191.183 289.918,-180.275\"/>\n",
       "</g>\n",
       "<!-- 31 -->\n",
       "<g id=\"node32\" class=\"node\"><title>31</title>\n",
       "<ellipse fill=\"none\" stroke=\"black\" cx=\"380.697\" cy=\"-162\" rx=\"37.8943\" ry=\"18\"/>\n",
       "<text text-anchor=\"middle\" x=\"380.697\" y=\"-158.3\" font-family=\"Times,serif\" font-size=\"14.00\">ARG0</text>\n",
       "</g>\n",
       "<!-- 30&#45;&#45;31 -->\n",
       "<g id=\"edge31\" class=\"edge\"><title>30&#45;&#45;31</title>\n",
       "<path fill=\"none\" stroke=\"black\" d=\"M379.191,-215.697C379.501,-204.846 379.899,-190.917 380.208,-180.104\"/>\n",
       "</g>\n",
       "<!-- 33 -->\n",
       "<g id=\"node34\" class=\"node\"><title>33</title>\n",
       "<ellipse fill=\"none\" stroke=\"black\" cx=\"325.697\" cy=\"-594\" rx=\"37.8943\" ry=\"18\"/>\n",
       "<text text-anchor=\"middle\" x=\"325.697\" y=\"-590.3\" font-family=\"Times,serif\" font-size=\"14.00\">ARG0</text>\n",
       "</g>\n",
       "<!-- 32&#45;&#45;33 -->\n",
       "<g id=\"edge33\" class=\"edge\"><title>32&#45;&#45;33</title>\n",
       "<path fill=\"none\" stroke=\"black\" d=\"M327.202,-647.697C326.892,-636.846 326.494,-622.917 326.185,-612.104\"/>\n",
       "</g>\n",
       "<!-- 34 -->\n",
       "<g id=\"node35\" class=\"node\"><title>34</title>\n",
       "<ellipse fill=\"none\" stroke=\"black\" cx=\"408.697\" cy=\"-594\" rx=\"27\" ry=\"18\"/>\n",
       "<text text-anchor=\"middle\" x=\"408.697\" y=\"-590.3\" font-family=\"Times,serif\" font-size=\"14.00\">sin</text>\n",
       "</g>\n",
       "<!-- 32&#45;&#45;34 -->\n",
       "<g id=\"edge34\" class=\"edge\"><title>32&#45;&#45;34</title>\n",
       "<path fill=\"none\" stroke=\"black\" d=\"M343.7,-651.17C357.9,-638.898 378.537,-621.064 392.727,-608.801\"/>\n",
       "</g>\n",
       "<!-- 35 -->\n",
       "<g id=\"node36\" class=\"node\"><title>35</title>\n",
       "<ellipse fill=\"none\" stroke=\"black\" cx=\"339.697\" cy=\"-522\" rx=\"27.8951\" ry=\"18\"/>\n",
       "<text text-anchor=\"middle\" x=\"339.697\" y=\"-518.3\" font-family=\"Times,serif\" font-size=\"14.00\">add</text>\n",
       "</g>\n",
       "<!-- 34&#45;&#45;35 -->\n",
       "<g id=\"edge35\" class=\"edge\"><title>34&#45;&#45;35</title>\n",
       "<path fill=\"none\" stroke=\"black\" d=\"M394.4,-578.496C382.558,-566.482 365.812,-549.494 353.975,-537.485\"/>\n",
       "</g>\n",
       "<!-- 36 -->\n",
       "<g id=\"node37\" class=\"node\"><title>36</title>\n",
       "<ellipse fill=\"none\" stroke=\"black\" cx=\"337.697\" cy=\"-450\" rx=\"37.8943\" ry=\"18\"/>\n",
       "<text text-anchor=\"middle\" x=\"337.697\" y=\"-446.3\" font-family=\"Times,serif\" font-size=\"14.00\">ARG0</text>\n",
       "</g>\n",
       "<!-- 35&#45;&#45;36 -->\n",
       "<g id=\"edge36\" class=\"edge\"><title>35&#45;&#45;36</title>\n",
       "<path fill=\"none\" stroke=\"black\" d=\"M339.202,-503.697C338.892,-492.846 338.494,-478.917 338.185,-468.104\"/>\n",
       "</g>\n",
       "<!-- 37 -->\n",
       "<g id=\"node38\" class=\"node\"><title>37</title>\n",
       "<ellipse fill=\"none\" stroke=\"black\" cx=\"430.697\" cy=\"-450\" rx=\"37.8943\" ry=\"18\"/>\n",
       "<text text-anchor=\"middle\" x=\"430.697\" y=\"-446.3\" font-family=\"Times,serif\" font-size=\"14.00\">ARG0</text>\n",
       "</g>\n",
       "<!-- 35&#45;&#45;37 -->\n",
       "<g id=\"edge37\" class=\"edge\"><title>35&#45;&#45;37</title>\n",
       "<path fill=\"none\" stroke=\"black\" d=\"M357.242,-507.503C372.84,-495.505 395.593,-478.003 411.634,-465.664\"/>\n",
       "</g>\n",
       "<!-- 39 -->\n",
       "<g id=\"node40\" class=\"node\"><title>39</title>\n",
       "<ellipse fill=\"none\" stroke=\"black\" cx=\"419.697\" cy=\"-810\" rx=\"37.8943\" ry=\"18\"/>\n",
       "<text text-anchor=\"middle\" x=\"419.697\" y=\"-806.3\" font-family=\"Times,serif\" font-size=\"14.00\">ARG0</text>\n",
       "</g>\n",
       "<!-- 38&#45;&#45;39 -->\n",
       "<g id=\"edge39\" class=\"edge\"><title>38&#45;&#45;39</title>\n",
       "<path fill=\"none\" stroke=\"black\" d=\"M419.697,-863.697C419.697,-852.846 419.697,-838.917 419.697,-828.104\"/>\n",
       "</g>\n",
       "<!-- 41 -->\n",
       "<g id=\"node42\" class=\"node\"><title>41</title>\n",
       "<ellipse fill=\"none\" stroke=\"black\" cx=\"504.697\" cy=\"-882\" rx=\"27.8951\" ry=\"18\"/>\n",
       "<text text-anchor=\"middle\" x=\"504.697\" y=\"-878.3\" font-family=\"Times,serif\" font-size=\"14.00\">add</text>\n",
       "</g>\n",
       "<!-- 40&#45;&#45;41 -->\n",
       "<g id=\"edge41\" class=\"edge\"><title>40&#45;&#45;41</title>\n",
       "<path fill=\"none\" stroke=\"black\" d=\"M500.18,-935.697C501.11,-924.846 502.304,-910.917 503.231,-900.104\"/>\n",
       "</g>\n",
       "<!-- 42 -->\n",
       "<g id=\"node43\" class=\"node\"><title>42</title>\n",
       "<ellipse fill=\"none\" stroke=\"black\" cx=\"504.697\" cy=\"-810\" rx=\"27\" ry=\"18\"/>\n",
       "<text text-anchor=\"middle\" x=\"504.697\" y=\"-806.3\" font-family=\"Times,serif\" font-size=\"14.00\">sin</text>\n",
       "</g>\n",
       "<!-- 41&#45;&#45;42 -->\n",
       "<g id=\"edge42\" class=\"edge\"><title>41&#45;&#45;42</title>\n",
       "<path fill=\"none\" stroke=\"black\" d=\"M504.697,-863.697C504.697,-852.846 504.697,-838.917 504.697,-828.104\"/>\n",
       "</g>\n",
       "<!-- 48 -->\n",
       "<g id=\"node49\" class=\"node\"><title>48</title>\n",
       "<ellipse fill=\"none\" stroke=\"black\" cx=\"596.697\" cy=\"-810\" rx=\"27\" ry=\"18\"/>\n",
       "<text text-anchor=\"middle\" x=\"596.697\" y=\"-806.3\" font-family=\"Times,serif\" font-size=\"14.00\">sin</text>\n",
       "</g>\n",
       "<!-- 41&#45;&#45;48 -->\n",
       "<g id=\"edge48\" class=\"edge\"><title>41&#45;&#45;48</title>\n",
       "<path fill=\"none\" stroke=\"black\" d=\"M522.001,-867.834C538.449,-855.319 563.047,-836.603 579.47,-824.107\"/>\n",
       "</g>\n",
       "<!-- 43 -->\n",
       "<g id=\"node44\" class=\"node\"><title>43</title>\n",
       "<ellipse fill=\"none\" stroke=\"black\" cx=\"504.697\" cy=\"-738\" rx=\"27\" ry=\"18\"/>\n",
       "<text text-anchor=\"middle\" x=\"504.697\" y=\"-734.3\" font-family=\"Times,serif\" font-size=\"14.00\">sin</text>\n",
       "</g>\n",
       "<!-- 42&#45;&#45;43 -->\n",
       "<g id=\"edge43\" class=\"edge\"><title>42&#45;&#45;43</title>\n",
       "<path fill=\"none\" stroke=\"black\" d=\"M504.697,-791.697C504.697,-780.846 504.697,-766.917 504.697,-756.104\"/>\n",
       "</g>\n",
       "<!-- 44 -->\n",
       "<g id=\"node45\" class=\"node\"><title>44</title>\n",
       "<ellipse fill=\"none\" stroke=\"black\" cx=\"504.697\" cy=\"-666\" rx=\"27\" ry=\"18\"/>\n",
       "<text text-anchor=\"middle\" x=\"504.697\" y=\"-662.3\" font-family=\"Times,serif\" font-size=\"14.00\">sin</text>\n",
       "</g>\n",
       "<!-- 43&#45;&#45;44 -->\n",
       "<g id=\"edge44\" class=\"edge\"><title>43&#45;&#45;44</title>\n",
       "<path fill=\"none\" stroke=\"black\" d=\"M504.697,-719.697C504.697,-708.846 504.697,-694.917 504.697,-684.104\"/>\n",
       "</g>\n",
       "<!-- 45 -->\n",
       "<g id=\"node46\" class=\"node\"><title>45</title>\n",
       "<ellipse fill=\"none\" stroke=\"black\" cx=\"504.697\" cy=\"-594\" rx=\"28.6953\" ry=\"18\"/>\n",
       "<text text-anchor=\"middle\" x=\"504.697\" y=\"-590.3\" font-family=\"Times,serif\" font-size=\"14.00\">mul</text>\n",
       "</g>\n",
       "<!-- 44&#45;&#45;45 -->\n",
       "<g id=\"edge45\" class=\"edge\"><title>44&#45;&#45;45</title>\n",
       "<path fill=\"none\" stroke=\"black\" d=\"M504.697,-647.697C504.697,-636.846 504.697,-622.917 504.697,-612.104\"/>\n",
       "</g>\n",
       "<!-- 46 -->\n",
       "<g id=\"node47\" class=\"node\"><title>46</title>\n",
       "<ellipse fill=\"none\" stroke=\"black\" cx=\"423.697\" cy=\"-522\" rx=\"37.8943\" ry=\"18\"/>\n",
       "<text text-anchor=\"middle\" x=\"423.697\" y=\"-518.3\" font-family=\"Times,serif\" font-size=\"14.00\">ARG0</text>\n",
       "</g>\n",
       "<!-- 45&#45;&#45;46 -->\n",
       "<g id=\"edge46\" class=\"edge\"><title>45&#45;&#45;46</title>\n",
       "<path fill=\"none\" stroke=\"black\" d=\"M488.305,-578.834C474.622,-567.009 455.166,-550.196 441.185,-538.114\"/>\n",
       "</g>\n",
       "<!-- 47 -->\n",
       "<g id=\"node48\" class=\"node\"><title>47</title>\n",
       "<ellipse fill=\"none\" stroke=\"black\" cx=\"516.697\" cy=\"-522\" rx=\"37.8943\" ry=\"18\"/>\n",
       "<text text-anchor=\"middle\" x=\"516.697\" y=\"-518.3\" font-family=\"Times,serif\" font-size=\"14.00\">ARG0</text>\n",
       "</g>\n",
       "<!-- 45&#45;&#45;47 -->\n",
       "<g id=\"edge47\" class=\"edge\"><title>45&#45;&#45;47</title>\n",
       "<path fill=\"none\" stroke=\"black\" d=\"M507.602,-576.055C509.46,-565.211 511.865,-551.183 513.735,-540.275\"/>\n",
       "</g>\n",
       "<!-- 49 -->\n",
       "<g id=\"node50\" class=\"node\"><title>49</title>\n",
       "<ellipse fill=\"none\" stroke=\"black\" cx=\"617.697\" cy=\"-738\" rx=\"27.8951\" ry=\"18\"/>\n",
       "<text text-anchor=\"middle\" x=\"617.697\" y=\"-734.3\" font-family=\"Times,serif\" font-size=\"14.00\">add</text>\n",
       "</g>\n",
       "<!-- 48&#45;&#45;49 -->\n",
       "<g id=\"edge49\" class=\"edge\"><title>48&#45;&#45;49</title>\n",
       "<path fill=\"none\" stroke=\"black\" d=\"M601.78,-792.055C605.082,-781.049 609.368,-766.764 612.66,-755.789\"/>\n",
       "</g>\n",
       "<!-- 50 -->\n",
       "<g id=\"node51\" class=\"node\"><title>50</title>\n",
       "<ellipse fill=\"none\" stroke=\"black\" cx=\"617.697\" cy=\"-666\" rx=\"27.8951\" ry=\"18\"/>\n",
       "<text text-anchor=\"middle\" x=\"617.697\" y=\"-662.3\" font-family=\"Times,serif\" font-size=\"14.00\">add</text>\n",
       "</g>\n",
       "<!-- 49&#45;&#45;50 -->\n",
       "<g id=\"edge50\" class=\"edge\"><title>49&#45;&#45;50</title>\n",
       "<path fill=\"none\" stroke=\"black\" d=\"M617.697,-719.697C617.697,-708.846 617.697,-694.917 617.697,-684.104\"/>\n",
       "</g>\n",
       "<!-- 68 -->\n",
       "<g id=\"node69\" class=\"node\"><title>68</title>\n",
       "<ellipse fill=\"none\" stroke=\"black\" cx=\"727.697\" cy=\"-666\" rx=\"27\" ry=\"18\"/>\n",
       "<text text-anchor=\"middle\" x=\"727.697\" y=\"-662.3\" font-family=\"Times,serif\" font-size=\"14.00\">sin</text>\n",
       "</g>\n",
       "<!-- 49&#45;&#45;68 -->\n",
       "<g id=\"edge68\" class=\"edge\"><title>49&#45;&#45;68</title>\n",
       "<path fill=\"none\" stroke=\"black\" d=\"M636.857,-724.807C657.047,-711.959 688.649,-691.848 708.756,-679.053\"/>\n",
       "</g>\n",
       "<!-- 51 -->\n",
       "<g id=\"node52\" class=\"node\"><title>51</title>\n",
       "<ellipse fill=\"none\" stroke=\"black\" cx=\"599.697\" cy=\"-594\" rx=\"27\" ry=\"18\"/>\n",
       "<text text-anchor=\"middle\" x=\"599.697\" y=\"-590.3\" font-family=\"Times,serif\" font-size=\"14.00\">sin</text>\n",
       "</g>\n",
       "<!-- 50&#45;&#45;51 -->\n",
       "<g id=\"edge51\" class=\"edge\"><title>50&#45;&#45;51</title>\n",
       "<path fill=\"none\" stroke=\"black\" d=\"M613.339,-648.055C610.509,-637.049 606.836,-622.764 604.014,-611.789\"/>\n",
       "</g>\n",
       "<!-- 64 -->\n",
       "<g id=\"node65\" class=\"node\"><title>64</title>\n",
       "<ellipse fill=\"none\" stroke=\"black\" cx=\"671.697\" cy=\"-594\" rx=\"27\" ry=\"18\"/>\n",
       "<text text-anchor=\"middle\" x=\"671.697\" y=\"-590.3\" font-family=\"Times,serif\" font-size=\"14.00\">sin</text>\n",
       "</g>\n",
       "<!-- 50&#45;&#45;64 -->\n",
       "<g id=\"edge64\" class=\"edge\"><title>50&#45;&#45;64</title>\n",
       "<path fill=\"none\" stroke=\"black\" d=\"M629.681,-649.465C638.63,-637.865 650.805,-622.082 659.746,-610.492\"/>\n",
       "</g>\n",
       "<!-- 52 -->\n",
       "<g id=\"node53\" class=\"node\"><title>52</title>\n",
       "<ellipse fill=\"none\" stroke=\"black\" cx=\"599.697\" cy=\"-522\" rx=\"27\" ry=\"18\"/>\n",
       "<text text-anchor=\"middle\" x=\"599.697\" y=\"-518.3\" font-family=\"Times,serif\" font-size=\"14.00\">sin</text>\n",
       "</g>\n",
       "<!-- 51&#45;&#45;52 -->\n",
       "<g id=\"edge52\" class=\"edge\"><title>51&#45;&#45;52</title>\n",
       "<path fill=\"none\" stroke=\"black\" d=\"M599.697,-575.697C599.697,-564.846 599.697,-550.917 599.697,-540.104\"/>\n",
       "</g>\n",
       "<!-- 53 -->\n",
       "<g id=\"node54\" class=\"node\"><title>53</title>\n",
       "<ellipse fill=\"none\" stroke=\"black\" cx=\"594.697\" cy=\"-450\" rx=\"27\" ry=\"18\"/>\n",
       "<text text-anchor=\"middle\" x=\"594.697\" y=\"-446.3\" font-family=\"Times,serif\" font-size=\"14.00\">sin</text>\n",
       "</g>\n",
       "<!-- 52&#45;&#45;53 -->\n",
       "<g id=\"edge53\" class=\"edge\"><title>52&#45;&#45;53</title>\n",
       "<path fill=\"none\" stroke=\"black\" d=\"M598.461,-503.697C597.686,-492.846 596.691,-478.917 595.918,-468.104\"/>\n",
       "</g>\n",
       "<!-- 54 -->\n",
       "<g id=\"node55\" class=\"node\"><title>54</title>\n",
       "<ellipse fill=\"none\" stroke=\"black\" cx=\"591.697\" cy=\"-378\" rx=\"27\" ry=\"18\"/>\n",
       "<text text-anchor=\"middle\" x=\"591.697\" y=\"-374.3\" font-family=\"Times,serif\" font-size=\"14.00\">sin</text>\n",
       "</g>\n",
       "<!-- 53&#45;&#45;54 -->\n",
       "<g id=\"edge54\" class=\"edge\"><title>53&#45;&#45;54</title>\n",
       "<path fill=\"none\" stroke=\"black\" d=\"M593.955,-431.697C593.49,-420.846 592.893,-406.917 592.43,-396.104\"/>\n",
       "</g>\n",
       "<!-- 55 -->\n",
       "<g id=\"node56\" class=\"node\"><title>55</title>\n",
       "<ellipse fill=\"none\" stroke=\"black\" cx=\"591.697\" cy=\"-306\" rx=\"28.6953\" ry=\"18\"/>\n",
       "<text text-anchor=\"middle\" x=\"591.697\" y=\"-302.3\" font-family=\"Times,serif\" font-size=\"14.00\">mul</text>\n",
       "</g>\n",
       "<!-- 54&#45;&#45;55 -->\n",
       "<g id=\"edge55\" class=\"edge\"><title>54&#45;&#45;55</title>\n",
       "<path fill=\"none\" stroke=\"black\" d=\"M591.697,-359.697C591.697,-348.846 591.697,-334.917 591.697,-324.104\"/>\n",
       "</g>\n",
       "<!-- 56 -->\n",
       "<g id=\"node57\" class=\"node\"><title>56</title>\n",
       "<ellipse fill=\"none\" stroke=\"black\" cx=\"571.697\" cy=\"-234\" rx=\"28.6953\" ry=\"18\"/>\n",
       "<text text-anchor=\"middle\" x=\"571.697\" y=\"-230.3\" font-family=\"Times,serif\" font-size=\"14.00\">mul</text>\n",
       "</g>\n",
       "<!-- 55&#45;&#45;56 -->\n",
       "<g id=\"edge56\" class=\"edge\"><title>55&#45;&#45;56</title>\n",
       "<path fill=\"none\" stroke=\"black\" d=\"M586.855,-288.055C583.711,-277.049 579.629,-262.764 576.494,-251.789\"/>\n",
       "</g>\n",
       "<!-- 59 -->\n",
       "<g id=\"node60\" class=\"node\"><title>59</title>\n",
       "<ellipse fill=\"none\" stroke=\"black\" cx=\"650.697\" cy=\"-234\" rx=\"27\" ry=\"18\"/>\n",
       "<text text-anchor=\"middle\" x=\"650.697\" y=\"-230.3\" font-family=\"Times,serif\" font-size=\"14.00\">sin</text>\n",
       "</g>\n",
       "<!-- 55&#45;&#45;59 -->\n",
       "<g id=\"edge59\" class=\"edge\"><title>55&#45;&#45;59</title>\n",
       "<path fill=\"none\" stroke=\"black\" d=\"M604.499,-289.811C614.395,-278.07 628.03,-261.893 637.92,-250.159\"/>\n",
       "</g>\n",
       "<!-- 57 -->\n",
       "<g id=\"node58\" class=\"node\"><title>57</title>\n",
       "<ellipse fill=\"none\" stroke=\"black\" cx=\"478.697\" cy=\"-162\" rx=\"37.8943\" ry=\"18\"/>\n",
       "<text text-anchor=\"middle\" x=\"478.697\" y=\"-158.3\" font-family=\"Times,serif\" font-size=\"14.00\">ARG0</text>\n",
       "</g>\n",
       "<!-- 56&#45;&#45;57 -->\n",
       "<g id=\"edge57\" class=\"edge\"><title>56&#45;&#45;57</title>\n",
       "<path fill=\"none\" stroke=\"black\" d=\"M553.765,-219.503C537.825,-207.505 514.572,-190.003 498.178,-177.664\"/>\n",
       "</g>\n",
       "<!-- 58 -->\n",
       "<g id=\"node59\" class=\"node\"><title>58</title>\n",
       "<ellipse fill=\"none\" stroke=\"black\" cx=\"571.697\" cy=\"-162\" rx=\"37.8943\" ry=\"18\"/>\n",
       "<text text-anchor=\"middle\" x=\"571.697\" y=\"-158.3\" font-family=\"Times,serif\" font-size=\"14.00\">ARG0</text>\n",
       "</g>\n",
       "<!-- 56&#45;&#45;58 -->\n",
       "<g id=\"edge58\" class=\"edge\"><title>56&#45;&#45;58</title>\n",
       "<path fill=\"none\" stroke=\"black\" d=\"M571.697,-215.697C571.697,-204.846 571.697,-190.917 571.697,-180.104\"/>\n",
       "</g>\n",
       "<!-- 60 -->\n",
       "<g id=\"node61\" class=\"node\"><title>60</title>\n",
       "<ellipse fill=\"none\" stroke=\"black\" cx=\"654.697\" cy=\"-162\" rx=\"27\" ry=\"18\"/>\n",
       "<text text-anchor=\"middle\" x=\"654.697\" y=\"-158.3\" font-family=\"Times,serif\" font-size=\"14.00\">sin</text>\n",
       "</g>\n",
       "<!-- 59&#45;&#45;60 -->\n",
       "<g id=\"edge60\" class=\"edge\"><title>59&#45;&#45;60</title>\n",
       "<path fill=\"none\" stroke=\"black\" d=\"M651.685,-215.697C652.305,-204.846 653.101,-190.917 653.719,-180.104\"/>\n",
       "</g>\n",
       "<!-- 61 -->\n",
       "<g id=\"node62\" class=\"node\"><title>61</title>\n",
       "<ellipse fill=\"none\" stroke=\"black\" cx=\"654.697\" cy=\"-90\" rx=\"28.6953\" ry=\"18\"/>\n",
       "<text text-anchor=\"middle\" x=\"654.697\" y=\"-86.3\" font-family=\"Times,serif\" font-size=\"14.00\">mul</text>\n",
       "</g>\n",
       "<!-- 60&#45;&#45;61 -->\n",
       "<g id=\"edge61\" class=\"edge\"><title>60&#45;&#45;61</title>\n",
       "<path fill=\"none\" stroke=\"black\" d=\"M654.697,-143.697C654.697,-132.846 654.697,-118.917 654.697,-108.104\"/>\n",
       "</g>\n",
       "<!-- 62 -->\n",
       "<g id=\"node63\" class=\"node\"><title>62</title>\n",
       "<ellipse fill=\"none\" stroke=\"black\" cx=\"608.697\" cy=\"-18\" rx=\"37.8943\" ry=\"18\"/>\n",
       "<text text-anchor=\"middle\" x=\"608.697\" y=\"-14.3\" font-family=\"Times,serif\" font-size=\"14.00\">ARG0</text>\n",
       "</g>\n",
       "<!-- 61&#45;&#45;62 -->\n",
       "<g id=\"edge62\" class=\"edge\"><title>61&#45;&#45;62</title>\n",
       "<path fill=\"none\" stroke=\"black\" d=\"M644.259,-73.1159C636.836,-61.8213 626.897,-46.6956 619.413,-35.307\"/>\n",
       "</g>\n",
       "<!-- 63 -->\n",
       "<g id=\"node64\" class=\"node\"><title>63</title>\n",
       "<ellipse fill=\"none\" stroke=\"black\" cx=\"701.697\" cy=\"-18\" rx=\"37.8943\" ry=\"18\"/>\n",
       "<text text-anchor=\"middle\" x=\"701.697\" y=\"-14.3\" font-family=\"Times,serif\" font-size=\"14.00\">ARG0</text>\n",
       "</g>\n",
       "<!-- 61&#45;&#45;63 -->\n",
       "<g id=\"edge63\" class=\"edge\"><title>61&#45;&#45;63</title>\n",
       "<path fill=\"none\" stroke=\"black\" d=\"M665.362,-73.1159C672.945,-61.8213 683.101,-46.6956 690.748,-35.307\"/>\n",
       "</g>\n",
       "<!-- 65 -->\n",
       "<g id=\"node66\" class=\"node\"><title>65</title>\n",
       "<ellipse fill=\"none\" stroke=\"black\" cx=\"671.697\" cy=\"-522\" rx=\"27\" ry=\"18\"/>\n",
       "<text text-anchor=\"middle\" x=\"671.697\" y=\"-518.3\" font-family=\"Times,serif\" font-size=\"14.00\">sin</text>\n",
       "</g>\n",
       "<!-- 64&#45;&#45;65 -->\n",
       "<g id=\"edge65\" class=\"edge\"><title>64&#45;&#45;65</title>\n",
       "<path fill=\"none\" stroke=\"black\" d=\"M671.697,-575.697C671.697,-564.846 671.697,-550.917 671.697,-540.104\"/>\n",
       "</g>\n",
       "<!-- 66 -->\n",
       "<g id=\"node67\" class=\"node\"><title>66</title>\n",
       "<ellipse fill=\"none\" stroke=\"black\" cx=\"671.697\" cy=\"-450\" rx=\"27\" ry=\"18\"/>\n",
       "<text text-anchor=\"middle\" x=\"671.697\" y=\"-446.3\" font-family=\"Times,serif\" font-size=\"14.00\">sin</text>\n",
       "</g>\n",
       "<!-- 65&#45;&#45;66 -->\n",
       "<g id=\"edge66\" class=\"edge\"><title>65&#45;&#45;66</title>\n",
       "<path fill=\"none\" stroke=\"black\" d=\"M671.697,-503.697C671.697,-492.846 671.697,-478.917 671.697,-468.104\"/>\n",
       "</g>\n",
       "<!-- 67 -->\n",
       "<g id=\"node68\" class=\"node\"><title>67</title>\n",
       "<ellipse fill=\"none\" stroke=\"black\" cx=\"674.697\" cy=\"-378\" rx=\"37.8943\" ry=\"18\"/>\n",
       "<text text-anchor=\"middle\" x=\"674.697\" y=\"-374.3\" font-family=\"Times,serif\" font-size=\"14.00\">ARG0</text>\n",
       "</g>\n",
       "<!-- 66&#45;&#45;67 -->\n",
       "<g id=\"edge67\" class=\"edge\"><title>66&#45;&#45;67</title>\n",
       "<path fill=\"none\" stroke=\"black\" d=\"M672.438,-431.697C672.903,-420.846 673.5,-406.917 673.964,-396.104\"/>\n",
       "</g>\n",
       "<!-- 69 -->\n",
       "<g id=\"node70\" class=\"node\"><title>69</title>\n",
       "<ellipse fill=\"none\" stroke=\"black\" cx=\"746.697\" cy=\"-594\" rx=\"27\" ry=\"18\"/>\n",
       "<text text-anchor=\"middle\" x=\"746.697\" y=\"-590.3\" font-family=\"Times,serif\" font-size=\"14.00\">sin</text>\n",
       "</g>\n",
       "<!-- 68&#45;&#45;69 -->\n",
       "<g id=\"edge69\" class=\"edge\"><title>68&#45;&#45;69</title>\n",
       "<path fill=\"none\" stroke=\"black\" d=\"M732.296,-648.055C735.283,-637.049 739.161,-622.764 742.14,-611.789\"/>\n",
       "</g>\n",
       "<!-- 70 -->\n",
       "<g id=\"node71\" class=\"node\"><title>70</title>\n",
       "<ellipse fill=\"none\" stroke=\"black\" cx=\"751.697\" cy=\"-522\" rx=\"27\" ry=\"18\"/>\n",
       "<text text-anchor=\"middle\" x=\"751.697\" y=\"-518.3\" font-family=\"Times,serif\" font-size=\"14.00\">sin</text>\n",
       "</g>\n",
       "<!-- 69&#45;&#45;70 -->\n",
       "<g id=\"edge70\" class=\"edge\"><title>69&#45;&#45;70</title>\n",
       "<path fill=\"none\" stroke=\"black\" d=\"M747.933,-575.697C748.708,-564.846 749.703,-550.917 750.475,-540.104\"/>\n",
       "</g>\n",
       "<!-- 71 -->\n",
       "<g id=\"node72\" class=\"node\"><title>71</title>\n",
       "<ellipse fill=\"none\" stroke=\"black\" cx=\"754.697\" cy=\"-450\" rx=\"37.8943\" ry=\"18\"/>\n",
       "<text text-anchor=\"middle\" x=\"754.697\" y=\"-446.3\" font-family=\"Times,serif\" font-size=\"14.00\">ARG0</text>\n",
       "</g>\n",
       "<!-- 70&#45;&#45;71 -->\n",
       "<g id=\"edge71\" class=\"edge\"><title>70&#45;&#45;71</title>\n",
       "<path fill=\"none\" stroke=\"black\" d=\"M752.438,-503.697C752.903,-492.846 753.5,-478.917 753.964,-468.104\"/>\n",
       "</g>\n",
       "</g>\n",
       "</svg>\n"
      ],
      "text/plain": [
       "<graphviz.dot.Graph at 0x7fc1f3aade80>"
      ]
     },
     "execution_count": 64,
     "metadata": {},
     "output_type": "execute_result"
    }
   ],
   "source": [
    "plot_graph(hof[0], 5)"
   ]
  },
  {
   "cell_type": "code",
   "execution_count": 65,
   "metadata": {
    "slideshow": {
     "slide_type": "subslide"
    }
   },
   "outputs": [
    {
     "data": {
      "image/png": "[encoded data removed]",
      "text/plain": [
       "<matplotlib.figure.Figure at 0x7fc1f8d97630>"
      ]
     },
     "metadata": {},
     "output_type": "display_data"
    }
   ],
   "source": [
    "func = toolbox.compile(expr=hof[0])\n",
    "plt.scatter(X, y, c='#aaaaaa')\n",
    "plt.plot(X, [func(x[0]) for x in X], c='red');"
   ]
  },
  {
   "cell_type": "markdown",
   "metadata": {
    "slideshow": {
     "slide_type": "slide"
    }
   },
   "source": [
    "# Čo ďalej?\n",
    "Symbolická regresia nie je jediný prípad použitia:\n",
    "- klasifikácia\n",
    "- predikcia\n",
    "- syntéza programov\n",
    "- Dizajn dosiek plošných spojov\n",
    "- Evolúcia neurónových sietí\n",
    "- ....\n",
    " \n"
   ]
  },
  {
   "cell_type": "markdown",
   "metadata": {
    "slideshow": {
     "slide_type": "slide"
    }
   },
   "source": [
    "# Výzvy v genetickom programovaní\n",
    "\n",
    "\n",
    "- **nafúknutosť (z angl. bloat)**\n",
    " - tvrdé ohraničenia\n",
    " - tlak na tvorbu malých jedincov\n",
    "\n",
    "- **konštanty**\n",
    " - efemerálna konštanta\n",
    " - symbolická konštanta\n",
    "\n",
    "- rôzne typy premenných\n",
    "\n",
    "- syntaktická správnosť"
   ]
  },
  {
   "cell_type": "code",
   "execution_count": 33,
   "metadata": {
    "slideshow": {
     "slide_type": "subslide"
    }
   },
   "outputs": [
    {
     "data": {
      "image/svg+xml": [
       "<?xml version=\"1.0\" encoding=\"UTF-8\" standalone=\"no\"?>\n",
       "<!DOCTYPE svg PUBLIC \"-//W3C//DTD SVG 1.1//EN\"\n",
       " \"http://www.w3.org/Graphics/SVG/1.1/DTD/svg11.dtd\">\n",
       "<!-- Generated by graphviz version 2.38.0 (20140413.2041)\n",
       " -->\n",
       "<!-- Title: %3 Pages: 1 -->\n",
       "<svg width=\"277pt\" height=\"360pt\"\n",
       " viewBox=\"0.00 0.00 277.49 360.00\" xmlns=\"http://www.w3.org/2000/svg\" xmlns:xlink=\"http://www.w3.org/1999/xlink\">\n",
       "<g id=\"graph0\" class=\"graph\" transform=\"scale(0.283912 0.283912) rotate(0) translate(4 1264)\">\n",
       "<title>%3</title>\n",
       "<polygon fill=\"white\" stroke=\"none\" points=\"-4,4 -4,-1264 973.393,-1264 973.393,4 -4,4\"/>\n",
       "<!-- 0 -->\n",
       "<g id=\"node1\" class=\"node\"><title>0</title>\n",
       "<ellipse fill=\"none\" stroke=\"black\" cx=\"482.697\" cy=\"-1242\" rx=\"27\" ry=\"18\"/>\n",
       "<text text-anchor=\"middle\" x=\"482.697\" y=\"-1238.3\" font-family=\"Times,serif\" font-size=\"14.00\">sin</text>\n",
       "</g>\n",
       "<!-- 1 -->\n",
       "<g id=\"node2\" class=\"node\"><title>1</title>\n",
       "<ellipse fill=\"none\" stroke=\"black\" cx=\"482.697\" cy=\"-1170\" rx=\"27\" ry=\"18\"/>\n",
       "<text text-anchor=\"middle\" x=\"482.697\" y=\"-1166.3\" font-family=\"Times,serif\" font-size=\"14.00\">sin</text>\n",
       "</g>\n",
       "<!-- 0&#45;&#45;1 -->\n",
       "<g id=\"edge1\" class=\"edge\"><title>0&#45;&#45;1</title>\n",
       "<path fill=\"none\" stroke=\"black\" d=\"M482.697,-1223.7C482.697,-1212.85 482.697,-1198.92 482.697,-1188.1\"/>\n",
       "</g>\n",
       "<!-- 2 -->\n",
       "<g id=\"node3\" class=\"node\"><title>2</title>\n",
       "<ellipse fill=\"none\" stroke=\"black\" cx=\"482.697\" cy=\"-1098\" rx=\"27.8951\" ry=\"18\"/>\n",
       "<text text-anchor=\"middle\" x=\"482.697\" y=\"-1094.3\" font-family=\"Times,serif\" font-size=\"14.00\">add</text>\n",
       "</g>\n",
       "<!-- 1&#45;&#45;2 -->\n",
       "<g id=\"edge2\" class=\"edge\"><title>1&#45;&#45;2</title>\n",
       "<path fill=\"none\" stroke=\"black\" d=\"M482.697,-1151.7C482.697,-1140.85 482.697,-1126.92 482.697,-1116.1\"/>\n",
       "</g>\n",
       "<!-- 3 -->\n",
       "<g id=\"node4\" class=\"node\"><title>3</title>\n",
       "<ellipse fill=\"none\" stroke=\"black\" cx=\"433.697\" cy=\"-1026\" rx=\"27.8951\" ry=\"18\"/>\n",
       "<text text-anchor=\"middle\" x=\"433.697\" y=\"-1022.3\" font-family=\"Times,serif\" font-size=\"14.00\">add</text>\n",
       "</g>\n",
       "<!-- 2&#45;&#45;3 -->\n",
       "<g id=\"edge3\" class=\"edge\"><title>2&#45;&#45;3</title>\n",
       "<path fill=\"none\" stroke=\"black\" d=\"M471.578,-1081.12C463.559,-1069.66 452.781,-1054.26 444.772,-1042.82\"/>\n",
       "</g>\n",
       "<!-- 53 -->\n",
       "<g id=\"node54\" class=\"node\"><title>53</title>\n",
       "<ellipse fill=\"none\" stroke=\"black\" cx=\"531.697\" cy=\"-1026\" rx=\"27\" ry=\"18\"/>\n",
       "<text text-anchor=\"middle\" x=\"531.697\" y=\"-1022.3\" font-family=\"Times,serif\" font-size=\"14.00\">sin</text>\n",
       "</g>\n",
       "<!-- 2&#45;&#45;53 -->\n",
       "<g id=\"edge53\" class=\"edge\"><title>2&#45;&#45;53</title>\n",
       "<path fill=\"none\" stroke=\"black\" d=\"M493.816,-1081.12C501.835,-1069.66 512.613,-1054.26 520.622,-1042.82\"/>\n",
       "</g>\n",
       "<!-- 4 -->\n",
       "<g id=\"node5\" class=\"node\"><title>4</title>\n",
       "<ellipse fill=\"none\" stroke=\"black\" cx=\"299.697\" cy=\"-954\" rx=\"28.6953\" ry=\"18\"/>\n",
       "<text text-anchor=\"middle\" x=\"299.697\" y=\"-950.3\" font-family=\"Times,serif\" font-size=\"14.00\">mul</text>\n",
       "</g>\n",
       "<!-- 3&#45;&#45;4 -->\n",
       "<g id=\"edge4\" class=\"edge\"><title>3&#45;&#45;4</title>\n",
       "<path fill=\"none\" stroke=\"black\" d=\"M412.759,-1014.06C387.732,-1000.99 346.086,-979.233 320.929,-966.092\"/>\n",
       "</g>\n",
       "<!-- 7 -->\n",
       "<g id=\"node8\" class=\"node\"><title>7</title>\n",
       "<ellipse fill=\"none\" stroke=\"black\" cx=\"433.697\" cy=\"-954\" rx=\"71.4873\" ry=\"18\"/>\n",
       "<text text-anchor=\"middle\" x=\"433.697\" y=\"-950.3\" font-family=\"Times,serif\" font-size=\"14.00\">protectedDiv</text>\n",
       "</g>\n",
       "<!-- 3&#45;&#45;7 -->\n",
       "<g id=\"edge7\" class=\"edge\"><title>3&#45;&#45;7</title>\n",
       "<path fill=\"none\" stroke=\"black\" d=\"M433.697,-1007.7C433.697,-996.846 433.697,-982.917 433.697,-972.104\"/>\n",
       "</g>\n",
       "<!-- 5 -->\n",
       "<g id=\"node6\" class=\"node\"><title>5</title>\n",
       "<ellipse fill=\"none\" stroke=\"black\" cx=\"206.697\" cy=\"-882\" rx=\"37.8943\" ry=\"18\"/>\n",
       "<text text-anchor=\"middle\" x=\"206.697\" y=\"-878.3\" font-family=\"Times,serif\" font-size=\"14.00\">ARG0</text>\n",
       "</g>\n",
       "<!-- 4&#45;&#45;5 -->\n",
       "<g id=\"edge5\" class=\"edge\"><title>4&#45;&#45;5</title>\n",
       "<path fill=\"none\" stroke=\"black\" d=\"M281.765,-939.503C265.825,-927.505 242.572,-910.003 226.178,-897.664\"/>\n",
       "</g>\n",
       "<!-- 6 -->\n",
       "<g id=\"node7\" class=\"node\"><title>6</title>\n",
       "<ellipse fill=\"none\" stroke=\"black\" cx=\"299.697\" cy=\"-882\" rx=\"37.8943\" ry=\"18\"/>\n",
       "<text text-anchor=\"middle\" x=\"299.697\" y=\"-878.3\" font-family=\"Times,serif\" font-size=\"14.00\">ARG0</text>\n",
       "</g>\n",
       "<!-- 4&#45;&#45;6 -->\n",
       "<g id=\"edge6\" class=\"edge\"><title>4&#45;&#45;6</title>\n",
       "<path fill=\"none\" stroke=\"black\" d=\"M299.697,-935.697C299.697,-924.846 299.697,-910.917 299.697,-900.104\"/>\n",
       "</g>\n",
       "<!-- 8 -->\n",
       "<g id=\"node9\" class=\"node\"><title>8</title>\n",
       "<ellipse fill=\"none\" stroke=\"black\" cx=\"382.697\" cy=\"-882\" rx=\"27\" ry=\"18\"/>\n",
       "<text text-anchor=\"middle\" x=\"382.697\" y=\"-878.3\" font-family=\"Times,serif\" font-size=\"14.00\">sin</text>\n",
       "</g>\n",
       "<!-- 7&#45;&#45;8 -->\n",
       "<g id=\"edge8\" class=\"edge\"><title>7&#45;&#45;8</title>\n",
       "<path fill=\"none\" stroke=\"black\" d=\"M421.351,-936.055C413.097,-924.726 402.31,-909.92 394.23,-898.829\"/>\n",
       "</g>\n",
       "<!-- 27 -->\n",
       "<g id=\"node28\" class=\"node\"><title>27</title>\n",
       "<ellipse fill=\"none\" stroke=\"black\" cx=\"455.697\" cy=\"-882\" rx=\"27.8951\" ry=\"18\"/>\n",
       "<text text-anchor=\"middle\" x=\"455.697\" y=\"-878.3\" font-family=\"Times,serif\" font-size=\"14.00\">add</text>\n",
       "</g>\n",
       "<!-- 7&#45;&#45;27 -->\n",
       "<g id=\"edge27\" class=\"edge\"><title>7&#45;&#45;27</title>\n",
       "<path fill=\"none\" stroke=\"black\" d=\"M439.135,-935.697C442.545,-924.846 446.923,-910.917 450.321,-900.104\"/>\n",
       "</g>\n",
       "<!-- 9 -->\n",
       "<g id=\"node10\" class=\"node\"><title>9</title>\n",
       "<ellipse fill=\"none\" stroke=\"black\" cx=\"330.697\" cy=\"-810\" rx=\"27\" ry=\"18\"/>\n",
       "<text text-anchor=\"middle\" x=\"330.697\" y=\"-806.3\" font-family=\"Times,serif\" font-size=\"14.00\">sin</text>\n",
       "</g>\n",
       "<!-- 8&#45;&#45;9 -->\n",
       "<g id=\"edge9\" class=\"edge\"><title>8&#45;&#45;9</title>\n",
       "<path fill=\"none\" stroke=\"black\" d=\"M371.156,-865.465C362.539,-853.865 350.814,-838.082 342.205,-826.492\"/>\n",
       "</g>\n",
       "<!-- 10 -->\n",
       "<g id=\"node11\" class=\"node\"><title>10</title>\n",
       "<ellipse fill=\"none\" stroke=\"black\" cx=\"330.697\" cy=\"-738\" rx=\"27.8951\" ry=\"18\"/>\n",
       "<text text-anchor=\"middle\" x=\"330.697\" y=\"-734.3\" font-family=\"Times,serif\" font-size=\"14.00\">add</text>\n",
       "</g>\n",
       "<!-- 9&#45;&#45;10 -->\n",
       "<g id=\"edge10\" class=\"edge\"><title>9&#45;&#45;10</title>\n",
       "<path fill=\"none\" stroke=\"black\" d=\"M330.697,-791.697C330.697,-780.846 330.697,-766.917 330.697,-756.104\"/>\n",
       "</g>\n",
       "<!-- 11 -->\n",
       "<g id=\"node12\" class=\"node\"><title>11</title>\n",
       "<ellipse fill=\"none\" stroke=\"black\" cx=\"240.697\" cy=\"-666\" rx=\"28.6953\" ry=\"18\"/>\n",
       "<text text-anchor=\"middle\" x=\"240.697\" y=\"-662.3\" font-family=\"Times,serif\" font-size=\"14.00\">mul</text>\n",
       "</g>\n",
       "<!-- 10&#45;&#45;11 -->\n",
       "<g id=\"edge11\" class=\"edge\"><title>10&#45;&#45;11</title>\n",
       "<path fill=\"none\" stroke=\"black\" d=\"M313.344,-723.503C297.407,-711.108 273.916,-692.838 257.996,-680.455\"/>\n",
       "</g>\n",
       "<!-- 25 -->\n",
       "<g id=\"node26\" class=\"node\"><title>25</title>\n",
       "<ellipse fill=\"none\" stroke=\"black\" cx=\"330.697\" cy=\"-666\" rx=\"27\" ry=\"18\"/>\n",
       "<text text-anchor=\"middle\" x=\"330.697\" y=\"-662.3\" font-family=\"Times,serif\" font-size=\"14.00\">sin</text>\n",
       "</g>\n",
       "<!-- 10&#45;&#45;25 -->\n",
       "<g id=\"edge25\" class=\"edge\"><title>10&#45;&#45;25</title>\n",
       "<path fill=\"none\" stroke=\"black\" d=\"M330.697,-719.697C330.697,-708.846 330.697,-694.917 330.697,-684.104\"/>\n",
       "</g>\n",
       "<!-- 12 -->\n",
       "<g id=\"node13\" class=\"node\"><title>12</title>\n",
       "<ellipse fill=\"none\" stroke=\"black\" cx=\"156.697\" cy=\"-594\" rx=\"27.8951\" ry=\"18\"/>\n",
       "<text text-anchor=\"middle\" x=\"156.697\" y=\"-590.3\" font-family=\"Times,serif\" font-size=\"14.00\">add</text>\n",
       "</g>\n",
       "<!-- 11&#45;&#45;12 -->\n",
       "<g id=\"edge12\" class=\"edge\"><title>11&#45;&#45;12</title>\n",
       "<path fill=\"none\" stroke=\"black\" d=\"M224.101,-651.17C209.375,-638.898 187.974,-621.064 173.258,-608.801\"/>\n",
       "</g>\n",
       "<!-- 24 -->\n",
       "<g id=\"node25\" class=\"node\"><title>24</title>\n",
       "<ellipse fill=\"none\" stroke=\"black\" cx=\"240.697\" cy=\"-594\" rx=\"37.8943\" ry=\"18\"/>\n",
       "<text text-anchor=\"middle\" x=\"240.697\" y=\"-590.3\" font-family=\"Times,serif\" font-size=\"14.00\">ARG0</text>\n",
       "</g>\n",
       "<!-- 11&#45;&#45;24 -->\n",
       "<g id=\"edge24\" class=\"edge\"><title>11&#45;&#45;24</title>\n",
       "<path fill=\"none\" stroke=\"black\" d=\"M240.697,-647.697C240.697,-636.846 240.697,-622.917 240.697,-612.104\"/>\n",
       "</g>\n",
       "<!-- 13 -->\n",
       "<g id=\"node14\" class=\"node\"><title>13</title>\n",
       "<ellipse fill=\"none\" stroke=\"black\" cx=\"78.6967\" cy=\"-522\" rx=\"28.6953\" ry=\"18\"/>\n",
       "<text text-anchor=\"middle\" x=\"78.6967\" y=\"-518.3\" font-family=\"Times,serif\" font-size=\"14.00\">mul</text>\n",
       "</g>\n",
       "<!-- 12&#45;&#45;13 -->\n",
       "<g id=\"edge13\" class=\"edge\"><title>12&#45;&#45;13</title>\n",
       "<path fill=\"none\" stroke=\"black\" d=\"M140.912,-578.834C127.38,-566.69 107.984,-549.283 94.4576,-537.144\"/>\n",
       "</g>\n",
       "<!-- 23 -->\n",
       "<g id=\"node24\" class=\"node\"><title>23</title>\n",
       "<ellipse fill=\"none\" stroke=\"black\" cx=\"162.697\" cy=\"-522\" rx=\"37.8943\" ry=\"18\"/>\n",
       "<text text-anchor=\"middle\" x=\"162.697\" y=\"-518.3\" font-family=\"Times,serif\" font-size=\"14.00\">ARG0</text>\n",
       "</g>\n",
       "<!-- 12&#45;&#45;23 -->\n",
       "<g id=\"edge23\" class=\"edge\"><title>12&#45;&#45;23</title>\n",
       "<path fill=\"none\" stroke=\"black\" d=\"M158.18,-575.697C159.11,-564.846 160.304,-550.917 161.231,-540.104\"/>\n",
       "</g>\n",
       "<!-- 14 -->\n",
       "<g id=\"node15\" class=\"node\"><title>14</title>\n",
       "<ellipse fill=\"none\" stroke=\"black\" cx=\"37.6967\" cy=\"-450\" rx=\"37.8943\" ry=\"18\"/>\n",
       "<text text-anchor=\"middle\" x=\"37.6967\" y=\"-446.3\" font-family=\"Times,serif\" font-size=\"14.00\">ARG0</text>\n",
       "</g>\n",
       "<!-- 13&#45;&#45;14 -->\n",
       "<g id=\"edge14\" class=\"edge\"><title>13&#45;&#45;14</title>\n",
       "<path fill=\"none\" stroke=\"black\" d=\"M69.1874,-504.765C62.6584,-493.618 54.0176,-478.865 47.4391,-467.633\"/>\n",
       "</g>\n",
       "<!-- 15 -->\n",
       "<g id=\"node16\" class=\"node\"><title>15</title>\n",
       "<ellipse fill=\"none\" stroke=\"black\" cx=\"120.697\" cy=\"-450\" rx=\"27\" ry=\"18\"/>\n",
       "<text text-anchor=\"middle\" x=\"120.697\" y=\"-446.3\" font-family=\"Times,serif\" font-size=\"14.00\">sin</text>\n",
       "</g>\n",
       "<!-- 13&#45;&#45;15 -->\n",
       "<g id=\"edge15\" class=\"edge\"><title>13&#45;&#45;15</title>\n",
       "<path fill=\"none\" stroke=\"black\" d=\"M88.4379,-504.765C95.2231,-493.456 104.235,-478.437 111.008,-467.147\"/>\n",
       "</g>\n",
       "<!-- 16 -->\n",
       "<g id=\"node17\" class=\"node\"><title>16</title>\n",
       "<ellipse fill=\"none\" stroke=\"black\" cx=\"120.697\" cy=\"-378\" rx=\"27.8951\" ry=\"18\"/>\n",
       "<text text-anchor=\"middle\" x=\"120.697\" y=\"-374.3\" font-family=\"Times,serif\" font-size=\"14.00\">add</text>\n",
       "</g>\n",
       "<!-- 15&#45;&#45;16 -->\n",
       "<g id=\"edge16\" class=\"edge\"><title>15&#45;&#45;16</title>\n",
       "<path fill=\"none\" stroke=\"black\" d=\"M120.697,-431.697C120.697,-420.846 120.697,-406.917 120.697,-396.104\"/>\n",
       "</g>\n",
       "<!-- 17 -->\n",
       "<g id=\"node18\" class=\"node\"><title>17</title>\n",
       "<ellipse fill=\"none\" stroke=\"black\" cx=\"58.6967\" cy=\"-306\" rx=\"37.8943\" ry=\"18\"/>\n",
       "<text text-anchor=\"middle\" x=\"58.6967\" y=\"-302.3\" font-family=\"Times,serif\" font-size=\"14.00\">ARG0</text>\n",
       "</g>\n",
       "<!-- 16&#45;&#45;17 -->\n",
       "<g id=\"edge17\" class=\"edge\"><title>16&#45;&#45;17</title>\n",
       "<path fill=\"none\" stroke=\"black\" d=\"M107.244,-361.811C97.129,-350.391 83.2985,-334.776 72.9864,-323.134\"/>\n",
       "</g>\n",
       "<!-- 18 -->\n",
       "<g id=\"node19\" class=\"node\"><title>18</title>\n",
       "<ellipse fill=\"none\" stroke=\"black\" cx=\"141.697\" cy=\"-306\" rx=\"27\" ry=\"18\"/>\n",
       "<text text-anchor=\"middle\" x=\"141.697\" y=\"-302.3\" font-family=\"Times,serif\" font-size=\"14.00\">sin</text>\n",
       "</g>\n",
       "<!-- 16&#45;&#45;18 -->\n",
       "<g id=\"edge18\" class=\"edge\"><title>16&#45;&#45;18</title>\n",
       "<path fill=\"none\" stroke=\"black\" d=\"M125.78,-360.055C129.082,-349.049 133.368,-334.764 136.66,-323.789\"/>\n",
       "</g>\n",
       "<!-- 19 -->\n",
       "<g id=\"node20\" class=\"node\"><title>19</title>\n",
       "<ellipse fill=\"none\" stroke=\"black\" cx=\"141.697\" cy=\"-234\" rx=\"27\" ry=\"18\"/>\n",
       "<text text-anchor=\"middle\" x=\"141.697\" y=\"-230.3\" font-family=\"Times,serif\" font-size=\"14.00\">sin</text>\n",
       "</g>\n",
       "<!-- 18&#45;&#45;19 -->\n",
       "<g id=\"edge19\" class=\"edge\"><title>18&#45;&#45;19</title>\n",
       "<path fill=\"none\" stroke=\"black\" d=\"M141.697,-287.697C141.697,-276.846 141.697,-262.917 141.697,-252.104\"/>\n",
       "</g>\n",
       "<!-- 20 -->\n",
       "<g id=\"node21\" class=\"node\"><title>20</title>\n",
       "<ellipse fill=\"none\" stroke=\"black\" cx=\"141.697\" cy=\"-162\" rx=\"27\" ry=\"18\"/>\n",
       "<text text-anchor=\"middle\" x=\"141.697\" y=\"-158.3\" font-family=\"Times,serif\" font-size=\"14.00\">sin</text>\n",
       "</g>\n",
       "<!-- 19&#45;&#45;20 -->\n",
       "<g id=\"edge20\" class=\"edge\"><title>19&#45;&#45;20</title>\n",
       "<path fill=\"none\" stroke=\"black\" d=\"M141.697,-215.697C141.697,-204.846 141.697,-190.917 141.697,-180.104\"/>\n",
       "</g>\n",
       "<!-- 21 -->\n",
       "<g id=\"node22\" class=\"node\"><title>21</title>\n",
       "<ellipse fill=\"none\" stroke=\"black\" cx=\"141.697\" cy=\"-90\" rx=\"27\" ry=\"18\"/>\n",
       "<text text-anchor=\"middle\" x=\"141.697\" y=\"-86.3\" font-family=\"Times,serif\" font-size=\"14.00\">sin</text>\n",
       "</g>\n",
       "<!-- 20&#45;&#45;21 -->\n",
       "<g id=\"edge21\" class=\"edge\"><title>20&#45;&#45;21</title>\n",
       "<path fill=\"none\" stroke=\"black\" d=\"M141.697,-143.697C141.697,-132.846 141.697,-118.917 141.697,-108.104\"/>\n",
       "</g>\n",
       "<!-- 22 -->\n",
       "<g id=\"node23\" class=\"node\"><title>22</title>\n",
       "<ellipse fill=\"none\" stroke=\"black\" cx=\"141.697\" cy=\"-18\" rx=\"37.8943\" ry=\"18\"/>\n",
       "<text text-anchor=\"middle\" x=\"141.697\" y=\"-14.3\" font-family=\"Times,serif\" font-size=\"14.00\">ARG0</text>\n",
       "</g>\n",
       "<!-- 21&#45;&#45;22 -->\n",
       "<g id=\"edge22\" class=\"edge\"><title>21&#45;&#45;22</title>\n",
       "<path fill=\"none\" stroke=\"black\" d=\"M141.697,-71.6966C141.697,-60.8463 141.697,-46.9167 141.697,-36.1043\"/>\n",
       "</g>\n",
       "<!-- 26 -->\n",
       "<g id=\"node27\" class=\"node\"><title>26</title>\n",
       "<ellipse fill=\"none\" stroke=\"black\" cx=\"333.697\" cy=\"-594\" rx=\"37.8943\" ry=\"18\"/>\n",
       "<text text-anchor=\"middle\" x=\"333.697\" y=\"-590.3\" font-family=\"Times,serif\" font-size=\"14.00\">ARG0</text>\n",
       "</g>\n",
       "<!-- 25&#45;&#45;26 -->\n",
       "<g id=\"edge26\" class=\"edge\"><title>25&#45;&#45;26</title>\n",
       "<path fill=\"none\" stroke=\"black\" d=\"M331.438,-647.697C331.903,-636.846 332.5,-622.917 332.964,-612.104\"/>\n",
       "</g>\n",
       "<!-- 28 -->\n",
       "<g id=\"node29\" class=\"node\"><title>28</title>\n",
       "<ellipse fill=\"none\" stroke=\"black\" cx=\"413.697\" cy=\"-810\" rx=\"37.8943\" ry=\"18\"/>\n",
       "<text text-anchor=\"middle\" x=\"413.697\" y=\"-806.3\" font-family=\"Times,serif\" font-size=\"14.00\">ARG0</text>\n",
       "</g>\n",
       "<!-- 27&#45;&#45;28 -->\n",
       "<g id=\"edge28\" class=\"edge\"><title>27&#45;&#45;28</title>\n",
       "<path fill=\"none\" stroke=\"black\" d=\"M445.955,-864.765C439.267,-853.618 430.416,-838.865 423.677,-827.633\"/>\n",
       "</g>\n",
       "<!-- 29 -->\n",
       "<g id=\"node30\" class=\"node\"><title>29</title>\n",
       "<ellipse fill=\"none\" stroke=\"black\" cx=\"496.697\" cy=\"-810\" rx=\"27\" ry=\"18\"/>\n",
       "<text text-anchor=\"middle\" x=\"496.697\" y=\"-806.3\" font-family=\"Times,serif\" font-size=\"14.00\">sin</text>\n",
       "</g>\n",
       "<!-- 27&#45;&#45;29 -->\n",
       "<g id=\"edge29\" class=\"edge\"><title>27&#45;&#45;29</title>\n",
       "<path fill=\"none\" stroke=\"black\" d=\"M465.206,-864.765C471.83,-853.456 480.627,-838.437 487.239,-827.147\"/>\n",
       "</g>\n",
       "<!-- 30 -->\n",
       "<g id=\"node31\" class=\"node\"><title>30</title>\n",
       "<ellipse fill=\"none\" stroke=\"black\" cx=\"496.697\" cy=\"-738\" rx=\"27.8951\" ry=\"18\"/>\n",
       "<text text-anchor=\"middle\" x=\"496.697\" y=\"-734.3\" font-family=\"Times,serif\" font-size=\"14.00\">add</text>\n",
       "</g>\n",
       "<!-- 29&#45;&#45;30 -->\n",
       "<g id=\"edge30\" class=\"edge\"><title>29&#45;&#45;30</title>\n",
       "<path fill=\"none\" stroke=\"black\" d=\"M496.697,-791.697C496.697,-780.846 496.697,-766.917 496.697,-756.104\"/>\n",
       "</g>\n",
       "<!-- 31 -->\n",
       "<g id=\"node32\" class=\"node\"><title>31</title>\n",
       "<ellipse fill=\"none\" stroke=\"black\" cx=\"413.697\" cy=\"-666\" rx=\"37.8943\" ry=\"18\"/>\n",
       "<text text-anchor=\"middle\" x=\"413.697\" y=\"-662.3\" font-family=\"Times,serif\" font-size=\"14.00\">ARG0</text>\n",
       "</g>\n",
       "<!-- 30&#45;&#45;31 -->\n",
       "<g id=\"edge31\" class=\"edge\"><title>30&#45;&#45;31</title>\n",
       "<path fill=\"none\" stroke=\"black\" d=\"M480.299,-723.17C466.22,-711.297 445.968,-694.216 431.497,-682.013\"/>\n",
       "</g>\n",
       "<!-- 32 -->\n",
       "<g id=\"node33\" class=\"node\"><title>32</title>\n",
       "<ellipse fill=\"none\" stroke=\"black\" cx=\"496.697\" cy=\"-666\" rx=\"27\" ry=\"18\"/>\n",
       "<text text-anchor=\"middle\" x=\"496.697\" y=\"-662.3\" font-family=\"Times,serif\" font-size=\"14.00\">sin</text>\n",
       "</g>\n",
       "<!-- 30&#45;&#45;32 -->\n",
       "<g id=\"edge32\" class=\"edge\"><title>30&#45;&#45;32</title>\n",
       "<path fill=\"none\" stroke=\"black\" d=\"M496.697,-719.697C496.697,-708.846 496.697,-694.917 496.697,-684.104\"/>\n",
       "</g>\n",
       "<!-- 33 -->\n",
       "<g id=\"node34\" class=\"node\"><title>33</title>\n",
       "<ellipse fill=\"none\" stroke=\"black\" cx=\"495.697\" cy=\"-594\" rx=\"27\" ry=\"18\"/>\n",
       "<text text-anchor=\"middle\" x=\"495.697\" y=\"-590.3\" font-family=\"Times,serif\" font-size=\"14.00\">sin</text>\n",
       "</g>\n",
       "<!-- 32&#45;&#45;33 -->\n",
       "<g id=\"edge33\" class=\"edge\"><title>32&#45;&#45;33</title>\n",
       "<path fill=\"none\" stroke=\"black\" d=\"M496.449,-647.697C496.294,-636.846 496.095,-622.917 495.941,-612.104\"/>\n",
       "</g>\n",
       "<!-- 34 -->\n",
       "<g id=\"node35\" class=\"node\"><title>34</title>\n",
       "<ellipse fill=\"none\" stroke=\"black\" cx=\"490.697\" cy=\"-522\" rx=\"27.8951\" ry=\"18\"/>\n",
       "<text text-anchor=\"middle\" x=\"490.697\" y=\"-518.3\" font-family=\"Times,serif\" font-size=\"14.00\">add</text>\n",
       "</g>\n",
       "<!-- 33&#45;&#45;34 -->\n",
       "<g id=\"edge34\" class=\"edge\"><title>33&#45;&#45;34</title>\n",
       "<path fill=\"none\" stroke=\"black\" d=\"M494.461,-575.697C493.686,-564.846 492.691,-550.917 491.918,-540.104\"/>\n",
       "</g>\n",
       "<!-- 35 -->\n",
       "<g id=\"node36\" class=\"node\"><title>35</title>\n",
       "<ellipse fill=\"none\" stroke=\"black\" cx=\"417.697\" cy=\"-450\" rx=\"27.8951\" ry=\"18\"/>\n",
       "<text text-anchor=\"middle\" x=\"417.697\" y=\"-446.3\" font-family=\"Times,serif\" font-size=\"14.00\">add</text>\n",
       "</g>\n",
       "<!-- 34&#45;&#45;35 -->\n",
       "<g id=\"edge35\" class=\"edge\"><title>34&#45;&#45;35</title>\n",
       "<path fill=\"none\" stroke=\"black\" d=\"M475.571,-506.496C463.042,-494.482 445.326,-477.494 432.803,-465.485\"/>\n",
       "</g>\n",
       "<!-- 47 -->\n",
       "<g id=\"node48\" class=\"node\"><title>47</title>\n",
       "<ellipse fill=\"none\" stroke=\"black\" cx=\"490.697\" cy=\"-450\" rx=\"27\" ry=\"18\"/>\n",
       "<text text-anchor=\"middle\" x=\"490.697\" y=\"-446.3\" font-family=\"Times,serif\" font-size=\"14.00\">sin</text>\n",
       "</g>\n",
       "<!-- 34&#45;&#45;47 -->\n",
       "<g id=\"edge47\" class=\"edge\"><title>34&#45;&#45;47</title>\n",
       "<path fill=\"none\" stroke=\"black\" d=\"M490.697,-503.697C490.697,-492.846 490.697,-478.917 490.697,-468.104\"/>\n",
       "</g>\n",
       "<!-- 36 -->\n",
       "<g id=\"node37\" class=\"node\"><title>36</title>\n",
       "<ellipse fill=\"none\" stroke=\"black\" cx=\"339.697\" cy=\"-378\" rx=\"27\" ry=\"18\"/>\n",
       "<text text-anchor=\"middle\" x=\"339.697\" y=\"-374.3\" font-family=\"Times,serif\" font-size=\"14.00\">sin</text>\n",
       "</g>\n",
       "<!-- 35&#45;&#45;36 -->\n",
       "<g id=\"edge36\" class=\"edge\"><title>35&#45;&#45;36</title>\n",
       "<path fill=\"none\" stroke=\"black\" d=\"M401.912,-434.834C388.291,-422.61 368.728,-405.054 355.191,-392.906\"/>\n",
       "</g>\n",
       "<!-- 43 -->\n",
       "<g id=\"node44\" class=\"node\"><title>43</title>\n",
       "<ellipse fill=\"none\" stroke=\"black\" cx=\"417.697\" cy=\"-378\" rx=\"27\" ry=\"18\"/>\n",
       "<text text-anchor=\"middle\" x=\"417.697\" y=\"-374.3\" font-family=\"Times,serif\" font-size=\"14.00\">sin</text>\n",
       "</g>\n",
       "<!-- 35&#45;&#45;43 -->\n",
       "<g id=\"edge43\" class=\"edge\"><title>35&#45;&#45;43</title>\n",
       "<path fill=\"none\" stroke=\"black\" d=\"M417.697,-431.697C417.697,-420.846 417.697,-406.917 417.697,-396.104\"/>\n",
       "</g>\n",
       "<!-- 37 -->\n",
       "<g id=\"node38\" class=\"node\"><title>37</title>\n",
       "<ellipse fill=\"none\" stroke=\"black\" cx=\"322.697\" cy=\"-306\" rx=\"27.8951\" ry=\"18\"/>\n",
       "<text text-anchor=\"middle\" x=\"322.697\" y=\"-302.3\" font-family=\"Times,serif\" font-size=\"14.00\">add</text>\n",
       "</g>\n",
       "<!-- 36&#45;&#45;37 -->\n",
       "<g id=\"edge37\" class=\"edge\"><title>36&#45;&#45;37</title>\n",
       "<path fill=\"none\" stroke=\"black\" d=\"M335.581,-360.055C332.948,-349.211 329.541,-335.183 326.892,-324.275\"/>\n",
       "</g>\n",
       "<!-- 38 -->\n",
       "<g id=\"node39\" class=\"node\"><title>38</title>\n",
       "<ellipse fill=\"none\" stroke=\"black\" cx=\"239.697\" cy=\"-234\" rx=\"27\" ry=\"18\"/>\n",
       "<text text-anchor=\"middle\" x=\"239.697\" y=\"-230.3\" font-family=\"Times,serif\" font-size=\"14.00\">sin</text>\n",
       "</g>\n",
       "<!-- 37&#45;&#45;38 -->\n",
       "<g id=\"edge38\" class=\"edge\"><title>37&#45;&#45;38</title>\n",
       "<path fill=\"none\" stroke=\"black\" d=\"M306.299,-291.17C291.653,-278.819 270.327,-260.832 255.778,-248.563\"/>\n",
       "</g>\n",
       "<!-- 40 -->\n",
       "<g id=\"node41\" class=\"node\"><title>40</title>\n",
       "<ellipse fill=\"none\" stroke=\"black\" cx=\"322.697\" cy=\"-234\" rx=\"27.8951\" ry=\"18\"/>\n",
       "<text text-anchor=\"middle\" x=\"322.697\" y=\"-230.3\" font-family=\"Times,serif\" font-size=\"14.00\">add</text>\n",
       "</g>\n",
       "<!-- 37&#45;&#45;40 -->\n",
       "<g id=\"edge40\" class=\"edge\"><title>37&#45;&#45;40</title>\n",
       "<path fill=\"none\" stroke=\"black\" d=\"M322.697,-287.697C322.697,-276.846 322.697,-262.917 322.697,-252.104\"/>\n",
       "</g>\n",
       "<!-- 39 -->\n",
       "<g id=\"node40\" class=\"node\"><title>39</title>\n",
       "<ellipse fill=\"none\" stroke=\"black\" cx=\"229.697\" cy=\"-162\" rx=\"37.8943\" ry=\"18\"/>\n",
       "<text text-anchor=\"middle\" x=\"229.697\" y=\"-158.3\" font-family=\"Times,serif\" font-size=\"14.00\">ARG0</text>\n",
       "</g>\n",
       "<!-- 38&#45;&#45;39 -->\n",
       "<g id=\"edge39\" class=\"edge\"><title>38&#45;&#45;39</title>\n",
       "<path fill=\"none\" stroke=\"black\" d=\"M237.276,-216.055C235.727,-205.211 233.723,-191.183 232.165,-180.275\"/>\n",
       "</g>\n",
       "<!-- 41 -->\n",
       "<g id=\"node42\" class=\"node\"><title>41</title>\n",
       "<ellipse fill=\"none\" stroke=\"black\" cx=\"322.697\" cy=\"-162\" rx=\"37.8943\" ry=\"18\"/>\n",
       "<text text-anchor=\"middle\" x=\"322.697\" y=\"-158.3\" font-family=\"Times,serif\" font-size=\"14.00\">ARG0</text>\n",
       "</g>\n",
       "<!-- 40&#45;&#45;41 -->\n",
       "<g id=\"edge41\" class=\"edge\"><title>40&#45;&#45;41</title>\n",
       "<path fill=\"none\" stroke=\"black\" d=\"M322.697,-215.697C322.697,-204.846 322.697,-190.917 322.697,-180.104\"/>\n",
       "</g>\n",
       "<!-- 42 -->\n",
       "<g id=\"node43\" class=\"node\"><title>42</title>\n",
       "<ellipse fill=\"none\" stroke=\"black\" cx=\"415.697\" cy=\"-162\" rx=\"37.8943\" ry=\"18\"/>\n",
       "<text text-anchor=\"middle\" x=\"415.697\" y=\"-158.3\" font-family=\"Times,serif\" font-size=\"14.00\">ARG0</text>\n",
       "</g>\n",
       "<!-- 40&#45;&#45;42 -->\n",
       "<g id=\"edge42\" class=\"edge\"><title>40&#45;&#45;42</title>\n",
       "<path fill=\"none\" stroke=\"black\" d=\"M340.189,-219.834C356.185,-207.794 379.805,-190.015 396.356,-177.557\"/>\n",
       "</g>\n",
       "<!-- 44 -->\n",
       "<g id=\"node45\" class=\"node\"><title>44</title>\n",
       "<ellipse fill=\"none\" stroke=\"black\" cx=\"417.697\" cy=\"-306\" rx=\"28.6953\" ry=\"18\"/>\n",
       "<text text-anchor=\"middle\" x=\"417.697\" y=\"-302.3\" font-family=\"Times,serif\" font-size=\"14.00\">mul</text>\n",
       "</g>\n",
       "<!-- 43&#45;&#45;44 -->\n",
       "<g id=\"edge44\" class=\"edge\"><title>43&#45;&#45;44</title>\n",
       "<path fill=\"none\" stroke=\"black\" d=\"M417.697,-359.697C417.697,-348.846 417.697,-334.917 417.697,-324.104\"/>\n",
       "</g>\n",
       "<!-- 45 -->\n",
       "<g id=\"node46\" class=\"node\"><title>45</title>\n",
       "<ellipse fill=\"none\" stroke=\"black\" cx=\"406.697\" cy=\"-234\" rx=\"37.8943\" ry=\"18\"/>\n",
       "<text text-anchor=\"middle\" x=\"406.697\" y=\"-230.3\" font-family=\"Times,serif\" font-size=\"14.00\">ARG0</text>\n",
       "</g>\n",
       "<!-- 44&#45;&#45;45 -->\n",
       "<g id=\"edge45\" class=\"edge\"><title>44&#45;&#45;45</title>\n",
       "<path fill=\"none\" stroke=\"black\" d=\"M415.034,-288.055C413.33,-277.211 411.125,-263.183 409.411,-252.275\"/>\n",
       "</g>\n",
       "<!-- 46 -->\n",
       "<g id=\"node47\" class=\"node\"><title>46</title>\n",
       "<ellipse fill=\"none\" stroke=\"black\" cx=\"499.697\" cy=\"-234\" rx=\"37.8943\" ry=\"18\"/>\n",
       "<text text-anchor=\"middle\" x=\"499.697\" y=\"-230.3\" font-family=\"Times,serif\" font-size=\"14.00\">ARG0</text>\n",
       "</g>\n",
       "<!-- 44&#45;&#45;46 -->\n",
       "<g id=\"edge46\" class=\"edge\"><title>44&#45;&#45;46</title>\n",
       "<path fill=\"none\" stroke=\"black\" d=\"M434.291,-290.834C448.143,-279.009 467.839,-262.196 481.992,-250.114\"/>\n",
       "</g>\n",
       "<!-- 48 -->\n",
       "<g id=\"node49\" class=\"node\"><title>48</title>\n",
       "<ellipse fill=\"none\" stroke=\"black\" cx=\"490.697\" cy=\"-378\" rx=\"27\" ry=\"18\"/>\n",
       "<text text-anchor=\"middle\" x=\"490.697\" y=\"-374.3\" font-family=\"Times,serif\" font-size=\"14.00\">sin</text>\n",
       "</g>\n",
       "<!-- 47&#45;&#45;48 -->\n",
       "<g id=\"edge48\" class=\"edge\"><title>47&#45;&#45;48</title>\n",
       "<path fill=\"none\" stroke=\"black\" d=\"M490.697,-431.697C490.697,-420.846 490.697,-406.917 490.697,-396.104\"/>\n",
       "</g>\n",
       "<!-- 49 -->\n",
       "<g id=\"node50\" class=\"node\"><title>49</title>\n",
       "<ellipse fill=\"none\" stroke=\"black\" cx=\"542.697\" cy=\"-306\" rx=\"27\" ry=\"18\"/>\n",
       "<text text-anchor=\"middle\" x=\"542.697\" y=\"-302.3\" font-family=\"Times,serif\" font-size=\"14.00\">sin</text>\n",
       "</g>\n",
       "<!-- 48&#45;&#45;49 -->\n",
       "<g id=\"edge49\" class=\"edge\"><title>48&#45;&#45;49</title>\n",
       "<path fill=\"none\" stroke=\"black\" d=\"M502.237,-361.465C510.854,-349.865 522.579,-334.082 531.188,-322.492\"/>\n",
       "</g>\n",
       "<!-- 50 -->\n",
       "<g id=\"node51\" class=\"node\"><title>50</title>\n",
       "<ellipse fill=\"none\" stroke=\"black\" cx=\"583.697\" cy=\"-234\" rx=\"27.8951\" ry=\"18\"/>\n",
       "<text text-anchor=\"middle\" x=\"583.697\" y=\"-230.3\" font-family=\"Times,serif\" font-size=\"14.00\">add</text>\n",
       "</g>\n",
       "<!-- 49&#45;&#45;50 -->\n",
       "<g id=\"edge50\" class=\"edge\"><title>49&#45;&#45;50</title>\n",
       "<path fill=\"none\" stroke=\"black\" d=\"M552.206,-288.765C558.83,-277.456 567.627,-262.437 574.239,-251.147\"/>\n",
       "</g>\n",
       "<!-- 51 -->\n",
       "<g id=\"node52\" class=\"node\"><title>51</title>\n",
       "<ellipse fill=\"none\" stroke=\"black\" cx=\"545.697\" cy=\"-162\" rx=\"37.8943\" ry=\"18\"/>\n",
       "<text text-anchor=\"middle\" x=\"545.697\" y=\"-158.3\" font-family=\"Times,serif\" font-size=\"14.00\">ARG0</text>\n",
       "</g>\n",
       "<!-- 50&#45;&#45;51 -->\n",
       "<g id=\"edge51\" class=\"edge\"><title>50&#45;&#45;51</title>\n",
       "<path fill=\"none\" stroke=\"black\" d=\"M574.883,-216.765C568.832,-205.618 560.823,-190.865 554.726,-179.633\"/>\n",
       "</g>\n",
       "<!-- 52 -->\n",
       "<g id=\"node53\" class=\"node\"><title>52</title>\n",
       "<ellipse fill=\"none\" stroke=\"black\" cx=\"638.697\" cy=\"-162\" rx=\"37.8943\" ry=\"18\"/>\n",
       "<text text-anchor=\"middle\" x=\"638.697\" y=\"-158.3\" font-family=\"Times,serif\" font-size=\"14.00\">ARG0</text>\n",
       "</g>\n",
       "<!-- 50&#45;&#45;52 -->\n",
       "<g id=\"edge52\" class=\"edge\"><title>50&#45;&#45;52</title>\n",
       "<path fill=\"none\" stroke=\"black\" d=\"M595.903,-217.465C604.891,-206.026 617.074,-190.519 626.143,-178.977\"/>\n",
       "</g>\n",
       "<!-- 54 -->\n",
       "<g id=\"node55\" class=\"node\"><title>54</title>\n",
       "<ellipse fill=\"none\" stroke=\"black\" cx=\"557.697\" cy=\"-954\" rx=\"27\" ry=\"18\"/>\n",
       "<text text-anchor=\"middle\" x=\"557.697\" y=\"-950.3\" font-family=\"Times,serif\" font-size=\"14.00\">sin</text>\n",
       "</g>\n",
       "<!-- 53&#45;&#45;54 -->\n",
       "<g id=\"edge54\" class=\"edge\"><title>53&#45;&#45;54</title>\n",
       "<path fill=\"none\" stroke=\"black\" d=\"M537.858,-1008.41C541.943,-997.414 547.286,-983.027 551.399,-971.956\"/>\n",
       "</g>\n",
       "<!-- 55 -->\n",
       "<g id=\"node56\" class=\"node\"><title>55</title>\n",
       "<ellipse fill=\"none\" stroke=\"black\" cx=\"606.697\" cy=\"-882\" rx=\"27.8951\" ry=\"18\"/>\n",
       "<text text-anchor=\"middle\" x=\"606.697\" y=\"-878.3\" font-family=\"Times,serif\" font-size=\"14.00\">add</text>\n",
       "</g>\n",
       "<!-- 54&#45;&#45;55 -->\n",
       "<g id=\"edge55\" class=\"edge\"><title>54&#45;&#45;55</title>\n",
       "<path fill=\"none\" stroke=\"black\" d=\"M568.571,-937.465C576.579,-926.026 587.433,-910.519 595.513,-898.977\"/>\n",
       "</g>\n",
       "<!-- 56 -->\n",
       "<g id=\"node57\" class=\"node\"><title>56</title>\n",
       "<ellipse fill=\"none\" stroke=\"black\" cx=\"606.697\" cy=\"-810\" rx=\"27\" ry=\"18\"/>\n",
       "<text text-anchor=\"middle\" x=\"606.697\" y=\"-806.3\" font-family=\"Times,serif\" font-size=\"14.00\">sin</text>\n",
       "</g>\n",
       "<!-- 55&#45;&#45;56 -->\n",
       "<g id=\"edge56\" class=\"edge\"><title>55&#45;&#45;56</title>\n",
       "<path fill=\"none\" stroke=\"black\" d=\"M606.697,-863.697C606.697,-852.846 606.697,-838.917 606.697,-828.104\"/>\n",
       "</g>\n",
       "<!-- 65 -->\n",
       "<g id=\"node66\" class=\"node\"><title>65</title>\n",
       "<ellipse fill=\"none\" stroke=\"black\" cx=\"705.697\" cy=\"-810\" rx=\"27\" ry=\"18\"/>\n",
       "<text text-anchor=\"middle\" x=\"705.697\" y=\"-806.3\" font-family=\"Times,serif\" font-size=\"14.00\">sin</text>\n",
       "</g>\n",
       "<!-- 55&#45;&#45;65 -->\n",
       "<g id=\"edge65\" class=\"edge\"><title>55&#45;&#45;65</title>\n",
       "<path fill=\"none\" stroke=\"black\" d=\"M624.855,-868.161C642.718,-855.531 669.831,-836.36 687.654,-823.758\"/>\n",
       "</g>\n",
       "<!-- 57 -->\n",
       "<g id=\"node58\" class=\"node\"><title>57</title>\n",
       "<ellipse fill=\"none\" stroke=\"black\" cx=\"606.697\" cy=\"-738\" rx=\"27.8951\" ry=\"18\"/>\n",
       "<text text-anchor=\"middle\" x=\"606.697\" y=\"-734.3\" font-family=\"Times,serif\" font-size=\"14.00\">add</text>\n",
       "</g>\n",
       "<!-- 56&#45;&#45;57 -->\n",
       "<g id=\"edge57\" class=\"edge\"><title>56&#45;&#45;57</title>\n",
       "<path fill=\"none\" stroke=\"black\" d=\"M606.697,-791.697C606.697,-780.846 606.697,-766.917 606.697,-756.104\"/>\n",
       "</g>\n",
       "<!-- 58 -->\n",
       "<g id=\"node59\" class=\"node\"><title>58</title>\n",
       "<ellipse fill=\"none\" stroke=\"black\" cx=\"580.697\" cy=\"-666\" rx=\"37.8943\" ry=\"18\"/>\n",
       "<text text-anchor=\"middle\" x=\"580.697\" y=\"-662.3\" font-family=\"Times,serif\" font-size=\"14.00\">ARG0</text>\n",
       "</g>\n",
       "<!-- 57&#45;&#45;58 -->\n",
       "<g id=\"edge58\" class=\"edge\"><title>57&#45;&#45;58</title>\n",
       "<path fill=\"none\" stroke=\"black\" d=\"M600.535,-720.411C596.45,-709.414 591.107,-695.027 586.995,-683.956\"/>\n",
       "</g>\n",
       "<!-- 59 -->\n",
       "<g id=\"node60\" class=\"node\"><title>59</title>\n",
       "<ellipse fill=\"none\" stroke=\"black\" cx=\"663.697\" cy=\"-666\" rx=\"27\" ry=\"18\"/>\n",
       "<text text-anchor=\"middle\" x=\"663.697\" y=\"-662.3\" font-family=\"Times,serif\" font-size=\"14.00\">sin</text>\n",
       "</g>\n",
       "<!-- 57&#45;&#45;59 -->\n",
       "<g id=\"edge59\" class=\"edge\"><title>57&#45;&#45;59</title>\n",
       "<path fill=\"none\" stroke=\"black\" d=\"M619.065,-721.811C628.626,-710.07 641.798,-693.893 651.353,-682.159\"/>\n",
       "</g>\n",
       "<!-- 60 -->\n",
       "<g id=\"node61\" class=\"node\"><title>60</title>\n",
       "<ellipse fill=\"none\" stroke=\"black\" cx=\"663.697\" cy=\"-594\" rx=\"28.6953\" ry=\"18\"/>\n",
       "<text text-anchor=\"middle\" x=\"663.697\" y=\"-590.3\" font-family=\"Times,serif\" font-size=\"14.00\">mul</text>\n",
       "</g>\n",
       "<!-- 59&#45;&#45;60 -->\n",
       "<g id=\"edge60\" class=\"edge\"><title>59&#45;&#45;60</title>\n",
       "<path fill=\"none\" stroke=\"black\" d=\"M663.697,-647.697C663.697,-636.846 663.697,-622.917 663.697,-612.104\"/>\n",
       "</g>\n",
       "<!-- 61 -->\n",
       "<g id=\"node62\" class=\"node\"><title>61</title>\n",
       "<ellipse fill=\"none\" stroke=\"black\" cx=\"580.697\" cy=\"-522\" rx=\"37.8943\" ry=\"18\"/>\n",
       "<text text-anchor=\"middle\" x=\"580.697\" y=\"-518.3\" font-family=\"Times,serif\" font-size=\"14.00\">ARG0</text>\n",
       "</g>\n",
       "<!-- 60&#45;&#45;61 -->\n",
       "<g id=\"edge61\" class=\"edge\"><title>60&#45;&#45;61</title>\n",
       "<path fill=\"none\" stroke=\"black\" d=\"M647.299,-579.17C633.22,-567.297 612.968,-550.216 598.497,-538.013\"/>\n",
       "</g>\n",
       "<!-- 62 -->\n",
       "<g id=\"node63\" class=\"node\"><title>62</title>\n",
       "<ellipse fill=\"none\" stroke=\"black\" cx=\"664.697\" cy=\"-522\" rx=\"27.8951\" ry=\"18\"/>\n",
       "<text text-anchor=\"middle\" x=\"664.697\" y=\"-518.3\" font-family=\"Times,serif\" font-size=\"14.00\">add</text>\n",
       "</g>\n",
       "<!-- 60&#45;&#45;62 -->\n",
       "<g id=\"edge62\" class=\"edge\"><title>60&#45;&#45;62</title>\n",
       "<path fill=\"none\" stroke=\"black\" d=\"M663.944,-575.697C664.099,-564.846 664.298,-550.917 664.452,-540.104\"/>\n",
       "</g>\n",
       "<!-- 63 -->\n",
       "<g id=\"node64\" class=\"node\"><title>63</title>\n",
       "<ellipse fill=\"none\" stroke=\"black\" cx=\"573.697\" cy=\"-450\" rx=\"37.8943\" ry=\"18\"/>\n",
       "<text text-anchor=\"middle\" x=\"573.697\" y=\"-446.3\" font-family=\"Times,serif\" font-size=\"14.00\">ARG0</text>\n",
       "</g>\n",
       "<!-- 62&#45;&#45;63 -->\n",
       "<g id=\"edge63\" class=\"edge\"><title>62&#45;&#45;63</title>\n",
       "<path fill=\"none\" stroke=\"black\" d=\"M647.151,-507.503C631.553,-495.505 608.8,-478.003 592.759,-465.664\"/>\n",
       "</g>\n",
       "<!-- 64 -->\n",
       "<g id=\"node65\" class=\"node\"><title>64</title>\n",
       "<ellipse fill=\"none\" stroke=\"black\" cx=\"666.697\" cy=\"-450\" rx=\"37.8943\" ry=\"18\"/>\n",
       "<text text-anchor=\"middle\" x=\"666.697\" y=\"-446.3\" font-family=\"Times,serif\" font-size=\"14.00\">ARG0</text>\n",
       "</g>\n",
       "<!-- 62&#45;&#45;64 -->\n",
       "<g id=\"edge64\" class=\"edge\"><title>62&#45;&#45;64</title>\n",
       "<path fill=\"none\" stroke=\"black\" d=\"M665.191,-503.697C665.501,-492.846 665.899,-478.917 666.208,-468.104\"/>\n",
       "</g>\n",
       "<!-- 66 -->\n",
       "<g id=\"node67\" class=\"node\"><title>66</title>\n",
       "<ellipse fill=\"none\" stroke=\"black\" cx=\"732.697\" cy=\"-738\" rx=\"27\" ry=\"18\"/>\n",
       "<text text-anchor=\"middle\" x=\"732.697\" y=\"-734.3\" font-family=\"Times,serif\" font-size=\"14.00\">sin</text>\n",
       "</g>\n",
       "<!-- 65&#45;&#45;66 -->\n",
       "<g id=\"edge66\" class=\"edge\"><title>65&#45;&#45;66</title>\n",
       "<path fill=\"none\" stroke=\"black\" d=\"M712.095,-792.411C716.337,-781.414 721.886,-767.027 726.156,-755.956\"/>\n",
       "</g>\n",
       "<!-- 67 -->\n",
       "<g id=\"node68\" class=\"node\"><title>67</title>\n",
       "<ellipse fill=\"none\" stroke=\"black\" cx=\"759.697\" cy=\"-666\" rx=\"27.8951\" ry=\"18\"/>\n",
       "<text text-anchor=\"middle\" x=\"759.697\" y=\"-662.3\" font-family=\"Times,serif\" font-size=\"14.00\">add</text>\n",
       "</g>\n",
       "<!-- 66&#45;&#45;67 -->\n",
       "<g id=\"edge67\" class=\"edge\"><title>66&#45;&#45;67</title>\n",
       "<path fill=\"none\" stroke=\"black\" d=\"M739.095,-720.411C743.337,-709.414 748.886,-695.027 753.156,-683.956\"/>\n",
       "</g>\n",
       "<!-- 68 -->\n",
       "<g id=\"node69\" class=\"node\"><title>68</title>\n",
       "<ellipse fill=\"none\" stroke=\"black\" cx=\"759.697\" cy=\"-594\" rx=\"27\" ry=\"18\"/>\n",
       "<text text-anchor=\"middle\" x=\"759.697\" y=\"-590.3\" font-family=\"Times,serif\" font-size=\"14.00\">sin</text>\n",
       "</g>\n",
       "<!-- 67&#45;&#45;68 -->\n",
       "<g id=\"edge68\" class=\"edge\"><title>67&#45;&#45;68</title>\n",
       "<path fill=\"none\" stroke=\"black\" d=\"M759.697,-647.697C759.697,-636.846 759.697,-622.917 759.697,-612.104\"/>\n",
       "</g>\n",
       "<!-- 77 -->\n",
       "<g id=\"node78\" class=\"node\"><title>77</title>\n",
       "<ellipse fill=\"none\" stroke=\"black\" cx=\"837.697\" cy=\"-594\" rx=\"27\" ry=\"18\"/>\n",
       "<text text-anchor=\"middle\" x=\"837.697\" y=\"-590.3\" font-family=\"Times,serif\" font-size=\"14.00\">sin</text>\n",
       "</g>\n",
       "<!-- 67&#45;&#45;77 -->\n",
       "<g id=\"edge77\" class=\"edge\"><title>67&#45;&#45;77</title>\n",
       "<path fill=\"none\" stroke=\"black\" d=\"M775.481,-650.834C789.103,-638.61 808.665,-621.054 822.202,-608.906\"/>\n",
       "</g>\n",
       "<!-- 69 -->\n",
       "<g id=\"node70\" class=\"node\"><title>69</title>\n",
       "<ellipse fill=\"none\" stroke=\"black\" cx=\"759.697\" cy=\"-522\" rx=\"27.8951\" ry=\"18\"/>\n",
       "<text text-anchor=\"middle\" x=\"759.697\" y=\"-518.3\" font-family=\"Times,serif\" font-size=\"14.00\">add</text>\n",
       "</g>\n",
       "<!-- 68&#45;&#45;69 -->\n",
       "<g id=\"edge69\" class=\"edge\"><title>68&#45;&#45;69</title>\n",
       "<path fill=\"none\" stroke=\"black\" d=\"M759.697,-575.697C759.697,-564.846 759.697,-550.917 759.697,-540.104\"/>\n",
       "</g>\n",
       "<!-- 70 -->\n",
       "<g id=\"node71\" class=\"node\"><title>70</title>\n",
       "<ellipse fill=\"none\" stroke=\"black\" cx=\"759.697\" cy=\"-450\" rx=\"37.8943\" ry=\"18\"/>\n",
       "<text text-anchor=\"middle\" x=\"759.697\" y=\"-446.3\" font-family=\"Times,serif\" font-size=\"14.00\">ARG0</text>\n",
       "</g>\n",
       "<!-- 69&#45;&#45;70 -->\n",
       "<g id=\"edge70\" class=\"edge\"><title>69&#45;&#45;70</title>\n",
       "<path fill=\"none\" stroke=\"black\" d=\"M759.697,-503.697C759.697,-492.846 759.697,-478.917 759.697,-468.104\"/>\n",
       "</g>\n",
       "<!-- 71 -->\n",
       "<g id=\"node72\" class=\"node\"><title>71</title>\n",
       "<ellipse fill=\"none\" stroke=\"black\" cx=\"842.697\" cy=\"-450\" rx=\"27\" ry=\"18\"/>\n",
       "<text text-anchor=\"middle\" x=\"842.697\" y=\"-446.3\" font-family=\"Times,serif\" font-size=\"14.00\">sin</text>\n",
       "</g>\n",
       "<!-- 69&#45;&#45;71 -->\n",
       "<g id=\"edge71\" class=\"edge\"><title>69&#45;&#45;71</title>\n",
       "<path fill=\"none\" stroke=\"black\" d=\"M776.095,-507.17C790.74,-494.819 812.067,-476.832 826.615,-464.563\"/>\n",
       "</g>\n",
       "<!-- 72 -->\n",
       "<g id=\"node73\" class=\"node\"><title>72</title>\n",
       "<ellipse fill=\"none\" stroke=\"black\" cx=\"842.697\" cy=\"-378\" rx=\"28.6953\" ry=\"18\"/>\n",
       "<text text-anchor=\"middle\" x=\"842.697\" y=\"-374.3\" font-family=\"Times,serif\" font-size=\"14.00\">mul</text>\n",
       "</g>\n",
       "<!-- 71&#45;&#45;72 -->\n",
       "<g id=\"edge72\" class=\"edge\"><title>71&#45;&#45;72</title>\n",
       "<path fill=\"none\" stroke=\"black\" d=\"M842.697,-431.697C842.697,-420.846 842.697,-406.917 842.697,-396.104\"/>\n",
       "</g>\n",
       "<!-- 73 -->\n",
       "<g id=\"node74\" class=\"node\"><title>73</title>\n",
       "<ellipse fill=\"none\" stroke=\"black\" cx=\"800.697\" cy=\"-306\" rx=\"37.8943\" ry=\"18\"/>\n",
       "<text text-anchor=\"middle\" x=\"800.697\" y=\"-302.3\" font-family=\"Times,serif\" font-size=\"14.00\">ARG0</text>\n",
       "</g>\n",
       "<!-- 72&#45;&#45;73 -->\n",
       "<g id=\"edge73\" class=\"edge\"><title>72&#45;&#45;73</title>\n",
       "<path fill=\"none\" stroke=\"black\" d=\"M832.955,-360.765C826.267,-349.618 817.416,-334.865 810.677,-323.633\"/>\n",
       "</g>\n",
       "<!-- 74 -->\n",
       "<g id=\"node75\" class=\"node\"><title>74</title>\n",
       "<ellipse fill=\"none\" stroke=\"black\" cx=\"884.697\" cy=\"-306\" rx=\"27.8951\" ry=\"18\"/>\n",
       "<text text-anchor=\"middle\" x=\"884.697\" y=\"-302.3\" font-family=\"Times,serif\" font-size=\"14.00\">add</text>\n",
       "</g>\n",
       "<!-- 72&#45;&#45;74 -->\n",
       "<g id=\"edge74\" class=\"edge\"><title>72&#45;&#45;74</title>\n",
       "<path fill=\"none\" stroke=\"black\" d=\"M852.438,-360.765C859.223,-349.456 868.235,-334.437 875.008,-323.147\"/>\n",
       "</g>\n",
       "<!-- 75 -->\n",
       "<g id=\"node76\" class=\"node\"><title>75</title>\n",
       "<ellipse fill=\"none\" stroke=\"black\" cx=\"838.697\" cy=\"-234\" rx=\"37.8943\" ry=\"18\"/>\n",
       "<text text-anchor=\"middle\" x=\"838.697\" y=\"-230.3\" font-family=\"Times,serif\" font-size=\"14.00\">ARG0</text>\n",
       "</g>\n",
       "<!-- 74&#45;&#45;75 -->\n",
       "<g id=\"edge75\" class=\"edge\"><title>74&#45;&#45;75</title>\n",
       "<path fill=\"none\" stroke=\"black\" d=\"M874.259,-289.116C866.836,-277.821 856.897,-262.696 849.413,-251.307\"/>\n",
       "</g>\n",
       "<!-- 76 -->\n",
       "<g id=\"node77\" class=\"node\"><title>76</title>\n",
       "<ellipse fill=\"none\" stroke=\"black\" cx=\"931.697\" cy=\"-234\" rx=\"37.8943\" ry=\"18\"/>\n",
       "<text text-anchor=\"middle\" x=\"931.697\" y=\"-230.3\" font-family=\"Times,serif\" font-size=\"14.00\">ARG0</text>\n",
       "</g>\n",
       "<!-- 74&#45;&#45;76 -->\n",
       "<g id=\"edge76\" class=\"edge\"><title>74&#45;&#45;76</title>\n",
       "<path fill=\"none\" stroke=\"black\" d=\"M895.362,-289.116C902.945,-277.821 913.101,-262.696 920.748,-251.307\"/>\n",
       "</g>\n",
       "<!-- 78 -->\n",
       "<g id=\"node79\" class=\"node\"><title>78</title>\n",
       "<ellipse fill=\"none\" stroke=\"black\" cx=\"843.697\" cy=\"-522\" rx=\"37.8943\" ry=\"18\"/>\n",
       "<text text-anchor=\"middle\" x=\"843.697\" y=\"-518.3\" font-family=\"Times,serif\" font-size=\"14.00\">ARG0</text>\n",
       "</g>\n",
       "<!-- 77&#45;&#45;78 -->\n",
       "<g id=\"edge78\" class=\"edge\"><title>77&#45;&#45;78</title>\n",
       "<path fill=\"none\" stroke=\"black\" d=\"M839.18,-575.697C840.11,-564.846 841.304,-550.917 842.231,-540.104\"/>\n",
       "</g>\n",
       "</g>\n",
       "</svg>\n"
      ],
      "text/plain": [
       "<graphviz.dot.Graph at 0x7fc1f8d4d470>"
      ]
     },
     "execution_count": 33,
     "metadata": {},
     "output_type": "execute_result"
    }
   ],
   "source": [
    "plot_graph(hof[0], 5)"
   ]
  },
  {
   "cell_type": "markdown",
   "metadata": {
    "slideshow": {
     "slide_type": "slide"
    }
   },
   "source": [
    "# Musíme pracovať len so stromom?"
   ]
  },
  {
   "cell_type": "markdown",
   "metadata": {
    "slideshow": {
     "slide_type": "slide"
    }
   },
   "source": [
    "# Lineárne genetické programovanie\n",
    "\n",
    "- jedinec nie je dátová štruktúra, ale lineárny reťazec (genotyp)\n",
    " - čísel, inštrukcií\n",
    "- kríženie a mutácia sa vykonávajú na lineárnom reťazci\n",
    " - podobnosť s genetickým algoritmom\n",
    "- vykonateľná dátová štruktúra, alebo program (fenotyp) sa vytvára pomocou mapovacieho procesu"
   ]
  },
  {
   "cell_type": "markdown",
   "metadata": {
    "slideshow": {
     "slide_type": "slide"
    }
   },
   "source": [
    "# Karteziánske genetické programovanie"
   ]
  },
  {
   "cell_type": "markdown",
   "metadata": {},
   "source": [
    "![cgp1](cgp1.png)"
   ]
  },
  {
   "cell_type": "markdown",
   "metadata": {
    "slideshow": {
     "slide_type": "subslide"
    }
   },
   "source": [
    "![CGP2](cgp2.png)"
   ]
  },
  {
   "cell_type": "markdown",
   "metadata": {
    "slideshow": {
     "slide_type": "slide"
    }
   },
   "source": [
    "# Symbolická regresia reloaded\n"
   ]
  },
  {
   "cell_type": "code",
   "execution_count": 39,
   "metadata": {},
   "outputs": [
    {
     "data": {
      "text/plain": [
       "{0: <function pycgp.benchmarks.symbolic.add>,\n",
       " 1: <function pycgp.benchmarks.symbolic.mul>,\n",
       " 2: <function pycgp.benchmarks.symbolic.pdiv>,\n",
       " 3: <function pycgp.benchmarks.symbolic.sub>,\n",
       " 4: <function pycgp.benchmarks.symbolic.plog>,\n",
       " 5: <function pycgp.benchmarks.symbolic.sin>,\n",
       " 6: <function pycgp.benchmarks.symbolic.cos>}"
      ]
     },
     "execution_count": 39,
     "metadata": {},
     "output_type": "execute_result"
    }
   ],
   "source": [
    "from pycgp.evolution import evolution\n",
    "from pycgp.mutation import probabilistic_mutation\n",
    "from pycgp.benchmarks.symbolic import X, y, PARAMS, EV_PARAMS\n",
    "from pycgp import Params, EvParams\n",
    "PARAMS['funset']"
   ]
  },
  {
   "cell_type": "code",
   "execution_count": 53,
   "metadata": {
    "slideshow": {
     "slide_type": "subslide"
    }
   },
   "outputs": [
    {
     "name": "stdout",
     "output_type": "stream",
     "text": [
      "CPU times: user 13.5 s, sys: 78.1 ms, total: 13.6 s\n",
      "Wall time: 13.6 s\n"
     ]
    }
   ],
   "source": [
    "%%time\n",
    "\n",
    "ev_params = EvParams(EV_PARAMS['cost_func'], target_fitness=0, mutation=probabilistic_mutation, max_evaluations=10000)\n",
    "params = Params(1, 1, n_columns=23, funset=PARAMS['funset'])\n",
    "\n",
    "random.seed(2)\n",
    "result = evolution(params, ev_params, X, y)"
   ]
  },
  {
   "cell_type": "code",
   "execution_count": 66,
   "metadata": {
    "slideshow": {
     "slide_type": "subslide"
    }
   },
   "outputs": [
    {
     "name": "stdout",
     "output_type": "stream",
     "text": [
      "Train error: 0.0000\n",
      "add(sin(mul(x0,x0)),sin(add(x0,mul(x0,x0))))\n"
     ]
    },
    {
     "data": {
      "image/png": "[encoded data removed]",
      "text/plain": [
       "<matplotlib.figure.Figure at 0x7fc1f8d6a710>"
      ]
     },
     "metadata": {},
     "output_type": "display_data"
    }
   ],
   "source": [
    "best = result['stats']['best']\n",
    "print('Train error: {:.4f}'.format(best.fitness))\n",
    "print(best)\n",
    "\n",
    "plt.scatter(X, y, c='#aaaaaa')\n",
    "plt.plot(X, best.execute(X), c='red');"
   ]
  },
  {
   "cell_type": "markdown",
   "metadata": {
    "slideshow": {
     "slide_type": "subslide"
    }
   },
   "source": [
    "<img style=\"width:70%\" src=\"https://raw.githubusercontent.com/Jarino/bd-seminar-gp/master/symbolic-regression-best-individual.png\">"
   ]
  },
  {
   "cell_type": "markdown",
   "metadata": {
    "slideshow": {
     "slide_type": "slide"
    }
   },
   "source": [
    "# Špička ľadovca\n",
    "\n",
    "\n",
    "|              | GP využívajúce stromy                       | Lineárne GP |\n",
    "| --- | --- | --- |\n",
    "| **Bez gramatík** | Štandardné GP (Koza, 1992)                  | Lineárne GP (Banzaf, 1993) |\n",
    "|              | Sémantické GP (Jackson, 2010)               | Karteziánske GP (Miller, 2000) |\n",
    "|              | Štatistické GP (Haeri, 2014)                |  |\n",
    "|              | Geometricko-sémantické GP (Vanneschi, 2017) |  |\n",
    "| **S gramatikou** | GP s bezkontextovými gramatikami (Whigham, 1995) | Gramatická evolúcia (Ryan, 1998) |"
   ]
  },
  {
   "cell_type": "markdown",
   "metadata": {
    "slideshow": {
     "slide_type": "slide"
    }
   },
   "source": [
    "# Na čom robíme my\n",
    "\n",
    "- **Karteziánske GP**\n",
    "- aplikácia gemov na zrýchlenie konvergenice\n",
    "- aplikácia Karteziánskeho GP pri výskume Alzheimerovej choroby"
   ]
  },
  {
   "cell_type": "markdown",
   "metadata": {},
   "source": [
    "![mri](https://tadpole.grand-challenge.org/site/TADPOLE/serve/public_html/pet.jpg/)"
   ]
  },
  {
   "attachments": {},
   "cell_type": "markdown",
   "metadata": {
    "slideshow": {
     "slide_type": "slide"
    }
   },
   "source": [
    "# Zhrnutie\n",
    "\n",
    "- GP je flexibilný nástroj pre mnoho úloh\n",
    " - Extrakcia čŕt (Khayam 2014)\n",
    " - Evolúcia neurónových sietí (Khan 2017)\n",
    " - Klasifikácia (Ahmad 2014)\n",
    " - Zhlukovanie (Lensen, 2017)\n",
    " - Symbolická regresia (Izzo 2017)\n",
    " - ...\n",
    "- Vysoká výpočtová náročnosť"
   ]
  },
  {
   "cell_type": "markdown",
   "metadata": {
    "slideshow": {
     "slide_type": "subslide"
    }
   },
   "source": [
    "# Referencie\n",
    "- KOZA, J.R. Genetic programming: on the programming of computers by means of natural selection. . [s.l.]: MIT press, 1992.\n",
    "- KHAYAM, U. et al. Features Extraction of Growth Trend in Social Websites Using Non-linear Genetic Programming. In ILIADIS, L. et al.Ed. Artificial Intelligence Applications and Innovations: 10th IFIP WG 12.5 International Conference, AIAI 2014, Rhodes, Greece, September 19-21, 2014. Proceedings [online]. Berlin, Heidelberg: Springer Berlin Heidelberg, 2014. s. 414–423. ISBN 978-3-662-44654-6Dostupné na internete: https://doi.org/10.1007/978-3-662-44654-6_41\n",
    "- KHAN, M.M. et al. Evolving multi-dimensional wavelet neural networks for classification using Cartesian Genetic Programming. In Neurocomputing [online]. 2017. Vol. 247, no. Supplement C, s. 39–58. Dostupné na internete: http://www.sciencedirect.com/science/article/pii/S0925231217305635\n",
    "- AHMAD, A.M. et al. Classification of Mammograms Using Cartesian Genetic Programming Evolved Artificial Neural Networks. In ILIADIS, L. et al.Ed. Artificial Intelligence Applications and Innovations: 10th IFIP WG 12.5 International Conference, AIAI 2014, Rhodes, Greece, September 19-21, 2014. Proceedings [online]. Berlin, Heidelberg: Springer Berlin Heidelberg, 2014. s. 203–213. ISBN 978-3-662-44654-6Dostupné na internete: https://doi.org/10.1007/978-3-662-44654-6_20\n",
    "- LENSEN, A. et al. GPGC: Genetic Programming for Automatic Clustering Using a Flexible Non-hyper-spherical Graph-based Approach. In Proceedings of the Genetic and Evolutionary Computation Conference [online]. New York, NY, USA: ACM, 2017. s. 449–456. Dostupné na internete: <http://doi.acm.org/10.1145/3071178.3071222>.\n",
    "- IZZO, D. et al. Differentiable Genetic Programming. In MCDERMOTT, J. et al.Ed. Genetic Programming: 20th European Conference, EuroGP 2017, Amsterdam, The Netherlands, April 19-21, 2017, Proceedings [online]. Cham: Springer International Publishing, 2017. s. 35–51. ISBN 978-3-319-55696-3Dostupné na internete: <https://doi.org/10.1007/978-3-319-55696-3_3>.\n"
   ]
  },
  {
   "attachments": {},
   "cell_type": "markdown",
   "metadata": {
    "slideshow": {
     "slide_type": "subslide"
    }
   },
   "source": [
    "# Zdroje\n",
    "- **Info**\n",
    " - http://geneticprogramming.com/tutorial/ \n",
    " - http://www.cartesiangp.co.uk/\n",
    " - http://cswww.essex.ac.uk/staff/poli/gp-field-guide/toc.html \n",
    "- **Software**\n",
    " - https://github.com/DEAP/deap\n",
    " - https://github.com/trevorstephens/gplearn\n",
    " - https://github.com/Ohjeah/cartesian\n",
    " - https://github.com/AndrewJamesTurner/CGP-Library\n",
    " - https://epistasislab.github.io/ellyn/\n"
   ]
  },
  {
   "cell_type": "code",
   "execution_count": null,
   "metadata": {},
   "outputs": [],
   "source": []
  }
 ],
 "metadata": {
  "celltoolbar": "Slideshow",
  "kernelspec": {
   "display_name": "Python 3",
   "language": "python",
   "name": "python3"
  },
  "language_info": {
   "codemirror_mode": {
    "name": "ipython",
    "version": 3
   },
   "file_extension": ".py",
   "mimetype": "text/x-python",
   "name": "python",
   "nbconvert_exporter": "python",
   "pygments_lexer": "ipython3",
   "version": "3.6.4"
  }
 },
 "nbformat": 4,
 "nbformat_minor": 2
}
