{
 "cells": [
  {
   "cell_type": "markdown",
   "metadata": {
    "slideshow": {
     "slide_type": "slide"
    }
   },
   "source": [
    "# Evolučné algoritmy a genetické programovanie\n",
    "\n",
    "Jaroslav Loebl, jaroslavloebl@gmail.com, Objavovanie znalostí, 4.5.2018"
   ]
  },
  {
   "cell_type": "markdown",
   "metadata": {
    "slideshow": {
     "slide_type": "skip"
    }
   },
   "source": [
    "Motivačné príklady\n",
    "Reprodukcia obrazu https://www.youtube.com/watch?v=iV-hah6xs2A\n",
    "\n",
    "Vozidlo https://www.youtube.com/watch?v=FKbarpAlBkw\n",
    "\n",
    "Genetic Walkers https://www.youtube.com/watch?v=XiJ537K_9ww\n",
    "\n",
    "Santa Fe https://www.youtube.com/watch?v=BKF7pGw8qbY "
   ]
  },
  {
   "cell_type": "code",
   "execution_count": 1,
   "metadata": {
    "slideshow": {
     "slide_type": "slide"
    }
   },
   "outputs": [
    {
     "data": {
      "text/html": [
       "<iframe class='video' src=\"https://www.youtube.com/embed/iV-hah6xs2A\" disablekb='1' frameborder=\"0\" allow=\"autoplay; encrypted-media\" allowfullscreen></iframe>"
      ],
      "text/plain": [
       "<IPython.core.display.HTML object>"
      ]
     },
     "metadata": {},
     "output_type": "display_data"
    }
   ],
   "source": [
    "%%HTML \n",
    "<iframe class='video' src=\"https://www.youtube.com/embed/iV-hah6xs2A\" disablekb='1' frameborder=\"0\" allow=\"autoplay; encrypted-media\" allowfullscreen></iframe>"
   ]
  },
  {
   "cell_type": "code",
   "execution_count": 2,
   "metadata": {
    "slideshow": {
     "slide_type": "subslide"
    }
   },
   "outputs": [
    {
     "data": {
      "text/html": [
       "<iframe class='video' src=\"https://www.youtube.com/embed/FKbarpAlBkw\" disablekb='1' frameborder=\"0\" allow=\"autoplay; encrypted-media\" allowfullscreen></iframe>"
      ],
      "text/plain": [
       "<IPython.core.display.HTML object>"
      ]
     },
     "metadata": {},
     "output_type": "display_data"
    }
   ],
   "source": [
    "%%HTML \n",
    "<iframe class='video' src=\"https://www.youtube.com/embed/FKbarpAlBkw\" disablekb='1' frameborder=\"0\" allow=\"autoplay; encrypted-media\" allowfullscreen></iframe>"
   ]
  },
  {
   "cell_type": "code",
   "execution_count": 3,
   "metadata": {
    "slideshow": {
     "slide_type": "subslide"
    }
   },
   "outputs": [
    {
     "data": {
      "text/html": [
       "<iframe class='video' src=\"https://www.youtube.com/embed/XiJ537K_9ww\" disablekb='1' frameborder=\"0\" allow=\"autoplay; encrypted-media\" allowfullscreen></iframe>"
      ],
      "text/plain": [
       "<IPython.core.display.HTML object>"
      ]
     },
     "metadata": {},
     "output_type": "display_data"
    }
   ],
   "source": [
    "%%HTML \n",
    "<iframe class='video' src=\"https://www.youtube.com/embed/XiJ537K_9ww\" disablekb='1' frameborder=\"0\" allow=\"autoplay; encrypted-media\" allowfullscreen></iframe>"
   ]
  },
  {
   "cell_type": "markdown",
   "metadata": {
    "slideshow": {
     "slide_type": "slide"
    }
   },
   "source": [
    "## Čo majú predchádzajúce videá spoločné?"
   ]
  },
  {
   "cell_type": "markdown",
   "metadata": {
    "slideshow": {
     "slide_type": "fragment"
    }
   },
   "source": [
    "# Evolučné algoritmy"
   ]
  },
  {
   "cell_type": "markdown",
   "metadata": {
    "slideshow": {
     "slide_type": "slide"
    }
   },
   "source": [
    "# Základné princípy evolúcie"
   ]
  },
  {
   "cell_type": "markdown",
   "metadata": {
    "slideshow": {
     "slide_type": "subslide"
    }
   },
   "source": [
    "- populácia jedincov\n",
    "\n",
    "![Beavers](beavers-1.png)"
   ]
  },
  {
   "cell_type": "markdown",
   "metadata": {
    "slideshow": {
     "slide_type": "subslide"
    }
   },
   "source": [
    "- prežijú tí najsilnejší (fitness)\n",
    "\n",
    "![Beavers](beavers-2.png)"
   ]
  },
  {
   "cell_type": "markdown",
   "metadata": {
    "slideshow": {
     "slide_type": "subslide"
    }
   },
   "source": [
    "- výber jedincov pre párenie (selekcia)\n",
    "\n",
    "![Beavers](beavers-3.png)"
   ]
  },
  {
   "cell_type": "markdown",
   "metadata": {
    "slideshow": {
     "slide_type": "subslide"
    }
   },
   "source": [
    "- reprodukcia (kríženie)\n",
    "\n",
    "![Beavers](beavers-4.png)"
   ]
  },
  {
   "cell_type": "markdown",
   "metadata": {
    "slideshow": {
     "slide_type": "subslide"
    }
   },
   "source": [
    "- náhodná mutácia v genofonde potomka (mutácia)\n",
    "\n",
    "![Beavers](beavers-5.png)"
   ]
  },
  {
   "cell_type": "markdown",
   "metadata": {
    "slideshow": {
     "slide_type": "slide"
    }
   },
   "source": [
    "<div style=\"display: flex;\">\n",
    "<div>\n",
    "<h1>Základné princípy evolúcie</h1>\n",
    "<ul>\n",
    "    <li>populácia jedincov</li>\n",
    "    <li>prežijú tí najsilnejší (fitness)</li>\n",
    "    <li>výber jedincov pre párenie (selekcia)</li>\n",
    "    <li>reprodukcia (kríženie)</li>\n",
    "    <li>náhodná mutácia v genofonde potomka (mutácia)</li>\n",
    "</ul>\n",
    "</div>\n",
    "\n",
    "<div style=\"width: 50%\">\n",
    "<img style=\"float: right\" src=\"beavers-5.png\">\n",
    "</div>\n",
    "</div>"
   ]
  },
  {
   "cell_type": "markdown",
   "metadata": {
    "slideshow": {
     "slide_type": "slide"
    }
   },
   "source": [
    "<div style=\"display: flex;\">\n",
    "\n",
    "<div>\n",
    "<h1>Základné princípy evolúcie</h1>\n",
    "<ul>\n",
    "    <li>populácia jedincov</li>\n",
    "    <li>prežijú tí najsilnejší (fitness)</li>\n",
    "    <li>výber jedincov pre párenie (selekcia)</li>\n",
    "    <li>reprodukcia (kríženie)</li>\n",
    "<li>náhodná mutácia v genofonde potomka (mutácia)</li>\n",
    "</ul>\n",
    "</div>\n",
    "\n",
    "<div style=\"width: 50%\">\n",
    "<img style=\"float: right\" src=\"ga-1.png\">\n",
    "</div>\n",
    "</div>    \n"
   ]
  },
  {
   "cell_type": "markdown",
   "metadata": {
    "slideshow": {
     "slide_type": "slide"
    }
   },
   "source": [
    "<div style=\"display: flex;\">\n",
    "\n",
    "<div>\n",
    "<h1>Genetický algoritmus</h1>\n",
    "<ul>\n",
    "    <li>jedinec\n",
    "        <ul>\n",
    "            <li>\n",
    "               $ X \\in \\{0,1\\}^n $\n",
    "            </li>\n",
    "        </ul>\n",
    "    </li>\n",
    "    <li> Fitness funkcia\n",
    "        <ul>\n",
    "            $ f(X): \\{0,1\\}^n \\rightarrow \\Bbb{R} $\n",
    "        </ul>\n",
    "    </li>\n",
    "    <li> Úloha\n",
    "        <ul>\n",
    "            $ argmax_{X\\in\\{0,1\\}^n} f(X) $\n",
    "        </ul>\n",
    "    </li>\n",
    "    <li>Nový jedinec pomocou kríženia a mutácie</li>\n",
    "</ul>\n",
    "</div>\n",
    "\n",
    "<div style=\"width: 50%\">\n",
    "<img style=\"float: right\" src=\"ga-1.png\">\n",
    "</div>\n",
    "</div>    "
   ]
  },
  {
   "cell_type": "markdown",
   "metadata": {
    "slideshow": {
     "slide_type": "slide"
    }
   },
   "source": [
    "# Genetický algoritmus - rôzne reprezentácie\n",
    "\n",
    "![ga-2](ga-2.png)"
   ]
  },
  {
   "cell_type": "markdown",
   "metadata": {
    "slideshow": {
     "slide_type": "slide"
    }
   },
   "source": [
    "# k-Means\n",
    "\n",
    "<div style=\"display: flex; justify-content: space-around\">\n",
    "<img src=\"https://upload.wikimedia.org/wikipedia/commons/e/ea/K-means_convergence.gif\" style=\"width: 50%\">\n",
    "</div>"
   ]
  },
  {
   "cell_type": "markdown",
   "metadata": {
    "slideshow": {
     "slide_type": "slide"
    }
   },
   "source": [
    "# k-Means a genetický algoritmus"
   ]
  },
  {
   "cell_type": "code",
   "execution_count": 4,
   "metadata": {
    "slideshow": {
     "slide_type": "skip"
    }
   },
   "outputs": [],
   "source": [
    "import matplotlib.pyplot as plt\n",
    "%matplotlib inline\n",
    "import numpy as np\n",
    "from sklearn.datasets import make_blobs\n",
    "N_CLUSTERS = 3"
   ]
  },
  {
   "cell_type": "code",
   "execution_count": 5,
   "metadata": {
    "slideshow": {
     "slide_type": "-"
    }
   },
   "outputs": [
    {
     "data": {
      "text/plain": [
       "<matplotlib.collections.PathCollection at 0x7faf4229e828>"
      ]
     },
     "execution_count": 5,
     "metadata": {},
     "output_type": "execute_result"
    },
    {
     "data": {
      "image/png": "[encoded data removed]",
      "text/plain": [
       "<matplotlib.figure.Figure at 0x7faf4ac29630>"
      ]
     },
     "metadata": {},
     "output_type": "display_data"
    }
   ],
   "source": [
    "samples, labels = make_blobs(n_samples=50, centers=N_CLUSTERS, random_state=24)\n",
    "plt.scatter(samples[:,0], samples[:,1])"
   ]
  },
  {
   "cell_type": "code",
   "execution_count": 6,
   "metadata": {
    "slideshow": {
     "slide_type": "skip"
    }
   },
   "outputs": [],
   "source": [
    "import random\n",
    "\n",
    "from deap import base\n",
    "from deap import creator\n",
    "from deap import tools\n",
    "from deap.algorithms import eaSimple\n",
    "\n",
    "creator.create('Fitness', base.Fitness, weights=(-1.0,))\n",
    "creator.create('Individual', list, fitness=creator.Fitness)\n",
    "\n",
    "toolbox = base.Toolbox()\n",
    "toolbox.register('attr_int', random.randint, 0, N_CLUSTERS-1)\n",
    "toolbox.register('individual', tools.initRepeat, creator.Individual, toolbox.attr_int, 50)\n",
    "toolbox.register('population', tools.initRepeat, list, toolbox.individual)"
   ]
  },
  {
   "cell_type": "code",
   "execution_count": 7,
   "metadata": {
    "slideshow": {
     "slide_type": "subslide"
    }
   },
   "outputs": [
    {
     "name": "stdout",
     "output_type": "stream",
     "text": [
      "[2, 0, 1, 2, 1, 0, 0, 2, 2, 0, 0, 2, 1, 1, 0, 2, 0, 0, 1, 1, 0, 2, 1, 2, 0, 0, 1, 0, 1, 2, 0, 2, 2, 1, 2, 2, 2, 0, 0, 2, 0, 0, 1, 2, 0, 2, 2, 0, 0, 0]\n"
     ]
    },
    {
     "data": {
      "image/png": "[encoded data removed]",
      "text/plain": [
       "<matplotlib.figure.Figure at 0x7faf422469b0>"
      ]
     },
     "metadata": {},
     "output_type": "display_data"
    }
   ],
   "source": [
    "individual = toolbox.individual()\n",
    "print(individual)\n",
    "plt.scatter(samples[:,0], samples[:,1], c=individual);"
   ]
  },
  {
   "cell_type": "code",
   "execution_count": 8,
   "metadata": {
    "slideshow": {
     "slide_type": "-"
    }
   },
   "outputs": [],
   "source": [
    "def cost_function(vec):\n",
    "    vec = np.array(vec)\n",
    "    total = 0\n",
    "    for i in range(0, N_CLUSTERS):\n",
    "        sample = samples[vec == i]\n",
    "        total += np.trace(np.cov(sample[:, 0], sample[:, 1]))\n",
    "    return (total,)"
   ]
  },
  {
   "cell_type": "code",
   "execution_count": 9,
   "metadata": {
    "slideshow": {
     "slide_type": "skip"
    }
   },
   "outputs": [],
   "source": [
    "\n",
    "toolbox.register('evaluate', cost_function)\n",
    "toolbox.register('mate', tools.cxTwoPoint)\n",
    "toolbox.register('mutate', tools.mutUniformInt, low=0, up=N_CLUSTERS-1, indpb=0.05)\n",
    "toolbox.register('select', tools.selTournament, tournsize=3)\n",
    "\n",
    "random.seed(0)\n",
    "\n",
    "pop = toolbox.population(n=300)\n",
    "hof = tools.HallOfFame(5)"
   ]
  },
  {
   "cell_type": "code",
   "execution_count": 10,
   "metadata": {
    "slideshow": {
     "slide_type": "subslide"
    }
   },
   "outputs": [
    {
     "name": "stdout",
     "output_type": "stream",
     "text": [
      "CPU times: user 7.23 s, sys: 188 ms, total: 7.42 s\n",
      "Wall time: 3.74 s\n"
     ]
    }
   ],
   "source": [
    "%%time\n",
    "pop, log = eaSimple(pop, toolbox, cxpb=0.8, mutpb=0.2, ngen=30, halloffame=hof, verbose=False)"
   ]
  },
  {
   "cell_type": "code",
   "execution_count": 11,
   "metadata": {
    "slideshow": {
     "slide_type": "subslide"
    }
   },
   "outputs": [
    {
     "name": "stdout",
     "output_type": "stream",
     "text": [
      "(6.091936917565591,)\n"
     ]
    },
    {
     "data": {
      "image/png": "[encoded data removed]",
      "text/plain": [
       "<matplotlib.figure.Figure at 0x7faf41f4f588>"
      ]
     },
     "metadata": {},
     "output_type": "display_data"
    }
   ],
   "source": [
    "plt.scatter(samples[:,0], samples[:,1], c=hof[0])\n",
    "print(cost_function(hof[0]))"
   ]
  },
  {
   "cell_type": "code",
   "execution_count": 12,
   "metadata": {
    "slideshow": {
     "slide_type": "skip"
    }
   },
   "outputs": [],
   "source": [
    "import graphviz\n",
    "\n",
    "def plot_graph(expr, size=8):\n",
    "\n",
    "    nodes, edges, labels = graph(expr)\n",
    "    dot = graphviz.Graph()\n",
    "    dot.attr(size=str(size))\n",
    "\n",
    "    for i in nodes:\n",
    "        dot.node(str(i), str(labels[i]))\n",
    "\n",
    "    for from_node, to_node in edges:\n",
    "        dot.edge(str(from_node), str(to_node))\n",
    "    \n",
    "    return dot\n",
    "\n",
    "def plot_graphs(expr_a, expr_b, size=8):\n",
    "    \n",
    "    dot = graphviz.Graph()\n",
    "    dot.attr(size=str(size))\n",
    "\n",
    "    for expr, prefix in zip([expr_a, expr_b], ['a', 'b']):\n",
    "        nodes, edges, labels = graph(expr)\n",
    "        for i in nodes:\n",
    "            dot.node(prefix + str(i), str(labels[i]))\n",
    "\n",
    "        for from_node, to_node in edges:\n",
    "            dot.edge(prefix + str(from_node), prefix + str(to_node))\n",
    "    return dot\n",
    "    \n",
    "    "
   ]
  },
  {
   "cell_type": "markdown",
   "metadata": {
    "slideshow": {
     "slide_type": "slide"
    }
   },
   "source": [
    "# Genetický algoritmus vs. genetické programovanie"
   ]
  },
  {
   "cell_type": "code",
   "execution_count": 13,
   "metadata": {},
   "outputs": [
    {
     "name": "stdout",
     "output_type": "stream",
     "text": [
      "[2, 1, 1, 0, 1, 0, 0, 1, 2, 0, 0, 0, 0, 1, 1, 2, 2, 2, 0, 2, 2, 1, 0, 2, 2, 0, 2, 1, 2, 1, 0, 0, 0, 2, 2, 1, 1, 1, 2, 1, 2, 0, 1, 1, 2, 1, 2, 0, 0, 0]\n"
     ]
    }
   ],
   "source": [
    "print(hof[0])"
   ]
  },
  {
   "cell_type": "code",
   "execution_count": 14,
   "metadata": {
    "slideshow": {
     "slide_type": "skip"
    }
   },
   "outputs": [],
   "source": [
    "import operator, random\n",
    "from deap.gp import PrimitiveSet, PrimitiveTree, genHalfAndHalf, graph, genFull\n",
    "\n",
    "\n",
    "pset = PrimitiveSet(\"main\", 2)\n",
    "pset.addPrimitive(max, 2)\n",
    "pset.addPrimitive(operator.add, 2)\n",
    "pset.addPrimitive(operator.mul, 2)\n",
    "pset.renameArguments(ARG0=\"x1\")\n",
    "pset.renameArguments(ARG1=\"x2\")\n",
    "random.seed(7)\n",
    "expr = genFull(pset, min_=1, max_=3)\n",
    "tree = PrimitiveTree(expr)\n"
   ]
  },
  {
   "cell_type": "code",
   "execution_count": 15,
   "metadata": {
    "slideshow": {
     "slide_type": "fragment"
    }
   },
   "outputs": [
    {
     "data": {
      "image/svg+xml": [
       "<?xml version=\"1.0\" encoding=\"UTF-8\" standalone=\"no\"?>\n",
       "<!DOCTYPE svg PUBLIC \"-//W3C//DTD SVG 1.1//EN\"\n",
       " \"http://www.w3.org/Graphics/SVG/1.1/DTD/svg11.dtd\">\n",
       "<!-- Generated by graphviz version 2.38.0 (20140413.2041)\n",
       " -->\n",
       "<!-- Title: %3 Pages: 1 -->\n",
       "<svg width=\"279pt\" height=\"188pt\"\n",
       " viewBox=\"0.00 0.00 279.00 188.00\" xmlns=\"http://www.w3.org/2000/svg\" xmlns:xlink=\"http://www.w3.org/1999/xlink\">\n",
       "<g id=\"graph0\" class=\"graph\" transform=\"scale(1 1) rotate(0) translate(4 184)\">\n",
       "<title>%3</title>\n",
       "<polygon fill=\"white\" stroke=\"none\" points=\"-4,4 -4,-184 275,-184 275,4 -4,4\"/>\n",
       "<!-- 0 -->\n",
       "<g id=\"node1\" class=\"node\"><title>0</title>\n",
       "<ellipse fill=\"none\" stroke=\"black\" cx=\"135\" cy=\"-162\" rx=\"30.5947\" ry=\"18\"/>\n",
       "<text text-anchor=\"middle\" x=\"135\" y=\"-158.3\" font-family=\"Times,serif\" font-size=\"14.00\">max</text>\n",
       "</g>\n",
       "<!-- 1 -->\n",
       "<g id=\"node2\" class=\"node\"><title>1</title>\n",
       "<ellipse fill=\"none\" stroke=\"black\" cx=\"98\" cy=\"-90\" rx=\"27.8951\" ry=\"18\"/>\n",
       "<text text-anchor=\"middle\" x=\"98\" y=\"-86.3\" font-family=\"Times,serif\" font-size=\"14.00\">add</text>\n",
       "</g>\n",
       "<!-- 0&#45;&#45;1 -->\n",
       "<g id=\"edge1\" class=\"edge\"><title>0&#45;&#45;1</title>\n",
       "<path fill=\"none\" stroke=\"black\" d=\"M126.232,-144.411C120.333,-133.252 112.59,-118.604 106.706,-107.47\"/>\n",
       "</g>\n",
       "<!-- 4 -->\n",
       "<g id=\"node5\" class=\"node\"><title>4</title>\n",
       "<ellipse fill=\"none\" stroke=\"black\" cx=\"173\" cy=\"-90\" rx=\"28.6953\" ry=\"18\"/>\n",
       "<text text-anchor=\"middle\" x=\"173\" y=\"-86.3\" font-family=\"Times,serif\" font-size=\"14.00\">mul</text>\n",
       "</g>\n",
       "<!-- 0&#45;&#45;4 -->\n",
       "<g id=\"edge4\" class=\"edge\"><title>0&#45;&#45;4</title>\n",
       "<path fill=\"none\" stroke=\"black\" d=\"M143.813,-144.765C149.952,-133.456 158.106,-118.437 164.234,-107.147\"/>\n",
       "</g>\n",
       "<!-- 2 -->\n",
       "<g id=\"node3\" class=\"node\"><title>2</title>\n",
       "<ellipse fill=\"none\" stroke=\"black\" cx=\"27\" cy=\"-18\" rx=\"27\" ry=\"18\"/>\n",
       "<text text-anchor=\"middle\" x=\"27\" y=\"-14.3\" font-family=\"Times,serif\" font-size=\"14.00\">x1</text>\n",
       "</g>\n",
       "<!-- 1&#45;&#45;2 -->\n",
       "<g id=\"edge2\" class=\"edge\"><title>1&#45;&#45;2</title>\n",
       "<path fill=\"none\" stroke=\"black\" d=\"M83.2888,-74.496C71.1034,-62.4822 53.8725,-45.4941 41.6924,-33.4855\"/>\n",
       "</g>\n",
       "<!-- 3 -->\n",
       "<g id=\"node4\" class=\"node\"><title>3</title>\n",
       "<ellipse fill=\"none\" stroke=\"black\" cx=\"99\" cy=\"-18\" rx=\"27\" ry=\"18\"/>\n",
       "<text text-anchor=\"middle\" x=\"99\" y=\"-14.3\" font-family=\"Times,serif\" font-size=\"14.00\">x1</text>\n",
       "</g>\n",
       "<!-- 1&#45;&#45;3 -->\n",
       "<g id=\"edge3\" class=\"edge\"><title>1&#45;&#45;3</title>\n",
       "<path fill=\"none\" stroke=\"black\" d=\"M98.2472,-71.6966C98.4022,-60.8463 98.6012,-46.9167 98.7557,-36.1043\"/>\n",
       "</g>\n",
       "<!-- 5 -->\n",
       "<g id=\"node6\" class=\"node\"><title>5</title>\n",
       "<ellipse fill=\"none\" stroke=\"black\" cx=\"172\" cy=\"-18\" rx=\"27\" ry=\"18\"/>\n",
       "<text text-anchor=\"middle\" x=\"172\" y=\"-14.3\" font-family=\"Times,serif\" font-size=\"14.00\">x1</text>\n",
       "</g>\n",
       "<!-- 4&#45;&#45;5 -->\n",
       "<g id=\"edge5\" class=\"edge\"><title>4&#45;&#45;5</title>\n",
       "<path fill=\"none\" stroke=\"black\" d=\"M172.753,-71.6966C172.598,-60.8463 172.399,-46.9167 172.244,-36.1043\"/>\n",
       "</g>\n",
       "<!-- 6 -->\n",
       "<g id=\"node7\" class=\"node\"><title>6</title>\n",
       "<ellipse fill=\"none\" stroke=\"black\" cx=\"244\" cy=\"-18\" rx=\"27\" ry=\"18\"/>\n",
       "<text text-anchor=\"middle\" x=\"244\" y=\"-14.3\" font-family=\"Times,serif\" font-size=\"14.00\">x2</text>\n",
       "</g>\n",
       "<!-- 4&#45;&#45;6 -->\n",
       "<g id=\"edge6\" class=\"edge\"><title>4&#45;&#45;6</title>\n",
       "<path fill=\"none\" stroke=\"black\" d=\"M187.711,-74.496C199.897,-62.4822 217.127,-45.4941 229.308,-33.4855\"/>\n",
       "</g>\n",
       "</g>\n",
       "</svg>\n"
      ],
      "text/plain": [
       "<graphviz.dot.Graph at 0x7faf41ef9ac8>"
      ]
     },
     "execution_count": 15,
     "metadata": {},
     "output_type": "execute_result"
    }
   ],
   "source": [
    "plot_graph(expr, 4)"
   ]
  },
  {
   "cell_type": "markdown",
   "metadata": {
    "slideshow": {
     "slide_type": "subslide"
    }
   },
   "source": [
    "![ast](ast.png)"
   ]
  },
  {
   "cell_type": "markdown",
   "metadata": {
    "slideshow": {
     "slide_type": "subslide"
    }
   },
   "source": [
    "![html](https://www.w3schools.com/js/pic_htmltree.gif)"
   ]
  },
  {
   "cell_type": "markdown",
   "metadata": {
    "slideshow": {
     "slide_type": "slide"
    }
   },
   "source": [
    "# GP - kríženie stromov"
   ]
  },
  {
   "cell_type": "code",
   "execution_count": 16,
   "metadata": {
    "slideshow": {
     "slide_type": "skip"
    }
   },
   "outputs": [],
   "source": [
    "from deap.gp import cxOnePoint\n",
    "random.seed(2)\n",
    "a = genHalfAndHalf(pset, min_=1, max_=2)\n",
    "b = genHalfAndHalf(pset, min_=1, max_=2)"
   ]
  },
  {
   "cell_type": "code",
   "execution_count": 17,
   "metadata": {},
   "outputs": [
    {
     "data": {
      "image/svg+xml": [
       "<?xml version=\"1.0\" encoding=\"UTF-8\" standalone=\"no\"?>\n",
       "<!DOCTYPE svg PUBLIC \"-//W3C//DTD SVG 1.1//EN\"\n",
       " \"http://www.w3.org/Graphics/SVG/1.1/DTD/svg11.dtd\">\n",
       "<!-- Generated by graphviz version 2.38.0 (20140413.2041)\n",
       " -->\n",
       "<!-- Title: %3 Pages: 1 -->\n",
       "<svg width=\"288pt\" height=\"152pt\"\n",
       " viewBox=\"0.00 0.00 288.00 151.66\" xmlns=\"http://www.w3.org/2000/svg\" xmlns:xlink=\"http://www.w3.org/1999/xlink\">\n",
       "<g id=\"graph0\" class=\"graph\" transform=\"scale(0.806723 0.806723) rotate(0) translate(4 184)\">\n",
       "<title>%3</title>\n",
       "<polygon fill=\"white\" stroke=\"none\" points=\"-4,4 -4,-184 353,-184 353,4 -4,4\"/>\n",
       "<!-- a0 -->\n",
       "<g id=\"node1\" class=\"node\"><title>a0</title>\n",
       "<ellipse fill=\"none\" stroke=\"black\" cx=\"81\" cy=\"-162\" rx=\"30.5947\" ry=\"18\"/>\n",
       "<text text-anchor=\"middle\" x=\"81\" y=\"-158.3\" font-family=\"Times,serif\" font-size=\"14.00\">max</text>\n",
       "</g>\n",
       "<!-- a1 -->\n",
       "<g id=\"node2\" class=\"node\"><title>a1</title>\n",
       "<ellipse fill=\"none\" stroke=\"black\" cx=\"27\" cy=\"-90\" rx=\"27\" ry=\"18\"/>\n",
       "<text text-anchor=\"middle\" x=\"27\" y=\"-86.3\" font-family=\"Times,serif\" font-size=\"14.00\">x2</text>\n",
       "</g>\n",
       "<!-- a0&#45;&#45;a1 -->\n",
       "<g id=\"edge1\" class=\"edge\"><title>a0&#45;&#45;a1</title>\n",
       "<path fill=\"none\" stroke=\"black\" d=\"M68.7466,-145.116C59.7847,-133.499 47.696,-117.828 38.8338,-106.34\"/>\n",
       "</g>\n",
       "<!-- a2 -->\n",
       "<g id=\"node3\" class=\"node\"><title>a2</title>\n",
       "<ellipse fill=\"none\" stroke=\"black\" cx=\"99\" cy=\"-90\" rx=\"27\" ry=\"18\"/>\n",
       "<text text-anchor=\"middle\" x=\"99\" y=\"-86.3\" font-family=\"Times,serif\" font-size=\"14.00\">x1</text>\n",
       "</g>\n",
       "<!-- a0&#45;&#45;a2 -->\n",
       "<g id=\"edge2\" class=\"edge\"><title>a0&#45;&#45;a2</title>\n",
       "<path fill=\"none\" stroke=\"black\" d=\"M85.3573,-144.055C88.1873,-133.049 91.8608,-118.764 94.6828,-107.789\"/>\n",
       "</g>\n",
       "<!-- b0 -->\n",
       "<g id=\"node4\" class=\"node\"><title>b0</title>\n",
       "<ellipse fill=\"none\" stroke=\"black\" cx=\"193\" cy=\"-162\" rx=\"28.6953\" ry=\"18\"/>\n",
       "<text text-anchor=\"middle\" x=\"193\" y=\"-158.3\" font-family=\"Times,serif\" font-size=\"14.00\">mul</text>\n",
       "</g>\n",
       "<!-- b1 -->\n",
       "<g id=\"node5\" class=\"node\"><title>b1</title>\n",
       "<ellipse fill=\"none\" stroke=\"black\" cx=\"175\" cy=\"-90\" rx=\"30.5947\" ry=\"18\"/>\n",
       "<text text-anchor=\"middle\" x=\"175\" y=\"-86.3\" font-family=\"Times,serif\" font-size=\"14.00\">max</text>\n",
       "</g>\n",
       "<!-- b0&#45;&#45;b1 -->\n",
       "<g id=\"edge3\" class=\"edge\"><title>b0&#45;&#45;b1</title>\n",
       "<path fill=\"none\" stroke=\"black\" d=\"M188.643,-144.055C185.854,-133.211 182.247,-119.183 179.442,-108.275\"/>\n",
       "</g>\n",
       "<!-- b4 -->\n",
       "<g id=\"node8\" class=\"node\"><title>b4</title>\n",
       "<ellipse fill=\"none\" stroke=\"black\" cx=\"251\" cy=\"-90\" rx=\"27.8951\" ry=\"18\"/>\n",
       "<text text-anchor=\"middle\" x=\"251\" y=\"-86.3\" font-family=\"Times,serif\" font-size=\"14.00\">add</text>\n",
       "</g>\n",
       "<!-- b0&#45;&#45;b4 -->\n",
       "<g id=\"edge6\" class=\"edge\"><title>b0&#45;&#45;b4</title>\n",
       "<path fill=\"none\" stroke=\"black\" d=\"M205.585,-145.811C215.314,-134.07 228.717,-117.893 238.439,-106.159\"/>\n",
       "</g>\n",
       "<!-- b2 -->\n",
       "<g id=\"node6\" class=\"node\"><title>b2</title>\n",
       "<ellipse fill=\"none\" stroke=\"black\" cx=\"104\" cy=\"-18\" rx=\"27\" ry=\"18\"/>\n",
       "<text text-anchor=\"middle\" x=\"104\" y=\"-14.3\" font-family=\"Times,serif\" font-size=\"14.00\">x1</text>\n",
       "</g>\n",
       "<!-- b1&#45;&#45;b2 -->\n",
       "<g id=\"edge4\" class=\"edge\"><title>b1&#45;&#45;b2</title>\n",
       "<path fill=\"none\" stroke=\"black\" d=\"M159.943,-74.1548C147.731,-62.115 130.623,-45.2485 118.55,-33.345\"/>\n",
       "</g>\n",
       "<!-- b3 -->\n",
       "<g id=\"node7\" class=\"node\"><title>b3</title>\n",
       "<ellipse fill=\"none\" stroke=\"black\" cx=\"176\" cy=\"-18\" rx=\"27\" ry=\"18\"/>\n",
       "<text text-anchor=\"middle\" x=\"176\" y=\"-14.3\" font-family=\"Times,serif\" font-size=\"14.00\">x1</text>\n",
       "</g>\n",
       "<!-- b1&#45;&#45;b3 -->\n",
       "<g id=\"edge5\" class=\"edge\"><title>b1&#45;&#45;b3</title>\n",
       "<path fill=\"none\" stroke=\"black\" d=\"M175.247,-71.6966C175.402,-60.8463 175.601,-46.9167 175.756,-36.1043\"/>\n",
       "</g>\n",
       "<!-- b5 -->\n",
       "<g id=\"node9\" class=\"node\"><title>b5</title>\n",
       "<ellipse fill=\"none\" stroke=\"black\" cx=\"250\" cy=\"-18\" rx=\"27\" ry=\"18\"/>\n",
       "<text text-anchor=\"middle\" x=\"250\" y=\"-14.3\" font-family=\"Times,serif\" font-size=\"14.00\">x2</text>\n",
       "</g>\n",
       "<!-- b4&#45;&#45;b5 -->\n",
       "<g id=\"edge7\" class=\"edge\"><title>b4&#45;&#45;b5</title>\n",
       "<path fill=\"none\" stroke=\"black\" d=\"M250.753,-71.6966C250.598,-60.8463 250.399,-46.9167 250.244,-36.1043\"/>\n",
       "</g>\n",
       "<!-- b6 -->\n",
       "<g id=\"node10\" class=\"node\"><title>b6</title>\n",
       "<ellipse fill=\"none\" stroke=\"black\" cx=\"322\" cy=\"-18\" rx=\"27\" ry=\"18\"/>\n",
       "<text text-anchor=\"middle\" x=\"322\" y=\"-14.3\" font-family=\"Times,serif\" font-size=\"14.00\">x2</text>\n",
       "</g>\n",
       "<!-- b4&#45;&#45;b6 -->\n",
       "<g id=\"edge8\" class=\"edge\"><title>b4&#45;&#45;b6</title>\n",
       "<path fill=\"none\" stroke=\"black\" d=\"M265.711,-74.496C277.897,-62.4822 295.127,-45.4941 307.308,-33.4855\"/>\n",
       "</g>\n",
       "</g>\n",
       "</svg>\n"
      ],
      "text/plain": [
       "<graphviz.dot.Graph at 0x7faf41f414a8>"
      ]
     },
     "execution_count": 17,
     "metadata": {},
     "output_type": "execute_result"
    }
   ],
   "source": [
    "plot_graphs(a, b, 4)"
   ]
  },
  {
   "cell_type": "code",
   "execution_count": 18,
   "metadata": {
    "slideshow": {
     "slide_type": "skip"
    }
   },
   "outputs": [],
   "source": [
    "random.seed(123)"
   ]
  },
  {
   "cell_type": "code",
   "execution_count": 19,
   "metadata": {
    "slideshow": {
     "slide_type": "fragment"
    }
   },
   "outputs": [
    {
     "data": {
      "image/svg+xml": [
       "<?xml version=\"1.0\" encoding=\"UTF-8\" standalone=\"no\"?>\n",
       "<!DOCTYPE svg PUBLIC \"-//W3C//DTD SVG 1.1//EN\"\n",
       " \"http://www.w3.org/Graphics/SVG/1.1/DTD/svg11.dtd\">\n",
       "<!-- Generated by graphviz version 2.38.0 (20140413.2041)\n",
       " -->\n",
       "<!-- Title: %3 Pages: 1 -->\n",
       "<svg width=\"288pt\" height=\"168pt\"\n",
       " viewBox=\"0.00 0.00 288.00 167.63\" xmlns=\"http://www.w3.org/2000/svg\" xmlns:xlink=\"http://www.w3.org/1999/xlink\">\n",
       "<g id=\"graph0\" class=\"graph\" transform=\"scale(0.891641 0.891641) rotate(0) translate(4 184)\">\n",
       "<title>%3</title>\n",
       "<polygon fill=\"white\" stroke=\"none\" points=\"-4,4 -4,-184 319,-184 319,4 -4,4\"/>\n",
       "<!-- a0 -->\n",
       "<g id=\"node1\" class=\"node\"><title>a0</title>\n",
       "<ellipse fill=\"none\" stroke=\"black\" cx=\"84\" cy=\"-162\" rx=\"30.5947\" ry=\"18\"/>\n",
       "<text text-anchor=\"middle\" x=\"84\" y=\"-158.3\" font-family=\"Times,serif\" font-size=\"14.00\">max</text>\n",
       "</g>\n",
       "<!-- a1 -->\n",
       "<g id=\"node2\" class=\"node\"><title>a1</title>\n",
       "<ellipse fill=\"none\" stroke=\"black\" cx=\"27\" cy=\"-90\" rx=\"27\" ry=\"18\"/>\n",
       "<text text-anchor=\"middle\" x=\"27\" y=\"-86.3\" font-family=\"Times,serif\" font-size=\"14.00\">x2</text>\n",
       "</g>\n",
       "<!-- a0&#45;&#45;a1 -->\n",
       "<g id=\"edge1\" class=\"edge\"><title>a0&#45;&#45;a1</title>\n",
       "<path fill=\"none\" stroke=\"black\" d=\"M71.3499,-145.465C61.904,-133.865 49.0521,-118.082 39.6148,-106.492\"/>\n",
       "</g>\n",
       "<!-- a2 -->\n",
       "<g id=\"node3\" class=\"node\"><title>a2</title>\n",
       "<ellipse fill=\"none\" stroke=\"black\" cx=\"103\" cy=\"-90\" rx=\"30.5947\" ry=\"18\"/>\n",
       "<text text-anchor=\"middle\" x=\"103\" y=\"-86.3\" font-family=\"Times,serif\" font-size=\"14.00\">max</text>\n",
       "</g>\n",
       "<!-- a0&#45;&#45;a2 -->\n",
       "<g id=\"edge2\" class=\"edge\"><title>a0&#45;&#45;a2</title>\n",
       "<path fill=\"none\" stroke=\"black\" d=\"M88.5994,-144.055C91.5427,-133.211 95.3503,-119.183 98.311,-108.275\"/>\n",
       "</g>\n",
       "<!-- a3 -->\n",
       "<g id=\"node4\" class=\"node\"><title>a3</title>\n",
       "<ellipse fill=\"none\" stroke=\"black\" cx=\"51\" cy=\"-18\" rx=\"27\" ry=\"18\"/>\n",
       "<text text-anchor=\"middle\" x=\"51\" y=\"-14.3\" font-family=\"Times,serif\" font-size=\"14.00\">x1</text>\n",
       "</g>\n",
       "<!-- a2&#45;&#45;a3 -->\n",
       "<g id=\"edge3\" class=\"edge\"><title>a2&#45;&#45;a3</title>\n",
       "<path fill=\"none\" stroke=\"black\" d=\"M91.2004,-73.1159C82.5704,-61.4986 70.9295,-45.8282 62.3955,-34.3402\"/>\n",
       "</g>\n",
       "<!-- a4 -->\n",
       "<g id=\"node5\" class=\"node\"><title>a4</title>\n",
       "<ellipse fill=\"none\" stroke=\"black\" cx=\"123\" cy=\"-18\" rx=\"27\" ry=\"18\"/>\n",
       "<text text-anchor=\"middle\" x=\"123\" y=\"-14.3\" font-family=\"Times,serif\" font-size=\"14.00\">x1</text>\n",
       "</g>\n",
       "<!-- a2&#45;&#45;a4 -->\n",
       "<g id=\"edge4\" class=\"edge\"><title>a2&#45;&#45;a4</title>\n",
       "<path fill=\"none\" stroke=\"black\" d=\"M107.841,-72.055C110.986,-61.0492 115.068,-46.7636 118.203,-35.789\"/>\n",
       "</g>\n",
       "<!-- b0 -->\n",
       "<g id=\"node6\" class=\"node\"><title>b0</title>\n",
       "<ellipse fill=\"none\" stroke=\"black\" cx=\"198\" cy=\"-162\" rx=\"28.6953\" ry=\"18\"/>\n",
       "<text text-anchor=\"middle\" x=\"198\" y=\"-158.3\" font-family=\"Times,serif\" font-size=\"14.00\">mul</text>\n",
       "</g>\n",
       "<!-- b1 -->\n",
       "<g id=\"node7\" class=\"node\"><title>b1</title>\n",
       "<ellipse fill=\"none\" stroke=\"black\" cx=\"179\" cy=\"-90\" rx=\"27\" ry=\"18\"/>\n",
       "<text text-anchor=\"middle\" x=\"179\" y=\"-86.3\" font-family=\"Times,serif\" font-size=\"14.00\">x1</text>\n",
       "</g>\n",
       "<!-- b0&#45;&#45;b1 -->\n",
       "<g id=\"edge5\" class=\"edge\"><title>b0&#45;&#45;b1</title>\n",
       "<path fill=\"none\" stroke=\"black\" d=\"M193.401,-144.055C190.413,-133.049 186.536,-118.764 183.557,-107.789\"/>\n",
       "</g>\n",
       "<!-- b2 -->\n",
       "<g id=\"node8\" class=\"node\"><title>b2</title>\n",
       "<ellipse fill=\"none\" stroke=\"black\" cx=\"252\" cy=\"-90\" rx=\"27.8951\" ry=\"18\"/>\n",
       "<text text-anchor=\"middle\" x=\"252\" y=\"-86.3\" font-family=\"Times,serif\" font-size=\"14.00\">add</text>\n",
       "</g>\n",
       "<!-- b0&#45;&#45;b2 -->\n",
       "<g id=\"edge6\" class=\"edge\"><title>b0&#45;&#45;b2</title>\n",
       "<path fill=\"none\" stroke=\"black\" d=\"M209.984,-145.465C218.933,-133.865 231.108,-118.082 240.049,-106.492\"/>\n",
       "</g>\n",
       "<!-- b3 -->\n",
       "<g id=\"node9\" class=\"node\"><title>b3</title>\n",
       "<ellipse fill=\"none\" stroke=\"black\" cx=\"216\" cy=\"-18\" rx=\"27\" ry=\"18\"/>\n",
       "<text text-anchor=\"middle\" x=\"216\" y=\"-14.3\" font-family=\"Times,serif\" font-size=\"14.00\">x2</text>\n",
       "</g>\n",
       "<!-- b2&#45;&#45;b3 -->\n",
       "<g id=\"edge7\" class=\"edge\"><title>b2&#45;&#45;b3</title>\n",
       "<path fill=\"none\" stroke=\"black\" d=\"M243.65,-72.7646C237.835,-61.456 230.11,-46.4367 224.304,-35.1473\"/>\n",
       "</g>\n",
       "<!-- b4 -->\n",
       "<g id=\"node10\" class=\"node\"><title>b4</title>\n",
       "<ellipse fill=\"none\" stroke=\"black\" cx=\"288\" cy=\"-18\" rx=\"27\" ry=\"18\"/>\n",
       "<text text-anchor=\"middle\" x=\"288\" y=\"-14.3\" font-family=\"Times,serif\" font-size=\"14.00\">x2</text>\n",
       "</g>\n",
       "<!-- b2&#45;&#45;b4 -->\n",
       "<g id=\"edge8\" class=\"edge\"><title>b2&#45;&#45;b4</title>\n",
       "<path fill=\"none\" stroke=\"black\" d=\"M260.35,-72.7646C266.165,-61.456 273.89,-46.4367 279.696,-35.1473\"/>\n",
       "</g>\n",
       "</g>\n",
       "</svg>\n"
      ],
      "text/plain": [
       "<graphviz.dot.Graph at 0x7faf41638d30>"
      ]
     },
     "execution_count": 19,
     "metadata": {},
     "output_type": "execute_result"
    }
   ],
   "source": [
    "child_a, child_b = cxOnePoint(PrimitiveTree(a), PrimitiveTree(b))\n",
    "plot_graphs(child_a, child_b, 4)"
   ]
  },
  {
   "cell_type": "markdown",
   "metadata": {
    "slideshow": {
     "slide_type": "slide"
    }
   },
   "source": [
    "# GP - mutácia stromov 1"
   ]
  },
  {
   "cell_type": "code",
   "execution_count": 20,
   "metadata": {
    "slideshow": {
     "slide_type": "skip"
    }
   },
   "outputs": [],
   "source": [
    "from deap.gp import mutUniform\n",
    "def expr_gen(pset, type_):\n",
    "    return genHalfAndHalf(pset, min_=1, max_=2)\n",
    "random.seed(2)"
   ]
  },
  {
   "cell_type": "code",
   "execution_count": 21,
   "metadata": {},
   "outputs": [
    {
     "data": {
      "image/svg+xml": [
       "<?xml version=\"1.0\" encoding=\"UTF-8\" standalone=\"no\"?>\n",
       "<!DOCTYPE svg PUBLIC \"-//W3C//DTD SVG 1.1//EN\"\n",
       " \"http://www.w3.org/Graphics/SVG/1.1/DTD/svg11.dtd\">\n",
       "<!-- Generated by graphviz version 2.38.0 (20140413.2041)\n",
       " -->\n",
       "<!-- Title: %3 Pages: 1 -->\n",
       "<svg width=\"392pt\" height=\"260pt\"\n",
       " viewBox=\"0.00 0.00 392.00 260.00\" xmlns=\"http://www.w3.org/2000/svg\" xmlns:xlink=\"http://www.w3.org/1999/xlink\">\n",
       "<g id=\"graph0\" class=\"graph\" transform=\"scale(1 1) rotate(0) translate(4 256)\">\n",
       "<title>%3</title>\n",
       "<polygon fill=\"white\" stroke=\"none\" points=\"-4,4 -4,-256 388,-256 388,4 -4,4\"/>\n",
       "<!-- a0 -->\n",
       "<g id=\"node1\" class=\"node\"><title>a0</title>\n",
       "<ellipse fill=\"none\" stroke=\"black\" cx=\"80\" cy=\"-234\" rx=\"30.5947\" ry=\"18\"/>\n",
       "<text text-anchor=\"middle\" x=\"80\" y=\"-230.3\" font-family=\"Times,serif\" font-size=\"14.00\">max</text>\n",
       "</g>\n",
       "<!-- a1 -->\n",
       "<g id=\"node2\" class=\"node\"><title>a1</title>\n",
       "<ellipse fill=\"none\" stroke=\"black\" cx=\"27\" cy=\"-162\" rx=\"27\" ry=\"18\"/>\n",
       "<text text-anchor=\"middle\" x=\"27\" y=\"-158.3\" font-family=\"Times,serif\" font-size=\"14.00\">x2</text>\n",
       "</g>\n",
       "<!-- a0&#45;&#45;a1 -->\n",
       "<g id=\"edge1\" class=\"edge\"><title>a0&#45;&#45;a1</title>\n",
       "<path fill=\"none\" stroke=\"black\" d=\"M67.9735,-217.116C59.1775,-205.499 47.3128,-189.828 38.6147,-178.34\"/>\n",
       "</g>\n",
       "<!-- a2 -->\n",
       "<g id=\"node3\" class=\"node\"><title>a2</title>\n",
       "<ellipse fill=\"none\" stroke=\"black\" cx=\"99\" cy=\"-162\" rx=\"27\" ry=\"18\"/>\n",
       "<text text-anchor=\"middle\" x=\"99\" y=\"-158.3\" font-family=\"Times,serif\" font-size=\"14.00\">x1</text>\n",
       "</g>\n",
       "<!-- a0&#45;&#45;a2 -->\n",
       "<g id=\"edge2\" class=\"edge\"><title>a0&#45;&#45;a2</title>\n",
       "<path fill=\"none\" stroke=\"black\" d=\"M84.5994,-216.055C87.5866,-205.049 91.4642,-190.764 94.443,-179.789\"/>\n",
       "</g>\n",
       "<!-- b0 -->\n",
       "<g id=\"node4\" class=\"node\"><title>b0</title>\n",
       "<ellipse fill=\"none\" stroke=\"black\" cx=\"193\" cy=\"-234\" rx=\"30.5947\" ry=\"18\"/>\n",
       "<text text-anchor=\"middle\" x=\"193\" y=\"-230.3\" font-family=\"Times,serif\" font-size=\"14.00\">max</text>\n",
       "</g>\n",
       "<!-- b1 -->\n",
       "<g id=\"node5\" class=\"node\"><title>b1</title>\n",
       "<ellipse fill=\"none\" stroke=\"black\" cx=\"174\" cy=\"-162\" rx=\"27\" ry=\"18\"/>\n",
       "<text text-anchor=\"middle\" x=\"174\" y=\"-158.3\" font-family=\"Times,serif\" font-size=\"14.00\">x2</text>\n",
       "</g>\n",
       "<!-- b0&#45;&#45;b1 -->\n",
       "<g id=\"edge3\" class=\"edge\"><title>b0&#45;&#45;b1</title>\n",
       "<path fill=\"none\" stroke=\"black\" d=\"M188.401,-216.055C185.413,-205.049 181.536,-190.764 178.557,-179.789\"/>\n",
       "</g>\n",
       "<!-- b2 -->\n",
       "<g id=\"node6\" class=\"node\"><title>b2</title>\n",
       "<ellipse fill=\"none\" stroke=\"black\" cx=\"248\" cy=\"-162\" rx=\"28.6953\" ry=\"18\"/>\n",
       "<text text-anchor=\"middle\" x=\"248\" y=\"-158.3\" font-family=\"Times,serif\" font-size=\"14.00\">mul</text>\n",
       "</g>\n",
       "<!-- b0&#45;&#45;b2 -->\n",
       "<g id=\"edge4\" class=\"edge\"><title>b0&#45;&#45;b2</title>\n",
       "<path fill=\"none\" stroke=\"black\" d=\"M205.206,-217.465C214.321,-205.865 226.722,-190.082 235.828,-178.492\"/>\n",
       "</g>\n",
       "<!-- b3 -->\n",
       "<g id=\"node7\" class=\"node\"><title>b3</title>\n",
       "<ellipse fill=\"none\" stroke=\"black\" cx=\"210\" cy=\"-90\" rx=\"30.5947\" ry=\"18\"/>\n",
       "<text text-anchor=\"middle\" x=\"210\" y=\"-86.3\" font-family=\"Times,serif\" font-size=\"14.00\">max</text>\n",
       "</g>\n",
       "<!-- b2&#45;&#45;b3 -->\n",
       "<g id=\"edge5\" class=\"edge\"><title>b2&#45;&#45;b3</title>\n",
       "<path fill=\"none\" stroke=\"black\" d=\"M239.187,-144.765C233.135,-133.618 225.127,-118.865 219.03,-107.633\"/>\n",
       "</g>\n",
       "<!-- b6 -->\n",
       "<g id=\"node10\" class=\"node\"><title>b6</title>\n",
       "<ellipse fill=\"none\" stroke=\"black\" cx=\"286\" cy=\"-90\" rx=\"27.8951\" ry=\"18\"/>\n",
       "<text text-anchor=\"middle\" x=\"286\" y=\"-86.3\" font-family=\"Times,serif\" font-size=\"14.00\">add</text>\n",
       "</g>\n",
       "<!-- b2&#45;&#45;b6 -->\n",
       "<g id=\"edge8\" class=\"edge\"><title>b2&#45;&#45;b6</title>\n",
       "<path fill=\"none\" stroke=\"black\" d=\"M256.813,-144.765C262.952,-133.456 271.106,-118.437 277.234,-107.147\"/>\n",
       "</g>\n",
       "<!-- b4 -->\n",
       "<g id=\"node8\" class=\"node\"><title>b4</title>\n",
       "<ellipse fill=\"none\" stroke=\"black\" cx=\"139\" cy=\"-18\" rx=\"27\" ry=\"18\"/>\n",
       "<text text-anchor=\"middle\" x=\"139\" y=\"-14.3\" font-family=\"Times,serif\" font-size=\"14.00\">x1</text>\n",
       "</g>\n",
       "<!-- b3&#45;&#45;b4 -->\n",
       "<g id=\"edge6\" class=\"edge\"><title>b3&#45;&#45;b4</title>\n",
       "<path fill=\"none\" stroke=\"black\" d=\"M194.943,-74.1548C182.731,-62.115 165.623,-45.2485 153.55,-33.345\"/>\n",
       "</g>\n",
       "<!-- b5 -->\n",
       "<g id=\"node9\" class=\"node\"><title>b5</title>\n",
       "<ellipse fill=\"none\" stroke=\"black\" cx=\"211\" cy=\"-18\" rx=\"27\" ry=\"18\"/>\n",
       "<text text-anchor=\"middle\" x=\"211\" y=\"-14.3\" font-family=\"Times,serif\" font-size=\"14.00\">x1</text>\n",
       "</g>\n",
       "<!-- b3&#45;&#45;b5 -->\n",
       "<g id=\"edge7\" class=\"edge\"><title>b3&#45;&#45;b5</title>\n",
       "<path fill=\"none\" stroke=\"black\" d=\"M210.247,-71.6966C210.402,-60.8463 210.601,-46.9167 210.756,-36.1043\"/>\n",
       "</g>\n",
       "<!-- b7 -->\n",
       "<g id=\"node11\" class=\"node\"><title>b7</title>\n",
       "<ellipse fill=\"none\" stroke=\"black\" cx=\"285\" cy=\"-18\" rx=\"27\" ry=\"18\"/>\n",
       "<text text-anchor=\"middle\" x=\"285\" y=\"-14.3\" font-family=\"Times,serif\" font-size=\"14.00\">x2</text>\n",
       "</g>\n",
       "<!-- b6&#45;&#45;b7 -->\n",
       "<g id=\"edge9\" class=\"edge\"><title>b6&#45;&#45;b7</title>\n",
       "<path fill=\"none\" stroke=\"black\" d=\"M285.753,-71.6966C285.598,-60.8463 285.399,-46.9167 285.244,-36.1043\"/>\n",
       "</g>\n",
       "<!-- b8 -->\n",
       "<g id=\"node12\" class=\"node\"><title>b8</title>\n",
       "<ellipse fill=\"none\" stroke=\"black\" cx=\"357\" cy=\"-18\" rx=\"27\" ry=\"18\"/>\n",
       "<text text-anchor=\"middle\" x=\"357\" y=\"-14.3\" font-family=\"Times,serif\" font-size=\"14.00\">x2</text>\n",
       "</g>\n",
       "<!-- b6&#45;&#45;b8 -->\n",
       "<g id=\"edge10\" class=\"edge\"><title>b6&#45;&#45;b8</title>\n",
       "<path fill=\"none\" stroke=\"black\" d=\"M300.711,-74.496C312.897,-62.4822 330.127,-45.4941 342.308,-33.4855\"/>\n",
       "</g>\n",
       "</g>\n",
       "</svg>\n"
      ],
      "text/plain": [
       "<graphviz.dot.Graph at 0x7faf41efab70>"
      ]
     },
     "execution_count": 21,
     "metadata": {},
     "output_type": "execute_result"
    }
   ],
   "source": [
    "parent = genHalfAndHalf(pset,min_=1, max_=2)\n",
    "child = mutUniform(PrimitiveTree(parent), expr_gen, pset)\n",
    "plot_graphs(parent, child[0], 6)"
   ]
  },
  {
   "cell_type": "markdown",
   "metadata": {
    "slideshow": {
     "slide_type": "slide"
    }
   },
   "source": [
    "# GP - mutácia stromov 2"
   ]
  },
  {
   "cell_type": "code",
   "execution_count": 22,
   "metadata": {
    "slideshow": {
     "slide_type": "skip"
    }
   },
   "outputs": [],
   "source": [
    "from deap.gp import mutNodeReplacement\n",
    "from copy import deepcopy\n",
    "random.seed(6)"
   ]
  },
  {
   "cell_type": "code",
   "execution_count": 23,
   "metadata": {},
   "outputs": [
    {
     "data": {
      "image/svg+xml": [
       "<?xml version=\"1.0\" encoding=\"UTF-8\" standalone=\"no\"?>\n",
       "<!DOCTYPE svg PUBLIC \"-//W3C//DTD SVG 1.1//EN\"\n",
       " \"http://www.w3.org/Graphics/SVG/1.1/DTD/svg11.dtd\">\n",
       "<!-- Generated by graphviz version 2.38.0 (20140413.2041)\n",
       " -->\n",
       "<!-- Title: %3 Pages: 1 -->\n",
       "<svg width=\"317pt\" height=\"188pt\"\n",
       " viewBox=\"0.00 0.00 317.00 188.00\" xmlns=\"http://www.w3.org/2000/svg\" xmlns:xlink=\"http://www.w3.org/1999/xlink\">\n",
       "<g id=\"graph0\" class=\"graph\" transform=\"scale(1 1) rotate(0) translate(4 184)\">\n",
       "<title>%3</title>\n",
       "<polygon fill=\"white\" stroke=\"none\" points=\"-4,4 -4,-184 313,-184 313,4 -4,4\"/>\n",
       "<!-- a0 -->\n",
       "<g id=\"node1\" class=\"node\"><title>a0</title>\n",
       "<ellipse fill=\"none\" stroke=\"black\" cx=\"81\" cy=\"-162\" rx=\"27.8951\" ry=\"18\"/>\n",
       "<text text-anchor=\"middle\" x=\"81\" y=\"-158.3\" font-family=\"Times,serif\" font-size=\"14.00\">add</text>\n",
       "</g>\n",
       "<!-- a1 -->\n",
       "<g id=\"node2\" class=\"node\"><title>a1</title>\n",
       "<ellipse fill=\"none\" stroke=\"black\" cx=\"27\" cy=\"-90\" rx=\"27\" ry=\"18\"/>\n",
       "<text text-anchor=\"middle\" x=\"27\" y=\"-86.3\" font-family=\"Times,serif\" font-size=\"14.00\">x1</text>\n",
       "</g>\n",
       "<!-- a0&#45;&#45;a1 -->\n",
       "<g id=\"edge1\" class=\"edge\"><title>a0&#45;&#45;a1</title>\n",
       "<path fill=\"none\" stroke=\"black\" d=\"M69.0156,-145.465C60.0669,-133.865 47.8915,-118.082 38.9508,-106.492\"/>\n",
       "</g>\n",
       "<!-- a2 -->\n",
       "<g id=\"node3\" class=\"node\"><title>a2</title>\n",
       "<ellipse fill=\"none\" stroke=\"black\" cx=\"100\" cy=\"-90\" rx=\"27.8951\" ry=\"18\"/>\n",
       "<text text-anchor=\"middle\" x=\"100\" y=\"-86.3\" font-family=\"Times,serif\" font-size=\"14.00\">add</text>\n",
       "</g>\n",
       "<!-- a0&#45;&#45;a2 -->\n",
       "<g id=\"edge2\" class=\"edge\"><title>a0&#45;&#45;a2</title>\n",
       "<path fill=\"none\" stroke=\"black\" d=\"M85.5994,-144.055C88.5866,-133.049 92.4642,-118.764 95.443,-107.789\"/>\n",
       "</g>\n",
       "<!-- a3 -->\n",
       "<g id=\"node4\" class=\"node\"><title>a3</title>\n",
       "<ellipse fill=\"none\" stroke=\"black\" cx=\"47\" cy=\"-18\" rx=\"27\" ry=\"18\"/>\n",
       "<text text-anchor=\"middle\" x=\"47\" y=\"-14.3\" font-family=\"Times,serif\" font-size=\"14.00\">x2</text>\n",
       "</g>\n",
       "<!-- a2&#45;&#45;a3 -->\n",
       "<g id=\"edge3\" class=\"edge\"><title>a2&#45;&#45;a3</title>\n",
       "<path fill=\"none\" stroke=\"black\" d=\"M88.2376,-73.4647C79.4546,-61.8645 67.5046,-46.0816 58.7295,-34.4918\"/>\n",
       "</g>\n",
       "<!-- a4 -->\n",
       "<g id=\"node5\" class=\"node\"><title>a4</title>\n",
       "<ellipse fill=\"none\" stroke=\"black\" cx=\"119\" cy=\"-18\" rx=\"27\" ry=\"18\"/>\n",
       "<text text-anchor=\"middle\" x=\"119\" y=\"-14.3\" font-family=\"Times,serif\" font-size=\"14.00\">x2</text>\n",
       "</g>\n",
       "<!-- a2&#45;&#45;a4 -->\n",
       "<g id=\"edge4\" class=\"edge\"><title>a2&#45;&#45;a4</title>\n",
       "<path fill=\"none\" stroke=\"black\" d=\"M104.599,-72.055C107.587,-61.0492 111.464,-46.7636 114.443,-35.789\"/>\n",
       "</g>\n",
       "<!-- b0 -->\n",
       "<g id=\"node6\" class=\"node\"><title>b0</title>\n",
       "<ellipse fill=\"none\" stroke=\"black\" cx=\"191\" cy=\"-162\" rx=\"27.8951\" ry=\"18\"/>\n",
       "<text text-anchor=\"middle\" x=\"191\" y=\"-158.3\" font-family=\"Times,serif\" font-size=\"14.00\">add</text>\n",
       "</g>\n",
       "<!-- b1 -->\n",
       "<g id=\"node7\" class=\"node\"><title>b1</title>\n",
       "<ellipse fill=\"none\" stroke=\"black\" cx=\"173\" cy=\"-90\" rx=\"27\" ry=\"18\"/>\n",
       "<text text-anchor=\"middle\" x=\"173\" y=\"-86.3\" font-family=\"Times,serif\" font-size=\"14.00\">x2</text>\n",
       "</g>\n",
       "<!-- b0&#45;&#45;b1 -->\n",
       "<g id=\"edge5\" class=\"edge\"><title>b0&#45;&#45;b1</title>\n",
       "<path fill=\"none\" stroke=\"black\" d=\"M186.643,-144.055C183.813,-133.049 180.139,-118.764 177.317,-107.789\"/>\n",
       "</g>\n",
       "<!-- b2 -->\n",
       "<g id=\"node8\" class=\"node\"><title>b2</title>\n",
       "<ellipse fill=\"none\" stroke=\"black\" cx=\"246\" cy=\"-90\" rx=\"27.8951\" ry=\"18\"/>\n",
       "<text text-anchor=\"middle\" x=\"246\" y=\"-86.3\" font-family=\"Times,serif\" font-size=\"14.00\">add</text>\n",
       "</g>\n",
       "<!-- b0&#45;&#45;b2 -->\n",
       "<g id=\"edge6\" class=\"edge\"><title>b0&#45;&#45;b2</title>\n",
       "<path fill=\"none\" stroke=\"black\" d=\"M203.206,-145.465C212.321,-133.865 224.722,-118.082 233.828,-106.492\"/>\n",
       "</g>\n",
       "<!-- b3 -->\n",
       "<g id=\"node9\" class=\"node\"><title>b3</title>\n",
       "<ellipse fill=\"none\" stroke=\"black\" cx=\"210\" cy=\"-18\" rx=\"27\" ry=\"18\"/>\n",
       "<text text-anchor=\"middle\" x=\"210\" y=\"-14.3\" font-family=\"Times,serif\" font-size=\"14.00\">x2</text>\n",
       "</g>\n",
       "<!-- b2&#45;&#45;b3 -->\n",
       "<g id=\"edge7\" class=\"edge\"><title>b2&#45;&#45;b3</title>\n",
       "<path fill=\"none\" stroke=\"black\" d=\"M237.65,-72.7646C231.835,-61.456 224.11,-46.4367 218.304,-35.1473\"/>\n",
       "</g>\n",
       "<!-- b4 -->\n",
       "<g id=\"node10\" class=\"node\"><title>b4</title>\n",
       "<ellipse fill=\"none\" stroke=\"black\" cx=\"282\" cy=\"-18\" rx=\"27\" ry=\"18\"/>\n",
       "<text text-anchor=\"middle\" x=\"282\" y=\"-14.3\" font-family=\"Times,serif\" font-size=\"14.00\">x2</text>\n",
       "</g>\n",
       "<!-- b2&#45;&#45;b4 -->\n",
       "<g id=\"edge8\" class=\"edge\"><title>b2&#45;&#45;b4</title>\n",
       "<path fill=\"none\" stroke=\"black\" d=\"M254.35,-72.7646C260.165,-61.456 267.89,-46.4367 273.696,-35.1473\"/>\n",
       "</g>\n",
       "</g>\n",
       "</svg>\n"
      ],
      "text/plain": [
       "<graphviz.dot.Graph at 0x7faf41efa780>"
      ]
     },
     "execution_count": 23,
     "metadata": {},
     "output_type": "execute_result"
    }
   ],
   "source": [
    "parent = genHalfAndHalf(pset,min_=1, max_=2)\n",
    "child = mutNodeReplacement(deepcopy(parent), pset)\n",
    "dots = plot_graphs(parent, child[0]); dots"
   ]
  },
  {
   "cell_type": "markdown",
   "metadata": {
    "slideshow": {
     "slide_type": "slide"
    }
   },
   "source": [
    "# Genetické programovanie\n",
    "\n",
    "- množina terminálov\n",
    "- množina neterminálov (funkcií)\n",
    "- ako zvoliť tieto množiny?"
   ]
  },
  {
   "cell_type": "code",
   "execution_count": 24,
   "metadata": {},
   "outputs": [
    {
     "data": {
      "image/svg+xml": [
       "<?xml version=\"1.0\" encoding=\"UTF-8\" standalone=\"no\"?>\n",
       "<!DOCTYPE svg PUBLIC \"-//W3C//DTD SVG 1.1//EN\"\n",
       " \"http://www.w3.org/Graphics/SVG/1.1/DTD/svg11.dtd\">\n",
       "<!-- Generated by graphviz version 2.38.0 (20140413.2041)\n",
       " -->\n",
       "<!-- Title: %3 Pages: 1 -->\n",
       "<svg width=\"171pt\" height=\"188pt\"\n",
       " viewBox=\"0.00 0.00 171.00 188.00\" xmlns=\"http://www.w3.org/2000/svg\" xmlns:xlink=\"http://www.w3.org/1999/xlink\">\n",
       "<g id=\"graph0\" class=\"graph\" transform=\"scale(1 1) rotate(0) translate(4 184)\">\n",
       "<title>%3</title>\n",
       "<polygon fill=\"white\" stroke=\"none\" points=\"-4,4 -4,-184 167,-184 167,4 -4,4\"/>\n",
       "<!-- 0 -->\n",
       "<g id=\"node1\" class=\"node\"><title>0</title>\n",
       "<ellipse fill=\"none\" stroke=\"black\" cx=\"63\" cy=\"-162\" rx=\"27.8951\" ry=\"18\"/>\n",
       "<text text-anchor=\"middle\" x=\"63\" y=\"-158.3\" font-family=\"Times,serif\" font-size=\"14.00\">add</text>\n",
       "</g>\n",
       "<!-- 1 -->\n",
       "<g id=\"node2\" class=\"node\"><title>1</title>\n",
       "<ellipse fill=\"none\" stroke=\"black\" cx=\"27\" cy=\"-90\" rx=\"27\" ry=\"18\"/>\n",
       "<text text-anchor=\"middle\" x=\"27\" y=\"-86.3\" font-family=\"Times,serif\" font-size=\"14.00\">x1</text>\n",
       "</g>\n",
       "<!-- 0&#45;&#45;1 -->\n",
       "<g id=\"edge1\" class=\"edge\"><title>0&#45;&#45;1</title>\n",
       "<path fill=\"none\" stroke=\"black\" d=\"M54.6504,-144.765C48.8345,-133.456 41.1103,-118.437 35.3043,-107.147\"/>\n",
       "</g>\n",
       "<!-- 2 -->\n",
       "<g id=\"node3\" class=\"node\"><title>2</title>\n",
       "<ellipse fill=\"none\" stroke=\"black\" cx=\"100\" cy=\"-90\" rx=\"27.8951\" ry=\"18\"/>\n",
       "<text text-anchor=\"middle\" x=\"100\" y=\"-86.3\" font-family=\"Times,serif\" font-size=\"14.00\">add</text>\n",
       "</g>\n",
       "<!-- 0&#45;&#45;2 -->\n",
       "<g id=\"edge2\" class=\"edge\"><title>0&#45;&#45;2</title>\n",
       "<path fill=\"none\" stroke=\"black\" d=\"M71.5815,-144.765C77.559,-133.456 85.4978,-118.437 91.465,-107.147\"/>\n",
       "</g>\n",
       "<!-- 3 -->\n",
       "<g id=\"node4\" class=\"node\"><title>3</title>\n",
       "<ellipse fill=\"none\" stroke=\"black\" cx=\"64\" cy=\"-18\" rx=\"27\" ry=\"18\"/>\n",
       "<text text-anchor=\"middle\" x=\"64\" y=\"-14.3\" font-family=\"Times,serif\" font-size=\"14.00\">x2</text>\n",
       "</g>\n",
       "<!-- 2&#45;&#45;3 -->\n",
       "<g id=\"edge3\" class=\"edge\"><title>2&#45;&#45;3</title>\n",
       "<path fill=\"none\" stroke=\"black\" d=\"M91.6504,-72.7646C85.8345,-61.456 78.1103,-46.4367 72.3043,-35.1473\"/>\n",
       "</g>\n",
       "<!-- 4 -->\n",
       "<g id=\"node5\" class=\"node\"><title>4</title>\n",
       "<ellipse fill=\"none\" stroke=\"black\" cx=\"136\" cy=\"-18\" rx=\"27\" ry=\"18\"/>\n",
       "<text text-anchor=\"middle\" x=\"136\" y=\"-14.3\" font-family=\"Times,serif\" font-size=\"14.00\">x2</text>\n",
       "</g>\n",
       "<!-- 2&#45;&#45;4 -->\n",
       "<g id=\"edge4\" class=\"edge\"><title>2&#45;&#45;4</title>\n",
       "<path fill=\"none\" stroke=\"black\" d=\"M108.35,-72.7646C114.165,-61.456 121.89,-46.4367 127.696,-35.1473\"/>\n",
       "</g>\n",
       "</g>\n",
       "</svg>\n"
      ],
      "text/plain": [
       "<graphviz.dot.Graph at 0x7faf41ee5fd0>"
      ]
     },
     "execution_count": 24,
     "metadata": {},
     "output_type": "execute_result"
    }
   ],
   "source": [
    "plot_graph(parent)"
   ]
  },
  {
   "cell_type": "markdown",
   "metadata": {
    "slideshow": {
     "slide_type": "slide"
    }
   },
   "source": [
    "# Genetické programovanie\n",
    "\n",
    "- jedinec reprezentuje funkciu\n",
    "  - $ f(x_1, x_2) = x_1 + (x_2 + x_2) $\n",
    "- nezávislé premenné (vstupy) a nezávislé premenné (výstupy)\n",
    "- cieľ: nájsť funkciu, ktorá minimalizuje rozdiel (typicky suma štvorcov) medzi vstupnými trénovacími dátami a výstupnými trénovacími dátami\n",
    "- Symbolická regresia (Koza, 1992) ako všeobecná forma regresnej analýzy"
   ]
  },
  {
   "cell_type": "code",
   "execution_count": 25,
   "metadata": {},
   "outputs": [
    {
     "data": {
      "image/svg+xml": [
       "<?xml version=\"1.0\" encoding=\"UTF-8\" standalone=\"no\"?>\n",
       "<!DOCTYPE svg PUBLIC \"-//W3C//DTD SVG 1.1//EN\"\n",
       " \"http://www.w3.org/Graphics/SVG/1.1/DTD/svg11.dtd\">\n",
       "<!-- Generated by graphviz version 2.38.0 (20140413.2041)\n",
       " -->\n",
       "<!-- Title: %3 Pages: 1 -->\n",
       "<svg width=\"171pt\" height=\"188pt\"\n",
       " viewBox=\"0.00 0.00 171.00 188.00\" xmlns=\"http://www.w3.org/2000/svg\" xmlns:xlink=\"http://www.w3.org/1999/xlink\">\n",
       "<g id=\"graph0\" class=\"graph\" transform=\"scale(1 1) rotate(0) translate(4 184)\">\n",
       "<title>%3</title>\n",
       "<polygon fill=\"white\" stroke=\"none\" points=\"-4,4 -4,-184 167,-184 167,4 -4,4\"/>\n",
       "<!-- 0 -->\n",
       "<g id=\"node1\" class=\"node\"><title>0</title>\n",
       "<ellipse fill=\"none\" stroke=\"black\" cx=\"63\" cy=\"-162\" rx=\"27.8951\" ry=\"18\"/>\n",
       "<text text-anchor=\"middle\" x=\"63\" y=\"-158.3\" font-family=\"Times,serif\" font-size=\"14.00\">add</text>\n",
       "</g>\n",
       "<!-- 1 -->\n",
       "<g id=\"node2\" class=\"node\"><title>1</title>\n",
       "<ellipse fill=\"none\" stroke=\"black\" cx=\"27\" cy=\"-90\" rx=\"27\" ry=\"18\"/>\n",
       "<text text-anchor=\"middle\" x=\"27\" y=\"-86.3\" font-family=\"Times,serif\" font-size=\"14.00\">x1</text>\n",
       "</g>\n",
       "<!-- 0&#45;&#45;1 -->\n",
       "<g id=\"edge1\" class=\"edge\"><title>0&#45;&#45;1</title>\n",
       "<path fill=\"none\" stroke=\"black\" d=\"M54.6504,-144.765C48.8345,-133.456 41.1103,-118.437 35.3043,-107.147\"/>\n",
       "</g>\n",
       "<!-- 2 -->\n",
       "<g id=\"node3\" class=\"node\"><title>2</title>\n",
       "<ellipse fill=\"none\" stroke=\"black\" cx=\"100\" cy=\"-90\" rx=\"27.8951\" ry=\"18\"/>\n",
       "<text text-anchor=\"middle\" x=\"100\" y=\"-86.3\" font-family=\"Times,serif\" font-size=\"14.00\">add</text>\n",
       "</g>\n",
       "<!-- 0&#45;&#45;2 -->\n",
       "<g id=\"edge2\" class=\"edge\"><title>0&#45;&#45;2</title>\n",
       "<path fill=\"none\" stroke=\"black\" d=\"M71.5815,-144.765C77.559,-133.456 85.4978,-118.437 91.465,-107.147\"/>\n",
       "</g>\n",
       "<!-- 3 -->\n",
       "<g id=\"node4\" class=\"node\"><title>3</title>\n",
       "<ellipse fill=\"none\" stroke=\"black\" cx=\"64\" cy=\"-18\" rx=\"27\" ry=\"18\"/>\n",
       "<text text-anchor=\"middle\" x=\"64\" y=\"-14.3\" font-family=\"Times,serif\" font-size=\"14.00\">x2</text>\n",
       "</g>\n",
       "<!-- 2&#45;&#45;3 -->\n",
       "<g id=\"edge3\" class=\"edge\"><title>2&#45;&#45;3</title>\n",
       "<path fill=\"none\" stroke=\"black\" d=\"M91.6504,-72.7646C85.8345,-61.456 78.1103,-46.4367 72.3043,-35.1473\"/>\n",
       "</g>\n",
       "<!-- 4 -->\n",
       "<g id=\"node5\" class=\"node\"><title>4</title>\n",
       "<ellipse fill=\"none\" stroke=\"black\" cx=\"136\" cy=\"-18\" rx=\"27\" ry=\"18\"/>\n",
       "<text text-anchor=\"middle\" x=\"136\" y=\"-14.3\" font-family=\"Times,serif\" font-size=\"14.00\">x2</text>\n",
       "</g>\n",
       "<!-- 2&#45;&#45;4 -->\n",
       "<g id=\"edge4\" class=\"edge\"><title>2&#45;&#45;4</title>\n",
       "<path fill=\"none\" stroke=\"black\" d=\"M108.35,-72.7646C114.165,-61.456 121.89,-46.4367 127.696,-35.1473\"/>\n",
       "</g>\n",
       "</g>\n",
       "</svg>\n"
      ],
      "text/plain": [
       "<graphviz.dot.Graph at 0x7faf416316d8>"
      ]
     },
     "execution_count": 25,
     "metadata": {},
     "output_type": "execute_result"
    }
   ],
   "source": [
    "plot_graph(parent)"
   ]
  },
  {
   "cell_type": "markdown",
   "metadata": {
    "slideshow": {
     "slide_type": "slide"
    }
   },
   "source": [
    "# Symbolická regresia\n",
    "\n",
    "- lineárna regresia\n",
    " - $ y = ax + b $\n",
    "- polynomiálna regresia\n",
    " - $ y = ax^2 + bx + c $\n",
    " - $ y = ax^3 + bx^2 + cx = d $\n",
    " - ...\n",
    "- symbolická regresia\n",
    " - ???"
   ]
  },
  {
   "cell_type": "markdown",
   "metadata": {},
   "source": [
    "<div style=\"display: flex; justify-content: space-around\">\n",
    "    <img src=\"linreg.png\" style=\"width: 40%\">\n",
    "    <img src=\"polreg.png\" style=\"width: 40%\">\n",
    "</div>"
   ]
  },
  {
   "cell_type": "code",
   "execution_count": 26,
   "metadata": {
    "slideshow": {
     "slide_type": "subslide"
    }
   },
   "outputs": [
    {
     "data": {
      "image/png": "[encoded data removed]",
      "text/plain": [
       "<matplotlib.figure.Figure at 0x7faf41efa860>"
      ]
     },
     "metadata": {},
     "output_type": "display_data"
    }
   ],
   "source": [
    "from pycgp.benchmarks.symbolic import X, y\n",
    "plt.scatter(X, y);"
   ]
  },
  {
   "cell_type": "markdown",
   "metadata": {},
   "source": [
    "Body generované funkciou $ f(x) = \\sin{(x^2)} + \\sin{(x + x^2)} $"
   ]
  },
  {
   "cell_type": "code",
   "execution_count": 27,
   "metadata": {
    "slideshow": {
     "slide_type": "subslide"
    }
   },
   "outputs": [],
   "source": [
    "import math\n",
    "from deap import gp\n",
    "\n",
    "def protectedDiv(left, right):\n",
    "    try:\n",
    "        return left / right\n",
    "    except ZeroDivisionError:\n",
    "        return 1\n",
    "\n",
    "pset = gp.PrimitiveSet(\"MAIN\", 1)\n",
    "pset.addPrimitive(operator.add, 2)\n",
    "pset.addPrimitive(operator.sub, 2)\n",
    "pset.addPrimitive(operator.mul, 2)\n",
    "pset.addPrimitive(protectedDiv, 2)\n",
    "pset.addPrimitive(math.sin, 1)"
   ]
  },
  {
   "cell_type": "code",
   "execution_count": 28,
   "metadata": {
    "slideshow": {
     "slide_type": "subslide"
    }
   },
   "outputs": [],
   "source": [
    "creator.create(\"FitnessMinGp\", base.Fitness, weights=(-1.0,))\n",
    "creator.create(\"IndividualGp\", gp.PrimitiveTree, fitness=creator.FitnessMinGp)\n",
    "\n",
    "toolbox = base.Toolbox()\n",
    "toolbox.register(\"expr\", gp.genHalfAndHalf, pset=pset, min_=1, max_=2)\n",
    "toolbox.register(\"individual\", tools.initIterate, creator.IndividualGp, toolbox.expr)\n",
    "toolbox.register(\"population\", tools.initRepeat, list, toolbox.individual)\n",
    "toolbox.register(\"compile\", gp.compile, pset=pset)"
   ]
  },
  {
   "cell_type": "code",
   "execution_count": 29,
   "metadata": {
    "slideshow": {
     "slide_type": "subslide"
    }
   },
   "outputs": [],
   "source": [
    "def evalSymbReg(individual, points):\n",
    "    func = toolbox.compile(expr=individual)\n",
    "    sqerrors = ((func(x) - (math.sin(x**2) + math.sin(x + x**2) ))**2 for x in points)\n",
    "    return math.fsum(sqerrors) / len(points),\n",
    "\n",
    "toolbox.register(\"evaluate\", evalSymbReg, points=[x/10. for x in range(-50,50)])\n",
    "toolbox.register(\"select\", tools.selTournament, tournsize=3)\n",
    "toolbox.register(\"mate\", gp.cxOnePoint)\n",
    "toolbox.register(\"expr_mut\", gp.genFull, min_=0, max_=2)\n",
    "toolbox.register(\"mutate\", gp.mutUniform, expr=toolbox.expr_mut, pset=pset)\n",
    "\n",
    "toolbox.decorate(\"mate\", gp.staticLimit(key=operator.attrgetter(\"height\"), max_value=17))\n",
    "toolbox.decorate(\"mutate\", gp.staticLimit(key=operator.attrgetter(\"height\"), max_value=17))"
   ]
  },
  {
   "cell_type": "code",
   "execution_count": 30,
   "metadata": {
    "slideshow": {
     "slide_type": "subslide"
    }
   },
   "outputs": [
    {
     "name": "stdout",
     "output_type": "stream",
     "text": [
      "CPU times: user 35.2 s, sys: 297 ms, total: 35.5 s\n",
      "Wall time: 38.1 s\n"
     ]
    }
   ],
   "source": [
    "%%time \n",
    "\n",
    "pop = toolbox.population(n=300)\n",
    "hof = tools.HallOfFame(1)\n",
    "pop, log = eaSimple(pop, toolbox, 0.7, 0.1, 200, halloffame=hof, verbose=False)"
   ]
  },
  {
   "cell_type": "code",
   "execution_count": 31,
   "metadata": {
    "slideshow": {
     "slide_type": "subslide"
    }
   },
   "outputs": [
    {
     "data": {
      "image/svg+xml": [
       "<?xml version=\"1.0\" encoding=\"UTF-8\" standalone=\"no\"?>\n",
       "<!DOCTYPE svg PUBLIC \"-//W3C//DTD SVG 1.1//EN\"\n",
       " \"http://www.w3.org/Graphics/SVG/1.1/DTD/svg11.dtd\">\n",
       "<!-- Generated by graphviz version 2.38.0 (20140413.2041)\n",
       " -->\n",
       "<!-- Title: %3 Pages: 1 -->\n",
       "<svg width=\"360pt\" height=\"331pt\"\n",
       " viewBox=\"0.00 0.00 360.00 330.93\" xmlns=\"http://www.w3.org/2000/svg\" xmlns:xlink=\"http://www.w3.org/1999/xlink\">\n",
       "<g id=\"graph0\" class=\"graph\" transform=\"scale(0.260984 0.260984) rotate(0) translate(4 1264)\">\n",
       "<title>%3</title>\n",
       "<polygon fill=\"white\" stroke=\"none\" points=\"-4,4 -4,-1264 1375.39,-1264 1375.39,4 -4,4\"/>\n",
       "<!-- 0 -->\n",
       "<g id=\"node1\" class=\"node\"><title>0</title>\n",
       "<ellipse fill=\"none\" stroke=\"black\" cx=\"333.697\" cy=\"-1242\" rx=\"27\" ry=\"18\"/>\n",
       "<text text-anchor=\"middle\" x=\"333.697\" y=\"-1238.3\" font-family=\"Times,serif\" font-size=\"14.00\">sin</text>\n",
       "</g>\n",
       "<!-- 1 -->\n",
       "<g id=\"node2\" class=\"node\"><title>1</title>\n",
       "<ellipse fill=\"none\" stroke=\"black\" cx=\"333.697\" cy=\"-1170\" rx=\"27.8951\" ry=\"18\"/>\n",
       "<text text-anchor=\"middle\" x=\"333.697\" y=\"-1166.3\" font-family=\"Times,serif\" font-size=\"14.00\">add</text>\n",
       "</g>\n",
       "<!-- 0&#45;&#45;1 -->\n",
       "<g id=\"edge1\" class=\"edge\"><title>0&#45;&#45;1</title>\n",
       "<path fill=\"none\" stroke=\"black\" d=\"M333.697,-1223.7C333.697,-1212.85 333.697,-1198.92 333.697,-1188.1\"/>\n",
       "</g>\n",
       "<!-- 2 -->\n",
       "<g id=\"node3\" class=\"node\"><title>2</title>\n",
       "<ellipse fill=\"none\" stroke=\"black\" cx=\"294.697\" cy=\"-1098\" rx=\"28.6953\" ry=\"18\"/>\n",
       "<text text-anchor=\"middle\" x=\"294.697\" y=\"-1094.3\" font-family=\"Times,serif\" font-size=\"14.00\">mul</text>\n",
       "</g>\n",
       "<!-- 1&#45;&#45;2 -->\n",
       "<g id=\"edge2\" class=\"edge\"><title>1&#45;&#45;2</title>\n",
       "<path fill=\"none\" stroke=\"black\" d=\"M324.651,-1152.76C318.351,-1141.46 309.983,-1126.44 303.693,-1115.15\"/>\n",
       "</g>\n",
       "<!-- 5 -->\n",
       "<g id=\"node6\" class=\"node\"><title>5</title>\n",
       "<ellipse fill=\"none\" stroke=\"black\" cx=\"372.697\" cy=\"-1098\" rx=\"27\" ry=\"18\"/>\n",
       "<text text-anchor=\"middle\" x=\"372.697\" y=\"-1094.3\" font-family=\"Times,serif\" font-size=\"14.00\">sin</text>\n",
       "</g>\n",
       "<!-- 1&#45;&#45;5 -->\n",
       "<g id=\"edge5\" class=\"edge\"><title>1&#45;&#45;5</title>\n",
       "<path fill=\"none\" stroke=\"black\" d=\"M342.742,-1152.76C349.043,-1141.46 357.411,-1126.44 363.7,-1115.15\"/>\n",
       "</g>\n",
       "<!-- 3 -->\n",
       "<g id=\"node4\" class=\"node\"><title>3</title>\n",
       "<ellipse fill=\"none\" stroke=\"black\" cx=\"201.697\" cy=\"-1026\" rx=\"37.8943\" ry=\"18\"/>\n",
       "<text text-anchor=\"middle\" x=\"201.697\" y=\"-1022.3\" font-family=\"Times,serif\" font-size=\"14.00\">ARG0</text>\n",
       "</g>\n",
       "<!-- 2&#45;&#45;3 -->\n",
       "<g id=\"edge3\" class=\"edge\"><title>2&#45;&#45;3</title>\n",
       "<path fill=\"none\" stroke=\"black\" d=\"M276.765,-1083.5C260.825,-1071.51 237.572,-1054 221.178,-1041.66\"/>\n",
       "</g>\n",
       "<!-- 4 -->\n",
       "<g id=\"node5\" class=\"node\"><title>4</title>\n",
       "<ellipse fill=\"none\" stroke=\"black\" cx=\"294.697\" cy=\"-1026\" rx=\"37.8943\" ry=\"18\"/>\n",
       "<text text-anchor=\"middle\" x=\"294.697\" y=\"-1022.3\" font-family=\"Times,serif\" font-size=\"14.00\">ARG0</text>\n",
       "</g>\n",
       "<!-- 2&#45;&#45;4 -->\n",
       "<g id=\"edge4\" class=\"edge\"><title>2&#45;&#45;4</title>\n",
       "<path fill=\"none\" stroke=\"black\" d=\"M294.697,-1079.7C294.697,-1068.85 294.697,-1054.92 294.697,-1044.1\"/>\n",
       "</g>\n",
       "<!-- 6 -->\n",
       "<g id=\"node7\" class=\"node\"><title>6</title>\n",
       "<ellipse fill=\"none\" stroke=\"black\" cx=\"377.697\" cy=\"-1026\" rx=\"27.0966\" ry=\"18\"/>\n",
       "<text text-anchor=\"middle\" x=\"377.697\" y=\"-1022.3\" font-family=\"Times,serif\" font-size=\"14.00\">sub</text>\n",
       "</g>\n",
       "<!-- 5&#45;&#45;6 -->\n",
       "<g id=\"edge6\" class=\"edge\"><title>5&#45;&#45;6</title>\n",
       "<path fill=\"none\" stroke=\"black\" d=\"M373.933,-1079.7C374.708,-1068.85 375.703,-1054.92 376.475,-1044.1\"/>\n",
       "</g>\n",
       "<!-- 7 -->\n",
       "<g id=\"node8\" class=\"node\"><title>7</title>\n",
       "<ellipse fill=\"none\" stroke=\"black\" cx=\"335.697\" cy=\"-954\" rx=\"37.8943\" ry=\"18\"/>\n",
       "<text text-anchor=\"middle\" x=\"335.697\" y=\"-950.3\" font-family=\"Times,serif\" font-size=\"14.00\">ARG0</text>\n",
       "</g>\n",
       "<!-- 6&#45;&#45;7 -->\n",
       "<g id=\"edge7\" class=\"edge\"><title>6&#45;&#45;7</title>\n",
       "<path fill=\"none\" stroke=\"black\" d=\"M368.166,-1009.12C361.486,-997.983 352.573,-983.127 345.775,-971.797\"/>\n",
       "</g>\n",
       "<!-- 8 -->\n",
       "<g id=\"node9\" class=\"node\"><title>8</title>\n",
       "<ellipse fill=\"none\" stroke=\"black\" cx=\"419.697\" cy=\"-954\" rx=\"27.8951\" ry=\"18\"/>\n",
       "<text text-anchor=\"middle\" x=\"419.697\" y=\"-950.3\" font-family=\"Times,serif\" font-size=\"14.00\">add</text>\n",
       "</g>\n",
       "<!-- 6&#45;&#45;8 -->\n",
       "<g id=\"edge8\" class=\"edge\"><title>6&#45;&#45;8</title>\n",
       "<path fill=\"none\" stroke=\"black\" d=\"M387.227,-1009.12C394.004,-997.821 403.079,-982.696 409.912,-971.307\"/>\n",
       "</g>\n",
       "<!-- 9 -->\n",
       "<g id=\"node10\" class=\"node\"><title>9</title>\n",
       "<ellipse fill=\"none\" stroke=\"black\" cx=\"361.697\" cy=\"-882\" rx=\"28.6953\" ry=\"18\"/>\n",
       "<text text-anchor=\"middle\" x=\"361.697\" y=\"-878.3\" font-family=\"Times,serif\" font-size=\"14.00\">mul</text>\n",
       "</g>\n",
       "<!-- 8&#45;&#45;9 -->\n",
       "<g id=\"edge9\" class=\"edge\"><title>8&#45;&#45;9</title>\n",
       "<path fill=\"none\" stroke=\"black\" d=\"M407.112,-937.811C397.516,-926.231 384.346,-910.336 374.659,-898.644\"/>\n",
       "</g>\n",
       "<!-- 30 -->\n",
       "<g id=\"node31\" class=\"node\"><title>30</title>\n",
       "<ellipse fill=\"none\" stroke=\"black\" cx=\"476.697\" cy=\"-882\" rx=\"27\" ry=\"18\"/>\n",
       "<text text-anchor=\"middle\" x=\"476.697\" y=\"-878.3\" font-family=\"Times,serif\" font-size=\"14.00\">sin</text>\n",
       "</g>\n",
       "<!-- 8&#45;&#45;30 -->\n",
       "<g id=\"edge30\" class=\"edge\"><title>8&#45;&#45;30</title>\n",
       "<path fill=\"none\" stroke=\"black\" d=\"M432.065,-937.811C441.626,-926.07 454.798,-909.893 464.353,-898.159\"/>\n",
       "</g>\n",
       "<!-- 10 -->\n",
       "<g id=\"node11\" class=\"node\"><title>10</title>\n",
       "<ellipse fill=\"none\" stroke=\"black\" cx=\"217.697\" cy=\"-810\" rx=\"27.0966\" ry=\"18\"/>\n",
       "<text text-anchor=\"middle\" x=\"217.697\" y=\"-806.3\" font-family=\"Times,serif\" font-size=\"14.00\">sub</text>\n",
       "</g>\n",
       "<!-- 9&#45;&#45;10 -->\n",
       "<g id=\"edge10\" class=\"edge\"><title>9&#45;&#45;10</title>\n",
       "<path fill=\"none\" stroke=\"black\" d=\"M339.826,-870.369C312.603,-857.135 266.4,-834.675 239.301,-821.502\"/>\n",
       "</g>\n",
       "<!-- 15 -->\n",
       "<g id=\"node16\" class=\"node\"><title>15</title>\n",
       "<ellipse fill=\"none\" stroke=\"black\" cx=\"361.697\" cy=\"-810\" rx=\"71.4873\" ry=\"18\"/>\n",
       "<text text-anchor=\"middle\" x=\"361.697\" y=\"-806.3\" font-family=\"Times,serif\" font-size=\"14.00\">protectedDiv</text>\n",
       "</g>\n",
       "<!-- 9&#45;&#45;15 -->\n",
       "<g id=\"edge15\" class=\"edge\"><title>9&#45;&#45;15</title>\n",
       "<path fill=\"none\" stroke=\"black\" d=\"M361.697,-863.697C361.697,-852.846 361.697,-838.917 361.697,-828.104\"/>\n",
       "</g>\n",
       "<!-- 11 -->\n",
       "<g id=\"node12\" class=\"node\"><title>11</title>\n",
       "<ellipse fill=\"none\" stroke=\"black\" cx=\"130.697\" cy=\"-738\" rx=\"27.0966\" ry=\"18\"/>\n",
       "<text text-anchor=\"middle\" x=\"130.697\" y=\"-734.3\" font-family=\"Times,serif\" font-size=\"14.00\">sub</text>\n",
       "</g>\n",
       "<!-- 10&#45;&#45;11 -->\n",
       "<g id=\"edge11\" class=\"edge\"><title>10&#45;&#45;11</title>\n",
       "<path fill=\"none\" stroke=\"black\" d=\"M200.922,-795.503C185.516,-783.108 162.809,-764.838 147.42,-752.455\"/>\n",
       "</g>\n",
       "<!-- 14 -->\n",
       "<g id=\"node15\" class=\"node\"><title>14</title>\n",
       "<ellipse fill=\"none\" stroke=\"black\" cx=\"217.697\" cy=\"-738\" rx=\"37.8943\" ry=\"18\"/>\n",
       "<text text-anchor=\"middle\" x=\"217.697\" y=\"-734.3\" font-family=\"Times,serif\" font-size=\"14.00\">ARG0</text>\n",
       "</g>\n",
       "<!-- 10&#45;&#45;14 -->\n",
       "<g id=\"edge14\" class=\"edge\"><title>10&#45;&#45;14</title>\n",
       "<path fill=\"none\" stroke=\"black\" d=\"M217.697,-791.697C217.697,-780.846 217.697,-766.917 217.697,-756.104\"/>\n",
       "</g>\n",
       "<!-- 12 -->\n",
       "<g id=\"node13\" class=\"node\"><title>12</title>\n",
       "<ellipse fill=\"none\" stroke=\"black\" cx=\"37.6967\" cy=\"-666\" rx=\"37.8943\" ry=\"18\"/>\n",
       "<text text-anchor=\"middle\" x=\"37.6967\" y=\"-662.3\" font-family=\"Times,serif\" font-size=\"14.00\">ARG0</text>\n",
       "</g>\n",
       "<!-- 11&#45;&#45;12 -->\n",
       "<g id=\"edge12\" class=\"edge\"><title>11&#45;&#45;12</title>\n",
       "<path fill=\"none\" stroke=\"black\" d=\"M113.204,-723.834C97.2085,-711.794 73.5884,-694.015 57.0369,-681.557\"/>\n",
       "</g>\n",
       "<!-- 13 -->\n",
       "<g id=\"node14\" class=\"node\"><title>13</title>\n",
       "<ellipse fill=\"none\" stroke=\"black\" cx=\"130.697\" cy=\"-666\" rx=\"37.8943\" ry=\"18\"/>\n",
       "<text text-anchor=\"middle\" x=\"130.697\" y=\"-662.3\" font-family=\"Times,serif\" font-size=\"14.00\">ARG0</text>\n",
       "</g>\n",
       "<!-- 11&#45;&#45;13 -->\n",
       "<g id=\"edge13\" class=\"edge\"><title>11&#45;&#45;13</title>\n",
       "<path fill=\"none\" stroke=\"black\" d=\"M130.697,-719.697C130.697,-708.846 130.697,-694.917 130.697,-684.104\"/>\n",
       "</g>\n",
       "<!-- 16 -->\n",
       "<g id=\"node17\" class=\"node\"><title>16</title>\n",
       "<ellipse fill=\"none\" stroke=\"black\" cx=\"306.697\" cy=\"-738\" rx=\"28.6953\" ry=\"18\"/>\n",
       "<text text-anchor=\"middle\" x=\"306.697\" y=\"-734.3\" font-family=\"Times,serif\" font-size=\"14.00\">mul</text>\n",
       "</g>\n",
       "<!-- 15&#45;&#45;16 -->\n",
       "<g id=\"edge16\" class=\"edge\"><title>15&#45;&#45;16</title>\n",
       "<path fill=\"none\" stroke=\"black\" d=\"M348.383,-792.055C339.354,-780.564 327.515,-765.497 318.762,-754.356\"/>\n",
       "</g>\n",
       "<!-- 21 -->\n",
       "<g id=\"node22\" class=\"node\"><title>21</title>\n",
       "<ellipse fill=\"none\" stroke=\"black\" cx=\"389.697\" cy=\"-738\" rx=\"27.0966\" ry=\"18\"/>\n",
       "<text text-anchor=\"middle\" x=\"389.697\" y=\"-734.3\" font-family=\"Times,serif\" font-size=\"14.00\">sub</text>\n",
       "</g>\n",
       "<!-- 15&#45;&#45;21 -->\n",
       "<g id=\"edge21\" class=\"edge\"><title>15&#45;&#45;21</title>\n",
       "<path fill=\"none\" stroke=\"black\" d=\"M368.475,-792.055C372.877,-781.049 378.591,-766.764 382.981,-755.789\"/>\n",
       "</g>\n",
       "<!-- 17 -->\n",
       "<g id=\"node18\" class=\"node\"><title>17</title>\n",
       "<ellipse fill=\"none\" stroke=\"black\" cx=\"223.697\" cy=\"-666\" rx=\"37.8943\" ry=\"18\"/>\n",
       "<text text-anchor=\"middle\" x=\"223.697\" y=\"-662.3\" font-family=\"Times,serif\" font-size=\"14.00\">ARG0</text>\n",
       "</g>\n",
       "<!-- 16&#45;&#45;17 -->\n",
       "<g id=\"edge17\" class=\"edge\"><title>16&#45;&#45;17</title>\n",
       "<path fill=\"none\" stroke=\"black\" d=\"M290.299,-723.17C276.22,-711.297 255.968,-694.216 241.497,-682.013\"/>\n",
       "</g>\n",
       "<!-- 18 -->\n",
       "<g id=\"node19\" class=\"node\"><title>18</title>\n",
       "<ellipse fill=\"none\" stroke=\"black\" cx=\"306.697\" cy=\"-666\" rx=\"27.0966\" ry=\"18\"/>\n",
       "<text text-anchor=\"middle\" x=\"306.697\" y=\"-662.3\" font-family=\"Times,serif\" font-size=\"14.00\">sub</text>\n",
       "</g>\n",
       "<!-- 16&#45;&#45;18 -->\n",
       "<g id=\"edge18\" class=\"edge\"><title>16&#45;&#45;18</title>\n",
       "<path fill=\"none\" stroke=\"black\" d=\"M306.697,-719.697C306.697,-708.846 306.697,-694.917 306.697,-684.104\"/>\n",
       "</g>\n",
       "<!-- 19 -->\n",
       "<g id=\"node20\" class=\"node\"><title>19</title>\n",
       "<ellipse fill=\"none\" stroke=\"black\" cx=\"213.697\" cy=\"-594\" rx=\"37.8943\" ry=\"18\"/>\n",
       "<text text-anchor=\"middle\" x=\"213.697\" y=\"-590.3\" font-family=\"Times,serif\" font-size=\"14.00\">ARG0</text>\n",
       "</g>\n",
       "<!-- 18&#45;&#45;19 -->\n",
       "<g id=\"edge19\" class=\"edge\"><title>18&#45;&#45;19</title>\n",
       "<path fill=\"none\" stroke=\"black\" d=\"M289.204,-651.834C273.209,-639.794 249.588,-622.015 233.037,-609.557\"/>\n",
       "</g>\n",
       "<!-- 20 -->\n",
       "<g id=\"node21\" class=\"node\"><title>20</title>\n",
       "<ellipse fill=\"none\" stroke=\"black\" cx=\"306.697\" cy=\"-594\" rx=\"37.8943\" ry=\"18\"/>\n",
       "<text text-anchor=\"middle\" x=\"306.697\" y=\"-590.3\" font-family=\"Times,serif\" font-size=\"14.00\">ARG0</text>\n",
       "</g>\n",
       "<!-- 18&#45;&#45;20 -->\n",
       "<g id=\"edge20\" class=\"edge\"><title>18&#45;&#45;20</title>\n",
       "<path fill=\"none\" stroke=\"black\" d=\"M306.697,-647.697C306.697,-636.846 306.697,-622.917 306.697,-612.104\"/>\n",
       "</g>\n",
       "<!-- 22 -->\n",
       "<g id=\"node23\" class=\"node\"><title>22</title>\n",
       "<ellipse fill=\"none\" stroke=\"black\" cx=\"389.697\" cy=\"-666\" rx=\"37.8943\" ry=\"18\"/>\n",
       "<text text-anchor=\"middle\" x=\"389.697\" y=\"-662.3\" font-family=\"Times,serif\" font-size=\"14.00\">ARG0</text>\n",
       "</g>\n",
       "<!-- 21&#45;&#45;22 -->\n",
       "<g id=\"edge22\" class=\"edge\"><title>21&#45;&#45;22</title>\n",
       "<path fill=\"none\" stroke=\"black\" d=\"M389.697,-719.697C389.697,-708.846 389.697,-694.917 389.697,-684.104\"/>\n",
       "</g>\n",
       "<!-- 23 -->\n",
       "<g id=\"node24\" class=\"node\"><title>23</title>\n",
       "<ellipse fill=\"none\" stroke=\"black\" cx=\"473.697\" cy=\"-666\" rx=\"27.8951\" ry=\"18\"/>\n",
       "<text text-anchor=\"middle\" x=\"473.697\" y=\"-662.3\" font-family=\"Times,serif\" font-size=\"14.00\">add</text>\n",
       "</g>\n",
       "<!-- 21&#45;&#45;23 -->\n",
       "<g id=\"edge23\" class=\"edge\"><title>21&#45;&#45;23</title>\n",
       "<path fill=\"none\" stroke=\"black\" d=\"M405.893,-723.503C420.672,-711.187 442.411,-693.072 457.264,-680.694\"/>\n",
       "</g>\n",
       "<!-- 24 -->\n",
       "<g id=\"node25\" class=\"node\"><title>24</title>\n",
       "<ellipse fill=\"none\" stroke=\"black\" cx=\"390.697\" cy=\"-594\" rx=\"28.6953\" ry=\"18\"/>\n",
       "<text text-anchor=\"middle\" x=\"390.697\" y=\"-590.3\" font-family=\"Times,serif\" font-size=\"14.00\">mul</text>\n",
       "</g>\n",
       "<!-- 23&#45;&#45;24 -->\n",
       "<g id=\"edge24\" class=\"edge\"><title>23&#45;&#45;24</title>\n",
       "<path fill=\"none\" stroke=\"black\" d=\"M457.299,-651.17C442.747,-638.898 421.601,-621.064 407.061,-608.801\"/>\n",
       "</g>\n",
       "<!-- 29 -->\n",
       "<g id=\"node30\" class=\"node\"><title>29</title>\n",
       "<ellipse fill=\"none\" stroke=\"black\" cx=\"474.697\" cy=\"-594\" rx=\"37.8943\" ry=\"18\"/>\n",
       "<text text-anchor=\"middle\" x=\"474.697\" y=\"-590.3\" font-family=\"Times,serif\" font-size=\"14.00\">ARG0</text>\n",
       "</g>\n",
       "<!-- 23&#45;&#45;29 -->\n",
       "<g id=\"edge29\" class=\"edge\"><title>23&#45;&#45;29</title>\n",
       "<path fill=\"none\" stroke=\"black\" d=\"M473.944,-647.697C474.099,-636.846 474.298,-622.917 474.452,-612.104\"/>\n",
       "</g>\n",
       "<!-- 25 -->\n",
       "<g id=\"node26\" class=\"node\"><title>25</title>\n",
       "<ellipse fill=\"none\" stroke=\"black\" cx=\"263.697\" cy=\"-522\" rx=\"37.8943\" ry=\"18\"/>\n",
       "<text text-anchor=\"middle\" x=\"263.697\" y=\"-518.3\" font-family=\"Times,serif\" font-size=\"14.00\">ARG0</text>\n",
       "</g>\n",
       "<!-- 24&#45;&#45;25 -->\n",
       "<g id=\"edge25\" class=\"edge\"><title>24&#45;&#45;25</title>\n",
       "<path fill=\"none\" stroke=\"black\" d=\"M369.725,-581.441C347.18,-569.015 311.399,-549.293 287.734,-536.249\"/>\n",
       "</g>\n",
       "<!-- 26 -->\n",
       "<g id=\"node27\" class=\"node\"><title>26</title>\n",
       "<ellipse fill=\"none\" stroke=\"black\" cx=\"390.697\" cy=\"-522\" rx=\"71.4873\" ry=\"18\"/>\n",
       "<text text-anchor=\"middle\" x=\"390.697\" y=\"-518.3\" font-family=\"Times,serif\" font-size=\"14.00\">protectedDiv</text>\n",
       "</g>\n",
       "<!-- 24&#45;&#45;26 -->\n",
       "<g id=\"edge26\" class=\"edge\"><title>24&#45;&#45;26</title>\n",
       "<path fill=\"none\" stroke=\"black\" d=\"M390.697,-575.697C390.697,-564.846 390.697,-550.917 390.697,-540.104\"/>\n",
       "</g>\n",
       "<!-- 27 -->\n",
       "<g id=\"node28\" class=\"node\"><title>27</title>\n",
       "<ellipse fill=\"none\" stroke=\"black\" cx=\"297.697\" cy=\"-450\" rx=\"37.8943\" ry=\"18\"/>\n",
       "<text text-anchor=\"middle\" x=\"297.697\" y=\"-446.3\" font-family=\"Times,serif\" font-size=\"14.00\">ARG0</text>\n",
       "</g>\n",
       "<!-- 26&#45;&#45;27 -->\n",
       "<g id=\"edge27\" class=\"edge\"><title>26&#45;&#45;27</title>\n",
       "<path fill=\"none\" stroke=\"black\" d=\"M369.127,-504.765C353.351,-492.891 332.14,-476.925 316.938,-465.483\"/>\n",
       "</g>\n",
       "<!-- 28 -->\n",
       "<g id=\"node29\" class=\"node\"><title>28</title>\n",
       "<ellipse fill=\"none\" stroke=\"black\" cx=\"390.697\" cy=\"-450\" rx=\"37.8943\" ry=\"18\"/>\n",
       "<text text-anchor=\"middle\" x=\"390.697\" y=\"-446.3\" font-family=\"Times,serif\" font-size=\"14.00\">ARG0</text>\n",
       "</g>\n",
       "<!-- 26&#45;&#45;28 -->\n",
       "<g id=\"edge28\" class=\"edge\"><title>26&#45;&#45;28</title>\n",
       "<path fill=\"none\" stroke=\"black\" d=\"M390.697,-503.697C390.697,-492.846 390.697,-478.917 390.697,-468.104\"/>\n",
       "</g>\n",
       "<!-- 31 -->\n",
       "<g id=\"node32\" class=\"node\"><title>31</title>\n",
       "<ellipse fill=\"none\" stroke=\"black\" cx=\"517.697\" cy=\"-810\" rx=\"27\" ry=\"18\"/>\n",
       "<text text-anchor=\"middle\" x=\"517.697\" y=\"-806.3\" font-family=\"Times,serif\" font-size=\"14.00\">sin</text>\n",
       "</g>\n",
       "<!-- 30&#45;&#45;31 -->\n",
       "<g id=\"edge31\" class=\"edge\"><title>30&#45;&#45;31</title>\n",
       "<path fill=\"none\" stroke=\"black\" d=\"M486.206,-864.765C492.83,-853.456 501.627,-838.437 508.239,-827.147\"/>\n",
       "</g>\n",
       "<!-- 32 -->\n",
       "<g id=\"node33\" class=\"node\"><title>32</title>\n",
       "<ellipse fill=\"none\" stroke=\"black\" cx=\"557.697\" cy=\"-738\" rx=\"27.0966\" ry=\"18\"/>\n",
       "<text text-anchor=\"middle\" x=\"557.697\" y=\"-734.3\" font-family=\"Times,serif\" font-size=\"14.00\">sub</text>\n",
       "</g>\n",
       "<!-- 31&#45;&#45;32 -->\n",
       "<g id=\"edge32\" class=\"edge\"><title>31&#45;&#45;32</title>\n",
       "<path fill=\"none\" stroke=\"black\" d=\"M526.974,-792.765C533.436,-781.456 542.019,-766.437 548.47,-755.147\"/>\n",
       "</g>\n",
       "<!-- 33 -->\n",
       "<g id=\"node34\" class=\"node\"><title>33</title>\n",
       "<ellipse fill=\"none\" stroke=\"black\" cx=\"557.697\" cy=\"-666\" rx=\"37.8943\" ry=\"18\"/>\n",
       "<text text-anchor=\"middle\" x=\"557.697\" y=\"-662.3\" font-family=\"Times,serif\" font-size=\"14.00\">ARG0</text>\n",
       "</g>\n",
       "<!-- 32&#45;&#45;33 -->\n",
       "<g id=\"edge33\" class=\"edge\"><title>32&#45;&#45;33</title>\n",
       "<path fill=\"none\" stroke=\"black\" d=\"M557.697,-719.697C557.697,-708.846 557.697,-694.917 557.697,-684.104\"/>\n",
       "</g>\n",
       "<!-- 34 -->\n",
       "<g id=\"node35\" class=\"node\"><title>34</title>\n",
       "<ellipse fill=\"none\" stroke=\"black\" cx=\"754.697\" cy=\"-666\" rx=\"27.8951\" ry=\"18\"/>\n",
       "<text text-anchor=\"middle\" x=\"754.697\" y=\"-662.3\" font-family=\"Times,serif\" font-size=\"14.00\">add</text>\n",
       "</g>\n",
       "<!-- 32&#45;&#45;34 -->\n",
       "<g id=\"edge34\" class=\"edge\"><title>32&#45;&#45;34</title>\n",
       "<path fill=\"none\" stroke=\"black\" d=\"M581.069,-728.695C618.779,-715.296 692.66,-689.043 730.741,-675.512\"/>\n",
       "</g>\n",
       "<!-- 35 -->\n",
       "<g id=\"node36\" class=\"node\"><title>35</title>\n",
       "<ellipse fill=\"none\" stroke=\"black\" cx=\"754.697\" cy=\"-594\" rx=\"28.6953\" ry=\"18\"/>\n",
       "<text text-anchor=\"middle\" x=\"754.697\" y=\"-590.3\" font-family=\"Times,serif\" font-size=\"14.00\">mul</text>\n",
       "</g>\n",
       "<!-- 34&#45;&#45;35 -->\n",
       "<g id=\"edge35\" class=\"edge\"><title>34&#45;&#45;35</title>\n",
       "<path fill=\"none\" stroke=\"black\" d=\"M754.697,-647.697C754.697,-636.846 754.697,-622.917 754.697,-612.104\"/>\n",
       "</g>\n",
       "<!-- 71 -->\n",
       "<g id=\"node72\" class=\"node\"><title>71</title>\n",
       "<ellipse fill=\"none\" stroke=\"black\" cx=\"946.697\" cy=\"-594\" rx=\"27\" ry=\"18\"/>\n",
       "<text text-anchor=\"middle\" x=\"946.697\" y=\"-590.3\" font-family=\"Times,serif\" font-size=\"14.00\">sin</text>\n",
       "</g>\n",
       "<!-- 34&#45;&#45;71 -->\n",
       "<g id=\"edge71\" class=\"edge\"><title>34&#45;&#45;71</title>\n",
       "<path fill=\"none\" stroke=\"black\" d=\"M778.625,-656.276C815.82,-642.716 887.029,-616.754 923.667,-603.396\"/>\n",
       "</g>\n",
       "<!-- 36 -->\n",
       "<g id=\"node37\" class=\"node\"><title>36</title>\n",
       "<ellipse fill=\"none\" stroke=\"black\" cx=\"611.697\" cy=\"-522\" rx=\"27.0966\" ry=\"18\"/>\n",
       "<text text-anchor=\"middle\" x=\"611.697\" y=\"-518.3\" font-family=\"Times,serif\" font-size=\"14.00\">sub</text>\n",
       "</g>\n",
       "<!-- 35&#45;&#45;36 -->\n",
       "<g id=\"edge36\" class=\"edge\"><title>35&#45;&#45;36</title>\n",
       "<path fill=\"none\" stroke=\"black\" d=\"M732.666,-582.216C705.559,-568.947 659.844,-546.569 633.051,-533.453\"/>\n",
       "</g>\n",
       "<!-- 60 -->\n",
       "<g id=\"node61\" class=\"node\"><title>60</title>\n",
       "<ellipse fill=\"none\" stroke=\"black\" cx=\"754.697\" cy=\"-522\" rx=\"28.6953\" ry=\"18\"/>\n",
       "<text text-anchor=\"middle\" x=\"754.697\" y=\"-518.3\" font-family=\"Times,serif\" font-size=\"14.00\">mul</text>\n",
       "</g>\n",
       "<!-- 35&#45;&#45;60 -->\n",
       "<g id=\"edge60\" class=\"edge\"><title>35&#45;&#45;60</title>\n",
       "<path fill=\"none\" stroke=\"black\" d=\"M754.697,-575.697C754.697,-564.846 754.697,-550.917 754.697,-540.104\"/>\n",
       "</g>\n",
       "<!-- 37 -->\n",
       "<g id=\"node38\" class=\"node\"><title>37</title>\n",
       "<ellipse fill=\"none\" stroke=\"black\" cx=\"474.697\" cy=\"-450\" rx=\"28.6953\" ry=\"18\"/>\n",
       "<text text-anchor=\"middle\" x=\"474.697\" y=\"-446.3\" font-family=\"Times,serif\" font-size=\"14.00\">mul</text>\n",
       "</g>\n",
       "<!-- 36&#45;&#45;37 -->\n",
       "<g id=\"edge37\" class=\"edge\"><title>36&#45;&#45;37</title>\n",
       "<path fill=\"none\" stroke=\"black\" d=\"M590.591,-510.216C565.071,-497.177 522.338,-475.342 496.506,-462.144\"/>\n",
       "</g>\n",
       "<!-- 55 -->\n",
       "<g id=\"node56\" class=\"node\"><title>55</title>\n",
       "<ellipse fill=\"none\" stroke=\"black\" cx=\"611.697\" cy=\"-450\" rx=\"27.8951\" ry=\"18\"/>\n",
       "<text text-anchor=\"middle\" x=\"611.697\" y=\"-446.3\" font-family=\"Times,serif\" font-size=\"14.00\">add</text>\n",
       "</g>\n",
       "<!-- 36&#45;&#45;55 -->\n",
       "<g id=\"edge55\" class=\"edge\"><title>36&#45;&#45;55</title>\n",
       "<path fill=\"none\" stroke=\"black\" d=\"M611.697,-503.697C611.697,-492.846 611.697,-478.917 611.697,-468.104\"/>\n",
       "</g>\n",
       "<!-- 38 -->\n",
       "<g id=\"node39\" class=\"node\"><title>38</title>\n",
       "<ellipse fill=\"none\" stroke=\"black\" cx=\"261.697\" cy=\"-378\" rx=\"27.0966\" ry=\"18\"/>\n",
       "<text text-anchor=\"middle\" x=\"261.697\" y=\"-374.3\" font-family=\"Times,serif\" font-size=\"14.00\">sub</text>\n",
       "</g>\n",
       "<!-- 37&#45;&#45;38 -->\n",
       "<g id=\"edge38\" class=\"edge\"><title>37&#45;&#45;38</title>\n",
       "<path fill=\"none\" stroke=\"black\" d=\"M452.603,-438.246C447.745,-436.052 442.59,-433.851 437.697,-432 385.016,-412.075 321.316,-394.431 286.833,-385.395\"/>\n",
       "</g>\n",
       "<!-- 49 -->\n",
       "<g id=\"node50\" class=\"node\"><title>49</title>\n",
       "<ellipse fill=\"none\" stroke=\"black\" cx=\"442.697\" cy=\"-378\" rx=\"71.4873\" ry=\"18\"/>\n",
       "<text text-anchor=\"middle\" x=\"442.697\" y=\"-374.3\" font-family=\"Times,serif\" font-size=\"14.00\">protectedDiv</text>\n",
       "</g>\n",
       "<!-- 37&#45;&#45;49 -->\n",
       "<g id=\"edge49\" class=\"edge\"><title>37&#45;&#45;49</title>\n",
       "<path fill=\"none\" stroke=\"black\" d=\"M467.113,-432.411C462.086,-421.414 455.509,-407.027 450.448,-395.956\"/>\n",
       "</g>\n",
       "<!-- 39 -->\n",
       "<g id=\"node40\" class=\"node\"><title>39</title>\n",
       "<ellipse fill=\"none\" stroke=\"black\" cx=\"135.697\" cy=\"-306\" rx=\"27.0966\" ry=\"18\"/>\n",
       "<text text-anchor=\"middle\" x=\"135.697\" y=\"-302.3\" font-family=\"Times,serif\" font-size=\"14.00\">sub</text>\n",
       "</g>\n",
       "<!-- 38&#45;&#45;39 -->\n",
       "<g id=\"edge39\" class=\"edge\"><title>38&#45;&#45;39</title>\n",
       "<path fill=\"none\" stroke=\"black\" d=\"M241.453,-365.753C217.94,-352.691 179.382,-331.27 155.89,-318.219\"/>\n",
       "</g>\n",
       "<!-- 44 -->\n",
       "<g id=\"node45\" class=\"node\"><title>44</title>\n",
       "<ellipse fill=\"none\" stroke=\"black\" cx=\"261.697\" cy=\"-306\" rx=\"28.6953\" ry=\"18\"/>\n",
       "<text text-anchor=\"middle\" x=\"261.697\" y=\"-302.3\" font-family=\"Times,serif\" font-size=\"14.00\">mul</text>\n",
       "</g>\n",
       "<!-- 38&#45;&#45;44 -->\n",
       "<g id=\"edge44\" class=\"edge\"><title>38&#45;&#45;44</title>\n",
       "<path fill=\"none\" stroke=\"black\" d=\"M261.697,-359.697C261.697,-348.846 261.697,-334.917 261.697,-324.104\"/>\n",
       "</g>\n",
       "<!-- 40 -->\n",
       "<g id=\"node41\" class=\"node\"><title>40</title>\n",
       "<ellipse fill=\"none\" stroke=\"black\" cx=\"51.6967\" cy=\"-234\" rx=\"37.8943\" ry=\"18\"/>\n",
       "<text text-anchor=\"middle\" x=\"51.6967\" y=\"-230.3\" font-family=\"Times,serif\" font-size=\"14.00\">ARG0</text>\n",
       "</g>\n",
       "<!-- 39&#45;&#45;40 -->\n",
       "<g id=\"edge40\" class=\"edge\"><title>39&#45;&#45;40</title>\n",
       "<path fill=\"none\" stroke=\"black\" d=\"M119.501,-291.503C105.198,-279.585 84.3778,-262.234 69.588,-249.909\"/>\n",
       "</g>\n",
       "<!-- 41 -->\n",
       "<g id=\"node42\" class=\"node\"><title>41</title>\n",
       "<ellipse fill=\"none\" stroke=\"black\" cx=\"135.697\" cy=\"-234\" rx=\"28.6953\" ry=\"18\"/>\n",
       "<text text-anchor=\"middle\" x=\"135.697\" y=\"-230.3\" font-family=\"Times,serif\" font-size=\"14.00\">mul</text>\n",
       "</g>\n",
       "<!-- 39&#45;&#45;41 -->\n",
       "<g id=\"edge41\" class=\"edge\"><title>39&#45;&#45;41</title>\n",
       "<path fill=\"none\" stroke=\"black\" d=\"M135.697,-287.697C135.697,-276.846 135.697,-262.917 135.697,-252.104\"/>\n",
       "</g>\n",
       "<!-- 42 -->\n",
       "<g id=\"node43\" class=\"node\"><title>42</title>\n",
       "<ellipse fill=\"none\" stroke=\"black\" cx=\"61.6967\" cy=\"-162\" rx=\"37.8943\" ry=\"18\"/>\n",
       "<text text-anchor=\"middle\" x=\"61.6967\" y=\"-158.3\" font-family=\"Times,serif\" font-size=\"14.00\">ARG0</text>\n",
       "</g>\n",
       "<!-- 41&#45;&#45;42 -->\n",
       "<g id=\"edge42\" class=\"edge\"><title>41&#45;&#45;42</title>\n",
       "<path fill=\"none\" stroke=\"black\" d=\"M120.364,-218.496C108.002,-206.803 90.6587,-190.397 78.0365,-178.457\"/>\n",
       "</g>\n",
       "<!-- 43 -->\n",
       "<g id=\"node44\" class=\"node\"><title>43</title>\n",
       "<ellipse fill=\"none\" stroke=\"black\" cx=\"154.697\" cy=\"-162\" rx=\"37.8943\" ry=\"18\"/>\n",
       "<text text-anchor=\"middle\" x=\"154.697\" y=\"-158.3\" font-family=\"Times,serif\" font-size=\"14.00\">ARG0</text>\n",
       "</g>\n",
       "<!-- 41&#45;&#45;43 -->\n",
       "<g id=\"edge43\" class=\"edge\"><title>41&#45;&#45;43</title>\n",
       "<path fill=\"none\" stroke=\"black\" d=\"M140.296,-216.055C143.239,-205.211 147.047,-191.183 150.008,-180.275\"/>\n",
       "</g>\n",
       "<!-- 45 -->\n",
       "<g id=\"node46\" class=\"node\"><title>45</title>\n",
       "<ellipse fill=\"none\" stroke=\"black\" cx=\"219.697\" cy=\"-234\" rx=\"37.8943\" ry=\"18\"/>\n",
       "<text text-anchor=\"middle\" x=\"219.697\" y=\"-230.3\" font-family=\"Times,serif\" font-size=\"14.00\">ARG0</text>\n",
       "</g>\n",
       "<!-- 44&#45;&#45;45 -->\n",
       "<g id=\"edge45\" class=\"edge\"><title>44&#45;&#45;45</title>\n",
       "<path fill=\"none\" stroke=\"black\" d=\"M251.955,-288.765C245.267,-277.618 236.416,-262.865 229.677,-251.633\"/>\n",
       "</g>\n",
       "<!-- 46 -->\n",
       "<g id=\"node47\" class=\"node\"><title>46</title>\n",
       "<ellipse fill=\"none\" stroke=\"black\" cx=\"303.697\" cy=\"-234\" rx=\"27.8951\" ry=\"18\"/>\n",
       "<text text-anchor=\"middle\" x=\"303.697\" y=\"-230.3\" font-family=\"Times,serif\" font-size=\"14.00\">add</text>\n",
       "</g>\n",
       "<!-- 44&#45;&#45;46 -->\n",
       "<g id=\"edge46\" class=\"edge\"><title>44&#45;&#45;46</title>\n",
       "<path fill=\"none\" stroke=\"black\" d=\"M271.438,-288.765C278.223,-277.456 287.235,-262.437 294.008,-251.147\"/>\n",
       "</g>\n",
       "<!-- 47 -->\n",
       "<g id=\"node48\" class=\"node\"><title>47</title>\n",
       "<ellipse fill=\"none\" stroke=\"black\" cx=\"284.697\" cy=\"-162\" rx=\"37.8943\" ry=\"18\"/>\n",
       "<text text-anchor=\"middle\" x=\"284.697\" y=\"-158.3\" font-family=\"Times,serif\" font-size=\"14.00\">ARG0</text>\n",
       "</g>\n",
       "<!-- 46&#45;&#45;47 -->\n",
       "<g id=\"edge47\" class=\"edge\"><title>46&#45;&#45;47</title>\n",
       "<path fill=\"none\" stroke=\"black\" d=\"M299.097,-216.055C296.154,-205.211 292.346,-191.183 289.386,-180.275\"/>\n",
       "</g>\n",
       "<!-- 48 -->\n",
       "<g id=\"node49\" class=\"node\"><title>48</title>\n",
       "<ellipse fill=\"none\" stroke=\"black\" cx=\"377.697\" cy=\"-162\" rx=\"37.8943\" ry=\"18\"/>\n",
       "<text text-anchor=\"middle\" x=\"377.697\" y=\"-158.3\" font-family=\"Times,serif\" font-size=\"14.00\">ARG0</text>\n",
       "</g>\n",
       "<!-- 46&#45;&#45;48 -->\n",
       "<g id=\"edge48\" class=\"edge\"><title>46&#45;&#45;48</title>\n",
       "<path fill=\"none\" stroke=\"black\" d=\"M319.03,-218.496C331.391,-206.803 348.735,-190.397 361.357,-178.457\"/>\n",
       "</g>\n",
       "<!-- 50 -->\n",
       "<g id=\"node51\" class=\"node\"><title>50</title>\n",
       "<ellipse fill=\"none\" stroke=\"black\" cx=\"392.697\" cy=\"-306\" rx=\"27\" ry=\"18\"/>\n",
       "<text text-anchor=\"middle\" x=\"392.697\" y=\"-302.3\" font-family=\"Times,serif\" font-size=\"14.00\">sin</text>\n",
       "</g>\n",
       "<!-- 49&#45;&#45;50 -->\n",
       "<g id=\"edge50\" class=\"edge\"><title>49&#45;&#45;50</title>\n",
       "<path fill=\"none\" stroke=\"black\" d=\"M430.593,-360.055C422.501,-348.726 411.925,-333.92 404.003,-322.829\"/>\n",
       "</g>\n",
       "<!-- 52 -->\n",
       "<g id=\"node53\" class=\"node\"><title>52</title>\n",
       "<ellipse fill=\"none\" stroke=\"black\" cx=\"475.697\" cy=\"-306\" rx=\"28.6953\" ry=\"18\"/>\n",
       "<text text-anchor=\"middle\" x=\"475.697\" y=\"-302.3\" font-family=\"Times,serif\" font-size=\"14.00\">mul</text>\n",
       "</g>\n",
       "<!-- 49&#45;&#45;52 -->\n",
       "<g id=\"edge52\" class=\"edge\"><title>49&#45;&#45;52</title>\n",
       "<path fill=\"none\" stroke=\"black\" d=\"M450.685,-360.055C455.873,-349.049 462.608,-334.764 467.782,-323.789\"/>\n",
       "</g>\n",
       "<!-- 51 -->\n",
       "<g id=\"node52\" class=\"node\"><title>51</title>\n",
       "<ellipse fill=\"none\" stroke=\"black\" cx=\"387.697\" cy=\"-234\" rx=\"37.8943\" ry=\"18\"/>\n",
       "<text text-anchor=\"middle\" x=\"387.697\" y=\"-230.3\" font-family=\"Times,serif\" font-size=\"14.00\">ARG0</text>\n",
       "</g>\n",
       "<!-- 50&#45;&#45;51 -->\n",
       "<g id=\"edge51\" class=\"edge\"><title>50&#45;&#45;51</title>\n",
       "<path fill=\"none\" stroke=\"black\" d=\"M391.461,-287.697C390.686,-276.846 389.691,-262.917 388.918,-252.104\"/>\n",
       "</g>\n",
       "<!-- 53 -->\n",
       "<g id=\"node54\" class=\"node\"><title>53</title>\n",
       "<ellipse fill=\"none\" stroke=\"black\" cx=\"480.697\" cy=\"-234\" rx=\"37.8943\" ry=\"18\"/>\n",
       "<text text-anchor=\"middle\" x=\"480.697\" y=\"-230.3\" font-family=\"Times,serif\" font-size=\"14.00\">ARG0</text>\n",
       "</g>\n",
       "<!-- 52&#45;&#45;53 -->\n",
       "<g id=\"edge53\" class=\"edge\"><title>52&#45;&#45;53</title>\n",
       "<path fill=\"none\" stroke=\"black\" d=\"M476.933,-287.697C477.708,-276.846 478.703,-262.917 479.475,-252.104\"/>\n",
       "</g>\n",
       "<!-- 54 -->\n",
       "<g id=\"node55\" class=\"node\"><title>54</title>\n",
       "<ellipse fill=\"none\" stroke=\"black\" cx=\"573.697\" cy=\"-234\" rx=\"37.8943\" ry=\"18\"/>\n",
       "<text text-anchor=\"middle\" x=\"573.697\" y=\"-230.3\" font-family=\"Times,serif\" font-size=\"14.00\">ARG0</text>\n",
       "</g>\n",
       "<!-- 52&#45;&#45;54 -->\n",
       "<g id=\"edge54\" class=\"edge\"><title>52&#45;&#45;54</title>\n",
       "<path fill=\"none\" stroke=\"black\" d=\"M494.13,-291.834C511.096,-279.715 536.203,-261.781 553.66,-249.312\"/>\n",
       "</g>\n",
       "<!-- 56 -->\n",
       "<g id=\"node57\" class=\"node\"><title>56</title>\n",
       "<ellipse fill=\"none\" stroke=\"black\" cx=\"559.697\" cy=\"-378\" rx=\"27.0966\" ry=\"18\"/>\n",
       "<text text-anchor=\"middle\" x=\"559.697\" y=\"-374.3\" font-family=\"Times,serif\" font-size=\"14.00\">sub</text>\n",
       "</g>\n",
       "<!-- 55&#45;&#45;56 -->\n",
       "<g id=\"edge56\" class=\"edge\"><title>55&#45;&#45;56</title>\n",
       "<path fill=\"none\" stroke=\"black\" d=\"M600.156,-433.465C591.539,-421.865 579.814,-406.082 571.205,-394.492\"/>\n",
       "</g>\n",
       "<!-- 59 -->\n",
       "<g id=\"node60\" class=\"node\"><title>59</title>\n",
       "<ellipse fill=\"none\" stroke=\"black\" cx=\"642.697\" cy=\"-378\" rx=\"37.8943\" ry=\"18\"/>\n",
       "<text text-anchor=\"middle\" x=\"642.697\" y=\"-374.3\" font-family=\"Times,serif\" font-size=\"14.00\">ARG0</text>\n",
       "</g>\n",
       "<!-- 55&#45;&#45;59 -->\n",
       "<g id=\"edge59\" class=\"edge\"><title>55&#45;&#45;59</title>\n",
       "<path fill=\"none\" stroke=\"black\" d=\"M619.043,-432.411C623.913,-421.414 630.285,-407.027 635.187,-395.956\"/>\n",
       "</g>\n",
       "<!-- 57 -->\n",
       "<g id=\"node58\" class=\"node\"><title>57</title>\n",
       "<ellipse fill=\"none\" stroke=\"black\" cx=\"559.697\" cy=\"-306\" rx=\"37.8943\" ry=\"18\"/>\n",
       "<text text-anchor=\"middle\" x=\"559.697\" y=\"-302.3\" font-family=\"Times,serif\" font-size=\"14.00\">ARG0</text>\n",
       "</g>\n",
       "<!-- 56&#45;&#45;57 -->\n",
       "<g id=\"edge57\" class=\"edge\"><title>56&#45;&#45;57</title>\n",
       "<path fill=\"none\" stroke=\"black\" d=\"M559.697,-359.697C559.697,-348.846 559.697,-334.917 559.697,-324.104\"/>\n",
       "</g>\n",
       "<!-- 58 -->\n",
       "<g id=\"node59\" class=\"node\"><title>58</title>\n",
       "<ellipse fill=\"none\" stroke=\"black\" cx=\"652.697\" cy=\"-306\" rx=\"37.8943\" ry=\"18\"/>\n",
       "<text text-anchor=\"middle\" x=\"652.697\" y=\"-302.3\" font-family=\"Times,serif\" font-size=\"14.00\">ARG0</text>\n",
       "</g>\n",
       "<!-- 56&#45;&#45;58 -->\n",
       "<g id=\"edge58\" class=\"edge\"><title>56&#45;&#45;58</title>\n",
       "<path fill=\"none\" stroke=\"black\" d=\"M577.189,-363.834C593.185,-351.794 616.805,-334.015 633.356,-321.557\"/>\n",
       "</g>\n",
       "<!-- 61 -->\n",
       "<g id=\"node62\" class=\"node\"><title>61</title>\n",
       "<ellipse fill=\"none\" stroke=\"black\" cx=\"754.697\" cy=\"-450\" rx=\"27.0966\" ry=\"18\"/>\n",
       "<text text-anchor=\"middle\" x=\"754.697\" y=\"-446.3\" font-family=\"Times,serif\" font-size=\"14.00\">sub</text>\n",
       "</g>\n",
       "<!-- 60&#45;&#45;61 -->\n",
       "<g id=\"edge61\" class=\"edge\"><title>60&#45;&#45;61</title>\n",
       "<path fill=\"none\" stroke=\"black\" d=\"M754.697,-503.697C754.697,-492.846 754.697,-478.917 754.697,-468.104\"/>\n",
       "</g>\n",
       "<!-- 65 -->\n",
       "<g id=\"node66\" class=\"node\"><title>65</title>\n",
       "<ellipse fill=\"none\" stroke=\"black\" cx=\"890.697\" cy=\"-450\" rx=\"71.4873\" ry=\"18\"/>\n",
       "<text text-anchor=\"middle\" x=\"890.697\" y=\"-446.3\" font-family=\"Times,serif\" font-size=\"14.00\">protectedDiv</text>\n",
       "</g>\n",
       "<!-- 60&#45;&#45;65 -->\n",
       "<g id=\"edge65\" class=\"edge\"><title>60&#45;&#45;65</title>\n",
       "<path fill=\"none\" stroke=\"black\" d=\"M776.246,-509.908C799.016,-498.189 835.095,-479.619 860.651,-466.465\"/>\n",
       "</g>\n",
       "<!-- 62 -->\n",
       "<g id=\"node63\" class=\"node\"><title>62</title>\n",
       "<ellipse fill=\"none\" stroke=\"black\" cx=\"735.697\" cy=\"-378\" rx=\"37.8943\" ry=\"18\"/>\n",
       "<text text-anchor=\"middle\" x=\"735.697\" y=\"-374.3\" font-family=\"Times,serif\" font-size=\"14.00\">ARG0</text>\n",
       "</g>\n",
       "<!-- 61&#45;&#45;62 -->\n",
       "<g id=\"edge62\" class=\"edge\"><title>61&#45;&#45;62</title>\n",
       "<path fill=\"none\" stroke=\"black\" d=\"M750.097,-432.055C747.154,-421.211 743.346,-407.183 740.386,-396.275\"/>\n",
       "</g>\n",
       "<!-- 63 -->\n",
       "<g id=\"node64\" class=\"node\"><title>63</title>\n",
       "<ellipse fill=\"none\" stroke=\"black\" cx=\"818.697\" cy=\"-378\" rx=\"27\" ry=\"18\"/>\n",
       "<text text-anchor=\"middle\" x=\"818.697\" y=\"-374.3\" font-family=\"Times,serif\" font-size=\"14.00\">sin</text>\n",
       "</g>\n",
       "<!-- 61&#45;&#45;63 -->\n",
       "<g id=\"edge63\" class=\"edge\"><title>61&#45;&#45;63</title>\n",
       "<path fill=\"none\" stroke=\"black\" d=\"M768.269,-434.155C779.13,-422.276 794.288,-405.697 805.143,-393.824\"/>\n",
       "</g>\n",
       "<!-- 64 -->\n",
       "<g id=\"node65\" class=\"node\"><title>64</title>\n",
       "<ellipse fill=\"none\" stroke=\"black\" cx=\"787.697\" cy=\"-306\" rx=\"37.8943\" ry=\"18\"/>\n",
       "<text text-anchor=\"middle\" x=\"787.697\" y=\"-302.3\" font-family=\"Times,serif\" font-size=\"14.00\">ARG0</text>\n",
       "</g>\n",
       "<!-- 63&#45;&#45;64 -->\n",
       "<g id=\"edge64\" class=\"edge\"><title>63&#45;&#45;64</title>\n",
       "<path fill=\"none\" stroke=\"black\" d=\"M811.35,-360.411C806.48,-349.414 800.109,-335.027 795.206,-323.956\"/>\n",
       "</g>\n",
       "<!-- 66 -->\n",
       "<g id=\"node67\" class=\"node\"><title>66</title>\n",
       "<ellipse fill=\"none\" stroke=\"black\" cx=\"890.697\" cy=\"-378\" rx=\"27\" ry=\"18\"/>\n",
       "<text text-anchor=\"middle\" x=\"890.697\" y=\"-374.3\" font-family=\"Times,serif\" font-size=\"14.00\">sin</text>\n",
       "</g>\n",
       "<!-- 65&#45;&#45;66 -->\n",
       "<g id=\"edge66\" class=\"edge\"><title>65&#45;&#45;66</title>\n",
       "<path fill=\"none\" stroke=\"black\" d=\"M890.697,-431.697C890.697,-420.846 890.697,-406.917 890.697,-396.104\"/>\n",
       "</g>\n",
       "<!-- 68 -->\n",
       "<g id=\"node69\" class=\"node\"><title>68</title>\n",
       "<ellipse fill=\"none\" stroke=\"black\" cx=\"973.697\" cy=\"-378\" rx=\"28.6953\" ry=\"18\"/>\n",
       "<text text-anchor=\"middle\" x=\"973.697\" y=\"-374.3\" font-family=\"Times,serif\" font-size=\"14.00\">mul</text>\n",
       "</g>\n",
       "<!-- 65&#45;&#45;68 -->\n",
       "<g id=\"edge68\" class=\"edge\"><title>65&#45;&#45;68</title>\n",
       "<path fill=\"none\" stroke=\"black\" d=\"M910.366,-432.411C924.652,-420.363 943.762,-404.246 957.241,-392.878\"/>\n",
       "</g>\n",
       "<!-- 67 -->\n",
       "<g id=\"node68\" class=\"node\"><title>67</title>\n",
       "<ellipse fill=\"none\" stroke=\"black\" cx=\"880.697\" cy=\"-306\" rx=\"37.8943\" ry=\"18\"/>\n",
       "<text text-anchor=\"middle\" x=\"880.697\" y=\"-302.3\" font-family=\"Times,serif\" font-size=\"14.00\">ARG0</text>\n",
       "</g>\n",
       "<!-- 66&#45;&#45;67 -->\n",
       "<g id=\"edge67\" class=\"edge\"><title>66&#45;&#45;67</title>\n",
       "<path fill=\"none\" stroke=\"black\" d=\"M888.276,-360.055C886.727,-349.211 884.723,-335.183 883.165,-324.275\"/>\n",
       "</g>\n",
       "<!-- 69 -->\n",
       "<g id=\"node70\" class=\"node\"><title>69</title>\n",
       "<ellipse fill=\"none\" stroke=\"black\" cx=\"973.697\" cy=\"-306\" rx=\"37.8943\" ry=\"18\"/>\n",
       "<text text-anchor=\"middle\" x=\"973.697\" y=\"-302.3\" font-family=\"Times,serif\" font-size=\"14.00\">ARG0</text>\n",
       "</g>\n",
       "<!-- 68&#45;&#45;69 -->\n",
       "<g id=\"edge69\" class=\"edge\"><title>68&#45;&#45;69</title>\n",
       "<path fill=\"none\" stroke=\"black\" d=\"M973.697,-359.697C973.697,-348.846 973.697,-334.917 973.697,-324.104\"/>\n",
       "</g>\n",
       "<!-- 70 -->\n",
       "<g id=\"node71\" class=\"node\"><title>70</title>\n",
       "<ellipse fill=\"none\" stroke=\"black\" cx=\"1066.7\" cy=\"-306\" rx=\"37.8943\" ry=\"18\"/>\n",
       "<text text-anchor=\"middle\" x=\"1066.7\" y=\"-302.3\" font-family=\"Times,serif\" font-size=\"14.00\">ARG0</text>\n",
       "</g>\n",
       "<!-- 68&#45;&#45;70 -->\n",
       "<g id=\"edge70\" class=\"edge\"><title>68&#45;&#45;70</title>\n",
       "<path fill=\"none\" stroke=\"black\" d=\"M991.628,-363.503C1007.57,-351.505 1030.82,-334.003 1047.21,-321.664\"/>\n",
       "</g>\n",
       "<!-- 72 -->\n",
       "<g id=\"node73\" class=\"node\"><title>72</title>\n",
       "<ellipse fill=\"none\" stroke=\"black\" cx=\"1046.7\" cy=\"-522\" rx=\"27.0966\" ry=\"18\"/>\n",
       "<text text-anchor=\"middle\" x=\"1046.7\" y=\"-518.3\" font-family=\"Times,serif\" font-size=\"14.00\">sub</text>\n",
       "</g>\n",
       "<!-- 71&#45;&#45;72 -->\n",
       "<g id=\"edge72\" class=\"edge\"><title>71&#45;&#45;72</title>\n",
       "<path fill=\"none\" stroke=\"black\" d=\"M964.575,-580.485C982.664,-567.823 1010.48,-548.351 1028.64,-535.642\"/>\n",
       "</g>\n",
       "<!-- 73 -->\n",
       "<g id=\"node74\" class=\"node\"><title>73</title>\n",
       "<ellipse fill=\"none\" stroke=\"black\" cx=\"1046.7\" cy=\"-450\" rx=\"37.8943\" ry=\"18\"/>\n",
       "<text text-anchor=\"middle\" x=\"1046.7\" y=\"-446.3\" font-family=\"Times,serif\" font-size=\"14.00\">ARG0</text>\n",
       "</g>\n",
       "<!-- 72&#45;&#45;73 -->\n",
       "<g id=\"edge73\" class=\"edge\"><title>72&#45;&#45;73</title>\n",
       "<path fill=\"none\" stroke=\"black\" d=\"M1046.7,-503.697C1046.7,-492.846 1046.7,-478.917 1046.7,-468.104\"/>\n",
       "</g>\n",
       "<!-- 74 -->\n",
       "<g id=\"node75\" class=\"node\"><title>74</title>\n",
       "<ellipse fill=\"none\" stroke=\"black\" cx=\"1144.7\" cy=\"-450\" rx=\"27\" ry=\"18\"/>\n",
       "<text text-anchor=\"middle\" x=\"1144.7\" y=\"-446.3\" font-family=\"Times,serif\" font-size=\"14.00\">sin</text>\n",
       "</g>\n",
       "<!-- 72&#45;&#45;74 -->\n",
       "<g id=\"edge74\" class=\"edge\"><title>72&#45;&#45;74</title>\n",
       "<path fill=\"none\" stroke=\"black\" d=\"M1064.67,-508.161C1082.35,-495.531 1109.19,-476.36 1126.84,-463.758\"/>\n",
       "</g>\n",
       "<!-- 75 -->\n",
       "<g id=\"node76\" class=\"node\"><title>75</title>\n",
       "<ellipse fill=\"none\" stroke=\"black\" cx=\"1159.7\" cy=\"-378\" rx=\"27.0966\" ry=\"18\"/>\n",
       "<text text-anchor=\"middle\" x=\"1159.7\" y=\"-374.3\" font-family=\"Times,serif\" font-size=\"14.00\">sub</text>\n",
       "</g>\n",
       "<!-- 74&#45;&#45;75 -->\n",
       "<g id=\"edge75\" class=\"edge\"><title>74&#45;&#45;75</title>\n",
       "<path fill=\"none\" stroke=\"black\" d=\"M1148.33,-432.055C1150.65,-421.211 1153.66,-407.183 1155.99,-396.275\"/>\n",
       "</g>\n",
       "<!-- 76 -->\n",
       "<g id=\"node77\" class=\"node\"><title>76</title>\n",
       "<ellipse fill=\"none\" stroke=\"black\" cx=\"1159.7\" cy=\"-306\" rx=\"37.8943\" ry=\"18\"/>\n",
       "<text text-anchor=\"middle\" x=\"1159.7\" y=\"-302.3\" font-family=\"Times,serif\" font-size=\"14.00\">ARG0</text>\n",
       "</g>\n",
       "<!-- 75&#45;&#45;76 -->\n",
       "<g id=\"edge76\" class=\"edge\"><title>75&#45;&#45;76</title>\n",
       "<path fill=\"none\" stroke=\"black\" d=\"M1159.7,-359.697C1159.7,-348.846 1159.7,-334.917 1159.7,-324.104\"/>\n",
       "</g>\n",
       "<!-- 77 -->\n",
       "<g id=\"node78\" class=\"node\"><title>77</title>\n",
       "<ellipse fill=\"none\" stroke=\"black\" cx=\"1243.7\" cy=\"-306\" rx=\"27.8951\" ry=\"18\"/>\n",
       "<text text-anchor=\"middle\" x=\"1243.7\" y=\"-302.3\" font-family=\"Times,serif\" font-size=\"14.00\">add</text>\n",
       "</g>\n",
       "<!-- 75&#45;&#45;77 -->\n",
       "<g id=\"edge77\" class=\"edge\"><title>75&#45;&#45;77</title>\n",
       "<path fill=\"none\" stroke=\"black\" d=\"M1175.89,-363.503C1190.67,-351.187 1212.41,-333.072 1227.26,-320.694\"/>\n",
       "</g>\n",
       "<!-- 78 -->\n",
       "<g id=\"node79\" class=\"node\"><title>78</title>\n",
       "<ellipse fill=\"none\" stroke=\"black\" cx=\"1203.7\" cy=\"-234\" rx=\"27.8951\" ry=\"18\"/>\n",
       "<text text-anchor=\"middle\" x=\"1203.7\" y=\"-230.3\" font-family=\"Times,serif\" font-size=\"14.00\">add</text>\n",
       "</g>\n",
       "<!-- 77&#45;&#45;78 -->\n",
       "<g id=\"edge78\" class=\"edge\"><title>77&#45;&#45;78</title>\n",
       "<path fill=\"none\" stroke=\"black\" d=\"M1234.42,-288.765C1227.96,-277.456 1219.37,-262.437 1212.92,-251.147\"/>\n",
       "</g>\n",
       "<!-- 87 -->\n",
       "<g id=\"node88\" class=\"node\"><title>87</title>\n",
       "<ellipse fill=\"none\" stroke=\"black\" cx=\"1282.7\" cy=\"-234\" rx=\"27\" ry=\"18\"/>\n",
       "<text text-anchor=\"middle\" x=\"1282.7\" y=\"-230.3\" font-family=\"Times,serif\" font-size=\"14.00\">sin</text>\n",
       "</g>\n",
       "<!-- 77&#45;&#45;87 -->\n",
       "<g id=\"edge87\" class=\"edge\"><title>77&#45;&#45;87</title>\n",
       "<path fill=\"none\" stroke=\"black\" d=\"M1252.74,-288.765C1259.04,-277.456 1267.41,-262.437 1273.7,-251.147\"/>\n",
       "</g>\n",
       "<!-- 79 -->\n",
       "<g id=\"node80\" class=\"node\"><title>79</title>\n",
       "<ellipse fill=\"none\" stroke=\"black\" cx=\"1110.7\" cy=\"-162\" rx=\"28.6953\" ry=\"18\"/>\n",
       "<text text-anchor=\"middle\" x=\"1110.7\" y=\"-158.3\" font-family=\"Times,serif\" font-size=\"14.00\">mul</text>\n",
       "</g>\n",
       "<!-- 78&#45;&#45;79 -->\n",
       "<g id=\"edge79\" class=\"edge\"><title>78&#45;&#45;79</title>\n",
       "<path fill=\"none\" stroke=\"black\" d=\"M1186.2,-219.834C1169.68,-207.398 1145.03,-188.839 1128.43,-176.345\"/>\n",
       "</g>\n",
       "<!-- 82 -->\n",
       "<g id=\"node83\" class=\"node\"><title>82</title>\n",
       "<ellipse fill=\"none\" stroke=\"black\" cx=\"1203.7\" cy=\"-162\" rx=\"27.8951\" ry=\"18\"/>\n",
       "<text text-anchor=\"middle\" x=\"1203.7\" y=\"-158.3\" font-family=\"Times,serif\" font-size=\"14.00\">add</text>\n",
       "</g>\n",
       "<!-- 78&#45;&#45;82 -->\n",
       "<g id=\"edge82\" class=\"edge\"><title>78&#45;&#45;82</title>\n",
       "<path fill=\"none\" stroke=\"black\" d=\"M1203.7,-215.697C1203.7,-204.846 1203.7,-190.917 1203.7,-180.104\"/>\n",
       "</g>\n",
       "<!-- 80 -->\n",
       "<g id=\"node81\" class=\"node\"><title>80</title>\n",
       "<ellipse fill=\"none\" stroke=\"black\" cx=\"1017.7\" cy=\"-90\" rx=\"37.8943\" ry=\"18\"/>\n",
       "<text text-anchor=\"middle\" x=\"1017.7\" y=\"-86.3\" font-family=\"Times,serif\" font-size=\"14.00\">ARG0</text>\n",
       "</g>\n",
       "<!-- 79&#45;&#45;80 -->\n",
       "<g id=\"edge80\" class=\"edge\"><title>79&#45;&#45;80</title>\n",
       "<path fill=\"none\" stroke=\"black\" d=\"M1092.77,-147.503C1076.82,-135.505 1053.57,-118.003 1037.18,-105.664\"/>\n",
       "</g>\n",
       "<!-- 81 -->\n",
       "<g id=\"node82\" class=\"node\"><title>81</title>\n",
       "<ellipse fill=\"none\" stroke=\"black\" cx=\"1110.7\" cy=\"-90\" rx=\"37.8943\" ry=\"18\"/>\n",
       "<text text-anchor=\"middle\" x=\"1110.7\" y=\"-86.3\" font-family=\"Times,serif\" font-size=\"14.00\">ARG0</text>\n",
       "</g>\n",
       "<!-- 79&#45;&#45;81 -->\n",
       "<g id=\"edge81\" class=\"edge\"><title>79&#45;&#45;81</title>\n",
       "<path fill=\"none\" stroke=\"black\" d=\"M1110.7,-143.697C1110.7,-132.846 1110.7,-118.917 1110.7,-108.104\"/>\n",
       "</g>\n",
       "<!-- 83 -->\n",
       "<g id=\"node84\" class=\"node\"><title>83</title>\n",
       "<ellipse fill=\"none\" stroke=\"black\" cx=\"1203.7\" cy=\"-90\" rx=\"37.8943\" ry=\"18\"/>\n",
       "<text text-anchor=\"middle\" x=\"1203.7\" y=\"-86.3\" font-family=\"Times,serif\" font-size=\"14.00\">ARG0</text>\n",
       "</g>\n",
       "<!-- 82&#45;&#45;83 -->\n",
       "<g id=\"edge83\" class=\"edge\"><title>82&#45;&#45;83</title>\n",
       "<path fill=\"none\" stroke=\"black\" d=\"M1203.7,-143.697C1203.7,-132.846 1203.7,-118.917 1203.7,-108.104\"/>\n",
       "</g>\n",
       "<!-- 84 -->\n",
       "<g id=\"node85\" class=\"node\"><title>84</title>\n",
       "<ellipse fill=\"none\" stroke=\"black\" cx=\"1287.7\" cy=\"-90\" rx=\"28.6953\" ry=\"18\"/>\n",
       "<text text-anchor=\"middle\" x=\"1287.7\" y=\"-86.3\" font-family=\"Times,serif\" font-size=\"14.00\">mul</text>\n",
       "</g>\n",
       "<!-- 82&#45;&#45;84 -->\n",
       "<g id=\"edge84\" class=\"edge\"><title>82&#45;&#45;84</title>\n",
       "<path fill=\"none\" stroke=\"black\" d=\"M1220.29,-147.17C1235.02,-134.898 1256.42,-117.064 1271.14,-104.801\"/>\n",
       "</g>\n",
       "<!-- 85 -->\n",
       "<g id=\"node86\" class=\"node\"><title>85</title>\n",
       "<ellipse fill=\"none\" stroke=\"black\" cx=\"1240.7\" cy=\"-18\" rx=\"37.8943\" ry=\"18\"/>\n",
       "<text text-anchor=\"middle\" x=\"1240.7\" y=\"-14.3\" font-family=\"Times,serif\" font-size=\"14.00\">ARG0</text>\n",
       "</g>\n",
       "<!-- 84&#45;&#45;85 -->\n",
       "<g id=\"edge85\" class=\"edge\"><title>84&#45;&#45;85</title>\n",
       "<path fill=\"none\" stroke=\"black\" d=\"M1277.03,-73.1159C1269.45,-61.8213 1259.29,-46.6956 1251.65,-35.307\"/>\n",
       "</g>\n",
       "<!-- 86 -->\n",
       "<g id=\"node87\" class=\"node\"><title>86</title>\n",
       "<ellipse fill=\"none\" stroke=\"black\" cx=\"1333.7\" cy=\"-18\" rx=\"37.8943\" ry=\"18\"/>\n",
       "<text text-anchor=\"middle\" x=\"1333.7\" y=\"-14.3\" font-family=\"Times,serif\" font-size=\"14.00\">ARG0</text>\n",
       "</g>\n",
       "<!-- 84&#45;&#45;86 -->\n",
       "<g id=\"edge86\" class=\"edge\"><title>84&#45;&#45;86</title>\n",
       "<path fill=\"none\" stroke=\"black\" d=\"M1298.13,-73.1159C1305.56,-61.8213 1315.5,-46.6956 1322.98,-35.307\"/>\n",
       "</g>\n",
       "<!-- 88 -->\n",
       "<g id=\"node89\" class=\"node\"><title>88</title>\n",
       "<ellipse fill=\"none\" stroke=\"black\" cx=\"1287.7\" cy=\"-162\" rx=\"37.8943\" ry=\"18\"/>\n",
       "<text text-anchor=\"middle\" x=\"1287.7\" y=\"-158.3\" font-family=\"Times,serif\" font-size=\"14.00\">ARG0</text>\n",
       "</g>\n",
       "<!-- 87&#45;&#45;88 -->\n",
       "<g id=\"edge88\" class=\"edge\"><title>87&#45;&#45;88</title>\n",
       "<path fill=\"none\" stroke=\"black\" d=\"M1283.93,-215.697C1284.71,-204.846 1285.7,-190.917 1286.47,-180.104\"/>\n",
       "</g>\n",
       "</g>\n",
       "</svg>\n"
      ],
      "text/plain": [
       "<graphviz.dot.Graph at 0x7faf416a0978>"
      ]
     },
     "execution_count": 31,
     "metadata": {},
     "output_type": "execute_result"
    }
   ],
   "source": [
    "plot_graph(hof[0], 5)"
   ]
  },
  {
   "cell_type": "code",
   "execution_count": 32,
   "metadata": {
    "slideshow": {
     "slide_type": "subslide"
    }
   },
   "outputs": [
    {
     "data": {
      "image/png": "[encoded data removed]",
      "text/plain": [
       "<matplotlib.figure.Figure at 0x7faf41f384a8>"
      ]
     },
     "metadata": {},
     "output_type": "display_data"
    }
   ],
   "source": [
    "func = toolbox.compile(expr=hof[0])\n",
    "plt.scatter(X, y, c='#aaaaaa')\n",
    "plt.plot(X, [func(x[0]) for x in X], c='red');"
   ]
  },
  {
   "cell_type": "markdown",
   "metadata": {
    "slideshow": {
     "slide_type": "slide"
    }
   },
   "source": [
    "# Čo ďalej?\n",
    "Symbolická regresia nie je jediný prípad použitia:\n",
    "- klasifikácia\n",
    "- predikcia\n",
    "- syntéza programov\n",
    "- Dizajn dosiek plošných spojov\n",
    "- Evolúcia neurónových sietí\n",
    "- ....\n",
    " \n"
   ]
  },
  {
   "cell_type": "markdown",
   "metadata": {
    "slideshow": {
     "slide_type": "slide"
    }
   },
   "source": [
    "# Výzvy v genetickom programovaní\n",
    "\n",
    "\n",
    "- **nafúknutosť (z angl. bloat)**\n",
    " - tvrdé ohraničenia\n",
    " - tlak na tvorbu malých jedincov\n",
    "\n",
    "- **konštanty**\n",
    " - efemerálna konštanta\n",
    " - symbolická konštanta\n",
    "\n",
    "- rôzne typy premenných\n",
    "\n",
    "- syntaktická správnosť"
   ]
  },
  {
   "cell_type": "code",
   "execution_count": 33,
   "metadata": {
    "slideshow": {
     "slide_type": "subslide"
    }
   },
   "outputs": [
    {
     "data": {
      "image/svg+xml": [
       "<?xml version=\"1.0\" encoding=\"UTF-8\" standalone=\"no\"?>\n",
       "<!DOCTYPE svg PUBLIC \"-//W3C//DTD SVG 1.1//EN\"\n",
       " \"http://www.w3.org/Graphics/SVG/1.1/DTD/svg11.dtd\">\n",
       "<!-- Generated by graphviz version 2.38.0 (20140413.2041)\n",
       " -->\n",
       "<!-- Title: %3 Pages: 1 -->\n",
       "<svg width=\"360pt\" height=\"331pt\"\n",
       " viewBox=\"0.00 0.00 360.00 330.93\" xmlns=\"http://www.w3.org/2000/svg\" xmlns:xlink=\"http://www.w3.org/1999/xlink\">\n",
       "<g id=\"graph0\" class=\"graph\" transform=\"scale(0.260984 0.260984) rotate(0) translate(4 1264)\">\n",
       "<title>%3</title>\n",
       "<polygon fill=\"white\" stroke=\"none\" points=\"-4,4 -4,-1264 1375.39,-1264 1375.39,4 -4,4\"/>\n",
       "<!-- 0 -->\n",
       "<g id=\"node1\" class=\"node\"><title>0</title>\n",
       "<ellipse fill=\"none\" stroke=\"black\" cx=\"333.697\" cy=\"-1242\" rx=\"27\" ry=\"18\"/>\n",
       "<text text-anchor=\"middle\" x=\"333.697\" y=\"-1238.3\" font-family=\"Times,serif\" font-size=\"14.00\">sin</text>\n",
       "</g>\n",
       "<!-- 1 -->\n",
       "<g id=\"node2\" class=\"node\"><title>1</title>\n",
       "<ellipse fill=\"none\" stroke=\"black\" cx=\"333.697\" cy=\"-1170\" rx=\"27.8951\" ry=\"18\"/>\n",
       "<text text-anchor=\"middle\" x=\"333.697\" y=\"-1166.3\" font-family=\"Times,serif\" font-size=\"14.00\">add</text>\n",
       "</g>\n",
       "<!-- 0&#45;&#45;1 -->\n",
       "<g id=\"edge1\" class=\"edge\"><title>0&#45;&#45;1</title>\n",
       "<path fill=\"none\" stroke=\"black\" d=\"M333.697,-1223.7C333.697,-1212.85 333.697,-1198.92 333.697,-1188.1\"/>\n",
       "</g>\n",
       "<!-- 2 -->\n",
       "<g id=\"node3\" class=\"node\"><title>2</title>\n",
       "<ellipse fill=\"none\" stroke=\"black\" cx=\"294.697\" cy=\"-1098\" rx=\"28.6953\" ry=\"18\"/>\n",
       "<text text-anchor=\"middle\" x=\"294.697\" y=\"-1094.3\" font-family=\"Times,serif\" font-size=\"14.00\">mul</text>\n",
       "</g>\n",
       "<!-- 1&#45;&#45;2 -->\n",
       "<g id=\"edge2\" class=\"edge\"><title>1&#45;&#45;2</title>\n",
       "<path fill=\"none\" stroke=\"black\" d=\"M324.651,-1152.76C318.351,-1141.46 309.983,-1126.44 303.693,-1115.15\"/>\n",
       "</g>\n",
       "<!-- 5 -->\n",
       "<g id=\"node6\" class=\"node\"><title>5</title>\n",
       "<ellipse fill=\"none\" stroke=\"black\" cx=\"372.697\" cy=\"-1098\" rx=\"27\" ry=\"18\"/>\n",
       "<text text-anchor=\"middle\" x=\"372.697\" y=\"-1094.3\" font-family=\"Times,serif\" font-size=\"14.00\">sin</text>\n",
       "</g>\n",
       "<!-- 1&#45;&#45;5 -->\n",
       "<g id=\"edge5\" class=\"edge\"><title>1&#45;&#45;5</title>\n",
       "<path fill=\"none\" stroke=\"black\" d=\"M342.742,-1152.76C349.043,-1141.46 357.411,-1126.44 363.7,-1115.15\"/>\n",
       "</g>\n",
       "<!-- 3 -->\n",
       "<g id=\"node4\" class=\"node\"><title>3</title>\n",
       "<ellipse fill=\"none\" stroke=\"black\" cx=\"201.697\" cy=\"-1026\" rx=\"37.8943\" ry=\"18\"/>\n",
       "<text text-anchor=\"middle\" x=\"201.697\" y=\"-1022.3\" font-family=\"Times,serif\" font-size=\"14.00\">ARG0</text>\n",
       "</g>\n",
       "<!-- 2&#45;&#45;3 -->\n",
       "<g id=\"edge3\" class=\"edge\"><title>2&#45;&#45;3</title>\n",
       "<path fill=\"none\" stroke=\"black\" d=\"M276.765,-1083.5C260.825,-1071.51 237.572,-1054 221.178,-1041.66\"/>\n",
       "</g>\n",
       "<!-- 4 -->\n",
       "<g id=\"node5\" class=\"node\"><title>4</title>\n",
       "<ellipse fill=\"none\" stroke=\"black\" cx=\"294.697\" cy=\"-1026\" rx=\"37.8943\" ry=\"18\"/>\n",
       "<text text-anchor=\"middle\" x=\"294.697\" y=\"-1022.3\" font-family=\"Times,serif\" font-size=\"14.00\">ARG0</text>\n",
       "</g>\n",
       "<!-- 2&#45;&#45;4 -->\n",
       "<g id=\"edge4\" class=\"edge\"><title>2&#45;&#45;4</title>\n",
       "<path fill=\"none\" stroke=\"black\" d=\"M294.697,-1079.7C294.697,-1068.85 294.697,-1054.92 294.697,-1044.1\"/>\n",
       "</g>\n",
       "<!-- 6 -->\n",
       "<g id=\"node7\" class=\"node\"><title>6</title>\n",
       "<ellipse fill=\"none\" stroke=\"black\" cx=\"377.697\" cy=\"-1026\" rx=\"27.0966\" ry=\"18\"/>\n",
       "<text text-anchor=\"middle\" x=\"377.697\" y=\"-1022.3\" font-family=\"Times,serif\" font-size=\"14.00\">sub</text>\n",
       "</g>\n",
       "<!-- 5&#45;&#45;6 -->\n",
       "<g id=\"edge6\" class=\"edge\"><title>5&#45;&#45;6</title>\n",
       "<path fill=\"none\" stroke=\"black\" d=\"M373.933,-1079.7C374.708,-1068.85 375.703,-1054.92 376.475,-1044.1\"/>\n",
       "</g>\n",
       "<!-- 7 -->\n",
       "<g id=\"node8\" class=\"node\"><title>7</title>\n",
       "<ellipse fill=\"none\" stroke=\"black\" cx=\"335.697\" cy=\"-954\" rx=\"37.8943\" ry=\"18\"/>\n",
       "<text text-anchor=\"middle\" x=\"335.697\" y=\"-950.3\" font-family=\"Times,serif\" font-size=\"14.00\">ARG0</text>\n",
       "</g>\n",
       "<!-- 6&#45;&#45;7 -->\n",
       "<g id=\"edge7\" class=\"edge\"><title>6&#45;&#45;7</title>\n",
       "<path fill=\"none\" stroke=\"black\" d=\"M368.166,-1009.12C361.486,-997.983 352.573,-983.127 345.775,-971.797\"/>\n",
       "</g>\n",
       "<!-- 8 -->\n",
       "<g id=\"node9\" class=\"node\"><title>8</title>\n",
       "<ellipse fill=\"none\" stroke=\"black\" cx=\"419.697\" cy=\"-954\" rx=\"27.8951\" ry=\"18\"/>\n",
       "<text text-anchor=\"middle\" x=\"419.697\" y=\"-950.3\" font-family=\"Times,serif\" font-size=\"14.00\">add</text>\n",
       "</g>\n",
       "<!-- 6&#45;&#45;8 -->\n",
       "<g id=\"edge8\" class=\"edge\"><title>6&#45;&#45;8</title>\n",
       "<path fill=\"none\" stroke=\"black\" d=\"M387.227,-1009.12C394.004,-997.821 403.079,-982.696 409.912,-971.307\"/>\n",
       "</g>\n",
       "<!-- 9 -->\n",
       "<g id=\"node10\" class=\"node\"><title>9</title>\n",
       "<ellipse fill=\"none\" stroke=\"black\" cx=\"361.697\" cy=\"-882\" rx=\"28.6953\" ry=\"18\"/>\n",
       "<text text-anchor=\"middle\" x=\"361.697\" y=\"-878.3\" font-family=\"Times,serif\" font-size=\"14.00\">mul</text>\n",
       "</g>\n",
       "<!-- 8&#45;&#45;9 -->\n",
       "<g id=\"edge9\" class=\"edge\"><title>8&#45;&#45;9</title>\n",
       "<path fill=\"none\" stroke=\"black\" d=\"M407.112,-937.811C397.516,-926.231 384.346,-910.336 374.659,-898.644\"/>\n",
       "</g>\n",
       "<!-- 30 -->\n",
       "<g id=\"node31\" class=\"node\"><title>30</title>\n",
       "<ellipse fill=\"none\" stroke=\"black\" cx=\"476.697\" cy=\"-882\" rx=\"27\" ry=\"18\"/>\n",
       "<text text-anchor=\"middle\" x=\"476.697\" y=\"-878.3\" font-family=\"Times,serif\" font-size=\"14.00\">sin</text>\n",
       "</g>\n",
       "<!-- 8&#45;&#45;30 -->\n",
       "<g id=\"edge30\" class=\"edge\"><title>8&#45;&#45;30</title>\n",
       "<path fill=\"none\" stroke=\"black\" d=\"M432.065,-937.811C441.626,-926.07 454.798,-909.893 464.353,-898.159\"/>\n",
       "</g>\n",
       "<!-- 10 -->\n",
       "<g id=\"node11\" class=\"node\"><title>10</title>\n",
       "<ellipse fill=\"none\" stroke=\"black\" cx=\"217.697\" cy=\"-810\" rx=\"27.0966\" ry=\"18\"/>\n",
       "<text text-anchor=\"middle\" x=\"217.697\" y=\"-806.3\" font-family=\"Times,serif\" font-size=\"14.00\">sub</text>\n",
       "</g>\n",
       "<!-- 9&#45;&#45;10 -->\n",
       "<g id=\"edge10\" class=\"edge\"><title>9&#45;&#45;10</title>\n",
       "<path fill=\"none\" stroke=\"black\" d=\"M339.826,-870.369C312.603,-857.135 266.4,-834.675 239.301,-821.502\"/>\n",
       "</g>\n",
       "<!-- 15 -->\n",
       "<g id=\"node16\" class=\"node\"><title>15</title>\n",
       "<ellipse fill=\"none\" stroke=\"black\" cx=\"361.697\" cy=\"-810\" rx=\"71.4873\" ry=\"18\"/>\n",
       "<text text-anchor=\"middle\" x=\"361.697\" y=\"-806.3\" font-family=\"Times,serif\" font-size=\"14.00\">protectedDiv</text>\n",
       "</g>\n",
       "<!-- 9&#45;&#45;15 -->\n",
       "<g id=\"edge15\" class=\"edge\"><title>9&#45;&#45;15</title>\n",
       "<path fill=\"none\" stroke=\"black\" d=\"M361.697,-863.697C361.697,-852.846 361.697,-838.917 361.697,-828.104\"/>\n",
       "</g>\n",
       "<!-- 11 -->\n",
       "<g id=\"node12\" class=\"node\"><title>11</title>\n",
       "<ellipse fill=\"none\" stroke=\"black\" cx=\"130.697\" cy=\"-738\" rx=\"27.0966\" ry=\"18\"/>\n",
       "<text text-anchor=\"middle\" x=\"130.697\" y=\"-734.3\" font-family=\"Times,serif\" font-size=\"14.00\">sub</text>\n",
       "</g>\n",
       "<!-- 10&#45;&#45;11 -->\n",
       "<g id=\"edge11\" class=\"edge\"><title>10&#45;&#45;11</title>\n",
       "<path fill=\"none\" stroke=\"black\" d=\"M200.922,-795.503C185.516,-783.108 162.809,-764.838 147.42,-752.455\"/>\n",
       "</g>\n",
       "<!-- 14 -->\n",
       "<g id=\"node15\" class=\"node\"><title>14</title>\n",
       "<ellipse fill=\"none\" stroke=\"black\" cx=\"217.697\" cy=\"-738\" rx=\"37.8943\" ry=\"18\"/>\n",
       "<text text-anchor=\"middle\" x=\"217.697\" y=\"-734.3\" font-family=\"Times,serif\" font-size=\"14.00\">ARG0</text>\n",
       "</g>\n",
       "<!-- 10&#45;&#45;14 -->\n",
       "<g id=\"edge14\" class=\"edge\"><title>10&#45;&#45;14</title>\n",
       "<path fill=\"none\" stroke=\"black\" d=\"M217.697,-791.697C217.697,-780.846 217.697,-766.917 217.697,-756.104\"/>\n",
       "</g>\n",
       "<!-- 12 -->\n",
       "<g id=\"node13\" class=\"node\"><title>12</title>\n",
       "<ellipse fill=\"none\" stroke=\"black\" cx=\"37.6967\" cy=\"-666\" rx=\"37.8943\" ry=\"18\"/>\n",
       "<text text-anchor=\"middle\" x=\"37.6967\" y=\"-662.3\" font-family=\"Times,serif\" font-size=\"14.00\">ARG0</text>\n",
       "</g>\n",
       "<!-- 11&#45;&#45;12 -->\n",
       "<g id=\"edge12\" class=\"edge\"><title>11&#45;&#45;12</title>\n",
       "<path fill=\"none\" stroke=\"black\" d=\"M113.204,-723.834C97.2085,-711.794 73.5884,-694.015 57.0369,-681.557\"/>\n",
       "</g>\n",
       "<!-- 13 -->\n",
       "<g id=\"node14\" class=\"node\"><title>13</title>\n",
       "<ellipse fill=\"none\" stroke=\"black\" cx=\"130.697\" cy=\"-666\" rx=\"37.8943\" ry=\"18\"/>\n",
       "<text text-anchor=\"middle\" x=\"130.697\" y=\"-662.3\" font-family=\"Times,serif\" font-size=\"14.00\">ARG0</text>\n",
       "</g>\n",
       "<!-- 11&#45;&#45;13 -->\n",
       "<g id=\"edge13\" class=\"edge\"><title>11&#45;&#45;13</title>\n",
       "<path fill=\"none\" stroke=\"black\" d=\"M130.697,-719.697C130.697,-708.846 130.697,-694.917 130.697,-684.104\"/>\n",
       "</g>\n",
       "<!-- 16 -->\n",
       "<g id=\"node17\" class=\"node\"><title>16</title>\n",
       "<ellipse fill=\"none\" stroke=\"black\" cx=\"306.697\" cy=\"-738\" rx=\"28.6953\" ry=\"18\"/>\n",
       "<text text-anchor=\"middle\" x=\"306.697\" y=\"-734.3\" font-family=\"Times,serif\" font-size=\"14.00\">mul</text>\n",
       "</g>\n",
       "<!-- 15&#45;&#45;16 -->\n",
       "<g id=\"edge16\" class=\"edge\"><title>15&#45;&#45;16</title>\n",
       "<path fill=\"none\" stroke=\"black\" d=\"M348.383,-792.055C339.354,-780.564 327.515,-765.497 318.762,-754.356\"/>\n",
       "</g>\n",
       "<!-- 21 -->\n",
       "<g id=\"node22\" class=\"node\"><title>21</title>\n",
       "<ellipse fill=\"none\" stroke=\"black\" cx=\"389.697\" cy=\"-738\" rx=\"27.0966\" ry=\"18\"/>\n",
       "<text text-anchor=\"middle\" x=\"389.697\" y=\"-734.3\" font-family=\"Times,serif\" font-size=\"14.00\">sub</text>\n",
       "</g>\n",
       "<!-- 15&#45;&#45;21 -->\n",
       "<g id=\"edge21\" class=\"edge\"><title>15&#45;&#45;21</title>\n",
       "<path fill=\"none\" stroke=\"black\" d=\"M368.475,-792.055C372.877,-781.049 378.591,-766.764 382.981,-755.789\"/>\n",
       "</g>\n",
       "<!-- 17 -->\n",
       "<g id=\"node18\" class=\"node\"><title>17</title>\n",
       "<ellipse fill=\"none\" stroke=\"black\" cx=\"223.697\" cy=\"-666\" rx=\"37.8943\" ry=\"18\"/>\n",
       "<text text-anchor=\"middle\" x=\"223.697\" y=\"-662.3\" font-family=\"Times,serif\" font-size=\"14.00\">ARG0</text>\n",
       "</g>\n",
       "<!-- 16&#45;&#45;17 -->\n",
       "<g id=\"edge17\" class=\"edge\"><title>16&#45;&#45;17</title>\n",
       "<path fill=\"none\" stroke=\"black\" d=\"M290.299,-723.17C276.22,-711.297 255.968,-694.216 241.497,-682.013\"/>\n",
       "</g>\n",
       "<!-- 18 -->\n",
       "<g id=\"node19\" class=\"node\"><title>18</title>\n",
       "<ellipse fill=\"none\" stroke=\"black\" cx=\"306.697\" cy=\"-666\" rx=\"27.0966\" ry=\"18\"/>\n",
       "<text text-anchor=\"middle\" x=\"306.697\" y=\"-662.3\" font-family=\"Times,serif\" font-size=\"14.00\">sub</text>\n",
       "</g>\n",
       "<!-- 16&#45;&#45;18 -->\n",
       "<g id=\"edge18\" class=\"edge\"><title>16&#45;&#45;18</title>\n",
       "<path fill=\"none\" stroke=\"black\" d=\"M306.697,-719.697C306.697,-708.846 306.697,-694.917 306.697,-684.104\"/>\n",
       "</g>\n",
       "<!-- 19 -->\n",
       "<g id=\"node20\" class=\"node\"><title>19</title>\n",
       "<ellipse fill=\"none\" stroke=\"black\" cx=\"213.697\" cy=\"-594\" rx=\"37.8943\" ry=\"18\"/>\n",
       "<text text-anchor=\"middle\" x=\"213.697\" y=\"-590.3\" font-family=\"Times,serif\" font-size=\"14.00\">ARG0</text>\n",
       "</g>\n",
       "<!-- 18&#45;&#45;19 -->\n",
       "<g id=\"edge19\" class=\"edge\"><title>18&#45;&#45;19</title>\n",
       "<path fill=\"none\" stroke=\"black\" d=\"M289.204,-651.834C273.209,-639.794 249.588,-622.015 233.037,-609.557\"/>\n",
       "</g>\n",
       "<!-- 20 -->\n",
       "<g id=\"node21\" class=\"node\"><title>20</title>\n",
       "<ellipse fill=\"none\" stroke=\"black\" cx=\"306.697\" cy=\"-594\" rx=\"37.8943\" ry=\"18\"/>\n",
       "<text text-anchor=\"middle\" x=\"306.697\" y=\"-590.3\" font-family=\"Times,serif\" font-size=\"14.00\">ARG0</text>\n",
       "</g>\n",
       "<!-- 18&#45;&#45;20 -->\n",
       "<g id=\"edge20\" class=\"edge\"><title>18&#45;&#45;20</title>\n",
       "<path fill=\"none\" stroke=\"black\" d=\"M306.697,-647.697C306.697,-636.846 306.697,-622.917 306.697,-612.104\"/>\n",
       "</g>\n",
       "<!-- 22 -->\n",
       "<g id=\"node23\" class=\"node\"><title>22</title>\n",
       "<ellipse fill=\"none\" stroke=\"black\" cx=\"389.697\" cy=\"-666\" rx=\"37.8943\" ry=\"18\"/>\n",
       "<text text-anchor=\"middle\" x=\"389.697\" y=\"-662.3\" font-family=\"Times,serif\" font-size=\"14.00\">ARG0</text>\n",
       "</g>\n",
       "<!-- 21&#45;&#45;22 -->\n",
       "<g id=\"edge22\" class=\"edge\"><title>21&#45;&#45;22</title>\n",
       "<path fill=\"none\" stroke=\"black\" d=\"M389.697,-719.697C389.697,-708.846 389.697,-694.917 389.697,-684.104\"/>\n",
       "</g>\n",
       "<!-- 23 -->\n",
       "<g id=\"node24\" class=\"node\"><title>23</title>\n",
       "<ellipse fill=\"none\" stroke=\"black\" cx=\"473.697\" cy=\"-666\" rx=\"27.8951\" ry=\"18\"/>\n",
       "<text text-anchor=\"middle\" x=\"473.697\" y=\"-662.3\" font-family=\"Times,serif\" font-size=\"14.00\">add</text>\n",
       "</g>\n",
       "<!-- 21&#45;&#45;23 -->\n",
       "<g id=\"edge23\" class=\"edge\"><title>21&#45;&#45;23</title>\n",
       "<path fill=\"none\" stroke=\"black\" d=\"M405.893,-723.503C420.672,-711.187 442.411,-693.072 457.264,-680.694\"/>\n",
       "</g>\n",
       "<!-- 24 -->\n",
       "<g id=\"node25\" class=\"node\"><title>24</title>\n",
       "<ellipse fill=\"none\" stroke=\"black\" cx=\"390.697\" cy=\"-594\" rx=\"28.6953\" ry=\"18\"/>\n",
       "<text text-anchor=\"middle\" x=\"390.697\" y=\"-590.3\" font-family=\"Times,serif\" font-size=\"14.00\">mul</text>\n",
       "</g>\n",
       "<!-- 23&#45;&#45;24 -->\n",
       "<g id=\"edge24\" class=\"edge\"><title>23&#45;&#45;24</title>\n",
       "<path fill=\"none\" stroke=\"black\" d=\"M457.299,-651.17C442.747,-638.898 421.601,-621.064 407.061,-608.801\"/>\n",
       "</g>\n",
       "<!-- 29 -->\n",
       "<g id=\"node30\" class=\"node\"><title>29</title>\n",
       "<ellipse fill=\"none\" stroke=\"black\" cx=\"474.697\" cy=\"-594\" rx=\"37.8943\" ry=\"18\"/>\n",
       "<text text-anchor=\"middle\" x=\"474.697\" y=\"-590.3\" font-family=\"Times,serif\" font-size=\"14.00\">ARG0</text>\n",
       "</g>\n",
       "<!-- 23&#45;&#45;29 -->\n",
       "<g id=\"edge29\" class=\"edge\"><title>23&#45;&#45;29</title>\n",
       "<path fill=\"none\" stroke=\"black\" d=\"M473.944,-647.697C474.099,-636.846 474.298,-622.917 474.452,-612.104\"/>\n",
       "</g>\n",
       "<!-- 25 -->\n",
       "<g id=\"node26\" class=\"node\"><title>25</title>\n",
       "<ellipse fill=\"none\" stroke=\"black\" cx=\"263.697\" cy=\"-522\" rx=\"37.8943\" ry=\"18\"/>\n",
       "<text text-anchor=\"middle\" x=\"263.697\" y=\"-518.3\" font-family=\"Times,serif\" font-size=\"14.00\">ARG0</text>\n",
       "</g>\n",
       "<!-- 24&#45;&#45;25 -->\n",
       "<g id=\"edge25\" class=\"edge\"><title>24&#45;&#45;25</title>\n",
       "<path fill=\"none\" stroke=\"black\" d=\"M369.725,-581.441C347.18,-569.015 311.399,-549.293 287.734,-536.249\"/>\n",
       "</g>\n",
       "<!-- 26 -->\n",
       "<g id=\"node27\" class=\"node\"><title>26</title>\n",
       "<ellipse fill=\"none\" stroke=\"black\" cx=\"390.697\" cy=\"-522\" rx=\"71.4873\" ry=\"18\"/>\n",
       "<text text-anchor=\"middle\" x=\"390.697\" y=\"-518.3\" font-family=\"Times,serif\" font-size=\"14.00\">protectedDiv</text>\n",
       "</g>\n",
       "<!-- 24&#45;&#45;26 -->\n",
       "<g id=\"edge26\" class=\"edge\"><title>24&#45;&#45;26</title>\n",
       "<path fill=\"none\" stroke=\"black\" d=\"M390.697,-575.697C390.697,-564.846 390.697,-550.917 390.697,-540.104\"/>\n",
       "</g>\n",
       "<!-- 27 -->\n",
       "<g id=\"node28\" class=\"node\"><title>27</title>\n",
       "<ellipse fill=\"none\" stroke=\"black\" cx=\"297.697\" cy=\"-450\" rx=\"37.8943\" ry=\"18\"/>\n",
       "<text text-anchor=\"middle\" x=\"297.697\" y=\"-446.3\" font-family=\"Times,serif\" font-size=\"14.00\">ARG0</text>\n",
       "</g>\n",
       "<!-- 26&#45;&#45;27 -->\n",
       "<g id=\"edge27\" class=\"edge\"><title>26&#45;&#45;27</title>\n",
       "<path fill=\"none\" stroke=\"black\" d=\"M369.127,-504.765C353.351,-492.891 332.14,-476.925 316.938,-465.483\"/>\n",
       "</g>\n",
       "<!-- 28 -->\n",
       "<g id=\"node29\" class=\"node\"><title>28</title>\n",
       "<ellipse fill=\"none\" stroke=\"black\" cx=\"390.697\" cy=\"-450\" rx=\"37.8943\" ry=\"18\"/>\n",
       "<text text-anchor=\"middle\" x=\"390.697\" y=\"-446.3\" font-family=\"Times,serif\" font-size=\"14.00\">ARG0</text>\n",
       "</g>\n",
       "<!-- 26&#45;&#45;28 -->\n",
       "<g id=\"edge28\" class=\"edge\"><title>26&#45;&#45;28</title>\n",
       "<path fill=\"none\" stroke=\"black\" d=\"M390.697,-503.697C390.697,-492.846 390.697,-478.917 390.697,-468.104\"/>\n",
       "</g>\n",
       "<!-- 31 -->\n",
       "<g id=\"node32\" class=\"node\"><title>31</title>\n",
       "<ellipse fill=\"none\" stroke=\"black\" cx=\"517.697\" cy=\"-810\" rx=\"27\" ry=\"18\"/>\n",
       "<text text-anchor=\"middle\" x=\"517.697\" y=\"-806.3\" font-family=\"Times,serif\" font-size=\"14.00\">sin</text>\n",
       "</g>\n",
       "<!-- 30&#45;&#45;31 -->\n",
       "<g id=\"edge31\" class=\"edge\"><title>30&#45;&#45;31</title>\n",
       "<path fill=\"none\" stroke=\"black\" d=\"M486.206,-864.765C492.83,-853.456 501.627,-838.437 508.239,-827.147\"/>\n",
       "</g>\n",
       "<!-- 32 -->\n",
       "<g id=\"node33\" class=\"node\"><title>32</title>\n",
       "<ellipse fill=\"none\" stroke=\"black\" cx=\"557.697\" cy=\"-738\" rx=\"27.0966\" ry=\"18\"/>\n",
       "<text text-anchor=\"middle\" x=\"557.697\" y=\"-734.3\" font-family=\"Times,serif\" font-size=\"14.00\">sub</text>\n",
       "</g>\n",
       "<!-- 31&#45;&#45;32 -->\n",
       "<g id=\"edge32\" class=\"edge\"><title>31&#45;&#45;32</title>\n",
       "<path fill=\"none\" stroke=\"black\" d=\"M526.974,-792.765C533.436,-781.456 542.019,-766.437 548.47,-755.147\"/>\n",
       "</g>\n",
       "<!-- 33 -->\n",
       "<g id=\"node34\" class=\"node\"><title>33</title>\n",
       "<ellipse fill=\"none\" stroke=\"black\" cx=\"557.697\" cy=\"-666\" rx=\"37.8943\" ry=\"18\"/>\n",
       "<text text-anchor=\"middle\" x=\"557.697\" y=\"-662.3\" font-family=\"Times,serif\" font-size=\"14.00\">ARG0</text>\n",
       "</g>\n",
       "<!-- 32&#45;&#45;33 -->\n",
       "<g id=\"edge33\" class=\"edge\"><title>32&#45;&#45;33</title>\n",
       "<path fill=\"none\" stroke=\"black\" d=\"M557.697,-719.697C557.697,-708.846 557.697,-694.917 557.697,-684.104\"/>\n",
       "</g>\n",
       "<!-- 34 -->\n",
       "<g id=\"node35\" class=\"node\"><title>34</title>\n",
       "<ellipse fill=\"none\" stroke=\"black\" cx=\"754.697\" cy=\"-666\" rx=\"27.8951\" ry=\"18\"/>\n",
       "<text text-anchor=\"middle\" x=\"754.697\" y=\"-662.3\" font-family=\"Times,serif\" font-size=\"14.00\">add</text>\n",
       "</g>\n",
       "<!-- 32&#45;&#45;34 -->\n",
       "<g id=\"edge34\" class=\"edge\"><title>32&#45;&#45;34</title>\n",
       "<path fill=\"none\" stroke=\"black\" d=\"M581.069,-728.695C618.779,-715.296 692.66,-689.043 730.741,-675.512\"/>\n",
       "</g>\n",
       "<!-- 35 -->\n",
       "<g id=\"node36\" class=\"node\"><title>35</title>\n",
       "<ellipse fill=\"none\" stroke=\"black\" cx=\"754.697\" cy=\"-594\" rx=\"28.6953\" ry=\"18\"/>\n",
       "<text text-anchor=\"middle\" x=\"754.697\" y=\"-590.3\" font-family=\"Times,serif\" font-size=\"14.00\">mul</text>\n",
       "</g>\n",
       "<!-- 34&#45;&#45;35 -->\n",
       "<g id=\"edge35\" class=\"edge\"><title>34&#45;&#45;35</title>\n",
       "<path fill=\"none\" stroke=\"black\" d=\"M754.697,-647.697C754.697,-636.846 754.697,-622.917 754.697,-612.104\"/>\n",
       "</g>\n",
       "<!-- 71 -->\n",
       "<g id=\"node72\" class=\"node\"><title>71</title>\n",
       "<ellipse fill=\"none\" stroke=\"black\" cx=\"946.697\" cy=\"-594\" rx=\"27\" ry=\"18\"/>\n",
       "<text text-anchor=\"middle\" x=\"946.697\" y=\"-590.3\" font-family=\"Times,serif\" font-size=\"14.00\">sin</text>\n",
       "</g>\n",
       "<!-- 34&#45;&#45;71 -->\n",
       "<g id=\"edge71\" class=\"edge\"><title>34&#45;&#45;71</title>\n",
       "<path fill=\"none\" stroke=\"black\" d=\"M778.625,-656.276C815.82,-642.716 887.029,-616.754 923.667,-603.396\"/>\n",
       "</g>\n",
       "<!-- 36 -->\n",
       "<g id=\"node37\" class=\"node\"><title>36</title>\n",
       "<ellipse fill=\"none\" stroke=\"black\" cx=\"611.697\" cy=\"-522\" rx=\"27.0966\" ry=\"18\"/>\n",
       "<text text-anchor=\"middle\" x=\"611.697\" y=\"-518.3\" font-family=\"Times,serif\" font-size=\"14.00\">sub</text>\n",
       "</g>\n",
       "<!-- 35&#45;&#45;36 -->\n",
       "<g id=\"edge36\" class=\"edge\"><title>35&#45;&#45;36</title>\n",
       "<path fill=\"none\" stroke=\"black\" d=\"M732.666,-582.216C705.559,-568.947 659.844,-546.569 633.051,-533.453\"/>\n",
       "</g>\n",
       "<!-- 60 -->\n",
       "<g id=\"node61\" class=\"node\"><title>60</title>\n",
       "<ellipse fill=\"none\" stroke=\"black\" cx=\"754.697\" cy=\"-522\" rx=\"28.6953\" ry=\"18\"/>\n",
       "<text text-anchor=\"middle\" x=\"754.697\" y=\"-518.3\" font-family=\"Times,serif\" font-size=\"14.00\">mul</text>\n",
       "</g>\n",
       "<!-- 35&#45;&#45;60 -->\n",
       "<g id=\"edge60\" class=\"edge\"><title>35&#45;&#45;60</title>\n",
       "<path fill=\"none\" stroke=\"black\" d=\"M754.697,-575.697C754.697,-564.846 754.697,-550.917 754.697,-540.104\"/>\n",
       "</g>\n",
       "<!-- 37 -->\n",
       "<g id=\"node38\" class=\"node\"><title>37</title>\n",
       "<ellipse fill=\"none\" stroke=\"black\" cx=\"474.697\" cy=\"-450\" rx=\"28.6953\" ry=\"18\"/>\n",
       "<text text-anchor=\"middle\" x=\"474.697\" y=\"-446.3\" font-family=\"Times,serif\" font-size=\"14.00\">mul</text>\n",
       "</g>\n",
       "<!-- 36&#45;&#45;37 -->\n",
       "<g id=\"edge37\" class=\"edge\"><title>36&#45;&#45;37</title>\n",
       "<path fill=\"none\" stroke=\"black\" d=\"M590.591,-510.216C565.071,-497.177 522.338,-475.342 496.506,-462.144\"/>\n",
       "</g>\n",
       "<!-- 55 -->\n",
       "<g id=\"node56\" class=\"node\"><title>55</title>\n",
       "<ellipse fill=\"none\" stroke=\"black\" cx=\"611.697\" cy=\"-450\" rx=\"27.8951\" ry=\"18\"/>\n",
       "<text text-anchor=\"middle\" x=\"611.697\" y=\"-446.3\" font-family=\"Times,serif\" font-size=\"14.00\">add</text>\n",
       "</g>\n",
       "<!-- 36&#45;&#45;55 -->\n",
       "<g id=\"edge55\" class=\"edge\"><title>36&#45;&#45;55</title>\n",
       "<path fill=\"none\" stroke=\"black\" d=\"M611.697,-503.697C611.697,-492.846 611.697,-478.917 611.697,-468.104\"/>\n",
       "</g>\n",
       "<!-- 38 -->\n",
       "<g id=\"node39\" class=\"node\"><title>38</title>\n",
       "<ellipse fill=\"none\" stroke=\"black\" cx=\"261.697\" cy=\"-378\" rx=\"27.0966\" ry=\"18\"/>\n",
       "<text text-anchor=\"middle\" x=\"261.697\" y=\"-374.3\" font-family=\"Times,serif\" font-size=\"14.00\">sub</text>\n",
       "</g>\n",
       "<!-- 37&#45;&#45;38 -->\n",
       "<g id=\"edge38\" class=\"edge\"><title>37&#45;&#45;38</title>\n",
       "<path fill=\"none\" stroke=\"black\" d=\"M452.603,-438.246C447.745,-436.052 442.59,-433.851 437.697,-432 385.016,-412.075 321.316,-394.431 286.833,-385.395\"/>\n",
       "</g>\n",
       "<!-- 49 -->\n",
       "<g id=\"node50\" class=\"node\"><title>49</title>\n",
       "<ellipse fill=\"none\" stroke=\"black\" cx=\"442.697\" cy=\"-378\" rx=\"71.4873\" ry=\"18\"/>\n",
       "<text text-anchor=\"middle\" x=\"442.697\" y=\"-374.3\" font-family=\"Times,serif\" font-size=\"14.00\">protectedDiv</text>\n",
       "</g>\n",
       "<!-- 37&#45;&#45;49 -->\n",
       "<g id=\"edge49\" class=\"edge\"><title>37&#45;&#45;49</title>\n",
       "<path fill=\"none\" stroke=\"black\" d=\"M467.113,-432.411C462.086,-421.414 455.509,-407.027 450.448,-395.956\"/>\n",
       "</g>\n",
       "<!-- 39 -->\n",
       "<g id=\"node40\" class=\"node\"><title>39</title>\n",
       "<ellipse fill=\"none\" stroke=\"black\" cx=\"135.697\" cy=\"-306\" rx=\"27.0966\" ry=\"18\"/>\n",
       "<text text-anchor=\"middle\" x=\"135.697\" y=\"-302.3\" font-family=\"Times,serif\" font-size=\"14.00\">sub</text>\n",
       "</g>\n",
       "<!-- 38&#45;&#45;39 -->\n",
       "<g id=\"edge39\" class=\"edge\"><title>38&#45;&#45;39</title>\n",
       "<path fill=\"none\" stroke=\"black\" d=\"M241.453,-365.753C217.94,-352.691 179.382,-331.27 155.89,-318.219\"/>\n",
       "</g>\n",
       "<!-- 44 -->\n",
       "<g id=\"node45\" class=\"node\"><title>44</title>\n",
       "<ellipse fill=\"none\" stroke=\"black\" cx=\"261.697\" cy=\"-306\" rx=\"28.6953\" ry=\"18\"/>\n",
       "<text text-anchor=\"middle\" x=\"261.697\" y=\"-302.3\" font-family=\"Times,serif\" font-size=\"14.00\">mul</text>\n",
       "</g>\n",
       "<!-- 38&#45;&#45;44 -->\n",
       "<g id=\"edge44\" class=\"edge\"><title>38&#45;&#45;44</title>\n",
       "<path fill=\"none\" stroke=\"black\" d=\"M261.697,-359.697C261.697,-348.846 261.697,-334.917 261.697,-324.104\"/>\n",
       "</g>\n",
       "<!-- 40 -->\n",
       "<g id=\"node41\" class=\"node\"><title>40</title>\n",
       "<ellipse fill=\"none\" stroke=\"black\" cx=\"51.6967\" cy=\"-234\" rx=\"37.8943\" ry=\"18\"/>\n",
       "<text text-anchor=\"middle\" x=\"51.6967\" y=\"-230.3\" font-family=\"Times,serif\" font-size=\"14.00\">ARG0</text>\n",
       "</g>\n",
       "<!-- 39&#45;&#45;40 -->\n",
       "<g id=\"edge40\" class=\"edge\"><title>39&#45;&#45;40</title>\n",
       "<path fill=\"none\" stroke=\"black\" d=\"M119.501,-291.503C105.198,-279.585 84.3778,-262.234 69.588,-249.909\"/>\n",
       "</g>\n",
       "<!-- 41 -->\n",
       "<g id=\"node42\" class=\"node\"><title>41</title>\n",
       "<ellipse fill=\"none\" stroke=\"black\" cx=\"135.697\" cy=\"-234\" rx=\"28.6953\" ry=\"18\"/>\n",
       "<text text-anchor=\"middle\" x=\"135.697\" y=\"-230.3\" font-family=\"Times,serif\" font-size=\"14.00\">mul</text>\n",
       "</g>\n",
       "<!-- 39&#45;&#45;41 -->\n",
       "<g id=\"edge41\" class=\"edge\"><title>39&#45;&#45;41</title>\n",
       "<path fill=\"none\" stroke=\"black\" d=\"M135.697,-287.697C135.697,-276.846 135.697,-262.917 135.697,-252.104\"/>\n",
       "</g>\n",
       "<!-- 42 -->\n",
       "<g id=\"node43\" class=\"node\"><title>42</title>\n",
       "<ellipse fill=\"none\" stroke=\"black\" cx=\"61.6967\" cy=\"-162\" rx=\"37.8943\" ry=\"18\"/>\n",
       "<text text-anchor=\"middle\" x=\"61.6967\" y=\"-158.3\" font-family=\"Times,serif\" font-size=\"14.00\">ARG0</text>\n",
       "</g>\n",
       "<!-- 41&#45;&#45;42 -->\n",
       "<g id=\"edge42\" class=\"edge\"><title>41&#45;&#45;42</title>\n",
       "<path fill=\"none\" stroke=\"black\" d=\"M120.364,-218.496C108.002,-206.803 90.6587,-190.397 78.0365,-178.457\"/>\n",
       "</g>\n",
       "<!-- 43 -->\n",
       "<g id=\"node44\" class=\"node\"><title>43</title>\n",
       "<ellipse fill=\"none\" stroke=\"black\" cx=\"154.697\" cy=\"-162\" rx=\"37.8943\" ry=\"18\"/>\n",
       "<text text-anchor=\"middle\" x=\"154.697\" y=\"-158.3\" font-family=\"Times,serif\" font-size=\"14.00\">ARG0</text>\n",
       "</g>\n",
       "<!-- 41&#45;&#45;43 -->\n",
       "<g id=\"edge43\" class=\"edge\"><title>41&#45;&#45;43</title>\n",
       "<path fill=\"none\" stroke=\"black\" d=\"M140.296,-216.055C143.239,-205.211 147.047,-191.183 150.008,-180.275\"/>\n",
       "</g>\n",
       "<!-- 45 -->\n",
       "<g id=\"node46\" class=\"node\"><title>45</title>\n",
       "<ellipse fill=\"none\" stroke=\"black\" cx=\"219.697\" cy=\"-234\" rx=\"37.8943\" ry=\"18\"/>\n",
       "<text text-anchor=\"middle\" x=\"219.697\" y=\"-230.3\" font-family=\"Times,serif\" font-size=\"14.00\">ARG0</text>\n",
       "</g>\n",
       "<!-- 44&#45;&#45;45 -->\n",
       "<g id=\"edge45\" class=\"edge\"><title>44&#45;&#45;45</title>\n",
       "<path fill=\"none\" stroke=\"black\" d=\"M251.955,-288.765C245.267,-277.618 236.416,-262.865 229.677,-251.633\"/>\n",
       "</g>\n",
       "<!-- 46 -->\n",
       "<g id=\"node47\" class=\"node\"><title>46</title>\n",
       "<ellipse fill=\"none\" stroke=\"black\" cx=\"303.697\" cy=\"-234\" rx=\"27.8951\" ry=\"18\"/>\n",
       "<text text-anchor=\"middle\" x=\"303.697\" y=\"-230.3\" font-family=\"Times,serif\" font-size=\"14.00\">add</text>\n",
       "</g>\n",
       "<!-- 44&#45;&#45;46 -->\n",
       "<g id=\"edge46\" class=\"edge\"><title>44&#45;&#45;46</title>\n",
       "<path fill=\"none\" stroke=\"black\" d=\"M271.438,-288.765C278.223,-277.456 287.235,-262.437 294.008,-251.147\"/>\n",
       "</g>\n",
       "<!-- 47 -->\n",
       "<g id=\"node48\" class=\"node\"><title>47</title>\n",
       "<ellipse fill=\"none\" stroke=\"black\" cx=\"284.697\" cy=\"-162\" rx=\"37.8943\" ry=\"18\"/>\n",
       "<text text-anchor=\"middle\" x=\"284.697\" y=\"-158.3\" font-family=\"Times,serif\" font-size=\"14.00\">ARG0</text>\n",
       "</g>\n",
       "<!-- 46&#45;&#45;47 -->\n",
       "<g id=\"edge47\" class=\"edge\"><title>46&#45;&#45;47</title>\n",
       "<path fill=\"none\" stroke=\"black\" d=\"M299.097,-216.055C296.154,-205.211 292.346,-191.183 289.386,-180.275\"/>\n",
       "</g>\n",
       "<!-- 48 -->\n",
       "<g id=\"node49\" class=\"node\"><title>48</title>\n",
       "<ellipse fill=\"none\" stroke=\"black\" cx=\"377.697\" cy=\"-162\" rx=\"37.8943\" ry=\"18\"/>\n",
       "<text text-anchor=\"middle\" x=\"377.697\" y=\"-158.3\" font-family=\"Times,serif\" font-size=\"14.00\">ARG0</text>\n",
       "</g>\n",
       "<!-- 46&#45;&#45;48 -->\n",
       "<g id=\"edge48\" class=\"edge\"><title>46&#45;&#45;48</title>\n",
       "<path fill=\"none\" stroke=\"black\" d=\"M319.03,-218.496C331.391,-206.803 348.735,-190.397 361.357,-178.457\"/>\n",
       "</g>\n",
       "<!-- 50 -->\n",
       "<g id=\"node51\" class=\"node\"><title>50</title>\n",
       "<ellipse fill=\"none\" stroke=\"black\" cx=\"392.697\" cy=\"-306\" rx=\"27\" ry=\"18\"/>\n",
       "<text text-anchor=\"middle\" x=\"392.697\" y=\"-302.3\" font-family=\"Times,serif\" font-size=\"14.00\">sin</text>\n",
       "</g>\n",
       "<!-- 49&#45;&#45;50 -->\n",
       "<g id=\"edge50\" class=\"edge\"><title>49&#45;&#45;50</title>\n",
       "<path fill=\"none\" stroke=\"black\" d=\"M430.593,-360.055C422.501,-348.726 411.925,-333.92 404.003,-322.829\"/>\n",
       "</g>\n",
       "<!-- 52 -->\n",
       "<g id=\"node53\" class=\"node\"><title>52</title>\n",
       "<ellipse fill=\"none\" stroke=\"black\" cx=\"475.697\" cy=\"-306\" rx=\"28.6953\" ry=\"18\"/>\n",
       "<text text-anchor=\"middle\" x=\"475.697\" y=\"-302.3\" font-family=\"Times,serif\" font-size=\"14.00\">mul</text>\n",
       "</g>\n",
       "<!-- 49&#45;&#45;52 -->\n",
       "<g id=\"edge52\" class=\"edge\"><title>49&#45;&#45;52</title>\n",
       "<path fill=\"none\" stroke=\"black\" d=\"M450.685,-360.055C455.873,-349.049 462.608,-334.764 467.782,-323.789\"/>\n",
       "</g>\n",
       "<!-- 51 -->\n",
       "<g id=\"node52\" class=\"node\"><title>51</title>\n",
       "<ellipse fill=\"none\" stroke=\"black\" cx=\"387.697\" cy=\"-234\" rx=\"37.8943\" ry=\"18\"/>\n",
       "<text text-anchor=\"middle\" x=\"387.697\" y=\"-230.3\" font-family=\"Times,serif\" font-size=\"14.00\">ARG0</text>\n",
       "</g>\n",
       "<!-- 50&#45;&#45;51 -->\n",
       "<g id=\"edge51\" class=\"edge\"><title>50&#45;&#45;51</title>\n",
       "<path fill=\"none\" stroke=\"black\" d=\"M391.461,-287.697C390.686,-276.846 389.691,-262.917 388.918,-252.104\"/>\n",
       "</g>\n",
       "<!-- 53 -->\n",
       "<g id=\"node54\" class=\"node\"><title>53</title>\n",
       "<ellipse fill=\"none\" stroke=\"black\" cx=\"480.697\" cy=\"-234\" rx=\"37.8943\" ry=\"18\"/>\n",
       "<text text-anchor=\"middle\" x=\"480.697\" y=\"-230.3\" font-family=\"Times,serif\" font-size=\"14.00\">ARG0</text>\n",
       "</g>\n",
       "<!-- 52&#45;&#45;53 -->\n",
       "<g id=\"edge53\" class=\"edge\"><title>52&#45;&#45;53</title>\n",
       "<path fill=\"none\" stroke=\"black\" d=\"M476.933,-287.697C477.708,-276.846 478.703,-262.917 479.475,-252.104\"/>\n",
       "</g>\n",
       "<!-- 54 -->\n",
       "<g id=\"node55\" class=\"node\"><title>54</title>\n",
       "<ellipse fill=\"none\" stroke=\"black\" cx=\"573.697\" cy=\"-234\" rx=\"37.8943\" ry=\"18\"/>\n",
       "<text text-anchor=\"middle\" x=\"573.697\" y=\"-230.3\" font-family=\"Times,serif\" font-size=\"14.00\">ARG0</text>\n",
       "</g>\n",
       "<!-- 52&#45;&#45;54 -->\n",
       "<g id=\"edge54\" class=\"edge\"><title>52&#45;&#45;54</title>\n",
       "<path fill=\"none\" stroke=\"black\" d=\"M494.13,-291.834C511.096,-279.715 536.203,-261.781 553.66,-249.312\"/>\n",
       "</g>\n",
       "<!-- 56 -->\n",
       "<g id=\"node57\" class=\"node\"><title>56</title>\n",
       "<ellipse fill=\"none\" stroke=\"black\" cx=\"559.697\" cy=\"-378\" rx=\"27.0966\" ry=\"18\"/>\n",
       "<text text-anchor=\"middle\" x=\"559.697\" y=\"-374.3\" font-family=\"Times,serif\" font-size=\"14.00\">sub</text>\n",
       "</g>\n",
       "<!-- 55&#45;&#45;56 -->\n",
       "<g id=\"edge56\" class=\"edge\"><title>55&#45;&#45;56</title>\n",
       "<path fill=\"none\" stroke=\"black\" d=\"M600.156,-433.465C591.539,-421.865 579.814,-406.082 571.205,-394.492\"/>\n",
       "</g>\n",
       "<!-- 59 -->\n",
       "<g id=\"node60\" class=\"node\"><title>59</title>\n",
       "<ellipse fill=\"none\" stroke=\"black\" cx=\"642.697\" cy=\"-378\" rx=\"37.8943\" ry=\"18\"/>\n",
       "<text text-anchor=\"middle\" x=\"642.697\" y=\"-374.3\" font-family=\"Times,serif\" font-size=\"14.00\">ARG0</text>\n",
       "</g>\n",
       "<!-- 55&#45;&#45;59 -->\n",
       "<g id=\"edge59\" class=\"edge\"><title>55&#45;&#45;59</title>\n",
       "<path fill=\"none\" stroke=\"black\" d=\"M619.043,-432.411C623.913,-421.414 630.285,-407.027 635.187,-395.956\"/>\n",
       "</g>\n",
       "<!-- 57 -->\n",
       "<g id=\"node58\" class=\"node\"><title>57</title>\n",
       "<ellipse fill=\"none\" stroke=\"black\" cx=\"559.697\" cy=\"-306\" rx=\"37.8943\" ry=\"18\"/>\n",
       "<text text-anchor=\"middle\" x=\"559.697\" y=\"-302.3\" font-family=\"Times,serif\" font-size=\"14.00\">ARG0</text>\n",
       "</g>\n",
       "<!-- 56&#45;&#45;57 -->\n",
       "<g id=\"edge57\" class=\"edge\"><title>56&#45;&#45;57</title>\n",
       "<path fill=\"none\" stroke=\"black\" d=\"M559.697,-359.697C559.697,-348.846 559.697,-334.917 559.697,-324.104\"/>\n",
       "</g>\n",
       "<!-- 58 -->\n",
       "<g id=\"node59\" class=\"node\"><title>58</title>\n",
       "<ellipse fill=\"none\" stroke=\"black\" cx=\"652.697\" cy=\"-306\" rx=\"37.8943\" ry=\"18\"/>\n",
       "<text text-anchor=\"middle\" x=\"652.697\" y=\"-302.3\" font-family=\"Times,serif\" font-size=\"14.00\">ARG0</text>\n",
       "</g>\n",
       "<!-- 56&#45;&#45;58 -->\n",
       "<g id=\"edge58\" class=\"edge\"><title>56&#45;&#45;58</title>\n",
       "<path fill=\"none\" stroke=\"black\" d=\"M577.189,-363.834C593.185,-351.794 616.805,-334.015 633.356,-321.557\"/>\n",
       "</g>\n",
       "<!-- 61 -->\n",
       "<g id=\"node62\" class=\"node\"><title>61</title>\n",
       "<ellipse fill=\"none\" stroke=\"black\" cx=\"754.697\" cy=\"-450\" rx=\"27.0966\" ry=\"18\"/>\n",
       "<text text-anchor=\"middle\" x=\"754.697\" y=\"-446.3\" font-family=\"Times,serif\" font-size=\"14.00\">sub</text>\n",
       "</g>\n",
       "<!-- 60&#45;&#45;61 -->\n",
       "<g id=\"edge61\" class=\"edge\"><title>60&#45;&#45;61</title>\n",
       "<path fill=\"none\" stroke=\"black\" d=\"M754.697,-503.697C754.697,-492.846 754.697,-478.917 754.697,-468.104\"/>\n",
       "</g>\n",
       "<!-- 65 -->\n",
       "<g id=\"node66\" class=\"node\"><title>65</title>\n",
       "<ellipse fill=\"none\" stroke=\"black\" cx=\"890.697\" cy=\"-450\" rx=\"71.4873\" ry=\"18\"/>\n",
       "<text text-anchor=\"middle\" x=\"890.697\" y=\"-446.3\" font-family=\"Times,serif\" font-size=\"14.00\">protectedDiv</text>\n",
       "</g>\n",
       "<!-- 60&#45;&#45;65 -->\n",
       "<g id=\"edge65\" class=\"edge\"><title>60&#45;&#45;65</title>\n",
       "<path fill=\"none\" stroke=\"black\" d=\"M776.246,-509.908C799.016,-498.189 835.095,-479.619 860.651,-466.465\"/>\n",
       "</g>\n",
       "<!-- 62 -->\n",
       "<g id=\"node63\" class=\"node\"><title>62</title>\n",
       "<ellipse fill=\"none\" stroke=\"black\" cx=\"735.697\" cy=\"-378\" rx=\"37.8943\" ry=\"18\"/>\n",
       "<text text-anchor=\"middle\" x=\"735.697\" y=\"-374.3\" font-family=\"Times,serif\" font-size=\"14.00\">ARG0</text>\n",
       "</g>\n",
       "<!-- 61&#45;&#45;62 -->\n",
       "<g id=\"edge62\" class=\"edge\"><title>61&#45;&#45;62</title>\n",
       "<path fill=\"none\" stroke=\"black\" d=\"M750.097,-432.055C747.154,-421.211 743.346,-407.183 740.386,-396.275\"/>\n",
       "</g>\n",
       "<!-- 63 -->\n",
       "<g id=\"node64\" class=\"node\"><title>63</title>\n",
       "<ellipse fill=\"none\" stroke=\"black\" cx=\"818.697\" cy=\"-378\" rx=\"27\" ry=\"18\"/>\n",
       "<text text-anchor=\"middle\" x=\"818.697\" y=\"-374.3\" font-family=\"Times,serif\" font-size=\"14.00\">sin</text>\n",
       "</g>\n",
       "<!-- 61&#45;&#45;63 -->\n",
       "<g id=\"edge63\" class=\"edge\"><title>61&#45;&#45;63</title>\n",
       "<path fill=\"none\" stroke=\"black\" d=\"M768.269,-434.155C779.13,-422.276 794.288,-405.697 805.143,-393.824\"/>\n",
       "</g>\n",
       "<!-- 64 -->\n",
       "<g id=\"node65\" class=\"node\"><title>64</title>\n",
       "<ellipse fill=\"none\" stroke=\"black\" cx=\"787.697\" cy=\"-306\" rx=\"37.8943\" ry=\"18\"/>\n",
       "<text text-anchor=\"middle\" x=\"787.697\" y=\"-302.3\" font-family=\"Times,serif\" font-size=\"14.00\">ARG0</text>\n",
       "</g>\n",
       "<!-- 63&#45;&#45;64 -->\n",
       "<g id=\"edge64\" class=\"edge\"><title>63&#45;&#45;64</title>\n",
       "<path fill=\"none\" stroke=\"black\" d=\"M811.35,-360.411C806.48,-349.414 800.109,-335.027 795.206,-323.956\"/>\n",
       "</g>\n",
       "<!-- 66 -->\n",
       "<g id=\"node67\" class=\"node\"><title>66</title>\n",
       "<ellipse fill=\"none\" stroke=\"black\" cx=\"890.697\" cy=\"-378\" rx=\"27\" ry=\"18\"/>\n",
       "<text text-anchor=\"middle\" x=\"890.697\" y=\"-374.3\" font-family=\"Times,serif\" font-size=\"14.00\">sin</text>\n",
       "</g>\n",
       "<!-- 65&#45;&#45;66 -->\n",
       "<g id=\"edge66\" class=\"edge\"><title>65&#45;&#45;66</title>\n",
       "<path fill=\"none\" stroke=\"black\" d=\"M890.697,-431.697C890.697,-420.846 890.697,-406.917 890.697,-396.104\"/>\n",
       "</g>\n",
       "<!-- 68 -->\n",
       "<g id=\"node69\" class=\"node\"><title>68</title>\n",
       "<ellipse fill=\"none\" stroke=\"black\" cx=\"973.697\" cy=\"-378\" rx=\"28.6953\" ry=\"18\"/>\n",
       "<text text-anchor=\"middle\" x=\"973.697\" y=\"-374.3\" font-family=\"Times,serif\" font-size=\"14.00\">mul</text>\n",
       "</g>\n",
       "<!-- 65&#45;&#45;68 -->\n",
       "<g id=\"edge68\" class=\"edge\"><title>65&#45;&#45;68</title>\n",
       "<path fill=\"none\" stroke=\"black\" d=\"M910.366,-432.411C924.652,-420.363 943.762,-404.246 957.241,-392.878\"/>\n",
       "</g>\n",
       "<!-- 67 -->\n",
       "<g id=\"node68\" class=\"node\"><title>67</title>\n",
       "<ellipse fill=\"none\" stroke=\"black\" cx=\"880.697\" cy=\"-306\" rx=\"37.8943\" ry=\"18\"/>\n",
       "<text text-anchor=\"middle\" x=\"880.697\" y=\"-302.3\" font-family=\"Times,serif\" font-size=\"14.00\">ARG0</text>\n",
       "</g>\n",
       "<!-- 66&#45;&#45;67 -->\n",
       "<g id=\"edge67\" class=\"edge\"><title>66&#45;&#45;67</title>\n",
       "<path fill=\"none\" stroke=\"black\" d=\"M888.276,-360.055C886.727,-349.211 884.723,-335.183 883.165,-324.275\"/>\n",
       "</g>\n",
       "<!-- 69 -->\n",
       "<g id=\"node70\" class=\"node\"><title>69</title>\n",
       "<ellipse fill=\"none\" stroke=\"black\" cx=\"973.697\" cy=\"-306\" rx=\"37.8943\" ry=\"18\"/>\n",
       "<text text-anchor=\"middle\" x=\"973.697\" y=\"-302.3\" font-family=\"Times,serif\" font-size=\"14.00\">ARG0</text>\n",
       "</g>\n",
       "<!-- 68&#45;&#45;69 -->\n",
       "<g id=\"edge69\" class=\"edge\"><title>68&#45;&#45;69</title>\n",
       "<path fill=\"none\" stroke=\"black\" d=\"M973.697,-359.697C973.697,-348.846 973.697,-334.917 973.697,-324.104\"/>\n",
       "</g>\n",
       "<!-- 70 -->\n",
       "<g id=\"node71\" class=\"node\"><title>70</title>\n",
       "<ellipse fill=\"none\" stroke=\"black\" cx=\"1066.7\" cy=\"-306\" rx=\"37.8943\" ry=\"18\"/>\n",
       "<text text-anchor=\"middle\" x=\"1066.7\" y=\"-302.3\" font-family=\"Times,serif\" font-size=\"14.00\">ARG0</text>\n",
       "</g>\n",
       "<!-- 68&#45;&#45;70 -->\n",
       "<g id=\"edge70\" class=\"edge\"><title>68&#45;&#45;70</title>\n",
       "<path fill=\"none\" stroke=\"black\" d=\"M991.628,-363.503C1007.57,-351.505 1030.82,-334.003 1047.21,-321.664\"/>\n",
       "</g>\n",
       "<!-- 72 -->\n",
       "<g id=\"node73\" class=\"node\"><title>72</title>\n",
       "<ellipse fill=\"none\" stroke=\"black\" cx=\"1046.7\" cy=\"-522\" rx=\"27.0966\" ry=\"18\"/>\n",
       "<text text-anchor=\"middle\" x=\"1046.7\" y=\"-518.3\" font-family=\"Times,serif\" font-size=\"14.00\">sub</text>\n",
       "</g>\n",
       "<!-- 71&#45;&#45;72 -->\n",
       "<g id=\"edge72\" class=\"edge\"><title>71&#45;&#45;72</title>\n",
       "<path fill=\"none\" stroke=\"black\" d=\"M964.575,-580.485C982.664,-567.823 1010.48,-548.351 1028.64,-535.642\"/>\n",
       "</g>\n",
       "<!-- 73 -->\n",
       "<g id=\"node74\" class=\"node\"><title>73</title>\n",
       "<ellipse fill=\"none\" stroke=\"black\" cx=\"1046.7\" cy=\"-450\" rx=\"37.8943\" ry=\"18\"/>\n",
       "<text text-anchor=\"middle\" x=\"1046.7\" y=\"-446.3\" font-family=\"Times,serif\" font-size=\"14.00\">ARG0</text>\n",
       "</g>\n",
       "<!-- 72&#45;&#45;73 -->\n",
       "<g id=\"edge73\" class=\"edge\"><title>72&#45;&#45;73</title>\n",
       "<path fill=\"none\" stroke=\"black\" d=\"M1046.7,-503.697C1046.7,-492.846 1046.7,-478.917 1046.7,-468.104\"/>\n",
       "</g>\n",
       "<!-- 74 -->\n",
       "<g id=\"node75\" class=\"node\"><title>74</title>\n",
       "<ellipse fill=\"none\" stroke=\"black\" cx=\"1144.7\" cy=\"-450\" rx=\"27\" ry=\"18\"/>\n",
       "<text text-anchor=\"middle\" x=\"1144.7\" y=\"-446.3\" font-family=\"Times,serif\" font-size=\"14.00\">sin</text>\n",
       "</g>\n",
       "<!-- 72&#45;&#45;74 -->\n",
       "<g id=\"edge74\" class=\"edge\"><title>72&#45;&#45;74</title>\n",
       "<path fill=\"none\" stroke=\"black\" d=\"M1064.67,-508.161C1082.35,-495.531 1109.19,-476.36 1126.84,-463.758\"/>\n",
       "</g>\n",
       "<!-- 75 -->\n",
       "<g id=\"node76\" class=\"node\"><title>75</title>\n",
       "<ellipse fill=\"none\" stroke=\"black\" cx=\"1159.7\" cy=\"-378\" rx=\"27.0966\" ry=\"18\"/>\n",
       "<text text-anchor=\"middle\" x=\"1159.7\" y=\"-374.3\" font-family=\"Times,serif\" font-size=\"14.00\">sub</text>\n",
       "</g>\n",
       "<!-- 74&#45;&#45;75 -->\n",
       "<g id=\"edge75\" class=\"edge\"><title>74&#45;&#45;75</title>\n",
       "<path fill=\"none\" stroke=\"black\" d=\"M1148.33,-432.055C1150.65,-421.211 1153.66,-407.183 1155.99,-396.275\"/>\n",
       "</g>\n",
       "<!-- 76 -->\n",
       "<g id=\"node77\" class=\"node\"><title>76</title>\n",
       "<ellipse fill=\"none\" stroke=\"black\" cx=\"1159.7\" cy=\"-306\" rx=\"37.8943\" ry=\"18\"/>\n",
       "<text text-anchor=\"middle\" x=\"1159.7\" y=\"-302.3\" font-family=\"Times,serif\" font-size=\"14.00\">ARG0</text>\n",
       "</g>\n",
       "<!-- 75&#45;&#45;76 -->\n",
       "<g id=\"edge76\" class=\"edge\"><title>75&#45;&#45;76</title>\n",
       "<path fill=\"none\" stroke=\"black\" d=\"M1159.7,-359.697C1159.7,-348.846 1159.7,-334.917 1159.7,-324.104\"/>\n",
       "</g>\n",
       "<!-- 77 -->\n",
       "<g id=\"node78\" class=\"node\"><title>77</title>\n",
       "<ellipse fill=\"none\" stroke=\"black\" cx=\"1243.7\" cy=\"-306\" rx=\"27.8951\" ry=\"18\"/>\n",
       "<text text-anchor=\"middle\" x=\"1243.7\" y=\"-302.3\" font-family=\"Times,serif\" font-size=\"14.00\">add</text>\n",
       "</g>\n",
       "<!-- 75&#45;&#45;77 -->\n",
       "<g id=\"edge77\" class=\"edge\"><title>75&#45;&#45;77</title>\n",
       "<path fill=\"none\" stroke=\"black\" d=\"M1175.89,-363.503C1190.67,-351.187 1212.41,-333.072 1227.26,-320.694\"/>\n",
       "</g>\n",
       "<!-- 78 -->\n",
       "<g id=\"node79\" class=\"node\"><title>78</title>\n",
       "<ellipse fill=\"none\" stroke=\"black\" cx=\"1203.7\" cy=\"-234\" rx=\"27.8951\" ry=\"18\"/>\n",
       "<text text-anchor=\"middle\" x=\"1203.7\" y=\"-230.3\" font-family=\"Times,serif\" font-size=\"14.00\">add</text>\n",
       "</g>\n",
       "<!-- 77&#45;&#45;78 -->\n",
       "<g id=\"edge78\" class=\"edge\"><title>77&#45;&#45;78</title>\n",
       "<path fill=\"none\" stroke=\"black\" d=\"M1234.42,-288.765C1227.96,-277.456 1219.37,-262.437 1212.92,-251.147\"/>\n",
       "</g>\n",
       "<!-- 87 -->\n",
       "<g id=\"node88\" class=\"node\"><title>87</title>\n",
       "<ellipse fill=\"none\" stroke=\"black\" cx=\"1282.7\" cy=\"-234\" rx=\"27\" ry=\"18\"/>\n",
       "<text text-anchor=\"middle\" x=\"1282.7\" y=\"-230.3\" font-family=\"Times,serif\" font-size=\"14.00\">sin</text>\n",
       "</g>\n",
       "<!-- 77&#45;&#45;87 -->\n",
       "<g id=\"edge87\" class=\"edge\"><title>77&#45;&#45;87</title>\n",
       "<path fill=\"none\" stroke=\"black\" d=\"M1252.74,-288.765C1259.04,-277.456 1267.41,-262.437 1273.7,-251.147\"/>\n",
       "</g>\n",
       "<!-- 79 -->\n",
       "<g id=\"node80\" class=\"node\"><title>79</title>\n",
       "<ellipse fill=\"none\" stroke=\"black\" cx=\"1110.7\" cy=\"-162\" rx=\"28.6953\" ry=\"18\"/>\n",
       "<text text-anchor=\"middle\" x=\"1110.7\" y=\"-158.3\" font-family=\"Times,serif\" font-size=\"14.00\">mul</text>\n",
       "</g>\n",
       "<!-- 78&#45;&#45;79 -->\n",
       "<g id=\"edge79\" class=\"edge\"><title>78&#45;&#45;79</title>\n",
       "<path fill=\"none\" stroke=\"black\" d=\"M1186.2,-219.834C1169.68,-207.398 1145.03,-188.839 1128.43,-176.345\"/>\n",
       "</g>\n",
       "<!-- 82 -->\n",
       "<g id=\"node83\" class=\"node\"><title>82</title>\n",
       "<ellipse fill=\"none\" stroke=\"black\" cx=\"1203.7\" cy=\"-162\" rx=\"27.8951\" ry=\"18\"/>\n",
       "<text text-anchor=\"middle\" x=\"1203.7\" y=\"-158.3\" font-family=\"Times,serif\" font-size=\"14.00\">add</text>\n",
       "</g>\n",
       "<!-- 78&#45;&#45;82 -->\n",
       "<g id=\"edge82\" class=\"edge\"><title>78&#45;&#45;82</title>\n",
       "<path fill=\"none\" stroke=\"black\" d=\"M1203.7,-215.697C1203.7,-204.846 1203.7,-190.917 1203.7,-180.104\"/>\n",
       "</g>\n",
       "<!-- 80 -->\n",
       "<g id=\"node81\" class=\"node\"><title>80</title>\n",
       "<ellipse fill=\"none\" stroke=\"black\" cx=\"1017.7\" cy=\"-90\" rx=\"37.8943\" ry=\"18\"/>\n",
       "<text text-anchor=\"middle\" x=\"1017.7\" y=\"-86.3\" font-family=\"Times,serif\" font-size=\"14.00\">ARG0</text>\n",
       "</g>\n",
       "<!-- 79&#45;&#45;80 -->\n",
       "<g id=\"edge80\" class=\"edge\"><title>79&#45;&#45;80</title>\n",
       "<path fill=\"none\" stroke=\"black\" d=\"M1092.77,-147.503C1076.82,-135.505 1053.57,-118.003 1037.18,-105.664\"/>\n",
       "</g>\n",
       "<!-- 81 -->\n",
       "<g id=\"node82\" class=\"node\"><title>81</title>\n",
       "<ellipse fill=\"none\" stroke=\"black\" cx=\"1110.7\" cy=\"-90\" rx=\"37.8943\" ry=\"18\"/>\n",
       "<text text-anchor=\"middle\" x=\"1110.7\" y=\"-86.3\" font-family=\"Times,serif\" font-size=\"14.00\">ARG0</text>\n",
       "</g>\n",
       "<!-- 79&#45;&#45;81 -->\n",
       "<g id=\"edge81\" class=\"edge\"><title>79&#45;&#45;81</title>\n",
       "<path fill=\"none\" stroke=\"black\" d=\"M1110.7,-143.697C1110.7,-132.846 1110.7,-118.917 1110.7,-108.104\"/>\n",
       "</g>\n",
       "<!-- 83 -->\n",
       "<g id=\"node84\" class=\"node\"><title>83</title>\n",
       "<ellipse fill=\"none\" stroke=\"black\" cx=\"1203.7\" cy=\"-90\" rx=\"37.8943\" ry=\"18\"/>\n",
       "<text text-anchor=\"middle\" x=\"1203.7\" y=\"-86.3\" font-family=\"Times,serif\" font-size=\"14.00\">ARG0</text>\n",
       "</g>\n",
       "<!-- 82&#45;&#45;83 -->\n",
       "<g id=\"edge83\" class=\"edge\"><title>82&#45;&#45;83</title>\n",
       "<path fill=\"none\" stroke=\"black\" d=\"M1203.7,-143.697C1203.7,-132.846 1203.7,-118.917 1203.7,-108.104\"/>\n",
       "</g>\n",
       "<!-- 84 -->\n",
       "<g id=\"node85\" class=\"node\"><title>84</title>\n",
       "<ellipse fill=\"none\" stroke=\"black\" cx=\"1287.7\" cy=\"-90\" rx=\"28.6953\" ry=\"18\"/>\n",
       "<text text-anchor=\"middle\" x=\"1287.7\" y=\"-86.3\" font-family=\"Times,serif\" font-size=\"14.00\">mul</text>\n",
       "</g>\n",
       "<!-- 82&#45;&#45;84 -->\n",
       "<g id=\"edge84\" class=\"edge\"><title>82&#45;&#45;84</title>\n",
       "<path fill=\"none\" stroke=\"black\" d=\"M1220.29,-147.17C1235.02,-134.898 1256.42,-117.064 1271.14,-104.801\"/>\n",
       "</g>\n",
       "<!-- 85 -->\n",
       "<g id=\"node86\" class=\"node\"><title>85</title>\n",
       "<ellipse fill=\"none\" stroke=\"black\" cx=\"1240.7\" cy=\"-18\" rx=\"37.8943\" ry=\"18\"/>\n",
       "<text text-anchor=\"middle\" x=\"1240.7\" y=\"-14.3\" font-family=\"Times,serif\" font-size=\"14.00\">ARG0</text>\n",
       "</g>\n",
       "<!-- 84&#45;&#45;85 -->\n",
       "<g id=\"edge85\" class=\"edge\"><title>84&#45;&#45;85</title>\n",
       "<path fill=\"none\" stroke=\"black\" d=\"M1277.03,-73.1159C1269.45,-61.8213 1259.29,-46.6956 1251.65,-35.307\"/>\n",
       "</g>\n",
       "<!-- 86 -->\n",
       "<g id=\"node87\" class=\"node\"><title>86</title>\n",
       "<ellipse fill=\"none\" stroke=\"black\" cx=\"1333.7\" cy=\"-18\" rx=\"37.8943\" ry=\"18\"/>\n",
       "<text text-anchor=\"middle\" x=\"1333.7\" y=\"-14.3\" font-family=\"Times,serif\" font-size=\"14.00\">ARG0</text>\n",
       "</g>\n",
       "<!-- 84&#45;&#45;86 -->\n",
       "<g id=\"edge86\" class=\"edge\"><title>84&#45;&#45;86</title>\n",
       "<path fill=\"none\" stroke=\"black\" d=\"M1298.13,-73.1159C1305.56,-61.8213 1315.5,-46.6956 1322.98,-35.307\"/>\n",
       "</g>\n",
       "<!-- 88 -->\n",
       "<g id=\"node89\" class=\"node\"><title>88</title>\n",
       "<ellipse fill=\"none\" stroke=\"black\" cx=\"1287.7\" cy=\"-162\" rx=\"37.8943\" ry=\"18\"/>\n",
       "<text text-anchor=\"middle\" x=\"1287.7\" y=\"-158.3\" font-family=\"Times,serif\" font-size=\"14.00\">ARG0</text>\n",
       "</g>\n",
       "<!-- 87&#45;&#45;88 -->\n",
       "<g id=\"edge88\" class=\"edge\"><title>87&#45;&#45;88</title>\n",
       "<path fill=\"none\" stroke=\"black\" d=\"M1283.93,-215.697C1284.71,-204.846 1285.7,-190.917 1286.47,-180.104\"/>\n",
       "</g>\n",
       "</g>\n",
       "</svg>\n"
      ],
      "text/plain": [
       "<graphviz.dot.Graph at 0x7faf40f0db00>"
      ]
     },
     "execution_count": 33,
     "metadata": {},
     "output_type": "execute_result"
    }
   ],
   "source": [
    "plot_graph(hof[0], 5)"
   ]
  },
  {
   "cell_type": "markdown",
   "metadata": {
    "slideshow": {
     "slide_type": "slide"
    }
   },
   "source": [
    "# Musíme pracovať len so stromom?"
   ]
  },
  {
   "cell_type": "markdown",
   "metadata": {
    "slideshow": {
     "slide_type": "slide"
    }
   },
   "source": [
    "# Lineárne genetické programovanie\n",
    "\n",
    "- jedinec nie je dátová štruktúra, ale lineárny reťazec (genotyp)\n",
    " - čísel, inštrukcií\n",
    "- kríženie a mutácia sa vykonávajú na lineárnom reťazci\n",
    " - podobnosť s genetickým algoritmom\n",
    "- vykonateľná dátová štruktúra, alebo program (fenotyp) sa vytvára pomocou mapovacieho procesu"
   ]
  },
  {
   "cell_type": "markdown",
   "metadata": {
    "slideshow": {
     "slide_type": "slide"
    }
   },
   "source": [
    "# Karteziánske genetické programovanie"
   ]
  },
  {
   "cell_type": "markdown",
   "metadata": {},
   "source": [
    "![cgp1](cgp1.png)"
   ]
  },
  {
   "cell_type": "markdown",
   "metadata": {
    "slideshow": {
     "slide_type": "subslide"
    }
   },
   "source": [
    "![CGP2](cgp2.png)"
   ]
  },
  {
   "cell_type": "markdown",
   "metadata": {
    "slideshow": {
     "slide_type": "slide"
    }
   },
   "source": [
    "# Symbolická regresia reloaded\n"
   ]
  },
  {
   "cell_type": "code",
   "execution_count": 34,
   "metadata": {},
   "outputs": [
    {
     "data": {
      "text/plain": [
       "{0: <function pycgp.benchmarks.symbolic.add>,\n",
       " 1: <function pycgp.benchmarks.symbolic.mul>,\n",
       " 2: <function pycgp.benchmarks.symbolic.pdiv>,\n",
       " 3: <function pycgp.benchmarks.symbolic.sub>,\n",
       " 4: <function pycgp.benchmarks.symbolic.plog>,\n",
       " 5: <function pycgp.benchmarks.symbolic.sin>,\n",
       " 6: <function pycgp.benchmarks.symbolic.cos>}"
      ]
     },
     "execution_count": 34,
     "metadata": {},
     "output_type": "execute_result"
    }
   ],
   "source": [
    "from pycgp.evolution import evolution\n",
    "from pycgp.mutation import probabilistic_mutation\n",
    "from pycgp.benchmarks.symbolic import X, y, PARAMS, EV_PARAMS\n",
    "from pycgp import Params, EvParams\n",
    "PARAMS['funset']"
   ]
  },
  {
   "cell_type": "code",
   "execution_count": 35,
   "metadata": {
    "slideshow": {
     "slide_type": "subslide"
    }
   },
   "outputs": [
    {
     "name": "stdout",
     "output_type": "stream",
     "text": [
      "CPU times: user 16.5 s, sys: 172 ms, total: 16.6 s\n",
      "Wall time: 17.2 s\n"
     ]
    }
   ],
   "source": [
    "%%time\n",
    "\n",
    "ev_params = EvParams(EV_PARAMS['cost_func'], target_fitness=0, mutation=probabilistic_mutation, max_evaluations=10000)\n",
    "params = Params(1, 1, n_columns=23, funset=PARAMS['funset'])\n",
    "\n",
    "random.seed(2)\n",
    "result = evolution(params, ev_params, X, y)"
   ]
  },
  {
   "cell_type": "code",
   "execution_count": 36,
   "metadata": {
    "slideshow": {
     "slide_type": "subslide"
    }
   },
   "outputs": [
    {
     "name": "stdout",
     "output_type": "stream",
     "text": [
      "Train error: 0.0000\n",
      "add(sin(mul(x0,x0)),sin(add(x0,mul(x0,x0))))\n"
     ]
    },
    {
     "data": {
      "image/png": "[encoded data removed]",
      "text/plain": [
       "<matplotlib.figure.Figure at 0x7faf41f4fe48>"
      ]
     },
     "metadata": {},
     "output_type": "display_data"
    }
   ],
   "source": [
    "best = result['stats']['best']\n",
    "print('Train error: {:.4f}'.format(best.fitness))\n",
    "print(best)\n",
    "\n",
    "plt.scatter(X, y, c='#aaaaaa')\n",
    "plt.plot(X, best.execute(X), c='red');"
   ]
  },
  {
   "cell_type": "markdown",
   "metadata": {
    "slideshow": {
     "slide_type": "subslide"
    }
   },
   "source": [
    "<img style=\"width:70%\" src=\"https://raw.githubusercontent.com/Jarino/bd-seminar-gp/master/symbolic-regression-best-individual.png\">"
   ]
  },
  {
   "cell_type": "markdown",
   "metadata": {
    "slideshow": {
     "slide_type": "slide"
    }
   },
   "source": [
    "# Špička ľadovca\n",
    "\n",
    "\n",
    "|              | GP využívajúce stromy                       | Lineárne GP |\n",
    "| --- | --- | --- |\n",
    "| **Bez gramatík** | Štandardné GP (Koza, 1992)                  | Lineárne GP (Banzaf, 1993) |\n",
    "|              | Sémantické GP (Jackson, 2010)               | Karteziánske GP (Miller, 2000) |\n",
    "|              | Štatistické GP (Haeri, 2014)                |  |\n",
    "|              | Geometricko-sémantické GP (Vanneschi, 2017) |  |\n",
    "| **S gramatikou** | GP s bezkontextovými gramatikami (Whigham, 1995) | Gramatická evolúcia (Ryan, 1998) |"
   ]
  },
  {
   "cell_type": "markdown",
   "metadata": {
    "slideshow": {
     "slide_type": "slide"
    }
   },
   "source": [
    "# Na čom robíme my\n",
    "\n",
    "- **Karteziánske GP**\n",
    "- aplikácia gemov na zrýchlenie konvergenice\n",
    "- aplikácia Karteziánskeho GP pri výskume Alzheimerovej choroby"
   ]
  },
  {
   "cell_type": "markdown",
   "metadata": {},
   "source": [
    "![mri](https://tadpole.grand-challenge.org/site/TADPOLE/serve/public_html/pet.jpg/)"
   ]
  },
  {
   "attachments": {},
   "cell_type": "markdown",
   "metadata": {
    "slideshow": {
     "slide_type": "slide"
    }
   },
   "source": [
    "# Zhrnutie\n",
    "\n",
    "- GP je flexibilný nástroj pre mnoho úloh\n",
    " - Extrakcia čŕt (Khayam 2014)\n",
    " - Evolúcia neurónových sietí (Khan 2017)\n",
    " - Klasifikácia (Ahmad 2014)\n",
    " - Zhlukovanie (Lensen, 2017)\n",
    " - Symbolická regresia (Izzo 2017)\n",
    " - ...\n",
    "- Vysoká výpočtová náročnosť"
   ]
  },
  {
   "cell_type": "markdown",
   "metadata": {
    "slideshow": {
     "slide_type": "subslide"
    }
   },
   "source": [
    "# Referencie\n",
    "- KOZA, J.R. Genetic programming: on the programming of computers by means of natural selection. . [s.l.]: MIT press, 1992.\n",
    "- KHAYAM, U. et al. Features Extraction of Growth Trend in Social Websites Using Non-linear Genetic Programming. In ILIADIS, L. et al.Ed. Artificial Intelligence Applications and Innovations: 10th IFIP WG 12.5 International Conference, AIAI 2014, Rhodes, Greece, September 19-21, 2014. Proceedings [online]. Berlin, Heidelberg: Springer Berlin Heidelberg, 2014. s. 414–423. ISBN 978-3-662-44654-6Dostupné na internete: https://doi.org/10.1007/978-3-662-44654-6_41\n",
    "- KHAN, M.M. et al. Evolving multi-dimensional wavelet neural networks for classification using Cartesian Genetic Programming. In Neurocomputing [online]. 2017. Vol. 247, no. Supplement C, s. 39–58. Dostupné na internete: http://www.sciencedirect.com/science/article/pii/S0925231217305635\n",
    "- AHMAD, A.M. et al. Classification of Mammograms Using Cartesian Genetic Programming Evolved Artificial Neural Networks. In ILIADIS, L. et al.Ed. Artificial Intelligence Applications and Innovations: 10th IFIP WG 12.5 International Conference, AIAI 2014, Rhodes, Greece, September 19-21, 2014. Proceedings [online]. Berlin, Heidelberg: Springer Berlin Heidelberg, 2014. s. 203–213. ISBN 978-3-662-44654-6Dostupné na internete: https://doi.org/10.1007/978-3-662-44654-6_20\n",
    "- LENSEN, A. et al. GPGC: Genetic Programming for Automatic Clustering Using a Flexible Non-hyper-spherical Graph-based Approach. In Proceedings of the Genetic and Evolutionary Computation Conference [online]. New York, NY, USA: ACM, 2017. s. 449–456. Dostupné na internete: <http://doi.acm.org/10.1145/3071178.3071222>.\n",
    "- IZZO, D. et al. Differentiable Genetic Programming. In MCDERMOTT, J. et al.Ed. Genetic Programming: 20th European Conference, EuroGP 2017, Amsterdam, The Netherlands, April 19-21, 2017, Proceedings [online]. Cham: Springer International Publishing, 2017. s. 35–51. ISBN 978-3-319-55696-3Dostupné na internete: <https://doi.org/10.1007/978-3-319-55696-3_3>.\n"
   ]
  },
  {
   "attachments": {},
   "cell_type": "markdown",
   "metadata": {
    "slideshow": {
     "slide_type": "subslide"
    }
   },
   "source": [
    "# Zdroje\n",
    "- **Info**\n",
    " - http://geneticprogramming.com/tutorial/ \n",
    " - http://www.cartesiangp.co.uk/\n",
    " - http://cswww.essex.ac.uk/staff/poli/gp-field-guide/toc.html \n",
    "- **Software**\n",
    " - https://github.com/DEAP/deap\n",
    " - https://github.com/trevorstephens/gplearn\n",
    " - https://github.com/Ohjeah/cartesian\n",
    " - https://github.com/AndrewJamesTurner/CGP-Library\n",
    " - https://epistasislab.github.io/ellyn/\n"
   ]
  },
  {
   "cell_type": "code",
   "execution_count": null,
   "metadata": {},
   "outputs": [],
   "source": []
  }
 ],
 "metadata": {
  "celltoolbar": "Slideshow",
  "kernelspec": {
   "display_name": "Python 3",
   "language": "python",
   "name": "python3"
  },
  "language_info": {
   "codemirror_mode": {
    "name": "ipython",
    "version": 3
   },
   "file_extension": ".py",
   "mimetype": "text/x-python",
   "name": "python",
   "nbconvert_exporter": "python",
   "pygments_lexer": "ipython3",
   "version": "3.6.4"
  }
 },
 "nbformat": 4,
 "nbformat_minor": 2
}
